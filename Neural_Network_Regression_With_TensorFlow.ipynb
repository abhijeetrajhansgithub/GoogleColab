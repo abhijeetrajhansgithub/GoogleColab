{
  "cells": [
    {
      "cell_type": "markdown",
      "metadata": {
        "id": "view-in-github",
        "colab_type": "text"
      },
      "source": [
        "<a href=\"https://colab.research.google.com/github/abhijeetrajhansgithub/GoogleColab/blob/main/Neural_Network_Regression_With_TensorFlow.ipynb\" target=\"_parent\"><img src=\"https://colab.research.google.com/assets/colab-badge.svg\" alt=\"Open In Colab\"/></a>"
      ]
    },
    {
      "cell_type": "markdown",
      "metadata": {
        "id": "oCWdSEgaixcZ"
      },
      "source": [
        "# Introduction to Regression with Neural Networks in TensorFlow\n",
        "\n",
        "There are many definitions for a regression problem but in our case, we're going to simplify it: predicting a numerical variable based on some other combination of variables, even shorter... predicting a number.\n",
        "\n"
      ]
    },
    {
      "cell_type": "code",
      "execution_count": 107,
      "metadata": {
        "colab": {
          "base_uri": "https://localhost:8080/"
        },
        "id": "DCg79ENtduD2",
        "outputId": "15f98631-4238-437c-9deb-0e5a2fcdf0f3"
      },
      "outputs": [
        {
          "output_type": "stream",
          "name": "stdout",
          "text": [
            "2.15.0\n"
          ]
        }
      ],
      "source": [
        "import tensorflow as tf\n",
        "print(tf.__version__)"
      ]
    },
    {
      "cell_type": "markdown",
      "metadata": {
        "id": "4hGKO6JUeU4w"
      },
      "source": [
        "## Creating data to view and fit"
      ]
    },
    {
      "cell_type": "code",
      "execution_count": 108,
      "metadata": {
        "colab": {
          "base_uri": "https://localhost:8080/",
          "height": 453
        },
        "id": "GM-n3mUcecE_",
        "outputId": "6beea3cd-9e0d-4461-8b9a-b37eb7824410"
      },
      "outputs": [
        {
          "output_type": "execute_result",
          "data": {
            "text/plain": [
              "<matplotlib.collections.PathCollection at 0x7dd06223e110>"
            ]
          },
          "metadata": {},
          "execution_count": 108
        },
        {
          "output_type": "display_data",
          "data": {
            "text/plain": [
              "<Figure size 640x480 with 1 Axes>"
            ],
            "image/png": "[encoded data removed]"
          },
          "metadata": {}
        }
      ],
      "source": [
        "import numpy as np\n",
        "import matplotlib.pyplot as plt\n",
        "\n",
        "# Create features\n",
        "X = np.array([-7.0, -4.0, -1.0, 2.0, 5.0, 8.0, 11.0, 14.0])\n",
        "\n",
        "# Create labels\n",
        "y = np.array([3.0, 6.0, 9.0, 12.0, 15.0, 18.0, 21.0, 24.0])\n",
        "\n",
        "# Visualize it\n",
        "plt.scatter(X, y)"
      ]
    },
    {
      "cell_type": "code",
      "execution_count": 109,
      "metadata": {
        "colab": {
          "base_uri": "https://localhost:8080/"
        },
        "id": "eLQrYvfUfFaY",
        "outputId": "72b8c42a-32e1-4365-c008-203b90e69a11"
      },
      "outputs": [
        {
          "output_type": "execute_result",
          "data": {
            "text/plain": [
              "(array([ 3.,  6.,  9., 12., 15., 18., 21., 24.]),\n",
              " array([ True,  True,  True,  True,  True,  True,  True,  True]))"
            ]
          },
          "metadata": {},
          "execution_count": 109
        }
      ],
      "source": [
        "X + 10, y == X + 10"
      ]
    },
    {
      "cell_type": "code",
      "execution_count": 110,
      "metadata": {
        "colab": {
          "base_uri": "https://localhost:8080/"
        },
        "id": "geU0wF09ftKC",
        "outputId": "5b9c6343-ef59-4f45-a481-a333e688231a"
      },
      "outputs": [
        {
          "output_type": "execute_result",
          "data": {
            "text/plain": [
              "((8,), (8,))"
            ]
          },
          "metadata": {},
          "execution_count": 110
        }
      ],
      "source": [
        "X.shape, y.shape"
      ]
    },
    {
      "cell_type": "code",
      "execution_count": 111,
      "metadata": {
        "colab": {
          "base_uri": "https://localhost:8080/"
        },
        "id": "UTItDz6Df4Lx",
        "outputId": "32ca5559-f7f8-4231-c380-14a36fc0c972"
      },
      "outputs": [
        {
          "output_type": "execute_result",
          "data": {
            "text/plain": [
              "(-7.0, 3.0)"
            ]
          },
          "metadata": {},
          "execution_count": 111
        }
      ],
      "source": [
        "X[0], y[0]"
      ]
    },
    {
      "cell_type": "code",
      "execution_count": 112,
      "metadata": {
        "colab": {
          "base_uri": "https://localhost:8080/"
        },
        "id": "vf4xyn1Xf9AQ",
        "outputId": "783daf7a-c9f9-4b80-b6bb-f87c31ff06ae"
      },
      "outputs": [
        {
          "output_type": "execute_result",
          "data": {
            "text/plain": [
              "((), ())"
            ]
          },
          "metadata": {},
          "execution_count": 112
        }
      ],
      "source": [
        "X[0].shape, y[0].shape"
      ]
    },
    {
      "cell_type": "code",
      "execution_count": 113,
      "metadata": {
        "colab": {
          "base_uri": "https://localhost:8080/"
        },
        "id": "ZBn5v5ICgFK0",
        "outputId": "2de57d28-5318-45a1-dfb2-0cab12d6f9da"
      },
      "outputs": [
        {
          "output_type": "execute_result",
          "data": {
            "text/plain": [
              "(0, 0)"
            ]
          },
          "metadata": {},
          "execution_count": 113
        }
      ],
      "source": [
        "X[0].ndim, y[0].ndim"
      ]
    },
    {
      "cell_type": "markdown",
      "metadata": {
        "id": "sQcbZUlpfMMA"
      },
      "source": [
        "# Input and Output shapes\n",
        "\n"
      ]
    },
    {
      "cell_type": "code",
      "execution_count": 114,
      "metadata": {
        "colab": {
          "base_uri": "https://localhost:8080/"
        },
        "id": "klPw6el1fZ_Z",
        "outputId": "b16dc96f-867e-4cb6-e103-e749ae746d80"
      },
      "outputs": [
        {
          "output_type": "execute_result",
          "data": {
            "text/plain": [
              "(<tf.Tensor: shape=(3,), dtype=string, numpy=array([b'bedroom', b'bathroom', b'garage'], dtype=object)>,\n",
              " <tf.Tensor: shape=(1,), dtype=int32, numpy=array([939700], dtype=int32)>)"
            ]
          },
          "metadata": {},
          "execution_count": 114
        }
      ],
      "source": [
        "# Create a demo tensor for our housing price prediction problem\n",
        "\n",
        "house_info = tf.constant([\"bedroom\", \"bathroom\", \"garage\"])\n",
        "house_price = tf.constant([939700])\n",
        "house_info, house_price"
      ]
    },
    {
      "cell_type": "code",
      "execution_count": 115,
      "metadata": {
        "colab": {
          "base_uri": "https://localhost:8080/"
        },
        "id": "Hvh3HkqFDNHD",
        "outputId": "ca8b8ad3-f860-4a6e-d69f-16b6ae7bc0e2"
      },
      "outputs": [
        {
          "output_type": "execute_result",
          "data": {
            "text/plain": [
              "(<tf.Tensor: shape=(8,), dtype=float64, numpy=array([-7., -4., -1.,  2.,  5.,  8., 11., 14.])>,\n",
              " <tf.Tensor: shape=(8,), dtype=float64, numpy=array([ 3.,  6.,  9., 12., 15., 18., 21., 24.])>)"
            ]
          },
          "metadata": {},
          "execution_count": 115
        }
      ],
      "source": [
        "# Turn our numpy arrays to tensors\n",
        "\n",
        "X = tf.constant(X)\n",
        "y = tf.constant(y)\n",
        "\n",
        "X, y"
      ]
    },
    {
      "cell_type": "code",
      "execution_count": 116,
      "metadata": {
        "colab": {
          "base_uri": "https://localhost:8080/"
        },
        "id": "wZJ4nzq6DZtG",
        "outputId": "be5e8b15-a9c9-4b40-cfa7-7c8d65e5fe0d"
      },
      "outputs": [
        {
          "output_type": "execute_result",
          "data": {
            "text/plain": [
              "(TensorShape([8]), TensorShape([8]))"
            ]
          },
          "metadata": {},
          "execution_count": 116
        }
      ],
      "source": [
        "X.shape, y.shape"
      ]
    },
    {
      "cell_type": "code",
      "execution_count": 117,
      "metadata": {
        "colab": {
          "base_uri": "https://localhost:8080/"
        },
        "id": "pTPe_TfU6McL",
        "outputId": "a5efe1e3-5aaa-42b8-f579-d9b0911f68b9"
      },
      "outputs": [
        {
          "output_type": "execute_result",
          "data": {
            "text/plain": [
              "(TensorShape([]), TensorShape([]))"
            ]
          },
          "metadata": {},
          "execution_count": 117
        }
      ],
      "source": [
        "input_shape = X[0].shape\n",
        "output_shape = y[0].shape\n",
        "input_shape, output_shape"
      ]
    },
    {
      "cell_type": "code",
      "execution_count": 118,
      "metadata": {
        "colab": {
          "base_uri": "https://localhost:8080/",
          "height": 453
        },
        "id": "HSsxHjdA6eod",
        "outputId": "427591b8-c92a-453c-fb3f-3982b4b67bf2"
      },
      "outputs": [
        {
          "output_type": "execute_result",
          "data": {
            "text/plain": [
              "<matplotlib.collections.PathCollection at 0x7dd05d4a21a0>"
            ]
          },
          "metadata": {},
          "execution_count": 118
        },
        {
          "output_type": "display_data",
          "data": {
            "text/plain": [
              "<Figure size 640x480 with 1 Axes>"
            ],
            "image/png": "[encoded data removed]"
          },
          "metadata": {}
        }
      ],
      "source": [
        "plt.scatter(X, y)"
      ]
    },
    {
      "cell_type": "markdown",
      "metadata": {
        "id": "pzLPWwU96i0c"
      },
      "source": [
        "## Steps in modelling with TensorFlow\n",
        "\n",
        "1. **Creating a model** - define the input and output layers, as well as the hidden layers of a deep learning model\n",
        "\n",
        "2. **Compiling a model** - define the ***loss function*** (a function that tells out model how wrong it is) and the ***optimizer*** (tells our model how to improve the patterns its learning) and ***evaluation metrics*** (what we can use to interpret the performance of our model)\n",
        "\n",
        "3. **Fitting a model** - letting the model try to find patterns between X and y (features and labels)"
      ]
    },
    {
      "cell_type": "code",
      "execution_count": 119,
      "metadata": {
        "colab": {
          "base_uri": "https://localhost:8080/"
        },
        "collapsed": true,
        "id": "rPdfqyiG6mS_",
        "outputId": "913e7ed5-fc3d-48a0-9bfe-959be4ce73d6"
      },
      "outputs": [
        {
          "output_type": "stream",
          "name": "stdout",
          "text": [
            "Epoch 1/37\n",
            "1/1 [==============================] - 1s 835ms/step - loss: 12.7853 - mae: 12.7853\n",
            "Epoch 2/37\n",
            "1/1 [==============================] - 0s 20ms/step - loss: 12.6528 - mae: 12.6528\n",
            "Epoch 3/37\n",
            "1/1 [==============================] - 0s 18ms/step - loss: 12.5203 - mae: 12.5203\n",
            "Epoch 4/37\n",
            "1/1 [==============================] - 0s 12ms/step - loss: 12.3878 - mae: 12.3878\n",
            "Epoch 5/37\n",
            "1/1 [==============================] - 0s 17ms/step - loss: 12.2553 - mae: 12.2553\n",
            "Epoch 6/37\n",
            "1/1 [==============================] - 0s 12ms/step - loss: 12.1228 - mae: 12.1228\n",
            "Epoch 7/37\n",
            "1/1 [==============================] - 0s 19ms/step - loss: 11.9903 - mae: 11.9903\n",
            "Epoch 8/37\n",
            "1/1 [==============================] - 0s 15ms/step - loss: 11.8578 - mae: 11.8578\n",
            "Epoch 9/37\n",
            "1/1 [==============================] - 0s 14ms/step - loss: 11.7253 - mae: 11.7253\n",
            "Epoch 10/37\n",
            "1/1 [==============================] - 0s 9ms/step - loss: 11.5928 - mae: 11.5928\n",
            "Epoch 11/37\n",
            "1/1 [==============================] - 0s 9ms/step - loss: 11.4603 - mae: 11.4603\n",
            "Epoch 12/37\n",
            "1/1 [==============================] - 0s 25ms/step - loss: 11.3278 - mae: 11.3278\n",
            "Epoch 13/37\n",
            "1/1 [==============================] - 0s 9ms/step - loss: 11.1953 - mae: 11.1953\n",
            "Epoch 14/37\n",
            "1/1 [==============================] - 0s 10ms/step - loss: 11.0628 - mae: 11.0628\n",
            "Epoch 15/37\n",
            "1/1 [==============================] - 0s 37ms/step - loss: 10.9303 - mae: 10.9303\n",
            "Epoch 16/37\n",
            "1/1 [==============================] - 0s 16ms/step - loss: 10.7978 - mae: 10.7978\n",
            "Epoch 17/37\n",
            "1/1 [==============================] - 0s 20ms/step - loss: 10.6653 - mae: 10.6653\n",
            "Epoch 18/37\n",
            "1/1 [==============================] - 0s 18ms/step - loss: 10.5328 - mae: 10.5328\n",
            "Epoch 19/37\n",
            "1/1 [==============================] - 0s 18ms/step - loss: 10.4003 - mae: 10.4003\n",
            "Epoch 20/37\n",
            "1/1 [==============================] - 0s 20ms/step - loss: 10.2678 - mae: 10.2678\n",
            "Epoch 21/37\n",
            "1/1 [==============================] - 0s 45ms/step - loss: 10.1353 - mae: 10.1353\n",
            "Epoch 22/37\n",
            "1/1 [==============================] - 0s 22ms/step - loss: 10.0028 - mae: 10.0028\n",
            "Epoch 23/37\n",
            "1/1 [==============================] - 0s 28ms/step - loss: 9.8703 - mae: 9.8703\n",
            "Epoch 24/37\n",
            "1/1 [==============================] - 0s 17ms/step - loss: 9.7378 - mae: 9.7378\n",
            "Epoch 25/37\n",
            "1/1 [==============================] - 0s 24ms/step - loss: 9.6053 - mae: 9.6053\n",
            "Epoch 26/37\n",
            "1/1 [==============================] - 0s 21ms/step - loss: 9.4728 - mae: 9.4728\n",
            "Epoch 27/37\n",
            "1/1 [==============================] - 0s 14ms/step - loss: 9.3403 - mae: 9.3403\n",
            "Epoch 28/37\n",
            "1/1 [==============================] - 0s 30ms/step - loss: 9.2078 - mae: 9.2078\n",
            "Epoch 29/37\n",
            "1/1 [==============================] - 0s 14ms/step - loss: 9.0753 - mae: 9.0753\n",
            "Epoch 30/37\n",
            "1/1 [==============================] - 0s 22ms/step - loss: 8.9428 - mae: 8.9428\n",
            "Epoch 31/37\n",
            "1/1 [==============================] - 0s 19ms/step - loss: 8.8103 - mae: 8.8103\n",
            "Epoch 32/37\n",
            "1/1 [==============================] - 0s 15ms/step - loss: 8.6778 - mae: 8.6778\n",
            "Epoch 33/37\n",
            "1/1 [==============================] - 0s 17ms/step - loss: 8.5453 - mae: 8.5453\n",
            "Epoch 34/37\n",
            "1/1 [==============================] - 0s 13ms/step - loss: 8.4128 - mae: 8.4128\n",
            "Epoch 35/37\n",
            "1/1 [==============================] - 0s 33ms/step - loss: 8.2803 - mae: 8.2803\n",
            "Epoch 36/37\n",
            "1/1 [==============================] - 0s 27ms/step - loss: 8.1478 - mae: 8.1478\n",
            "Epoch 37/37\n",
            "1/1 [==============================] - 0s 22ms/step - loss: 8.0153 - mae: 8.0153\n"
          ]
        },
        {
          "output_type": "execute_result",
          "data": {
            "text/plain": [
              "<keras.src.callbacks.History at 0x7dd05d4ee6b0>"
            ]
          },
          "metadata": {},
          "execution_count": 119
        }
      ],
      "source": [
        "# Set the random seed\n",
        "\n",
        "tf.random.set_seed(42)\n",
        "\n",
        "# 1. Create a model using the Sequential API\n",
        "model = tf.keras.Sequential(\n",
        "    [\n",
        "        tf.keras.layers.Dense(1)\n",
        "    ]\n",
        ")\n",
        "\n",
        "# 2. Compile the model\n",
        "\n",
        "model.compile(loss=tf.keras.losses.mae,  # MAE - mean absolute error\n",
        "              optimizer=tf.keras.optimizers.SGD(),  # SGD - stochastic gradient descent\n",
        "              metrics=[\"mae\"]\n",
        "              )\n",
        "\n",
        "\n",
        "# 3. Fit the model\n",
        "model.fit(tf.expand_dims(X, axis=-1), y, epochs=37)"
      ]
    },
    {
      "cell_type": "code",
      "execution_count": 120,
      "metadata": {
        "colab": {
          "base_uri": "https://localhost:8080/"
        },
        "id": "v7vMaRrPBNkw",
        "outputId": "bc71a470-a0f5-47a4-b5df-d5e84879a00f"
      },
      "outputs": [
        {
          "output_type": "execute_result",
          "data": {
            "text/plain": [
              "(<tf.Tensor: shape=(8,), dtype=float64, numpy=array([-7., -4., -1.,  2.,  5.,  8., 11., 14.])>,\n",
              " <tf.Tensor: shape=(8, 1), dtype=float64, numpy=\n",
              " array([[-7.],\n",
              "        [-4.],\n",
              "        [-1.],\n",
              "        [ 2.],\n",
              "        [ 5.],\n",
              "        [ 8.],\n",
              "        [11.],\n",
              "        [14.]])>)"
            ]
          },
          "metadata": {},
          "execution_count": 120
        }
      ],
      "source": [
        "X, tf.expand_dims(X, axis=-1)"
      ]
    },
    {
      "cell_type": "code",
      "execution_count": 121,
      "metadata": {
        "colab": {
          "base_uri": "https://localhost:8080/"
        },
        "id": "wYsf2VP6Bux8",
        "outputId": "118f8ee0-7d5b-4a7e-9681-1f0f62b6babb"
      },
      "outputs": [
        {
          "output_type": "execute_result",
          "data": {
            "text/plain": [
              "(<tf.Tensor: shape=(8,), dtype=float64, numpy=array([-7., -4., -1.,  2.,  5.,  8., 11., 14.])>,\n",
              " <tf.Tensor: shape=(8,), dtype=float64, numpy=array([ 3.,  6.,  9., 12., 15., 18., 21., 24.])>)"
            ]
          },
          "metadata": {},
          "execution_count": 121
        }
      ],
      "source": [
        "X, y"
      ]
    },
    {
      "cell_type": "code",
      "execution_count": 122,
      "metadata": {
        "colab": {
          "base_uri": "https://localhost:8080/"
        },
        "id": "KblV4TX9ByZw",
        "outputId": "7dcc8cf4-4ba5-4c17-a4e3-8cbc64bc03a8"
      },
      "outputs": [
        {
          "output_type": "stream",
          "name": "stdout",
          "text": [
            "1/1 [==============================] - 0s 243ms/step\n"
          ]
        },
        {
          "output_type": "execute_result",
          "data": {
            "text/plain": [
              "array([[25.856228]], dtype=float32)"
            ]
          },
          "metadata": {},
          "execution_count": 122
        }
      ],
      "source": [
        "# Try and make a prediction usinf the model\n",
        "\n",
        "y_pred = model.predict([17.0])\n",
        "y_pred"
      ]
    },
    {
      "cell_type": "markdown",
      "metadata": {
        "id": "SRhpGXvlCDqe"
      },
      "source": [
        "## Improving our model\n",
        "\n",
        "We can improve our model, by altering the steps we took to create a model\n",
        "\n",
        "1. **Creating a model** - here we migh add more layers, increase the number of hidden layers, change the activation function of each layer\n",
        "\n",
        "2. **Compiling the model** - here we might change the optimization function or perhaps the ***learning rate*** of the optimization function\n",
        "\n",
        "3. **Fitting a model** - here we might fit a model for more ***epochs***."
      ]
    },
    {
      "cell_type": "code",
      "execution_count": 123,
      "metadata": {
        "colab": {
          "base_uri": "https://localhost:8080/"
        },
        "id": "yH2zcaJnDicB",
        "outputId": "3d1c1cf8-20b8-4c2d-c598-8d845661d9f9"
      },
      "outputs": [
        {
          "output_type": "stream",
          "name": "stdout",
          "text": [
            "Epoch 1/100\n",
            "1/1 [==============================] - 1s 976ms/step - loss: 13.9334 - mae: 13.9334\n",
            "Epoch 2/100\n",
            "1/1 [==============================] - 0s 21ms/step - loss: 13.8009 - mae: 13.8009\n",
            "Epoch 3/100\n",
            "1/1 [==============================] - 0s 26ms/step - loss: 13.6684 - mae: 13.6684\n",
            "Epoch 4/100\n",
            "1/1 [==============================] - 0s 17ms/step - loss: 13.5359 - mae: 13.5359\n",
            "Epoch 5/100\n",
            "1/1 [==============================] - 0s 13ms/step - loss: 13.4034 - mae: 13.4034\n",
            "Epoch 6/100\n",
            "1/1 [==============================] - 0s 35ms/step - loss: 13.2709 - mae: 13.2709\n",
            "Epoch 7/100\n",
            "1/1 [==============================] - 0s 30ms/step - loss: 13.1384 - mae: 13.1384\n",
            "Epoch 8/100\n",
            "1/1 [==============================] - 0s 34ms/step - loss: 13.0059 - mae: 13.0059\n",
            "Epoch 9/100\n",
            "1/1 [==============================] - 0s 23ms/step - loss: 12.8734 - mae: 12.8734\n",
            "Epoch 10/100\n",
            "1/1 [==============================] - 0s 25ms/step - loss: 12.7409 - mae: 12.7409\n",
            "Epoch 11/100\n",
            "1/1 [==============================] - 0s 15ms/step - loss: 12.6084 - mae: 12.6084\n",
            "Epoch 12/100\n",
            "1/1 [==============================] - 0s 12ms/step - loss: 12.4759 - mae: 12.4759\n",
            "Epoch 13/100\n",
            "1/1 [==============================] - 0s 11ms/step - loss: 12.3434 - mae: 12.3434\n",
            "Epoch 14/100\n",
            "1/1 [==============================] - 0s 19ms/step - loss: 12.2109 - mae: 12.2109\n",
            "Epoch 15/100\n",
            "1/1 [==============================] - 0s 22ms/step - loss: 12.0784 - mae: 12.0784\n",
            "Epoch 16/100\n",
            "1/1 [==============================] - 0s 33ms/step - loss: 11.9459 - mae: 11.9459\n",
            "Epoch 17/100\n",
            "1/1 [==============================] - 0s 15ms/step - loss: 11.8134 - mae: 11.8134\n",
            "Epoch 18/100\n",
            "1/1 [==============================] - 0s 26ms/step - loss: 11.6809 - mae: 11.6809\n",
            "Epoch 19/100\n",
            "1/1 [==============================] - 0s 33ms/step - loss: 11.5484 - mae: 11.5484\n",
            "Epoch 20/100\n",
            "1/1 [==============================] - 0s 35ms/step - loss: 11.4159 - mae: 11.4159\n",
            "Epoch 21/100\n",
            "1/1 [==============================] - 0s 23ms/step - loss: 11.2834 - mae: 11.2834\n",
            "Epoch 22/100\n",
            "1/1 [==============================] - 0s 22ms/step - loss: 11.1509 - mae: 11.1509\n",
            "Epoch 23/100\n",
            "1/1 [==============================] - 0s 17ms/step - loss: 11.0184 - mae: 11.0184\n",
            "Epoch 24/100\n",
            "1/1 [==============================] - 0s 41ms/step - loss: 10.8859 - mae: 10.8859\n",
            "Epoch 25/100\n",
            "1/1 [==============================] - 0s 38ms/step - loss: 10.7534 - mae: 10.7534\n",
            "Epoch 26/100\n",
            "1/1 [==============================] - 0s 36ms/step - loss: 10.6209 - mae: 10.6209\n",
            "Epoch 27/100\n",
            "1/1 [==============================] - 0s 22ms/step - loss: 10.4884 - mae: 10.4884\n",
            "Epoch 28/100\n",
            "1/1 [==============================] - 0s 22ms/step - loss: 10.3559 - mae: 10.3559\n",
            "Epoch 29/100\n",
            "1/1 [==============================] - 0s 45ms/step - loss: 10.2234 - mae: 10.2234\n",
            "Epoch 30/100\n",
            "1/1 [==============================] - 0s 17ms/step - loss: 10.0909 - mae: 10.0909\n",
            "Epoch 31/100\n",
            "1/1 [==============================] - 0s 27ms/step - loss: 9.9584 - mae: 9.9584\n",
            "Epoch 32/100\n",
            "1/1 [==============================] - 0s 20ms/step - loss: 9.8259 - mae: 9.8259\n",
            "Epoch 33/100\n",
            "1/1 [==============================] - 0s 8ms/step - loss: 9.6934 - mae: 9.6934\n",
            "Epoch 34/100\n",
            "1/1 [==============================] - 0s 8ms/step - loss: 9.5609 - mae: 9.5609\n",
            "Epoch 35/100\n",
            "1/1 [==============================] - 0s 15ms/step - loss: 9.4284 - mae: 9.4284\n",
            "Epoch 36/100\n",
            "1/1 [==============================] - 0s 23ms/step - loss: 9.2959 - mae: 9.2959\n",
            "Epoch 37/100\n",
            "1/1 [==============================] - 0s 49ms/step - loss: 9.1634 - mae: 9.1634\n",
            "Epoch 38/100\n",
            "1/1 [==============================] - 0s 17ms/step - loss: 9.0309 - mae: 9.0309\n",
            "Epoch 39/100\n",
            "1/1 [==============================] - 0s 20ms/step - loss: 8.8984 - mae: 8.8984\n",
            "Epoch 40/100\n",
            "1/1 [==============================] - 0s 19ms/step - loss: 8.7659 - mae: 8.7659\n",
            "Epoch 41/100\n",
            "1/1 [==============================] - 0s 20ms/step - loss: 8.6334 - mae: 8.6334\n",
            "Epoch 42/100\n",
            "1/1 [==============================] - 0s 16ms/step - loss: 8.5009 - mae: 8.5009\n",
            "Epoch 43/100\n",
            "1/1 [==============================] - 0s 12ms/step - loss: 8.3684 - mae: 8.3684\n",
            "Epoch 44/100\n",
            "1/1 [==============================] - 0s 10ms/step - loss: 8.2359 - mae: 8.2359\n",
            "Epoch 45/100\n",
            "1/1 [==============================] - 0s 10ms/step - loss: 8.1034 - mae: 8.1034\n",
            "Epoch 46/100\n",
            "1/1 [==============================] - 0s 13ms/step - loss: 7.9709 - mae: 7.9709\n",
            "Epoch 47/100\n",
            "1/1 [==============================] - 0s 13ms/step - loss: 7.8384 - mae: 7.8384\n",
            "Epoch 48/100\n",
            "1/1 [==============================] - 0s 10ms/step - loss: 7.7059 - mae: 7.7059\n",
            "Epoch 49/100\n",
            "1/1 [==============================] - 0s 9ms/step - loss: 7.5734 - mae: 7.5734\n",
            "Epoch 50/100\n",
            "1/1 [==============================] - 0s 14ms/step - loss: 7.4409 - mae: 7.4409\n",
            "Epoch 51/100\n",
            "1/1 [==============================] - 0s 25ms/step - loss: 7.3084 - mae: 7.3084\n",
            "Epoch 52/100\n",
            "1/1 [==============================] - 0s 18ms/step - loss: 7.1759 - mae: 7.1759\n",
            "Epoch 53/100\n",
            "1/1 [==============================] - 0s 18ms/step - loss: 7.1100 - mae: 7.1100\n",
            "Epoch 54/100\n",
            "1/1 [==============================] - 0s 13ms/step - loss: 7.1044 - mae: 7.1044\n",
            "Epoch 55/100\n",
            "1/1 [==============================] - 0s 19ms/step - loss: 7.0988 - mae: 7.0988\n",
            "Epoch 56/100\n",
            "1/1 [==============================] - 0s 18ms/step - loss: 7.0931 - mae: 7.0931\n",
            "Epoch 57/100\n",
            "1/1 [==============================] - 0s 15ms/step - loss: 7.0875 - mae: 7.0875\n",
            "Epoch 58/100\n",
            "1/1 [==============================] - 0s 16ms/step - loss: 7.0819 - mae: 7.0819\n",
            "Epoch 59/100\n",
            "1/1 [==============================] - 0s 33ms/step - loss: 7.0763 - mae: 7.0763\n",
            "Epoch 60/100\n",
            "1/1 [==============================] - 0s 19ms/step - loss: 7.0706 - mae: 7.0706\n",
            "Epoch 61/100\n",
            "1/1 [==============================] - 0s 18ms/step - loss: 7.0650 - mae: 7.0650\n",
            "Epoch 62/100\n",
            "1/1 [==============================] - 0s 26ms/step - loss: 7.0594 - mae: 7.0594\n",
            "Epoch 63/100\n",
            "1/1 [==============================] - 0s 25ms/step - loss: 7.0538 - mae: 7.0538\n",
            "Epoch 64/100\n",
            "1/1 [==============================] - 0s 16ms/step - loss: 7.0481 - mae: 7.0481\n",
            "Epoch 65/100\n",
            "1/1 [==============================] - 0s 44ms/step - loss: 7.0425 - mae: 7.0425\n",
            "Epoch 66/100\n",
            "1/1 [==============================] - 0s 19ms/step - loss: 7.0369 - mae: 7.0369\n",
            "Epoch 67/100\n",
            "1/1 [==============================] - 0s 19ms/step - loss: 7.0312 - mae: 7.0312\n",
            "Epoch 68/100\n",
            "1/1 [==============================] - 0s 17ms/step - loss: 7.0256 - mae: 7.0256\n",
            "Epoch 69/100\n",
            "1/1 [==============================] - 0s 13ms/step - loss: 7.0200 - mae: 7.0200\n",
            "Epoch 70/100\n",
            "1/1 [==============================] - 0s 13ms/step - loss: 7.0144 - mae: 7.0144\n",
            "Epoch 71/100\n",
            "1/1 [==============================] - 0s 16ms/step - loss: 7.0088 - mae: 7.0088\n",
            "Epoch 72/100\n",
            "1/1 [==============================] - 0s 30ms/step - loss: 7.0031 - mae: 7.0031\n",
            "Epoch 73/100\n",
            "1/1 [==============================] - 0s 15ms/step - loss: 6.9975 - mae: 6.9975\n",
            "Epoch 74/100\n",
            "1/1 [==============================] - 0s 15ms/step - loss: 6.9919 - mae: 6.9919\n",
            "Epoch 75/100\n",
            "1/1 [==============================] - 0s 16ms/step - loss: 6.9863 - mae: 6.9863\n",
            "Epoch 76/100\n",
            "1/1 [==============================] - 0s 19ms/step - loss: 6.9806 - mae: 6.9806\n",
            "Epoch 77/100\n",
            "1/1 [==============================] - 0s 16ms/step - loss: 6.9750 - mae: 6.9750\n",
            "Epoch 78/100\n",
            "1/1 [==============================] - 0s 19ms/step - loss: 6.9694 - mae: 6.9694\n",
            "Epoch 79/100\n",
            "1/1 [==============================] - 0s 18ms/step - loss: 6.9638 - mae: 6.9638\n",
            "Epoch 80/100\n",
            "1/1 [==============================] - 0s 20ms/step - loss: 6.9581 - mae: 6.9581\n",
            "Epoch 81/100\n",
            "1/1 [==============================] - 0s 18ms/step - loss: 6.9525 - mae: 6.9525\n",
            "Epoch 82/100\n",
            "1/1 [==============================] - 0s 16ms/step - loss: 6.9469 - mae: 6.9469\n",
            "Epoch 83/100\n",
            "1/1 [==============================] - 0s 17ms/step - loss: 6.9412 - mae: 6.9412\n",
            "Epoch 84/100\n",
            "1/1 [==============================] - 0s 15ms/step - loss: 6.9356 - mae: 6.9356\n",
            "Epoch 85/100\n",
            "1/1 [==============================] - 0s 35ms/step - loss: 6.9300 - mae: 6.9300\n",
            "Epoch 86/100\n",
            "1/1 [==============================] - 0s 18ms/step - loss: 6.9244 - mae: 6.9244\n",
            "Epoch 87/100\n",
            "1/1 [==============================] - 0s 13ms/step - loss: 6.9188 - mae: 6.9188\n",
            "Epoch 88/100\n",
            "1/1 [==============================] - 0s 16ms/step - loss: 6.9131 - mae: 6.9131\n",
            "Epoch 89/100\n",
            "1/1 [==============================] - 0s 16ms/step - loss: 6.9075 - mae: 6.9075\n",
            "Epoch 90/100\n",
            "1/1 [==============================] - 0s 18ms/step - loss: 6.9019 - mae: 6.9019\n",
            "Epoch 91/100\n",
            "1/1 [==============================] - 0s 26ms/step - loss: 6.8963 - mae: 6.8963\n",
            "Epoch 92/100\n",
            "1/1 [==============================] - 0s 31ms/step - loss: 6.8906 - mae: 6.8906\n",
            "Epoch 93/100\n",
            "1/1 [==============================] - 0s 18ms/step - loss: 6.8850 - mae: 6.8850\n",
            "Epoch 94/100\n",
            "1/1 [==============================] - 0s 43ms/step - loss: 6.8794 - mae: 6.8794\n",
            "Epoch 95/100\n",
            "1/1 [==============================] - 0s 25ms/step - loss: 6.8738 - mae: 6.8738\n",
            "Epoch 96/100\n",
            "1/1 [==============================] - 0s 27ms/step - loss: 6.8681 - mae: 6.8681\n",
            "Epoch 97/100\n",
            "1/1 [==============================] - 0s 12ms/step - loss: 6.8625 - mae: 6.8625\n",
            "Epoch 98/100\n",
            "1/1 [==============================] - 0s 14ms/step - loss: 6.8569 - mae: 6.8569\n",
            "Epoch 99/100\n",
            "1/1 [==============================] - 0s 15ms/step - loss: 6.8513 - mae: 6.8513\n",
            "Epoch 100/100\n",
            "1/1 [==============================] - 0s 13ms/step - loss: 6.8456 - mae: 6.8456\n"
          ]
        },
        {
          "output_type": "execute_result",
          "data": {
            "text/plain": [
              "<keras.src.callbacks.History at 0x7dd05d3ab730>"
            ]
          },
          "metadata": {},
          "execution_count": 123
        }
      ],
      "source": [
        "# Let's rebuild our model\n",
        "\n",
        "# 1. Create the model\n",
        "\n",
        "model = tf.keras.Sequential(\n",
        "    [\n",
        "        tf.keras.layers.Dense(1)\n",
        "    ]\n",
        ")\n",
        "\n",
        "# 2. Compile the model\n",
        "\n",
        "model.compile(\n",
        "    loss=tf.keras.losses.mae,\n",
        "    optimizer=tf.keras.optimizers.SGD(),\n",
        "    metrics=[\"mae\"]\n",
        ")\n",
        "\n",
        "# 3. Fit the model\n",
        "\n",
        "model.fit(tf.expand_dims(X, axis=-1), y, epochs=100)"
      ]
    },
    {
      "cell_type": "code",
      "execution_count": 124,
      "metadata": {
        "colab": {
          "base_uri": "https://localhost:8080/"
        },
        "id": "R222PRyAHWzm",
        "outputId": "9dc489dc-984a-4bc7-deef-051788b269dd"
      },
      "outputs": [
        {
          "output_type": "execute_result",
          "data": {
            "text/plain": [
              "(<tf.Tensor: shape=(8,), dtype=float64, numpy=array([-7., -4., -1.,  2.,  5.,  8., 11., 14.])>,\n",
              " <tf.Tensor: shape=(8,), dtype=float64, numpy=array([ 3.,  6.,  9., 12., 15., 18., 21., 24.])>)"
            ]
          },
          "metadata": {},
          "execution_count": 124
        }
      ],
      "source": [
        "X, y"
      ]
    },
    {
      "cell_type": "code",
      "execution_count": 125,
      "metadata": {
        "colab": {
          "base_uri": "https://localhost:8080/"
        },
        "id": "n9gzJvk6HXsi",
        "outputId": "1a759558-6130-4647-90c2-84cab8dd1809"
      },
      "outputs": [
        {
          "output_type": "stream",
          "name": "stdout",
          "text": [
            "1/1 [==============================] - 0s 231ms/step\n"
          ]
        },
        {
          "output_type": "execute_result",
          "data": {
            "text/plain": [
              "array([[29.714804]], dtype=float32)"
            ]
          },
          "metadata": {},
          "execution_count": 125
        }
      ],
      "source": [
        "model.predict([17.0])"
      ]
    },
    {
      "cell_type": "code",
      "execution_count": 126,
      "metadata": {
        "colab": {
          "base_uri": "https://localhost:8080/"
        },
        "collapsed": true,
        "id": "aEGxbVNFHa1m",
        "outputId": "f2deed10-e372-4b10-c05b-32182864dd7b"
      },
      "outputs": [
        {
          "output_type": "stream",
          "name": "stdout",
          "text": [
            "Epoch 1/200\n",
            "1/1 [==============================] - 3s 3s/step - loss: 12.9358 - mae: 12.9358\n",
            "Epoch 2/200\n",
            "1/1 [==============================] - 0s 33ms/step - loss: 11.6941 - mae: 11.6941\n",
            "Epoch 3/200\n",
            "1/1 [==============================] - 0s 17ms/step - loss: 10.4924 - mae: 10.4924\n",
            "Epoch 4/200\n",
            "1/1 [==============================] - 0s 26ms/step - loss: 9.5316 - mae: 9.5316\n",
            "Epoch 5/200\n",
            "1/1 [==============================] - 0s 15ms/step - loss: 8.5378 - mae: 8.5378\n",
            "Epoch 6/200\n",
            "1/1 [==============================] - 0s 14ms/step - loss: 7.5072 - mae: 7.5072\n",
            "Epoch 7/200\n",
            "1/1 [==============================] - 0s 19ms/step - loss: 6.4368 - mae: 6.4368\n",
            "Epoch 8/200\n",
            "1/1 [==============================] - 0s 19ms/step - loss: 5.3194 - mae: 5.3194\n",
            "Epoch 9/200\n",
            "1/1 [==============================] - 0s 22ms/step - loss: 4.1400 - mae: 4.1400\n",
            "Epoch 10/200\n",
            "1/1 [==============================] - 0s 22ms/step - loss: 3.7888 - mae: 3.7888\n",
            "Epoch 11/200\n",
            "1/1 [==============================] - 0s 22ms/step - loss: 4.0031 - mae: 4.0031\n",
            "Epoch 12/200\n",
            "1/1 [==============================] - 0s 22ms/step - loss: 4.4585 - mae: 4.4585\n",
            "Epoch 13/200\n",
            "1/1 [==============================] - 0s 15ms/step - loss: 4.8168 - mae: 4.8168\n",
            "Epoch 14/200\n",
            "1/1 [==============================] - 0s 20ms/step - loss: 5.0064 - mae: 5.0064\n",
            "Epoch 15/200\n",
            "1/1 [==============================] - 0s 33ms/step - loss: 5.0524 - mae: 5.0524\n",
            "Epoch 16/200\n",
            "1/1 [==============================] - 0s 23ms/step - loss: 4.9778 - mae: 4.9778\n",
            "Epoch 17/200\n",
            "1/1 [==============================] - 0s 17ms/step - loss: 4.8044 - mae: 4.8044\n",
            "Epoch 18/200\n",
            "1/1 [==============================] - 0s 14ms/step - loss: 4.5471 - mae: 4.5471\n",
            "Epoch 19/200\n",
            "1/1 [==============================] - 0s 20ms/step - loss: 4.2254 - mae: 4.2254\n",
            "Epoch 20/200\n",
            "1/1 [==============================] - 0s 26ms/step - loss: 3.8562 - mae: 3.8562\n",
            "Epoch 21/200\n",
            "1/1 [==============================] - 0s 27ms/step - loss: 3.6161 - mae: 3.6161\n",
            "Epoch 22/200\n",
            "1/1 [==============================] - 0s 15ms/step - loss: 3.4320 - mae: 3.4320\n",
            "Epoch 23/200\n",
            "1/1 [==============================] - 0s 26ms/step - loss: 3.2899 - mae: 3.2899\n",
            "Epoch 24/200\n",
            "1/1 [==============================] - 0s 34ms/step - loss: 3.3774 - mae: 3.3774\n",
            "Epoch 25/200\n",
            "1/1 [==============================] - 0s 27ms/step - loss: 3.4099 - mae: 3.4099\n",
            "Epoch 26/200\n",
            "1/1 [==============================] - 0s 25ms/step - loss: 3.4208 - mae: 3.4208\n",
            "Epoch 27/200\n",
            "1/1 [==============================] - 0s 29ms/step - loss: 3.3001 - mae: 3.3001\n",
            "Epoch 28/200\n",
            "1/1 [==============================] - 0s 31ms/step - loss: 3.1576 - mae: 3.1576\n",
            "Epoch 29/200\n",
            "1/1 [==============================] - 0s 17ms/step - loss: 2.9741 - mae: 2.9741\n",
            "Epoch 30/200\n",
            "1/1 [==============================] - 0s 21ms/step - loss: 2.7603 - mae: 2.7603\n",
            "Epoch 31/200\n",
            "1/1 [==============================] - 0s 17ms/step - loss: 2.7128 - mae: 2.7128\n",
            "Epoch 32/200\n",
            "1/1 [==============================] - 0s 18ms/step - loss: 2.6463 - mae: 2.6463\n",
            "Epoch 33/200\n",
            "1/1 [==============================] - 0s 12ms/step - loss: 2.5727 - mae: 2.5727\n",
            "Epoch 34/200\n",
            "1/1 [==============================] - 0s 14ms/step - loss: 2.4650 - mae: 2.4650\n",
            "Epoch 35/200\n",
            "1/1 [==============================] - 0s 15ms/step - loss: 2.3566 - mae: 2.3566\n",
            "Epoch 36/200\n",
            "1/1 [==============================] - 0s 19ms/step - loss: 2.1827 - mae: 2.1827\n",
            "Epoch 37/200\n",
            "1/1 [==============================] - 0s 40ms/step - loss: 2.0008 - mae: 2.0008\n",
            "Epoch 38/200\n",
            "1/1 [==============================] - 0s 23ms/step - loss: 1.8028 - mae: 1.8028\n",
            "Epoch 39/200\n",
            "1/1 [==============================] - 0s 31ms/step - loss: 1.6880 - mae: 1.6880\n",
            "Epoch 40/200\n",
            "1/1 [==============================] - 0s 16ms/step - loss: 1.5435 - mae: 1.5435\n",
            "Epoch 41/200\n",
            "1/1 [==============================] - 0s 17ms/step - loss: 1.3019 - mae: 1.3019\n",
            "Epoch 42/200\n",
            "1/1 [==============================] - 0s 25ms/step - loss: 1.0960 - mae: 1.0960\n",
            "Epoch 43/200\n",
            "1/1 [==============================] - 0s 26ms/step - loss: 0.9723 - mae: 0.9723\n",
            "Epoch 44/200\n",
            "1/1 [==============================] - 0s 24ms/step - loss: 0.7660 - mae: 0.7660\n",
            "Epoch 45/200\n",
            "1/1 [==============================] - 0s 19ms/step - loss: 0.5337 - mae: 0.5337\n",
            "Epoch 46/200\n",
            "1/1 [==============================] - 0s 19ms/step - loss: 0.6049 - mae: 0.6049\n",
            "Epoch 47/200\n",
            "1/1 [==============================] - 0s 26ms/step - loss: 0.2674 - mae: 0.2674\n",
            "Epoch 48/200\n",
            "1/1 [==============================] - 0s 15ms/step - loss: 0.4693 - mae: 0.4693\n",
            "Epoch 49/200\n",
            "1/1 [==============================] - 0s 18ms/step - loss: 0.4723 - mae: 0.4723\n",
            "Epoch 50/200\n",
            "1/1 [==============================] - 0s 21ms/step - loss: 0.6132 - mae: 0.6132\n",
            "Epoch 51/200\n",
            "1/1 [==============================] - 0s 22ms/step - loss: 0.5218 - mae: 0.5218\n",
            "Epoch 52/200\n",
            "1/1 [==============================] - 0s 23ms/step - loss: 0.6932 - mae: 0.6932\n",
            "Epoch 53/200\n",
            "1/1 [==============================] - 0s 24ms/step - loss: 0.5258 - mae: 0.5258\n",
            "Epoch 54/200\n",
            "1/1 [==============================] - 0s 17ms/step - loss: 0.7139 - mae: 0.7139\n",
            "Epoch 55/200\n",
            "1/1 [==============================] - 0s 17ms/step - loss: 0.7719 - mae: 0.7719\n",
            "Epoch 56/200\n",
            "1/1 [==============================] - 0s 19ms/step - loss: 0.5935 - mae: 0.5935\n",
            "Epoch 57/200\n",
            "1/1 [==============================] - 0s 17ms/step - loss: 0.3938 - mae: 0.3938\n",
            "Epoch 58/200\n",
            "1/1 [==============================] - 0s 25ms/step - loss: 0.6681 - mae: 0.6681\n",
            "Epoch 59/200\n",
            "1/1 [==============================] - 0s 19ms/step - loss: 0.4696 - mae: 0.4696\n",
            "Epoch 60/200\n",
            "1/1 [==============================] - 0s 28ms/step - loss: 0.4240 - mae: 0.4240\n",
            "Epoch 61/200\n",
            "1/1 [==============================] - 0s 30ms/step - loss: 0.5638 - mae: 0.5638\n",
            "Epoch 62/200\n",
            "1/1 [==============================] - 0s 21ms/step - loss: 0.4445 - mae: 0.4445\n",
            "Epoch 63/200\n",
            "1/1 [==============================] - 0s 15ms/step - loss: 0.2729 - mae: 0.2729\n",
            "Epoch 64/200\n",
            "1/1 [==============================] - 0s 29ms/step - loss: 0.5273 - mae: 0.5273\n",
            "Epoch 65/200\n",
            "1/1 [==============================] - 0s 19ms/step - loss: 0.4701 - mae: 0.4701\n",
            "Epoch 66/200\n",
            "1/1 [==============================] - 0s 26ms/step - loss: 0.3409 - mae: 0.3409\n",
            "Epoch 67/200\n",
            "1/1 [==============================] - 0s 21ms/step - loss: 0.4056 - mae: 0.4056\n",
            "Epoch 68/200\n",
            "1/1 [==============================] - 0s 21ms/step - loss: 0.5552 - mae: 0.5552\n",
            "Epoch 69/200\n",
            "1/1 [==============================] - 0s 21ms/step - loss: 0.3858 - mae: 0.3858\n",
            "Epoch 70/200\n",
            "1/1 [==============================] - 0s 38ms/step - loss: 0.3422 - mae: 0.3422\n",
            "Epoch 71/200\n",
            "1/1 [==============================] - 0s 25ms/step - loss: 0.3498 - mae: 0.3498\n",
            "Epoch 72/200\n",
            "1/1 [==============================] - 0s 21ms/step - loss: 0.2855 - mae: 0.2855\n",
            "Epoch 73/200\n",
            "1/1 [==============================] - 0s 12ms/step - loss: 0.2383 - mae: 0.2383\n",
            "Epoch 74/200\n",
            "1/1 [==============================] - 0s 22ms/step - loss: 0.2511 - mae: 0.2511\n",
            "Epoch 75/200\n",
            "1/1 [==============================] - 0s 20ms/step - loss: 0.2415 - mae: 0.2415\n",
            "Epoch 76/200\n",
            "1/1 [==============================] - 0s 16ms/step - loss: 0.1930 - mae: 0.1930\n",
            "Epoch 77/200\n",
            "1/1 [==============================] - 0s 25ms/step - loss: 0.2800 - mae: 0.2800\n",
            "Epoch 78/200\n",
            "1/1 [==============================] - 0s 19ms/step - loss: 0.3345 - mae: 0.3345\n",
            "Epoch 79/200\n",
            "1/1 [==============================] - 0s 26ms/step - loss: 0.2244 - mae: 0.2244\n",
            "Epoch 80/200\n",
            "1/1 [==============================] - 0s 26ms/step - loss: 0.3132 - mae: 0.3132\n",
            "Epoch 81/200\n",
            "1/1 [==============================] - 0s 23ms/step - loss: 0.1370 - mae: 0.1370\n",
            "Epoch 82/200\n",
            "1/1 [==============================] - 0s 31ms/step - loss: 0.1258 - mae: 0.1258\n",
            "Epoch 83/200\n",
            "1/1 [==============================] - 0s 25ms/step - loss: 0.1968 - mae: 0.1968\n",
            "Epoch 84/200\n",
            "1/1 [==============================] - 0s 26ms/step - loss: 0.1251 - mae: 0.1251\n",
            "Epoch 85/200\n",
            "1/1 [==============================] - 0s 23ms/step - loss: 0.1695 - mae: 0.1695\n",
            "Epoch 86/200\n",
            "1/1 [==============================] - 0s 27ms/step - loss: 0.1181 - mae: 0.1181\n",
            "Epoch 87/200\n",
            "1/1 [==============================] - 0s 17ms/step - loss: 0.1152 - mae: 0.1152\n",
            "Epoch 88/200\n",
            "1/1 [==============================] - 0s 18ms/step - loss: 0.1967 - mae: 0.1967\n",
            "Epoch 89/200\n",
            "1/1 [==============================] - 0s 32ms/step - loss: 0.1323 - mae: 0.1323\n",
            "Epoch 90/200\n",
            "1/1 [==============================] - 0s 31ms/step - loss: 0.2392 - mae: 0.2392\n",
            "Epoch 91/200\n",
            "1/1 [==============================] - 0s 27ms/step - loss: 0.1117 - mae: 0.1117\n",
            "Epoch 92/200\n",
            "1/1 [==============================] - 0s 23ms/step - loss: 0.3382 - mae: 0.3382\n",
            "Epoch 93/200\n",
            "1/1 [==============================] - 0s 19ms/step - loss: 0.3158 - mae: 0.3158\n",
            "Epoch 94/200\n",
            "1/1 [==============================] - 0s 24ms/step - loss: 0.1952 - mae: 0.1952\n",
            "Epoch 95/200\n",
            "1/1 [==============================] - 0s 29ms/step - loss: 0.2482 - mae: 0.2482\n",
            "Epoch 96/200\n",
            "1/1 [==============================] - 0s 28ms/step - loss: 0.0763 - mae: 0.0763\n",
            "Epoch 97/200\n",
            "1/1 [==============================] - 0s 23ms/step - loss: 0.2350 - mae: 0.2350\n",
            "Epoch 98/200\n",
            "1/1 [==============================] - 0s 19ms/step - loss: 0.1363 - mae: 0.1363\n",
            "Epoch 99/200\n",
            "1/1 [==============================] - 0s 23ms/step - loss: 0.1594 - mae: 0.1594\n",
            "Epoch 100/200\n",
            "1/1 [==============================] - 0s 28ms/step - loss: 0.1144 - mae: 0.1144\n",
            "Epoch 101/200\n",
            "1/1 [==============================] - 0s 19ms/step - loss: 0.1141 - mae: 0.1141\n",
            "Epoch 102/200\n",
            "1/1 [==============================] - 0s 35ms/step - loss: 0.2101 - mae: 0.2101\n",
            "Epoch 103/200\n",
            "1/1 [==============================] - 0s 31ms/step - loss: 0.1247 - mae: 0.1247\n",
            "Epoch 104/200\n",
            "1/1 [==============================] - 0s 19ms/step - loss: 0.4040 - mae: 0.4040\n",
            "Epoch 105/200\n",
            "1/1 [==============================] - 0s 32ms/step - loss: 0.4080 - mae: 0.4080\n",
            "Epoch 106/200\n",
            "1/1 [==============================] - 0s 38ms/step - loss: 0.1843 - mae: 0.1843\n",
            "Epoch 107/200\n",
            "1/1 [==============================] - 0s 30ms/step - loss: 0.4047 - mae: 0.4047\n",
            "Epoch 108/200\n",
            "1/1 [==============================] - 0s 32ms/step - loss: 0.5510 - mae: 0.5510\n",
            "Epoch 109/200\n",
            "1/1 [==============================] - 0s 22ms/step - loss: 0.3499 - mae: 0.3499\n",
            "Epoch 110/200\n",
            "1/1 [==============================] - 0s 24ms/step - loss: 0.1729 - mae: 0.1729\n",
            "Epoch 111/200\n",
            "1/1 [==============================] - 0s 20ms/step - loss: 0.2995 - mae: 0.2995\n",
            "Epoch 112/200\n",
            "1/1 [==============================] - 0s 20ms/step - loss: 0.1003 - mae: 0.1003\n",
            "Epoch 113/200\n",
            "1/1 [==============================] - 0s 15ms/step - loss: 0.3845 - mae: 0.3845\n",
            "Epoch 114/200\n",
            "1/1 [==============================] - 0s 29ms/step - loss: 0.5363 - mae: 0.5363\n",
            "Epoch 115/200\n",
            "1/1 [==============================] - 0s 16ms/step - loss: 0.3715 - mae: 0.3715\n",
            "Epoch 116/200\n",
            "1/1 [==============================] - 0s 16ms/step - loss: 0.1347 - mae: 0.1347\n",
            "Epoch 117/200\n",
            "1/1 [==============================] - 0s 24ms/step - loss: 0.2537 - mae: 0.2537\n",
            "Epoch 118/200\n",
            "1/1 [==============================] - 0s 21ms/step - loss: 0.1061 - mae: 0.1061\n",
            "Epoch 119/200\n",
            "1/1 [==============================] - 0s 17ms/step - loss: 0.0871 - mae: 0.0871\n",
            "Epoch 120/200\n",
            "1/1 [==============================] - 0s 25ms/step - loss: 0.2134 - mae: 0.2134\n",
            "Epoch 121/200\n",
            "1/1 [==============================] - 0s 15ms/step - loss: 0.1948 - mae: 0.1948\n",
            "Epoch 122/200\n",
            "1/1 [==============================] - 0s 27ms/step - loss: 0.1943 - mae: 0.1943\n",
            "Epoch 123/200\n",
            "1/1 [==============================] - 0s 17ms/step - loss: 0.1799 - mae: 0.1799\n",
            "Epoch 124/200\n",
            "1/1 [==============================] - 0s 21ms/step - loss: 0.2101 - mae: 0.2101\n",
            "Epoch 125/200\n",
            "1/1 [==============================] - 0s 22ms/step - loss: 0.2037 - mae: 0.2037\n",
            "Epoch 126/200\n",
            "1/1 [==============================] - 0s 35ms/step - loss: 0.1124 - mae: 0.1124\n",
            "Epoch 127/200\n",
            "1/1 [==============================] - 0s 19ms/step - loss: 0.0890 - mae: 0.0890\n",
            "Epoch 128/200\n",
            "1/1 [==============================] - 0s 14ms/step - loss: 0.1853 - mae: 0.1853\n",
            "Epoch 129/200\n",
            "1/1 [==============================] - 0s 31ms/step - loss: 0.1056 - mae: 0.1056\n",
            "Epoch 130/200\n",
            "1/1 [==============================] - 0s 23ms/step - loss: 0.2774 - mae: 0.2774\n",
            "Epoch 131/200\n",
            "1/1 [==============================] - 0s 23ms/step - loss: 0.3159 - mae: 0.3159\n",
            "Epoch 132/200\n",
            "1/1 [==============================] - 0s 24ms/step - loss: 0.1118 - mae: 0.1118\n",
            "Epoch 133/200\n",
            "1/1 [==============================] - 0s 25ms/step - loss: 0.3539 - mae: 0.3539\n",
            "Epoch 134/200\n",
            "1/1 [==============================] - 0s 18ms/step - loss: 0.5075 - mae: 0.5075\n",
            "Epoch 135/200\n",
            "1/1 [==============================] - 0s 32ms/step - loss: 0.3788 - mae: 0.3788\n",
            "Epoch 136/200\n",
            "1/1 [==============================] - 0s 18ms/step - loss: 0.0529 - mae: 0.0529\n",
            "Epoch 137/200\n",
            "1/1 [==============================] - 0s 30ms/step - loss: 0.5242 - mae: 0.5242\n",
            "Epoch 138/200\n",
            "1/1 [==============================] - 0s 22ms/step - loss: 0.7059 - mae: 0.7059\n",
            "Epoch 139/200\n",
            "1/1 [==============================] - 0s 25ms/step - loss: 0.6784 - mae: 0.6784\n",
            "Epoch 140/200\n",
            "1/1 [==============================] - 0s 25ms/step - loss: 0.3495 - mae: 0.3495\n",
            "Epoch 141/200\n",
            "1/1 [==============================] - 0s 16ms/step - loss: 0.2433 - mae: 0.2433\n",
            "Epoch 142/200\n",
            "1/1 [==============================] - 0s 10ms/step - loss: 0.4738 - mae: 0.4738\n",
            "Epoch 143/200\n",
            "1/1 [==============================] - 0s 15ms/step - loss: 0.4156 - mae: 0.4156\n",
            "Epoch 144/200\n",
            "1/1 [==============================] - 0s 16ms/step - loss: 0.1737 - mae: 0.1737\n",
            "Epoch 145/200\n",
            "1/1 [==============================] - 0s 14ms/step - loss: 0.4118 - mae: 0.4118\n",
            "Epoch 146/200\n",
            "1/1 [==============================] - 0s 14ms/step - loss: 0.5391 - mae: 0.5391\n",
            "Epoch 147/200\n",
            "1/1 [==============================] - 0s 12ms/step - loss: 0.5368 - mae: 0.5368\n",
            "Epoch 148/200\n",
            "1/1 [==============================] - 0s 18ms/step - loss: 0.2805 - mae: 0.2805\n",
            "Epoch 149/200\n",
            "1/1 [==============================] - 0s 13ms/step - loss: 0.4678 - mae: 0.4678\n",
            "Epoch 150/200\n",
            "1/1 [==============================] - 0s 9ms/step - loss: 0.6302 - mae: 0.6302\n",
            "Epoch 151/200\n",
            "1/1 [==============================] - 0s 18ms/step - loss: 0.5320 - mae: 0.5320\n",
            "Epoch 152/200\n",
            "1/1 [==============================] - 0s 11ms/step - loss: 0.3387 - mae: 0.3387\n",
            "Epoch 153/200\n",
            "1/1 [==============================] - 0s 12ms/step - loss: 0.4161 - mae: 0.4161\n",
            "Epoch 154/200\n",
            "1/1 [==============================] - 0s 13ms/step - loss: 0.5713 - mae: 0.5713\n",
            "Epoch 155/200\n",
            "1/1 [==============================] - 0s 15ms/step - loss: 0.4270 - mae: 0.4270\n",
            "Epoch 156/200\n",
            "1/1 [==============================] - 0s 12ms/step - loss: 0.1691 - mae: 0.1691\n",
            "Epoch 157/200\n",
            "1/1 [==============================] - 0s 15ms/step - loss: 0.5176 - mae: 0.5176\n",
            "Epoch 158/200\n",
            "1/1 [==============================] - 0s 14ms/step - loss: 0.7095 - mae: 0.7095\n",
            "Epoch 159/200\n",
            "1/1 [==============================] - 0s 14ms/step - loss: 0.6268 - mae: 0.6268\n",
            "Epoch 160/200\n",
            "1/1 [==============================] - 0s 12ms/step - loss: 0.3313 - mae: 0.3313\n",
            "Epoch 161/200\n",
            "1/1 [==============================] - 0s 20ms/step - loss: 0.2170 - mae: 0.2170\n",
            "Epoch 162/200\n",
            "1/1 [==============================] - 0s 17ms/step - loss: 0.3675 - mae: 0.3675\n",
            "Epoch 163/200\n",
            "1/1 [==============================] - 0s 20ms/step - loss: 0.2418 - mae: 0.2418\n",
            "Epoch 164/200\n",
            "1/1 [==============================] - 0s 11ms/step - loss: 0.0932 - mae: 0.0932\n",
            "Epoch 165/200\n",
            "1/1 [==============================] - 0s 19ms/step - loss: 0.1108 - mae: 0.1108\n",
            "Epoch 166/200\n",
            "1/1 [==============================] - 0s 15ms/step - loss: 0.1500 - mae: 0.1500\n",
            "Epoch 167/200\n",
            "1/1 [==============================] - 0s 14ms/step - loss: 0.1316 - mae: 0.1316\n",
            "Epoch 168/200\n",
            "1/1 [==============================] - 0s 14ms/step - loss: 0.1268 - mae: 0.1268\n",
            "Epoch 169/200\n",
            "1/1 [==============================] - 0s 14ms/step - loss: 0.0878 - mae: 0.0878\n",
            "Epoch 170/200\n",
            "1/1 [==============================] - 0s 14ms/step - loss: 0.2448 - mae: 0.2448\n",
            "Epoch 171/200\n",
            "1/1 [==============================] - 0s 17ms/step - loss: 0.2512 - mae: 0.2512\n",
            "Epoch 172/200\n",
            "1/1 [==============================] - 0s 12ms/step - loss: 0.0490 - mae: 0.0490\n",
            "Epoch 173/200\n",
            "1/1 [==============================] - 0s 9ms/step - loss: 0.2809 - mae: 0.2809\n",
            "Epoch 174/200\n",
            "1/1 [==============================] - 0s 16ms/step - loss: 0.3196 - mae: 0.3196\n",
            "Epoch 175/200\n",
            "1/1 [==============================] - 0s 18ms/step - loss: 0.1328 - mae: 0.1328\n",
            "Epoch 176/200\n",
            "1/1 [==============================] - 0s 24ms/step - loss: 0.3032 - mae: 0.3032\n",
            "Epoch 177/200\n",
            "1/1 [==============================] - 0s 23ms/step - loss: 0.4865 - mae: 0.4865\n",
            "Epoch 178/200\n",
            "1/1 [==============================] - 0s 15ms/step - loss: 0.4055 - mae: 0.4055\n",
            "Epoch 179/200\n",
            "1/1 [==============================] - 0s 16ms/step - loss: 0.1227 - mae: 0.1227\n",
            "Epoch 180/200\n",
            "1/1 [==============================] - 0s 18ms/step - loss: 0.1303 - mae: 0.1303\n",
            "Epoch 181/200\n",
            "1/1 [==============================] - 0s 13ms/step - loss: 0.1198 - mae: 0.1198\n",
            "Epoch 182/200\n",
            "1/1 [==============================] - 0s 16ms/step - loss: 0.1282 - mae: 0.1282\n",
            "Epoch 183/200\n",
            "1/1 [==============================] - 0s 17ms/step - loss: 0.1160 - mae: 0.1160\n",
            "Epoch 184/200\n",
            "1/1 [==============================] - 0s 14ms/step - loss: 0.0941 - mae: 0.0941\n",
            "Epoch 185/200\n",
            "1/1 [==============================] - 0s 18ms/step - loss: 0.2512 - mae: 0.2512\n",
            "Epoch 186/200\n",
            "1/1 [==============================] - 0s 21ms/step - loss: 0.1524 - mae: 0.1524\n",
            "Epoch 187/200\n",
            "1/1 [==============================] - 0s 16ms/step - loss: 0.2651 - mae: 0.2651\n",
            "Epoch 188/200\n",
            "1/1 [==============================] - 0s 14ms/step - loss: 0.3376 - mae: 0.3376\n",
            "Epoch 189/200\n",
            "1/1 [==============================] - 0s 22ms/step - loss: 0.2297 - mae: 0.2297\n",
            "Epoch 190/200\n",
            "1/1 [==============================] - 0s 13ms/step - loss: 0.3665 - mae: 0.3665\n",
            "Epoch 191/200\n",
            "1/1 [==============================] - 0s 47ms/step - loss: 0.4293 - mae: 0.4293\n",
            "Epoch 192/200\n",
            "1/1 [==============================] - 0s 15ms/step - loss: 0.2169 - mae: 0.2169\n",
            "Epoch 193/200\n",
            "1/1 [==============================] - 0s 12ms/step - loss: 0.2711 - mae: 0.2711\n",
            "Epoch 194/200\n",
            "1/1 [==============================] - 0s 18ms/step - loss: 0.4193 - mae: 0.4193\n",
            "Epoch 195/200\n",
            "1/1 [==============================] - 0s 17ms/step - loss: 0.2921 - mae: 0.2921\n",
            "Epoch 196/200\n",
            "1/1 [==============================] - 0s 33ms/step - loss: 0.2120 - mae: 0.2120\n",
            "Epoch 197/200\n",
            "1/1 [==============================] - 0s 33ms/step - loss: 0.2669 - mae: 0.2669\n",
            "Epoch 198/200\n",
            "1/1 [==============================] - 0s 18ms/step - loss: 0.1778 - mae: 0.1778\n",
            "Epoch 199/200\n",
            "1/1 [==============================] - 0s 32ms/step - loss: 0.2231 - mae: 0.2231\n",
            "Epoch 200/200\n",
            "1/1 [==============================] - 0s 26ms/step - loss: 0.2286 - mae: 0.2286\n"
          ]
        },
        {
          "output_type": "execute_result",
          "data": {
            "text/plain": [
              "<keras.src.callbacks.History at 0x7dd062d916f0>"
            ]
          },
          "metadata": {},
          "execution_count": 126
        }
      ],
      "source": [
        "# Try: 2\n",
        "\n",
        "# Create a model\n",
        "\n",
        "model = tf.keras.Sequential (\n",
        "    [\n",
        "        tf.keras.layers.Dense(200, activation=\"relu\"),\n",
        "        # tf.keras.layers.Dense(100, activation=\"relu\"),\n",
        "        tf.keras.layers.Dense(1)\n",
        "    ]\n",
        ")\n",
        "\n",
        "# Compilr the model\n",
        "\n",
        "model.compile(\n",
        "    loss=tf.keras.losses.mae,\n",
        "    optimizer=tf.keras.optimizers.Adam(learning_rate=0.01),\n",
        "    metrics= [\"mae\"]\n",
        ")\n",
        "\n",
        "# Fit the model\n",
        "\n",
        "model.fit(tf.expand_dims(X, axis=-1), y, epochs=200)"
      ]
    },
    {
      "cell_type": "code",
      "execution_count": 127,
      "metadata": {
        "colab": {
          "base_uri": "https://localhost:8080/"
        },
        "id": "TYj1LtqzJnxn",
        "outputId": "75616fba-88d0-4f34-84e0-a033fe882dd3"
      },
      "outputs": [
        {
          "output_type": "execute_result",
          "data": {
            "text/plain": [
              "(<tf.Tensor: shape=(8,), dtype=float64, numpy=array([-7., -4., -1.,  2.,  5.,  8., 11., 14.])>,\n",
              " <tf.Tensor: shape=(8,), dtype=float64, numpy=array([ 3.,  6.,  9., 12., 15., 18., 21., 24.])>)"
            ]
          },
          "metadata": {},
          "execution_count": 127
        }
      ],
      "source": [
        "X, y"
      ]
    },
    {
      "cell_type": "code",
      "execution_count": 128,
      "metadata": {
        "colab": {
          "base_uri": "https://localhost:8080/"
        },
        "id": "pxk2YkBHIINO",
        "outputId": "76a7e8d9-1945-4ae4-9707-db91bf4d980c"
      },
      "outputs": [
        {
          "output_type": "stream",
          "name": "stdout",
          "text": [
            "1/1 [==============================] - 0s 316ms/step\n",
            "1/1 [==============================] - 0s 126ms/step\n"
          ]
        },
        {
          "output_type": "execute_result",
          "data": {
            "text/plain": [
              "(array([[27.136707]], dtype=float32), array([[30.184933]], dtype=float32))"
            ]
          },
          "metadata": {},
          "execution_count": 128
        }
      ],
      "source": [
        "model.predict([17.0]), model.predict([20.0])"
      ]
    },
    {
      "cell_type": "markdown",
      "metadata": {
        "id": "BHVG-8kGIOgR"
      },
      "source": [
        "## Evaluating a model\n",
        "\n",
        "In practice, a typical workflow we'll go through when building neural networks is:\n",
        "\n",
        "```\n",
        "Build a model -> fit it -> evaluate it -> tweak a model -> fit it -> evaluate it -> tweak it -> fit it -> evaluate it ... and so on.\n",
        "```\n",
        "\n",
        "When it comes to evaluation... there are three words to remember:\n",
        "``` visualize, visualize, visualize```"
      ]
    },
    {
      "cell_type": "code",
      "execution_count": 129,
      "metadata": {
        "colab": {
          "base_uri": "https://localhost:8080/"
        },
        "id": "fp_yKTpU9NKd",
        "outputId": "4f97e910-cc2a-47a8-e4e0-e928c7fb48e5"
      },
      "outputs": [
        {
          "output_type": "execute_result",
          "data": {
            "text/plain": [
              "<tf.Tensor: shape=(50,), dtype=int32, numpy=\n",
              "array([-100,  -96,  -92,  -88,  -84,  -80,  -76,  -72,  -68,  -64,  -60,\n",
              "        -56,  -52,  -48,  -44,  -40,  -36,  -32,  -28,  -24,  -20,  -16,\n",
              "        -12,   -8,   -4,    0,    4,    8,   12,   16,   20,   24,   28,\n",
              "         32,   36,   40,   44,   48,   52,   56,   60,   64,   68,   72,\n",
              "         76,   80,   84,   88,   92,   96], dtype=int32)>"
            ]
          },
          "metadata": {},
          "execution_count": 129
        }
      ],
      "source": [
        "# Make a bigger dataset\n",
        "\n",
        "X = tf.range(-100, 100, 4)\n",
        "X"
      ]
    },
    {
      "cell_type": "code",
      "execution_count": 130,
      "metadata": {
        "colab": {
          "base_uri": "https://localhost:8080/"
        },
        "id": "wa0IzIxH9kQj",
        "outputId": "bad6f7e5-9242-4059-ed9c-c2750e78acd2"
      },
      "outputs": [
        {
          "output_type": "execute_result",
          "data": {
            "text/plain": [
              "<tf.Tensor: shape=(50,), dtype=int32, numpy=\n",
              "array([-90, -86, -82, -78, -74, -70, -66, -62, -58, -54, -50, -46, -42,\n",
              "       -38, -34, -30, -26, -22, -18, -14, -10,  -6,  -2,   2,   6,  10,\n",
              "        14,  18,  22,  26,  30,  34,  38,  42,  46,  50,  54,  58,  62,\n",
              "        66,  70,  74,  78,  82,  86,  90,  94,  98, 102, 106], dtype=int32)>"
            ]
          },
          "metadata": {},
          "execution_count": 130
        }
      ],
      "source": [
        "# Make labels for the dataset\n",
        "y = X + 10\n",
        "y"
      ]
    },
    {
      "cell_type": "code",
      "execution_count": 131,
      "metadata": {
        "colab": {
          "base_uri": "https://localhost:8080/",
          "height": 448
        },
        "id": "vfk0ndlP9qGY",
        "outputId": "a366381e-bf27-43f7-e4f8-5ae12415ed69"
      },
      "outputs": [
        {
          "output_type": "execute_result",
          "data": {
            "text/plain": [
              "<matplotlib.collections.PathCollection at 0x7dd063dcc400>"
            ]
          },
          "metadata": {},
          "execution_count": 131
        },
        {
          "output_type": "display_data",
          "data": {
            "text/plain": [
              "<Figure size 640x480 with 1 Axes>"
            ],
            "image/png": "[encoded data removed]"
          },
          "metadata": {}
        }
      ],
      "source": [
        "plt.scatter(X, y)"
      ]
    },
    {
      "cell_type": "markdown",
      "metadata": {
        "id": "4eYcdfJc9w9D"
      },
      "source": [
        "## **Split the data on three sets**\n",
        "\n",
        "* Training set - the model learns from this data, which is typically 70-80% of the total data available\n",
        "* Validation set - the model gets tuned on this data, which is typically 10-15% of the total data available\n",
        "* Test set - the model gets evaluated on this data, which is typically 10-15% of the total data available\n",
        "\n"
      ]
    },
    {
      "cell_type": "code",
      "execution_count": 132,
      "metadata": {
        "colab": {
          "base_uri": "https://localhost:8080/"
        },
        "id": "lS6hmJb2-T5e",
        "outputId": "4fc946ed-1d78-4d3c-b541-32d0cfcb240b"
      },
      "outputs": [
        {
          "output_type": "execute_result",
          "data": {
            "text/plain": [
              "(50, 50)"
            ]
          },
          "metadata": {},
          "execution_count": 132
        }
      ],
      "source": [
        "# Split the dataset\n",
        "\n",
        "len(X), len(y)"
      ]
    },
    {
      "cell_type": "code",
      "execution_count": 133,
      "metadata": {
        "colab": {
          "base_uri": "https://localhost:8080/"
        },
        "id": "mm9Dx4YH-u45",
        "outputId": "b6a454f8-f4d1-4741-cbeb-677252ec7c05"
      },
      "outputs": [
        {
          "output_type": "execute_result",
          "data": {
            "text/plain": [
              "(40, 10)"
            ]
          },
          "metadata": {},
          "execution_count": 133
        }
      ],
      "source": [
        "# Split the data into train and test sets\n",
        "\n",
        "X_train = X[:40]\n",
        "y_train = y[:40]\n",
        "\n",
        "X_test = X[40:]\n",
        "y_test = y[40:]\n",
        "\n",
        "len(X_train), len(X_test)"
      ]
    },
    {
      "cell_type": "markdown",
      "metadata": {
        "id": "E7sjKlSK_BMa"
      },
      "source": [
        "### Visualizing Data\n",
        "\n",
        "Now that we have out training and test datasets, let's visualize them"
      ]
    },
    {
      "cell_type": "code",
      "execution_count": 134,
      "metadata": {
        "colab": {
          "base_uri": "https://localhost:8080/",
          "height": 617
        },
        "id": "ah3CifnY_oEy",
        "outputId": "0fa3adc5-14e5-4dfd-ad91-5700e7d453e3"
      },
      "outputs": [
        {
          "output_type": "execute_result",
          "data": {
            "text/plain": [
              "<matplotlib.legend.Legend at 0x7dd10c1615d0>"
            ]
          },
          "metadata": {},
          "execution_count": 134
        },
        {
          "output_type": "display_data",
          "data": {
            "text/plain": [
              "<Figure size 1000x700 with 1 Axes>"
            ],
            "image/png": "[encoded data removed]"
          },
          "metadata": {}
        }
      ],
      "source": [
        "plt.figure(figsize=(10, 7))\n",
        "\n",
        "# Plot training data in blue\n",
        "plt.scatter(X_train, y_train, c=\"blue\", label=\"Training data\")\n",
        "\n",
        "# PLot test data in green\n",
        "plt.scatter(X_test, y_test, c=\"green\", label=\"Testing data\")\n",
        "\n",
        "# Show the legend\n",
        "plt.legend()"
      ]
    },
    {
      "cell_type": "code",
      "execution_count": 135,
      "metadata": {
        "colab": {
          "base_uri": "https://localhost:8080/"
        },
        "id": "lNMERSSqA_Ty",
        "outputId": "2a40548e-2bc6-4fce-e8bb-b6c15b168b02"
      },
      "outputs": [
        {
          "output_type": "execute_result",
          "data": {
            "text/plain": [
              "(<tf.Tensor: shape=(40,), dtype=int32, numpy=\n",
              " array([-100,  -96,  -92,  -88,  -84,  -80,  -76,  -72,  -68,  -64,  -60,\n",
              "         -56,  -52,  -48,  -44,  -40,  -36,  -32,  -28,  -24,  -20,  -16,\n",
              "         -12,   -8,   -4,    0,    4,    8,   12,   16,   20,   24,   28,\n",
              "          32,   36,   40,   44,   48,   52,   56], dtype=int32)>,\n",
              " <tf.Tensor: shape=(40,), dtype=int32, numpy=\n",
              " array([-90, -86, -82, -78, -74, -70, -66, -62, -58, -54, -50, -46, -42,\n",
              "        -38, -34, -30, -26, -22, -18, -14, -10,  -6,  -2,   2,   6,  10,\n",
              "         14,  18,  22,  26,  30,  34,  38,  42,  46,  50,  54,  58,  62,\n",
              "         66], dtype=int32)>,\n",
              " <tf.Tensor: shape=(40, 1), dtype=int32, numpy=\n",
              " array([[-100],\n",
              "        [ -96],\n",
              "        [ -92],\n",
              "        [ -88],\n",
              "        [ -84],\n",
              "        [ -80],\n",
              "        [ -76],\n",
              "        [ -72],\n",
              "        [ -68],\n",
              "        [ -64],\n",
              "        [ -60],\n",
              "        [ -56],\n",
              "        [ -52],\n",
              "        [ -48],\n",
              "        [ -44],\n",
              "        [ -40],\n",
              "        [ -36],\n",
              "        [ -32],\n",
              "        [ -28],\n",
              "        [ -24],\n",
              "        [ -20],\n",
              "        [ -16],\n",
              "        [ -12],\n",
              "        [  -8],\n",
              "        [  -4],\n",
              "        [   0],\n",
              "        [   4],\n",
              "        [   8],\n",
              "        [  12],\n",
              "        [  16],\n",
              "        [  20],\n",
              "        [  24],\n",
              "        [  28],\n",
              "        [  32],\n",
              "        [  36],\n",
              "        [  40],\n",
              "        [  44],\n",
              "        [  48],\n",
              "        [  52],\n",
              "        [  56]], dtype=int32)>)"
            ]
          },
          "metadata": {},
          "execution_count": 135
        }
      ],
      "source": [
        "X_train, y_train, tf.expand_dims(X_train, axis=-1)"
      ]
    },
    {
      "cell_type": "code",
      "execution_count": 136,
      "metadata": {
        "colab": {
          "base_uri": "https://localhost:8080/"
        },
        "id": "IEoiNPtmAUPf",
        "outputId": "ee2800ad-fadf-4037-d8f6-1b8b7ba94735"
      },
      "outputs": [
        {
          "output_type": "stream",
          "name": "stdout",
          "text": [
            "Epoch 1/100\n",
            "2/2 [==============================] - 1s 17ms/step - loss: 26.5845 - mae: 26.5845\n",
            "Epoch 2/100\n",
            "2/2 [==============================] - 0s 15ms/step - loss: 23.6875 - mae: 23.6875\n",
            "Epoch 3/100\n",
            "2/2 [==============================] - 0s 15ms/step - loss: 21.0843 - mae: 21.0843\n",
            "Epoch 4/100\n",
            "2/2 [==============================] - 0s 17ms/step - loss: 18.8286 - mae: 18.8286\n",
            "Epoch 5/100\n",
            "2/2 [==============================] - 0s 12ms/step - loss: 17.0378 - mae: 17.0378\n",
            "Epoch 6/100\n",
            "2/2 [==============================] - 0s 21ms/step - loss: 15.6833 - mae: 15.6833\n",
            "Epoch 7/100\n",
            "2/2 [==============================] - 0s 13ms/step - loss: 14.5072 - mae: 14.5072\n",
            "Epoch 8/100\n",
            "2/2 [==============================] - 0s 10ms/step - loss: 13.3015 - mae: 13.3015\n",
            "Epoch 9/100\n",
            "2/2 [==============================] - 0s 7ms/step - loss: 12.2145 - mae: 12.2145\n",
            "Epoch 10/100\n",
            "2/2 [==============================] - 0s 9ms/step - loss: 11.4518 - mae: 11.4518\n",
            "Epoch 11/100\n",
            "2/2 [==============================] - 0s 8ms/step - loss: 10.7340 - mae: 10.7340\n",
            "Epoch 12/100\n",
            "2/2 [==============================] - 0s 7ms/step - loss: 10.0561 - mae: 10.0561\n",
            "Epoch 13/100\n",
            "2/2 [==============================] - 0s 8ms/step - loss: 9.3915 - mae: 9.3915\n",
            "Epoch 14/100\n",
            "2/2 [==============================] - 0s 9ms/step - loss: 8.8563 - mae: 8.8563\n",
            "Epoch 15/100\n",
            "2/2 [==============================] - 0s 8ms/step - loss: 8.4870 - mae: 8.4870\n",
            "Epoch 16/100\n",
            "2/2 [==============================] - 0s 7ms/step - loss: 8.1989 - mae: 8.1989\n",
            "Epoch 17/100\n",
            "2/2 [==============================] - 0s 8ms/step - loss: 8.0005 - mae: 8.0005\n",
            "Epoch 18/100\n",
            "2/2 [==============================] - 0s 7ms/step - loss: 7.7382 - mae: 7.7382\n",
            "Epoch 19/100\n",
            "2/2 [==============================] - 0s 8ms/step - loss: 7.6905 - mae: 7.6905\n",
            "Epoch 20/100\n",
            "2/2 [==============================] - 0s 7ms/step - loss: 7.6063 - mae: 7.6063\n",
            "Epoch 21/100\n",
            "2/2 [==============================] - 0s 7ms/step - loss: 7.6145 - mae: 7.6145\n",
            "Epoch 22/100\n",
            "2/2 [==============================] - 0s 7ms/step - loss: 7.6825 - mae: 7.6825\n",
            "Epoch 23/100\n",
            "2/2 [==============================] - 0s 8ms/step - loss: 7.6379 - mae: 7.6379\n",
            "Epoch 24/100\n",
            "2/2 [==============================] - 0s 7ms/step - loss: 7.7351 - mae: 7.7351\n",
            "Epoch 25/100\n",
            "2/2 [==============================] - 0s 7ms/step - loss: 7.7235 - mae: 7.7235\n",
            "Epoch 26/100\n",
            "2/2 [==============================] - 0s 7ms/step - loss: 7.6424 - mae: 7.6424\n",
            "Epoch 27/100\n",
            "2/2 [==============================] - 0s 8ms/step - loss: 7.6133 - mae: 7.6133\n",
            "Epoch 28/100\n",
            "2/2 [==============================] - 0s 8ms/step - loss: 7.6121 - mae: 7.6121\n",
            "Epoch 29/100\n",
            "2/2 [==============================] - 0s 9ms/step - loss: 7.6752 - mae: 7.6752\n",
            "Epoch 30/100\n",
            "2/2 [==============================] - 0s 8ms/step - loss: 7.6004 - mae: 7.6004\n",
            "Epoch 31/100\n",
            "2/2 [==============================] - 0s 8ms/step - loss: 7.7186 - mae: 7.7186\n",
            "Epoch 32/100\n",
            "2/2 [==============================] - 0s 9ms/step - loss: 7.7463 - mae: 7.7463\n",
            "Epoch 33/100\n",
            "2/2 [==============================] - 0s 7ms/step - loss: 7.6394 - mae: 7.6394\n",
            "Epoch 34/100\n",
            "2/2 [==============================] - 0s 6ms/step - loss: 7.5997 - mae: 7.5997\n",
            "Epoch 35/100\n",
            "2/2 [==============================] - 0s 7ms/step - loss: 7.7151 - mae: 7.7151\n",
            "Epoch 36/100\n",
            "2/2 [==============================] - 0s 7ms/step - loss: 7.9946 - mae: 7.9946\n",
            "Epoch 37/100\n",
            "2/2 [==============================] - 0s 7ms/step - loss: 7.6639 - mae: 7.6639\n",
            "Epoch 38/100\n",
            "2/2 [==============================] - 0s 7ms/step - loss: 7.6280 - mae: 7.6280\n",
            "Epoch 39/100\n",
            "2/2 [==============================] - 0s 6ms/step - loss: 7.5951 - mae: 7.5951\n",
            "Epoch 40/100\n",
            "2/2 [==============================] - 0s 7ms/step - loss: 7.5878 - mae: 7.5878\n",
            "Epoch 41/100\n",
            "2/2 [==============================] - 0s 7ms/step - loss: 7.6702 - mae: 7.6702\n",
            "Epoch 42/100\n",
            "2/2 [==============================] - 0s 7ms/step - loss: 7.5813 - mae: 7.5813\n",
            "Epoch 43/100\n",
            "2/2 [==============================] - 0s 7ms/step - loss: 7.5862 - mae: 7.5862\n",
            "Epoch 44/100\n",
            "2/2 [==============================] - 0s 7ms/step - loss: 7.6266 - mae: 7.6266\n",
            "Epoch 45/100\n",
            "2/2 [==============================] - 0s 7ms/step - loss: 7.6982 - mae: 7.6982\n",
            "Epoch 46/100\n",
            "2/2 [==============================] - 0s 7ms/step - loss: 7.8537 - mae: 7.8537\n",
            "Epoch 47/100\n",
            "2/2 [==============================] - 0s 7ms/step - loss: 7.6801 - mae: 7.6801\n",
            "Epoch 48/100\n",
            "2/2 [==============================] - 0s 7ms/step - loss: 7.7566 - mae: 7.7566\n",
            "Epoch 49/100\n",
            "2/2 [==============================] - 0s 10ms/step - loss: 7.6551 - mae: 7.6551\n",
            "Epoch 50/100\n",
            "2/2 [==============================] - 0s 7ms/step - loss: 7.7991 - mae: 7.7991\n",
            "Epoch 51/100\n",
            "2/2 [==============================] - 0s 7ms/step - loss: 7.6092 - mae: 7.6092\n",
            "Epoch 52/100\n",
            "2/2 [==============================] - 0s 8ms/step - loss: 7.6892 - mae: 7.6892\n",
            "Epoch 53/100\n",
            "2/2 [==============================] - 0s 7ms/step - loss: 7.7698 - mae: 7.7698\n",
            "Epoch 54/100\n",
            "2/2 [==============================] - 0s 7ms/step - loss: 7.7143 - mae: 7.7143\n",
            "Epoch 55/100\n",
            "2/2 [==============================] - 0s 9ms/step - loss: 7.5854 - mae: 7.5854\n",
            "Epoch 56/100\n",
            "2/2 [==============================] - 0s 7ms/step - loss: 7.6210 - mae: 7.6210\n",
            "Epoch 57/100\n",
            "2/2 [==============================] - 0s 7ms/step - loss: 7.8642 - mae: 7.8642\n",
            "Epoch 58/100\n",
            "2/2 [==============================] - 0s 7ms/step - loss: 7.6583 - mae: 7.6583\n",
            "Epoch 59/100\n",
            "2/2 [==============================] - 0s 7ms/step - loss: 7.5824 - mae: 7.5824\n",
            "Epoch 60/100\n",
            "2/2 [==============================] - 0s 8ms/step - loss: 7.5759 - mae: 7.5759\n",
            "Epoch 61/100\n",
            "2/2 [==============================] - 0s 10ms/step - loss: 7.5775 - mae: 7.5775\n",
            "Epoch 62/100\n",
            "2/2 [==============================] - 0s 9ms/step - loss: 7.6496 - mae: 7.6496\n",
            "Epoch 63/100\n",
            "2/2 [==============================] - 0s 8ms/step - loss: 7.6509 - mae: 7.6509\n",
            "Epoch 64/100\n",
            "2/2 [==============================] - 0s 8ms/step - loss: 7.8089 - mae: 7.8089\n",
            "Epoch 65/100\n",
            "2/2 [==============================] - 0s 7ms/step - loss: 7.5736 - mae: 7.5736\n",
            "Epoch 66/100\n",
            "2/2 [==============================] - 0s 8ms/step - loss: 7.5662 - mae: 7.5662\n",
            "Epoch 67/100\n",
            "2/2 [==============================] - 0s 7ms/step - loss: 7.5886 - mae: 7.5886\n",
            "Epoch 68/100\n",
            "2/2 [==============================] - 0s 10ms/step - loss: 7.5576 - mae: 7.5576\n",
            "Epoch 69/100\n",
            "2/2 [==============================] - 0s 9ms/step - loss: 7.6079 - mae: 7.6079\n",
            "Epoch 70/100\n",
            "2/2 [==============================] - 0s 8ms/step - loss: 7.6027 - mae: 7.6027\n",
            "Epoch 71/100\n",
            "2/2 [==============================] - 0s 8ms/step - loss: 7.9184 - mae: 7.9184\n",
            "Epoch 72/100\n",
            "2/2 [==============================] - 0s 8ms/step - loss: 7.6811 - mae: 7.6811\n",
            "Epoch 73/100\n",
            "2/2 [==============================] - 0s 8ms/step - loss: 7.6211 - mae: 7.6211\n",
            "Epoch 74/100\n",
            "2/2 [==============================] - 0s 8ms/step - loss: 7.7276 - mae: 7.7276\n",
            "Epoch 75/100\n",
            "2/2 [==============================] - 0s 8ms/step - loss: 7.6132 - mae: 7.6132\n",
            "Epoch 76/100\n",
            "2/2 [==============================] - 0s 9ms/step - loss: 7.6107 - mae: 7.6107\n",
            "Epoch 77/100\n",
            "2/2 [==============================] - 0s 7ms/step - loss: 7.5614 - mae: 7.5614\n",
            "Epoch 78/100\n",
            "2/2 [==============================] - 0s 8ms/step - loss: 7.5898 - mae: 7.5898\n",
            "Epoch 79/100\n",
            "2/2 [==============================] - 0s 8ms/step - loss: 7.5746 - mae: 7.5746\n",
            "Epoch 80/100\n",
            "2/2 [==============================] - 0s 8ms/step - loss: 7.6059 - mae: 7.6059\n",
            "Epoch 81/100\n",
            "2/2 [==============================] - 0s 8ms/step - loss: 7.5977 - mae: 7.5977\n",
            "Epoch 82/100\n",
            "2/2 [==============================] - 0s 9ms/step - loss: 7.5440 - mae: 7.5440\n",
            "Epoch 83/100\n",
            "2/2 [==============================] - 0s 7ms/step - loss: 7.5856 - mae: 7.5856\n",
            "Epoch 84/100\n",
            "2/2 [==============================] - 0s 8ms/step - loss: 7.5624 - mae: 7.5624\n",
            "Epoch 85/100\n",
            "2/2 [==============================] - 0s 8ms/step - loss: 7.5724 - mae: 7.5724\n",
            "Epoch 86/100\n",
            "2/2 [==============================] - 0s 8ms/step - loss: 7.6571 - mae: 7.6571\n",
            "Epoch 87/100\n",
            "2/2 [==============================] - 0s 7ms/step - loss: 7.8200 - mae: 7.8200\n",
            "Epoch 88/100\n",
            "2/2 [==============================] - 0s 8ms/step - loss: 8.0581 - mae: 8.0581\n",
            "Epoch 89/100\n",
            "2/2 [==============================] - 0s 8ms/step - loss: 7.5474 - mae: 7.5474\n",
            "Epoch 90/100\n",
            "2/2 [==============================] - 0s 11ms/step - loss: 7.5599 - mae: 7.5599\n",
            "Epoch 91/100\n",
            "2/2 [==============================] - 0s 8ms/step - loss: 7.5910 - mae: 7.5910\n",
            "Epoch 92/100\n",
            "2/2 [==============================] - 0s 8ms/step - loss: 7.5851 - mae: 7.5851\n",
            "Epoch 93/100\n",
            "2/2 [==============================] - 0s 7ms/step - loss: 7.5735 - mae: 7.5735\n",
            "Epoch 94/100\n",
            "2/2 [==============================] - 0s 7ms/step - loss: 7.5261 - mae: 7.5261\n",
            "Epoch 95/100\n",
            "2/2 [==============================] - 0s 7ms/step - loss: 7.7309 - mae: 7.7309\n",
            "Epoch 96/100\n",
            "2/2 [==============================] - 0s 7ms/step - loss: 7.5917 - mae: 7.5917\n",
            "Epoch 97/100\n",
            "2/2 [==============================] - 0s 7ms/step - loss: 7.6502 - mae: 7.6502\n",
            "Epoch 98/100\n",
            "2/2 [==============================] - 0s 8ms/step - loss: 7.5697 - mae: 7.5697\n",
            "Epoch 99/100\n",
            "2/2 [==============================] - 0s 7ms/step - loss: 7.5323 - mae: 7.5323\n",
            "Epoch 100/100\n",
            "2/2 [==============================] - 0s 7ms/step - loss: 7.5362 - mae: 7.5362\n"
          ]
        },
        {
          "output_type": "execute_result",
          "data": {
            "text/plain": [
              "<keras.src.callbacks.History at 0x7dd05d4efd60>"
            ]
          },
          "metadata": {},
          "execution_count": 136
        }
      ],
      "source": [
        "# Let's have a look how to build a neural network for our data\n",
        "\n",
        "# 1. Create a model\n",
        "model = tf.keras.Sequential([\n",
        "    tf.keras.layers.Dense(10)\n",
        "])\n",
        "\n",
        "# 2. Compile the model\n",
        "model.compile(loss=tf.keras.losses.mae,\n",
        "              optimizer=tf.keras.optimizers.SGD(),\n",
        "              metrics=[\"mae\"])\n",
        "\n",
        "# 3. Fit the model\n",
        "model.fit(tf.expand_dims(X_train, axis=-1), y_train, epochs=100)"
      ]
    },
    {
      "cell_type": "markdown",
      "metadata": {
        "id": "0FrnKcJ6BMp5"
      },
      "source": [
        "## Visualizing the model"
      ]
    },
    {
      "cell_type": "code",
      "execution_count": 137,
      "metadata": {
        "colab": {
          "base_uri": "https://localhost:8080/"
        },
        "id": "Q2rq0flkBO6s",
        "outputId": "74b96861-cf11-42ad-d125-e40b7bf9e731"
      },
      "outputs": [
        {
          "output_type": "stream",
          "name": "stdout",
          "text": [
            "Model: \"sequential_16\"\n",
            "_________________________________________________________________\n",
            " Layer (type)                Output Shape              Param #   \n",
            "=================================================================\n",
            " dense_25 (Dense)            (None, 10)                20        \n",
            "                                                                 \n",
            "=================================================================\n",
            "Total params: 20 (80.00 Byte)\n",
            "Trainable params: 20 (80.00 Byte)\n",
            "Non-trainable params: 0 (0.00 Byte)\n",
            "_________________________________________________________________\n"
          ]
        }
      ],
      "source": [
        "model.summary()"
      ]
    },
    {
      "cell_type": "code",
      "execution_count": 138,
      "metadata": {
        "id": "ugAS4WE8BkgG"
      },
      "outputs": [],
      "source": [
        "# Let's build a model that builds automatically by defining the input_shape argument\n",
        "\n",
        "tf.random.set_seed(42)\n",
        "\n",
        "# 1. Create a model\n",
        "model = tf.keras.Sequential([\n",
        "    tf.keras.layers.Dense(10, input_shape=[1])\n",
        "])\n",
        "\n",
        "# 2. Compile the model\n",
        "model.compile(loss=tf.keras.losses.mae,\n",
        "              optimizer=tf.keras.optimizers.SGD(),\n",
        "              metrics=[\"mae\"])\n"
      ]
    },
    {
      "cell_type": "code",
      "execution_count": 139,
      "metadata": {
        "colab": {
          "base_uri": "https://localhost:8080/"
        },
        "id": "n7_3aAJ2Cmri",
        "outputId": "90f57e1a-5b45-47eb-d5a6-f248552d41e5"
      },
      "outputs": [
        {
          "output_type": "stream",
          "name": "stdout",
          "text": [
            "Model: \"sequential_17\"\n",
            "_________________________________________________________________\n",
            " Layer (type)                Output Shape              Param #   \n",
            "=================================================================\n",
            " dense_26 (Dense)            (None, 10)                20        \n",
            "                                                                 \n",
            "=================================================================\n",
            "Total params: 20 (80.00 Byte)\n",
            "Trainable params: 20 (80.00 Byte)\n",
            "Non-trainable params: 0 (0.00 Byte)\n",
            "_________________________________________________________________\n"
          ]
        }
      ],
      "source": [
        "model.summary()"
      ]
    },
    {
      "cell_type": "markdown",
      "metadata": {
        "id": "sus2o9t6CrR-"
      },
      "source": [
        "* Total params - total number of parameters in the model\n",
        "* Trainable params - these are the parameters (patterns) the model can update as it trains\n",
        "* Non-trainable params - these parameters aren't updated during training (this is typical when you bring in the already learned patterns or parameters from other models during transfer learning)"
      ]
    },
    {
      "cell_type": "code",
      "execution_count": 140,
      "metadata": {
        "colab": {
          "base_uri": "https://localhost:8080/"
        },
        "id": "xt6YNtMLP0nd",
        "outputId": "dbef8db2-c4ba-464d-cc76-e4b76b8707b4"
      },
      "outputs": [
        {
          "output_type": "stream",
          "name": "stdout",
          "text": [
            "Epoch 1/100\n",
            "2/2 [==============================] - 0s 11ms/step - loss: 42.4202 - mae: 42.4202\n",
            "Epoch 2/100\n",
            "2/2 [==============================] - 0s 7ms/step - loss: 39.1449 - mae: 39.1449\n",
            "Epoch 3/100\n",
            "2/2 [==============================] - 0s 6ms/step - loss: 35.8554 - mae: 35.8554\n",
            "Epoch 4/100\n",
            "2/2 [==============================] - 0s 6ms/step - loss: 32.7694 - mae: 32.7694\n",
            "Epoch 5/100\n",
            "2/2 [==============================] - 0s 7ms/step - loss: 29.8609 - mae: 29.8609\n",
            "Epoch 6/100\n",
            "2/2 [==============================] - 0s 7ms/step - loss: 27.2309 - mae: 27.2309\n",
            "Epoch 7/100\n",
            "2/2 [==============================] - 0s 7ms/step - loss: 24.7137 - mae: 24.7137\n",
            "Epoch 8/100\n",
            "2/2 [==============================] - 0s 6ms/step - loss: 22.0842 - mae: 22.0842\n",
            "Epoch 9/100\n",
            "2/2 [==============================] - 0s 7ms/step - loss: 19.2864 - mae: 19.2864\n",
            "Epoch 10/100\n",
            "2/2 [==============================] - 0s 7ms/step - loss: 17.0732 - mae: 17.0732\n",
            "Epoch 11/100\n",
            "2/2 [==============================] - 0s 7ms/step - loss: 15.2956 - mae: 15.2956\n",
            "Epoch 12/100\n",
            "2/2 [==============================] - 0s 7ms/step - loss: 13.5223 - mae: 13.5223\n",
            "Epoch 13/100\n",
            "2/2 [==============================] - 0s 7ms/step - loss: 11.9892 - mae: 11.9892\n",
            "Epoch 14/100\n",
            "2/2 [==============================] - 0s 9ms/step - loss: 10.8151 - mae: 10.8151\n",
            "Epoch 15/100\n",
            "2/2 [==============================] - 0s 8ms/step - loss: 9.9234 - mae: 9.9234\n",
            "Epoch 16/100\n",
            "2/2 [==============================] - 0s 9ms/step - loss: 9.2779 - mae: 9.2779\n",
            "Epoch 17/100\n",
            "2/2 [==============================] - 0s 7ms/step - loss: 8.7115 - mae: 8.7115\n",
            "Epoch 18/100\n",
            "2/2 [==============================] - 0s 7ms/step - loss: 8.1793 - mae: 8.1793\n",
            "Epoch 19/100\n",
            "2/2 [==============================] - 0s 7ms/step - loss: 7.9228 - mae: 7.9228\n",
            "Epoch 20/100\n",
            "2/2 [==============================] - 0s 8ms/step - loss: 7.6726 - mae: 7.6726\n",
            "Epoch 21/100\n",
            "2/2 [==============================] - 0s 9ms/step - loss: 7.6169 - mae: 7.6169\n",
            "Epoch 22/100\n",
            "2/2 [==============================] - 0s 7ms/step - loss: 7.6680 - mae: 7.6680\n",
            "Epoch 23/100\n",
            "2/2 [==============================] - 0s 7ms/step - loss: 7.6375 - mae: 7.6375\n",
            "Epoch 24/100\n",
            "2/2 [==============================] - 0s 7ms/step - loss: 7.7505 - mae: 7.7505\n",
            "Epoch 25/100\n",
            "2/2 [==============================] - 0s 7ms/step - loss: 7.7315 - mae: 7.7315\n",
            "Epoch 26/100\n",
            "2/2 [==============================] - 0s 8ms/step - loss: 7.6404 - mae: 7.6404\n",
            "Epoch 27/100\n",
            "2/2 [==============================] - 0s 7ms/step - loss: 7.6144 - mae: 7.6144\n",
            "Epoch 28/100\n",
            "2/2 [==============================] - 0s 7ms/step - loss: 7.6185 - mae: 7.6185\n",
            "Epoch 29/100\n",
            "2/2 [==============================] - 0s 7ms/step - loss: 7.6783 - mae: 7.6783\n",
            "Epoch 30/100\n",
            "2/2 [==============================] - 0s 7ms/step - loss: 7.6097 - mae: 7.6097\n",
            "Epoch 31/100\n",
            "2/2 [==============================] - 0s 7ms/step - loss: 7.7117 - mae: 7.7117\n",
            "Epoch 32/100\n",
            "2/2 [==============================] - 0s 7ms/step - loss: 7.7514 - mae: 7.7514\n",
            "Epoch 33/100\n",
            "2/2 [==============================] - 0s 8ms/step - loss: 7.6448 - mae: 7.6448\n",
            "Epoch 34/100\n",
            "2/2 [==============================] - 0s 8ms/step - loss: 7.6087 - mae: 7.6087\n",
            "Epoch 35/100\n",
            "2/2 [==============================] - 0s 8ms/step - loss: 7.7199 - mae: 7.7199\n",
            "Epoch 36/100\n",
            "2/2 [==============================] - 0s 7ms/step - loss: 7.9782 - mae: 7.9782\n",
            "Epoch 37/100\n",
            "2/2 [==============================] - 0s 7ms/step - loss: 7.6591 - mae: 7.6591\n",
            "Epoch 38/100\n",
            "2/2 [==============================] - 0s 7ms/step - loss: 7.6321 - mae: 7.6321\n",
            "Epoch 39/100\n",
            "2/2 [==============================] - 0s 7ms/step - loss: 7.6009 - mae: 7.6009\n",
            "Epoch 40/100\n",
            "2/2 [==============================] - 0s 7ms/step - loss: 7.5955 - mae: 7.5955\n",
            "Epoch 41/100\n",
            "2/2 [==============================] - 0s 7ms/step - loss: 7.6727 - mae: 7.6727\n",
            "Epoch 42/100\n",
            "2/2 [==============================] - 0s 7ms/step - loss: 7.5874 - mae: 7.5874\n",
            "Epoch 43/100\n",
            "2/2 [==============================] - 0s 7ms/step - loss: 7.5919 - mae: 7.5919\n",
            "Epoch 44/100\n",
            "2/2 [==============================] - 0s 7ms/step - loss: 7.6267 - mae: 7.6267\n",
            "Epoch 45/100\n",
            "2/2 [==============================] - 0s 7ms/step - loss: 7.7096 - mae: 7.7096\n",
            "Epoch 46/100\n",
            "2/2 [==============================] - 0s 7ms/step - loss: 7.8217 - mae: 7.8217\n",
            "Epoch 47/100\n",
            "2/2 [==============================] - 0s 7ms/step - loss: 7.6799 - mae: 7.6799\n",
            "Epoch 48/100\n",
            "2/2 [==============================] - 0s 7ms/step - loss: 7.7470 - mae: 7.7470\n",
            "Epoch 49/100\n",
            "2/2 [==============================] - 0s 7ms/step - loss: 7.6580 - mae: 7.6580\n",
            "Epoch 50/100\n",
            "2/2 [==============================] - 0s 7ms/step - loss: 7.8071 - mae: 7.8071\n",
            "Epoch 51/100\n",
            "2/2 [==============================] - 0s 7ms/step - loss: 7.6153 - mae: 7.6153\n",
            "Epoch 52/100\n",
            "2/2 [==============================] - 0s 7ms/step - loss: 7.6931 - mae: 7.6931\n",
            "Epoch 53/100\n",
            "2/2 [==============================] - 0s 9ms/step - loss: 7.7132 - mae: 7.7132\n",
            "Epoch 54/100\n",
            "2/2 [==============================] - 0s 7ms/step - loss: 7.7653 - mae: 7.7653\n",
            "Epoch 55/100\n",
            "2/2 [==============================] - 0s 8ms/step - loss: 7.5856 - mae: 7.5856\n",
            "Epoch 56/100\n",
            "2/2 [==============================] - 0s 8ms/step - loss: 7.6267 - mae: 7.6267\n",
            "Epoch 57/100\n",
            "2/2 [==============================] - 0s 9ms/step - loss: 7.8765 - mae: 7.8765\n",
            "Epoch 58/100\n",
            "2/2 [==============================] - 0s 8ms/step - loss: 7.6687 - mae: 7.6687\n",
            "Epoch 59/100\n",
            "2/2 [==============================] - 0s 7ms/step - loss: 7.5844 - mae: 7.5844\n",
            "Epoch 60/100\n",
            "2/2 [==============================] - 0s 8ms/step - loss: 7.5843 - mae: 7.5843\n",
            "Epoch 61/100\n",
            "2/2 [==============================] - 0s 8ms/step - loss: 7.5888 - mae: 7.5888\n",
            "Epoch 62/100\n",
            "2/2 [==============================] - 0s 10ms/step - loss: 7.6509 - mae: 7.6509\n",
            "Epoch 63/100\n",
            "2/2 [==============================] - 0s 8ms/step - loss: 7.6564 - mae: 7.6564\n",
            "Epoch 64/100\n",
            "2/2 [==============================] - 0s 7ms/step - loss: 7.8062 - mae: 7.8062\n",
            "Epoch 65/100\n",
            "2/2 [==============================] - 0s 7ms/step - loss: 7.5814 - mae: 7.5814\n",
            "Epoch 66/100\n",
            "2/2 [==============================] - 0s 7ms/step - loss: 7.5679 - mae: 7.5679\n",
            "Epoch 67/100\n",
            "2/2 [==============================] - 0s 7ms/step - loss: 7.6046 - mae: 7.6046\n",
            "Epoch 68/100\n",
            "2/2 [==============================] - 0s 7ms/step - loss: 7.5634 - mae: 7.5634\n",
            "Epoch 69/100\n",
            "2/2 [==============================] - 0s 8ms/step - loss: 7.6109 - mae: 7.6109\n",
            "Epoch 70/100\n",
            "2/2 [==============================] - 0s 7ms/step - loss: 7.6084 - mae: 7.6084\n",
            "Epoch 71/100\n",
            "2/2 [==============================] - 0s 7ms/step - loss: 7.9301 - mae: 7.9301\n",
            "Epoch 72/100\n",
            "2/2 [==============================] - 0s 7ms/step - loss: 7.6912 - mae: 7.6912\n",
            "Epoch 73/100\n",
            "2/2 [==============================] - 0s 6ms/step - loss: 7.6347 - mae: 7.6347\n",
            "Epoch 74/100\n",
            "2/2 [==============================] - 0s 6ms/step - loss: 7.7206 - mae: 7.7206\n",
            "Epoch 75/100\n",
            "2/2 [==============================] - 0s 7ms/step - loss: 7.6168 - mae: 7.6168\n",
            "Epoch 76/100\n",
            "2/2 [==============================] - 0s 7ms/step - loss: 7.6124 - mae: 7.6124\n",
            "Epoch 77/100\n",
            "2/2 [==============================] - 0s 7ms/step - loss: 7.5646 - mae: 7.5646\n",
            "Epoch 78/100\n",
            "2/2 [==============================] - 0s 7ms/step - loss: 7.5987 - mae: 7.5987\n",
            "Epoch 79/100\n",
            "2/2 [==============================] - 0s 7ms/step - loss: 7.5798 - mae: 7.5798\n",
            "Epoch 80/100\n",
            "2/2 [==============================] - 0s 7ms/step - loss: 7.6165 - mae: 7.6165\n",
            "Epoch 81/100\n",
            "2/2 [==============================] - 0s 7ms/step - loss: 7.6050 - mae: 7.6050\n",
            "Epoch 82/100\n",
            "2/2 [==============================] - 0s 7ms/step - loss: 7.5498 - mae: 7.5498\n",
            "Epoch 83/100\n",
            "2/2 [==============================] - 0s 6ms/step - loss: 7.5902 - mae: 7.5902\n",
            "Epoch 84/100\n",
            "2/2 [==============================] - 0s 6ms/step - loss: 7.5661 - mae: 7.5661\n",
            "Epoch 85/100\n",
            "2/2 [==============================] - 0s 7ms/step - loss: 7.5894 - mae: 7.5894\n",
            "Epoch 86/100\n",
            "2/2 [==============================] - 0s 7ms/step - loss: 7.6448 - mae: 7.6448\n",
            "Epoch 87/100\n",
            "2/2 [==============================] - 0s 7ms/step - loss: 7.8382 - mae: 7.8382\n",
            "Epoch 88/100\n",
            "2/2 [==============================] - 0s 7ms/step - loss: 8.0129 - mae: 8.0129\n",
            "Epoch 89/100\n",
            "2/2 [==============================] - 0s 7ms/step - loss: 7.5624 - mae: 7.5624\n",
            "Epoch 90/100\n",
            "2/2 [==============================] - 0s 7ms/step - loss: 7.5730 - mae: 7.5730\n",
            "Epoch 91/100\n",
            "2/2 [==============================] - 0s 7ms/step - loss: 7.5907 - mae: 7.5907\n",
            "Epoch 92/100\n",
            "2/2 [==============================] - 0s 7ms/step - loss: 7.5962 - mae: 7.5962\n",
            "Epoch 93/100\n",
            "2/2 [==============================] - 0s 7ms/step - loss: 7.5925 - mae: 7.5925\n",
            "Epoch 94/100\n",
            "2/2 [==============================] - 0s 7ms/step - loss: 7.5381 - mae: 7.5381\n",
            "Epoch 95/100\n",
            "2/2 [==============================] - 0s 7ms/step - loss: 7.7279 - mae: 7.7279\n",
            "Epoch 96/100\n",
            "2/2 [==============================] - 0s 8ms/step - loss: 7.5919 - mae: 7.5919\n",
            "Epoch 97/100\n",
            "2/2 [==============================] - 0s 7ms/step - loss: 7.6627 - mae: 7.6627\n",
            "Epoch 98/100\n",
            "2/2 [==============================] - 0s 7ms/step - loss: 7.5623 - mae: 7.5623\n",
            "Epoch 99/100\n",
            "2/2 [==============================] - 0s 6ms/step - loss: 7.5370 - mae: 7.5370\n",
            "Epoch 100/100\n",
            "2/2 [==============================] - 0s 6ms/step - loss: 7.5410 - mae: 7.5410\n"
          ]
        },
        {
          "output_type": "execute_result",
          "data": {
            "text/plain": [
              "<keras.src.callbacks.History at 0x7dd0622e8f10>"
            ]
          },
          "metadata": {},
          "execution_count": 140
        }
      ],
      "source": [
        "# 3. Fit the model\n",
        "model.fit(tf.expand_dims(X_train, axis=-1), y_train, epochs=100)\n"
      ]
    },
    {
      "cell_type": "code",
      "execution_count": 141,
      "metadata": {
        "colab": {
          "base_uri": "https://localhost:8080/"
        },
        "id": "f-lccwIxP6bc",
        "outputId": "87167761-6c1e-4de2-cb7b-a89af3fb846b"
      },
      "outputs": [
        {
          "output_type": "stream",
          "name": "stdout",
          "text": [
            "Model: \"sequential_17\"\n",
            "_________________________________________________________________\n",
            " Layer (type)                Output Shape              Param #   \n",
            "=================================================================\n",
            " dense_26 (Dense)            (None, 10)                20        \n",
            "                                                                 \n",
            "=================================================================\n",
            "Total params: 20 (80.00 Byte)\n",
            "Trainable params: 20 (80.00 Byte)\n",
            "Non-trainable params: 0 (0.00 Byte)\n",
            "_________________________________________________________________\n"
          ]
        }
      ],
      "source": [
        "model.summary()"
      ]
    },
    {
      "cell_type": "code",
      "execution_count": 142,
      "metadata": {
        "colab": {
          "base_uri": "https://localhost:8080/",
          "height": 201
        },
        "id": "biUYi0vz10ax",
        "outputId": "1bd79079-2bb6-490a-f146-cb32f5620036"
      },
      "outputs": [
        {
          "output_type": "execute_result",
          "data": {
            "image/png": "[encoded data removed]",
            "text/plain": [
              "<IPython.core.display.Image object>"
            ]
          },
          "metadata": {},
          "execution_count": 142
        }
      ],
      "source": [
        "from tensorflow.keras.utils import plot_model\n",
        "\n",
        "plot_model(model=model, show_shapes=True)"
      ]
    },
    {
      "cell_type": "code",
      "execution_count": 143,
      "metadata": {
        "colab": {
          "base_uri": "https://localhost:8080/",
          "height": 201
        },
        "id": "V3Mt22BVBtue",
        "outputId": "b56ed305-e411-4df2-db47-241e3b8bd130"
      },
      "outputs": [
        {
          "output_type": "execute_result",
          "data": {
            "image/png": "[encoded data removed]",
            "text/plain": [
              "<IPython.core.display.Image object>"
            ]
          },
          "metadata": {},
          "execution_count": 143
        }
      ],
      "source": [
        "# Let's build a model that builds automatically by defining the input_shape argument\n",
        "\n",
        "tf.random.set_seed(42)\n",
        "\n",
        "# 1. Create a model\n",
        "model = tf.keras.Sequential([\n",
        "    tf.keras.layers.Dense(20, input_shape=[1])\n",
        "])\n",
        "\n",
        "# 2. Compile the model\n",
        "model.compile(loss=tf.keras.losses.mae,\n",
        "              optimizer=tf.keras.optimizers.SGD(),\n",
        "              metrics=[\"mae\"])\n",
        "\n",
        "# 3. Fit the model\n",
        "model.fit(tf.expand_dims(X_train, axis=-1), y_train, epochs=100, verbose=0)\n",
        "\n",
        "\n",
        "# 4. Visualize the model\n",
        "from tensorflow.keras.utils import plot_model\n",
        "\n",
        "plot_model(model=model, show_shapes=True)"
      ]
    },
    {
      "cell_type": "code",
      "execution_count": 144,
      "metadata": {
        "colab": {
          "base_uri": "https://localhost:8080/",
          "height": 201
        },
        "id": "tOYYJzVgQTot",
        "outputId": "42606d9c-38d8-42bf-cae9-f14a32696a0e"
      },
      "outputs": [
        {
          "output_type": "execute_result",
          "data": {
            "image/png": "[encoded data removed]",
            "text/plain": [
              "<IPython.core.display.Image object>"
            ]
          },
          "metadata": {},
          "execution_count": 144
        }
      ],
      "source": [
        "# Create a model\n",
        "model = tf.keras.Sequential([\n",
        "    tf.keras.layers.Dense(1, input_shape=[1]),\n",
        "])\n",
        "\n",
        "# Compile the model\n",
        "model.compile(loss=tf.keras.losses.mae,\n",
        "              optimizer=tf.keras.optimizers.SGD(),\n",
        "              metrics=[\"mae\"])\n",
        "\n",
        "# Fit the model\n",
        "model.fit(tf.expand_dims(X_train, axis=-1), y_train, epochs=100, verbose=0)\n",
        "\n",
        "# Visualize the model\n",
        "plot_model(model=model, show_shapes=True)"
      ]
    },
    {
      "cell_type": "code",
      "execution_count": 145,
      "metadata": {
        "colab": {
          "base_uri": "https://localhost:8080/"
        },
        "id": "8WD9dwdQQz78",
        "outputId": "ca34b0e3-0a9c-4781-e6b8-b72048694e94"
      },
      "outputs": [
        {
          "output_type": "stream",
          "name": "stdout",
          "text": [
            "Model: \"sequential_19\"\n",
            "_________________________________________________________________\n",
            " Layer (type)                Output Shape              Param #   \n",
            "=================================================================\n",
            " dense_28 (Dense)            (None, 1)                 2         \n",
            "                                                                 \n",
            "=================================================================\n",
            "Total params: 2 (8.00 Byte)\n",
            "Trainable params: 2 (8.00 Byte)\n",
            "Non-trainable params: 0 (0.00 Byte)\n",
            "_________________________________________________________________\n"
          ]
        }
      ],
      "source": [
        "model.summary()"
      ]
    },
    {
      "cell_type": "code",
      "execution_count": 146,
      "metadata": {
        "colab": {
          "base_uri": "https://localhost:8080/"
        },
        "id": "kYSo1-zeMiar",
        "outputId": "6ac66c8c-6aaf-4b44-9ba7-8839a63e2347"
      },
      "outputs": [
        {
          "output_type": "execute_result",
          "data": {
            "text/plain": [
              "(TensorShape([10]), TensorShape([10]))"
            ]
          },
          "metadata": {},
          "execution_count": 146
        }
      ],
      "source": [
        "X_test.shape, y_test.shape"
      ]
    },
    {
      "cell_type": "code",
      "execution_count": 147,
      "metadata": {
        "colab": {
          "base_uri": "https://localhost:8080/"
        },
        "id": "oyngOG-0NeVW",
        "outputId": "eada2895-fc3b-4a3c-aea8-d0128583dc36"
      },
      "outputs": [
        {
          "output_type": "execute_result",
          "data": {
            "text/plain": [
              "<tf.Tensor: shape=(10,), dtype=int32, numpy=array([60, 64, 68, 72, 76, 80, 84, 88, 92, 96], dtype=int32)>"
            ]
          },
          "metadata": {},
          "execution_count": 147
        }
      ],
      "source": [
        "X_test"
      ]
    },
    {
      "cell_type": "markdown",
      "metadata": {
        "id": "xYnlDMQiSJNz"
      },
      "source": [
        "### Visualizing our model's predictions\n",
        "\n",
        "To visualize predictions, it's a good idea to plot them against the ground truth labels.\n",
        "\n",
        "i.e. `y_test` versus `y_pred`"
      ]
    },
    {
      "cell_type": "code",
      "execution_count": 148,
      "metadata": {
        "colab": {
          "base_uri": "https://localhost:8080/"
        },
        "id": "BQyyVOFqSZBC",
        "outputId": "c0457edd-bff4-4a1d-fd4d-f0f1c846f910"
      },
      "outputs": [
        {
          "output_type": "stream",
          "name": "stdout",
          "text": [
            "1/1 [==============================] - 0s 49ms/step\n"
          ]
        },
        {
          "output_type": "execute_result",
          "data": {
            "text/plain": [
              "array([[44.48561 ],\n",
              "       [47.36286 ],\n",
              "       [50.240112],\n",
              "       [53.11736 ],\n",
              "       [55.99461 ],\n",
              "       [58.871857],\n",
              "       [61.749107],\n",
              "       [64.62636 ],\n",
              "       [67.50361 ],\n",
              "       [70.38086 ]], dtype=float32)"
            ]
          },
          "metadata": {},
          "execution_count": 148
        }
      ],
      "source": [
        "# Make some predictions\n",
        "y_pred = model.predict(X_test)\n",
        "y_pred"
      ]
    },
    {
      "cell_type": "code",
      "execution_count": 149,
      "metadata": {
        "colab": {
          "base_uri": "https://localhost:8080/"
        },
        "id": "Oj8BhSYZM09l",
        "outputId": "b7bf93df-5c60-44ef-e6a5-f29c918f6e98"
      },
      "outputs": [
        {
          "output_type": "execute_result",
          "data": {
            "text/plain": [
              "(10, 1)"
            ]
          },
          "metadata": {},
          "execution_count": 149
        }
      ],
      "source": [
        "y_pred.shape"
      ]
    },
    {
      "cell_type": "code",
      "execution_count": 150,
      "metadata": {
        "colab": {
          "base_uri": "https://localhost:8080/"
        },
        "id": "76lfO5phM62S",
        "outputId": "ab9d15ba-2427-40fa-dd59-84def13d9c8b"
      },
      "outputs": [
        {
          "output_type": "execute_result",
          "data": {
            "text/plain": [
              "False"
            ]
          },
          "metadata": {},
          "execution_count": 150
        }
      ],
      "source": [
        "X_test.shape == y_pred.shape"
      ]
    },
    {
      "cell_type": "code",
      "execution_count": 151,
      "metadata": {
        "colab": {
          "base_uri": "https://localhost:8080/"
        },
        "id": "8CbUhWDESf_K",
        "outputId": "943aec82-960e-48d0-fb8f-8407eb24bbdc"
      },
      "outputs": [
        {
          "output_type": "execute_result",
          "data": {
            "text/plain": [
              "<tf.Tensor: shape=(10,), dtype=int32, numpy=array([ 70,  74,  78,  82,  86,  90,  94,  98, 102, 106], dtype=int32)>"
            ]
          },
          "metadata": {},
          "execution_count": 151
        }
      ],
      "source": [
        "y_test"
      ]
    },
    {
      "cell_type": "code",
      "execution_count": 152,
      "metadata": {
        "colab": {
          "base_uri": "https://localhost:8080/",
          "height": 599
        },
        "id": "r14WMYduSmF2",
        "outputId": "6e40d5f7-d5d3-48c0-fc5e-9ed4f2c4c5bf"
      },
      "outputs": [
        {
          "output_type": "display_data",
          "data": {
            "text/plain": [
              "<Figure size 1000x700 with 1 Axes>"
            ],
            "image/png": "[encoded data removed]"
          },
          "metadata": {}
        }
      ],
      "source": [
        "# Plotting function\n",
        "\n",
        "def plot_predictions(\n",
        "        train_data=X_train,\n",
        "        train_labels=y_train,\n",
        "        test_data=X_test,\n",
        "        test_labels=y_test,\n",
        "        predictions=y_pred\n",
        "        ):\n",
        "\n",
        "    \"\"\"\n",
        "    Plots training data, test data and compares predictions.\n",
        "    \"\"\"\n",
        "\n",
        "    plt.figure(figsize=(10, 7))\n",
        "    plt.scatter(train_data, train_labels, c=\"blue\", label=\"Training data\")\n",
        "    plt.scatter(test_data, test_labels, c=\"green\", label=\"Testing data\")\n",
        "    plt.scatter(test_data, predictions, c=\"red\", label=\"Predictions\")\n",
        "\n",
        "    plt.legend()\n",
        "\n",
        "\n",
        "plot_predictions(train_data=X_train,\n",
        "                 train_labels=y_train,\n",
        "                 test_data=X_test,\n",
        "                 test_labels=y_test,\n",
        "                 predictions=y_pred)\n"
      ]
    },
    {
      "cell_type": "markdown",
      "metadata": {
        "id": "9x2nSsX9TRaQ"
      },
      "source": [
        "### Evaluation Metrics\n",
        "\n",
        "Evaluating the model's predictions with regression evaluation metrics.\n",
        "\n",
        "Depending on the problem you're working on, there will be different evaluation metrics to evaluate your model's performance.\n",
        "\n",
        "Since we're working on a regression, two of the main metrics:\n",
        "* MAE - mean absolute error, **\"on average, how wrong is each of my model's predictions.\"**\n",
        "\n",
        "* MSE - mean square error, **\"square the average errors.\"**"
      ]
    },
    {
      "cell_type": "code",
      "execution_count": 153,
      "metadata": {
        "colab": {
          "base_uri": "https://localhost:8080/"
        },
        "id": "-gkRRwrHT_e7",
        "outputId": "5992987d-0c77-4b4b-8bcf-83d2510acebe"
      },
      "outputs": [
        {
          "output_type": "stream",
          "name": "stdout",
          "text": [
            "1/1 [==============================] - 0s 106ms/step - loss: 30.5668 - mae: 30.5668\n"
          ]
        },
        {
          "output_type": "execute_result",
          "data": {
            "text/plain": [
              "[30.5667667388916, 30.5667667388916]"
            ]
          },
          "metadata": {},
          "execution_count": 153
        }
      ],
      "source": [
        "# Evaluate the model on the test\n",
        "model.evaluate(X_test, y_test)"
      ]
    },
    {
      "cell_type": "code",
      "execution_count": 154,
      "metadata": {
        "colab": {
          "base_uri": "https://localhost:8080/"
        },
        "id": "Ynqe6WC6PAKK",
        "outputId": "071c2066-3860-4a4f-d89f-ce770ef746d0"
      },
      "outputs": [
        {
          "output_type": "execute_result",
          "data": {
            "text/plain": [
              "30.574383"
            ]
          },
          "metadata": {},
          "execution_count": 154
        }
      ],
      "source": [
        "# Calculate the mean ansolute error\n",
        "\n",
        "values = tf.keras.losses.MAE(y_true=y_test, y_pred=y_pred).numpy()\n",
        "values.mean()"
      ]
    },
    {
      "cell_type": "code",
      "execution_count": 155,
      "metadata": {
        "id": "Ax9UI0hHPNZ-"
      },
      "outputs": [],
      "source": [
        "Y = tf.expand_dims(y_test, axis=-1)"
      ]
    },
    {
      "cell_type": "code",
      "execution_count": 156,
      "metadata": {
        "colab": {
          "base_uri": "https://localhost:8080/"
        },
        "id": "fw3XgKBNQzuf",
        "outputId": "30e38310-bfd7-45ed-9f01-ea91671ea7d7"
      },
      "outputs": [
        {
          "output_type": "execute_result",
          "data": {
            "text/plain": [
              "<tf.Tensor: shape=(10, 1), dtype=int32, numpy=\n",
              "array([[-26],\n",
              "       [-27],\n",
              "       [-28],\n",
              "       [-29],\n",
              "       [-31],\n",
              "       [-32],\n",
              "       [-33],\n",
              "       [-34],\n",
              "       [-35],\n",
              "       [-36]], dtype=int32)>"
            ]
          },
          "metadata": {},
          "execution_count": 156
        }
      ],
      "source": [
        "y_pred - Y"
      ]
    },
    {
      "cell_type": "code",
      "execution_count": 157,
      "metadata": {
        "colab": {
          "base_uri": "https://localhost:8080/"
        },
        "id": "EkX9DR9yP8go",
        "outputId": "53cc6d0d-6ec4-4f5d-c117-2270a09769b9"
      },
      "outputs": [
        {
          "output_type": "stream",
          "name": "stdout",
          "text": [
            "[31.1]\n"
          ]
        }
      ],
      "source": [
        "l = []\n",
        "\n",
        "for i in (y_pred - Y):\n",
        "    l.append(abs(i).numpy())\n",
        "\n",
        "l\n",
        "print(sum(l) / len(l))"
      ]
    },
    {
      "cell_type": "code",
      "execution_count": 158,
      "metadata": {
        "colab": {
          "base_uri": "https://localhost:8080/"
        },
        "id": "6dlK3XN1QmkI",
        "outputId": "23e30019-87d9-44e5-bf80-8a81b4b33853"
      },
      "outputs": [
        {
          "output_type": "execute_result",
          "data": {
            "text/plain": [
              "<tf.Tensor: shape=(10, 1), dtype=float32, numpy=\n",
              "array([[44.48561 ],\n",
              "       [47.36286 ],\n",
              "       [50.240112],\n",
              "       [53.11736 ],\n",
              "       [55.99461 ],\n",
              "       [58.871857],\n",
              "       [61.749107],\n",
              "       [64.62636 ],\n",
              "       [67.50361 ],\n",
              "       [70.38086 ]], dtype=float32)>"
            ]
          },
          "metadata": {},
          "execution_count": 158
        }
      ],
      "source": [
        "tf.constant(y_pred)"
      ]
    },
    {
      "cell_type": "code",
      "execution_count": 159,
      "metadata": {
        "colab": {
          "base_uri": "https://localhost:8080/"
        },
        "id": "bztvBRSrRCor",
        "outputId": "016b30ec-f9a9-4696-d67f-d771821ffaf9"
      },
      "outputs": [
        {
          "output_type": "execute_result",
          "data": {
            "text/plain": [
              "<tf.Tensor: shape=(10,), dtype=float32, numpy=\n",
              "array([44.48561 , 47.36286 , 50.240112, 53.11736 , 55.99461 , 58.871857,\n",
              "       61.749107, 64.62636 , 67.50361 , 70.38086 ], dtype=float32)>"
            ]
          },
          "metadata": {},
          "execution_count": 159
        }
      ],
      "source": [
        "tf.squeeze(y_pred)"
      ]
    },
    {
      "cell_type": "code",
      "execution_count": 160,
      "metadata": {
        "colab": {
          "base_uri": "https://localhost:8080/"
        },
        "id": "8PPy5wqPRnQT",
        "outputId": "b2076662-fe2d-48c9-efb0-f6f4095f4243"
      },
      "outputs": [
        {
          "output_type": "execute_result",
          "data": {
            "text/plain": [
              "<tf.Tensor: shape=(), dtype=float32, numpy=30.566767>"
            ]
          },
          "metadata": {},
          "execution_count": 160
        }
      ],
      "source": [
        "# Calculate the MAE\n",
        "\n",
        "mae = tf.metrics.mean_absolute_error(y_true=y_test, y_pred=tf.squeeze(y_pred))\n",
        "mae"
      ]
    },
    {
      "cell_type": "code",
      "execution_count": 161,
      "metadata": {
        "colab": {
          "base_uri": "https://localhost:8080/"
        },
        "id": "41ikDuu4R8WI",
        "outputId": "7c2f4caa-af73-4a4a-8995-f11d87611a1e"
      },
      "outputs": [
        {
          "output_type": "execute_result",
          "data": {
            "text/plain": [
              "<tf.Tensor: shape=(), dtype=float32, numpy=944.72687>"
            ]
          },
          "metadata": {},
          "execution_count": 161
        }
      ],
      "source": [
        "# Calculatethe mean square error\n",
        "\n",
        "mse = tf.metrics.mean_squared_error(y_true=y_test, y_pred=tf.squeeze(y_pred))\n",
        "mse"
      ]
    },
    {
      "cell_type": "code",
      "execution_count": 162,
      "metadata": {
        "id": "bDeGKWtuSMf_"
      },
      "outputs": [],
      "source": [
        "# Functions to reuse MAE anbd MSE\n",
        "\n",
        "def mae(y_true, y_pred):\n",
        "    return tf.metrics.mean_absolute_error(y_true=y_true, y_pred=tf.squeeze(y_pred))\n",
        "\n",
        "\n",
        "def mse(y_true, y_pred):\n",
        "    return tf.metrics.mean_squared_error(y_true=y_true, y_pred=tf.squeeze(y_pred))"
      ]
    },
    {
      "cell_type": "markdown",
      "metadata": {
        "id": "eijobPAbSnJh"
      },
      "source": [
        "## Improving our model with experiments\n",
        "\n",
        "1. Get more data\n",
        "2. Make your model larger\n",
        "3. Train for longer\n",
        "\n",
        "Let's do three modelling experiments:\n",
        "\n",
        "1. `model_1` - same as the original, 1 layer, trained for 100 epochs.\n",
        "2. `model_2` - 2 layers, trained for 100 epochs.\n",
        "3. `model_3` - 2 layers, trained for 500 epochs."
      ]
    },
    {
      "cell_type": "markdown",
      "metadata": {
        "id": "3fc1guuoYdNC"
      },
      "source": [
        "### Build `model_1`"
      ]
    },
    {
      "cell_type": "code",
      "execution_count": 163,
      "metadata": {
        "colab": {
          "base_uri": "https://localhost:8080/"
        },
        "id": "yzKYCItpXdCl",
        "outputId": "ba577f96-068a-4a39-b358-82ba1e13740e"
      },
      "outputs": [
        {
          "output_type": "execute_result",
          "data": {
            "text/plain": [
              "<keras.src.callbacks.History at 0x7dd062ac5930>"
            ]
          },
          "metadata": {},
          "execution_count": 163
        }
      ],
      "source": [
        "# Set random seed\n",
        "tf.random.set_seed(42)\n",
        "\n",
        "# 1. Create\n",
        "model_1 = tf.keras.Sequential([\n",
        "    tf.keras.layers.Dense(1, input_shape=[1])\n",
        "])\n",
        "\n",
        "# 2. Compile\n",
        "model_1.compile(loss=tf.keras.losses.mae,\n",
        "                optimizer=tf.keras.optimizers.SGD(),\n",
        "                metrics=[\"mae\"])\n",
        "\n",
        "# 3. Fit\n",
        "model_1.fit(tf.expand_dims(X_train, axis=-1), y_train, epochs=100, verbose=0)"
      ]
    },
    {
      "cell_type": "code",
      "execution_count": 164,
      "metadata": {
        "colab": {
          "base_uri": "https://localhost:8080/",
          "height": 617
        },
        "id": "nqQWkiYzY4Io",
        "outputId": "2a387f17-3520-4520-fa70-a0ad600fb263"
      },
      "outputs": [
        {
          "output_type": "stream",
          "name": "stdout",
          "text": [
            "1/1 [==============================] - 0s 40ms/step\n"
          ]
        },
        {
          "output_type": "display_data",
          "data": {
            "text/plain": [
              "<Figure size 1000x700 with 1 Axes>"
            ],
            "image/png": "[encoded data removed]"
          },
          "metadata": {}
        }
      ],
      "source": [
        "# Make and plot predictions\n",
        "y_pred_1 = model_1.predict(X_test)\n",
        "plot_predictions(predictions=y_pred_1)"
      ]
    },
    {
      "cell_type": "code",
      "execution_count": 165,
      "metadata": {
        "colab": {
          "base_uri": "https://localhost:8080/"
        },
        "id": "GOyz6cJXZPy0",
        "outputId": "1abe67f3-7b72-49c0-e933-95692ade30d4"
      },
      "outputs": [
        {
          "output_type": "execute_result",
          "data": {
            "text/plain": [
              "(21.256775, 455.27887)"
            ]
          },
          "metadata": {},
          "execution_count": 165
        }
      ],
      "source": [
        "# Calculate model_1 evaluation metrics\n",
        "mae_1 = mae(y_test, y_pred_1).numpy()\n",
        "mse_1 = mse(y_test, y_pred_1).numpy()\n",
        "mae_1 , mse_1"
      ]
    },
    {
      "cell_type": "markdown",
      "metadata": {
        "id": "OcDgW0lkZxu9"
      },
      "source": [
        "###Build `model_2`"
      ]
    },
    {
      "cell_type": "code",
      "execution_count": 166,
      "metadata": {
        "colab": {
          "base_uri": "https://localhost:8080/"
        },
        "id": "pPatuqIfZeUT",
        "outputId": "4b8081f7-2171-4000-9b88-774e63f4632f"
      },
      "outputs": [
        {
          "output_type": "execute_result",
          "data": {
            "text/plain": [
              "<keras.src.callbacks.History at 0x7dd0629f95a0>"
            ]
          },
          "metadata": {},
          "execution_count": 166
        }
      ],
      "source": [
        "# Set random seed\n",
        "tf.random.set_seed(42)\n",
        "\n",
        "# Replicate model_1 and add an extra layer\n",
        "model_2 = tf.keras.Sequential([\n",
        "  tf.keras.layers.Dense(1),\n",
        "  tf.keras.layers.Dense(1) # add a second layer\n",
        "])\n",
        "\n",
        "# Compile the model\n",
        "model_2.compile(loss=tf.keras.losses.mae,\n",
        "                optimizer=tf.keras.optimizers.SGD(),\n",
        "                metrics=['mae'])\n",
        "\n",
        "# Fit the model\n",
        "model_2.fit(tf.expand_dims(X_train, axis=-1), y_train, epochs=100, verbose=0)"
      ]
    },
    {
      "cell_type": "code",
      "execution_count": 167,
      "metadata": {
        "colab": {
          "base_uri": "https://localhost:8080/",
          "height": 617
        },
        "id": "vGN0HWo3ex3v",
        "outputId": "be6d7392-617a-4193-d6b8-bc24baddfdd6"
      },
      "outputs": [
        {
          "output_type": "stream",
          "name": "stdout",
          "text": [
            "1/1 [==============================] - 0s 73ms/step\n"
          ]
        },
        {
          "output_type": "display_data",
          "data": {
            "text/plain": [
              "<Figure size 1000x700 with 1 Axes>"
            ],
            "image/png": "[encoded data removed]"
          },
          "metadata": {}
        }
      ],
      "source": [
        "\n",
        "# Make and plot predictions for model_2\n",
        "y_pred_2 = model_2.predict(X_test)\n",
        "plot_predictions(predictions=y_pred_2)"
      ]
    },
    {
      "cell_type": "code",
      "execution_count": 168,
      "metadata": {
        "colab": {
          "base_uri": "https://localhost:8080/"
        },
        "id": "Qd0nTtZtaoDl",
        "outputId": "7a3e8a79-df14-4e50-8375-49eda028478f"
      },
      "outputs": [
        {
          "output_type": "execute_result",
          "data": {
            "text/plain": [
              "(13.269376, 186.21732)"
            ]
          },
          "metadata": {},
          "execution_count": 168
        }
      ],
      "source": [
        "# Calculate model_2 evaluation metrics\n",
        "mae_2 = mae(y_test, y_pred_2).numpy()\n",
        "mse_2 = mse(y_test, y_pred_2).numpy()\n",
        "mae_2 , mse_2"
      ]
    },
    {
      "cell_type": "markdown",
      "metadata": {
        "id": "JCy7s_fJa4cU"
      },
      "source": [
        "### Build `model_3`"
      ]
    },
    {
      "cell_type": "code",
      "execution_count": 169,
      "metadata": {
        "colab": {
          "base_uri": "https://localhost:8080/"
        },
        "id": "DB4HUhSPahSa",
        "outputId": "8cfe6501-2546-41b7-e502-d4caf524f683"
      },
      "outputs": [
        {
          "output_type": "execute_result",
          "data": {
            "text/plain": [
              "<keras.src.callbacks.History at 0x7dd062769870>"
            ]
          },
          "metadata": {},
          "execution_count": 169
        }
      ],
      "source": [
        "tf.random.set_seed(42)\n",
        "\n",
        "# Replicate model_2\n",
        "model_3 = tf.keras.Sequential([\n",
        "  tf.keras.layers.Dense(1),\n",
        "  tf.keras.layers.Dense(1)\n",
        "])\n",
        "\n",
        "# Compile the model\n",
        "model_3.compile(loss=tf.keras.losses.mae,\n",
        "                optimizer=tf.keras.optimizers.SGD(),\n",
        "                metrics=['mae'])\n",
        "\n",
        "# Fit the model (this time for 500 epochs, not 100)\n",
        "model_3.fit(tf.expand_dims(X_train, axis=-1), y_train, epochs=500, verbose=0)"
      ]
    },
    {
      "cell_type": "code",
      "execution_count": 170,
      "metadata": {
        "colab": {
          "base_uri": "https://localhost:8080/"
        },
        "id": "W_j8Ruo0bNtN",
        "outputId": "00606385-4482-4f5a-d1a0-e415963c2333"
      },
      "outputs": [
        {
          "output_type": "stream",
          "name": "stdout",
          "text": [
            "1/1 [==============================] - 0s 52ms/step\n"
          ]
        },
        {
          "output_type": "execute_result",
          "data": {
            "text/plain": [
              "array([[16.588863],\n",
              "       [17.391813],\n",
              "       [18.194761],\n",
              "       [18.997711],\n",
              "       [19.80066 ],\n",
              "       [20.60361 ],\n",
              "       [21.406557],\n",
              "       [22.209505],\n",
              "       [23.012455],\n",
              "       [23.815403]], dtype=float32)"
            ]
          },
          "metadata": {},
          "execution_count": 170
        }
      ],
      "source": [
        "# Plot the model\n",
        "y_pred_3 = model_3.predict(X_test)\n",
        "y_pred_3"
      ]
    },
    {
      "cell_type": "code",
      "execution_count": 171,
      "metadata": {
        "colab": {
          "base_uri": "https://localhost:8080/",
          "height": 599
        },
        "id": "Ebn1rP4ecFIa",
        "outputId": "62171826-5e63-463a-cc17-83dab21937aa"
      },
      "outputs": [
        {
          "output_type": "display_data",
          "data": {
            "text/plain": [
              "<Figure size 1000x700 with 1 Axes>"
            ],
            "image/png": "[encoded data removed]"
          },
          "metadata": {}
        }
      ],
      "source": [
        "plot_predictions(train_data=X_train, train_labels=y_train, test_data=X_test, test_labels=y_test, predictions=y_pred_3)"
      ]
    },
    {
      "cell_type": "code",
      "execution_count": 172,
      "metadata": {
        "colab": {
          "base_uri": "https://localhost:8080/"
        },
        "id": "UC85fgH0fIwt",
        "outputId": "d9c098ac-b4ac-4c53-ec41-6bc9fb8b190a"
      },
      "outputs": [
        {
          "output_type": "execute_result",
          "data": {
            "text/plain": [
              "(67.79787, 4680.875)"
            ]
          },
          "metadata": {},
          "execution_count": 172
        }
      ],
      "source": [
        "# Calculate model_3 metrics\n",
        "mae_3 = mae(y_test, y_pred_3.squeeze()).numpy()\n",
        "mse_3 = mse(y_test, y_pred_3.squeeze()).numpy()\n",
        "mae_3, mse_3"
      ]
    },
    {
      "cell_type": "markdown",
      "metadata": {
        "id": "Ss4zblrTgdw1"
      },
      "source": [
        "## Comparing the results of our experiments"
      ]
    },
    {
      "cell_type": "code",
      "execution_count": 173,
      "metadata": {
        "colab": {
          "base_uri": "https://localhost:8080/",
          "height": 36
        },
        "id": "QpZvUX86iJzV",
        "outputId": "92ca085c-e4e8-42d1-c1a2-f26d611547cb"
      },
      "outputs": [
        {
          "output_type": "execute_result",
          "data": {
            "text/plain": [
              "'2.15.0'"
            ],
            "application/vnd.google.colaboratory.intrinsic+json": {
              "type": "string"
            }
          },
          "metadata": {},
          "execution_count": 173
        }
      ],
      "source": [
        "tf.__version__"
      ]
    },
    {
      "cell_type": "code",
      "execution_count": 174,
      "metadata": {
        "colab": {
          "base_uri": "https://localhost:8080/",
          "height": 143
        },
        "id": "GWXsaWCdPrUn",
        "outputId": "2cbe5a9c-5ff3-4d6e-a0bb-f53ec65125ba"
      },
      "outputs": [
        {
          "output_type": "execute_result",
          "data": {
            "text/plain": [
              "     model        mae          mse\n",
              "0  model_1  21.256775   455.278870\n",
              "1  model_2  13.269376   186.217316\n",
              "2  model_3  67.797867  4680.875000"
            ],
            "text/html": [
              "\n",
              "  <div id=\"df-8a64960d-fedd-44e7-b98c-892f8ab5ab30\" class=\"colab-df-container\">\n",
              "    <div>\n",
              "<style scoped>\n",
              "    .dataframe tbody tr th:only-of-type {\n",
              "        vertical-align: middle;\n",
              "    }\n",
              "\n",
              "    .dataframe tbody tr th {\n",
              "        vertical-align: top;\n",
              "    }\n",
              "\n",
              "    .dataframe thead th {\n",
              "        text-align: right;\n",
              "    }\n",
              "</style>\n",
              "<table border=\"1\" class=\"dataframe\">\n",
              "  <thead>\n",
              "    <tr style=\"text-align: right;\">\n",
              "      <th></th>\n",
              "      <th>model</th>\n",
              "      <th>mae</th>\n",
              "      <th>mse</th>\n",
              "    </tr>\n",
              "  </thead>\n",
              "  <tbody>\n",
              "    <tr>\n",
              "      <th>0</th>\n",
              "      <td>model_1</td>\n",
              "      <td>21.256775</td>\n",
              "      <td>455.278870</td>\n",
              "    </tr>\n",
              "    <tr>\n",
              "      <th>1</th>\n",
              "      <td>model_2</td>\n",
              "      <td>13.269376</td>\n",
              "      <td>186.217316</td>\n",
              "    </tr>\n",
              "    <tr>\n",
              "      <th>2</th>\n",
              "      <td>model_3</td>\n",
              "      <td>67.797867</td>\n",
              "      <td>4680.875000</td>\n",
              "    </tr>\n",
              "  </tbody>\n",
              "</table>\n",
              "</div>\n",
              "    <div class=\"colab-df-buttons\">\n",
              "\n",
              "  <div class=\"colab-df-container\">\n",
              "    <button class=\"colab-df-convert\" onclick=\"convertToInteractive('df-8a64960d-fedd-44e7-b98c-892f8ab5ab30')\"\n",
              "            title=\"Convert this dataframe to an interactive table.\"\n",
              "            style=\"display:none;\">\n",
              "\n",
              "  <svg xmlns=\"http://www.w3.org/2000/svg\" height=\"24px\" viewBox=\"0 -960 960 960\">\n",
              "    <path d=\"M120-120v-720h720v720H120Zm60-500h600v-160H180v160Zm220 220h160v-160H400v160Zm0 220h160v-160H400v160ZM180-400h160v-160H180v160Zm440 0h160v-160H620v160ZM180-180h160v-160H180v160Zm440 0h160v-160H620v160Z\"/>\n",
              "  </svg>\n",
              "    </button>\n",
              "\n",
              "  <style>\n",
              "    .colab-df-container {\n",
              "      display:flex;\n",
              "      gap: 12px;\n",
              "    }\n",
              "\n",
              "    .colab-df-convert {\n",
              "      background-color: #E8F0FE;\n",
              "      border: none;\n",
              "      border-radius: 50%;\n",
              "      cursor: pointer;\n",
              "      display: none;\n",
              "      fill: #1967D2;\n",
              "      height: 32px;\n",
              "      padding: 0 0 0 0;\n",
              "      width: 32px;\n",
              "    }\n",
              "\n",
              "    .colab-df-convert:hover {\n",
              "      background-color: #E2EBFA;\n",
              "      box-shadow: 0px 1px 2px rgba(60, 64, 67, 0.3), 0px 1px 3px 1px rgba(60, 64, 67, 0.15);\n",
              "      fill: #174EA6;\n",
              "    }\n",
              "\n",
              "    .colab-df-buttons div {\n",
              "      margin-bottom: 4px;\n",
              "    }\n",
              "\n",
              "    [theme=dark] .colab-df-convert {\n",
              "      background-color: #3B4455;\n",
              "      fill: #D2E3FC;\n",
              "    }\n",
              "\n",
              "    [theme=dark] .colab-df-convert:hover {\n",
              "      background-color: #434B5C;\n",
              "      box-shadow: 0px 1px 3px 1px rgba(0, 0, 0, 0.15);\n",
              "      filter: drop-shadow(0px 1px 2px rgba(0, 0, 0, 0.3));\n",
              "      fill: #FFFFFF;\n",
              "    }\n",
              "  </style>\n",
              "\n",
              "    <script>\n",
              "      const buttonEl =\n",
              "        document.querySelector('#df-8a64960d-fedd-44e7-b98c-892f8ab5ab30 button.colab-df-convert');\n",
              "      buttonEl.style.display =\n",
              "        google.colab.kernel.accessAllowed ? 'block' : 'none';\n",
              "\n",
              "      async function convertToInteractive(key) {\n",
              "        const element = document.querySelector('#df-8a64960d-fedd-44e7-b98c-892f8ab5ab30');\n",
              "        const dataTable =\n",
              "          await google.colab.kernel.invokeFunction('convertToInteractive',\n",
              "                                                    [key], {});\n",
              "        if (!dataTable) return;\n",
              "\n",
              "        const docLinkHtml = 'Like what you see? Visit the ' +\n",
              "          '<a target=\"_blank\" href=https://colab.research.google.com/notebooks/data_table.ipynb>data table notebook</a>'\n",
              "          + ' to learn more about interactive tables.';\n",
              "        element.innerHTML = '';\n",
              "        dataTable['output_type'] = 'display_data';\n",
              "        await google.colab.output.renderOutput(dataTable, element);\n",
              "        const docLink = document.createElement('div');\n",
              "        docLink.innerHTML = docLinkHtml;\n",
              "        element.appendChild(docLink);\n",
              "      }\n",
              "    </script>\n",
              "  </div>\n",
              "\n",
              "\n",
              "<div id=\"df-7f56cc8f-f610-4901-b57c-6b58edd5f8a7\">\n",
              "  <button class=\"colab-df-quickchart\" onclick=\"quickchart('df-7f56cc8f-f610-4901-b57c-6b58edd5f8a7')\"\n",
              "            title=\"Suggest charts\"\n",
              "            style=\"display:none;\">\n",
              "\n",
              "<svg xmlns=\"http://www.w3.org/2000/svg\" height=\"24px\"viewBox=\"0 0 24 24\"\n",
              "     width=\"24px\">\n",
              "    <g>\n",
              "        <path d=\"M19 3H5c-1.1 0-2 .9-2 2v14c0 1.1.9 2 2 2h14c1.1 0 2-.9 2-2V5c0-1.1-.9-2-2-2zM9 17H7v-7h2v7zm4 0h-2V7h2v10zm4 0h-2v-4h2v4z\"/>\n",
              "    </g>\n",
              "</svg>\n",
              "  </button>\n",
              "\n",
              "<style>\n",
              "  .colab-df-quickchart {\n",
              "      --bg-color: #E8F0FE;\n",
              "      --fill-color: #1967D2;\n",
              "      --hover-bg-color: #E2EBFA;\n",
              "      --hover-fill-color: #174EA6;\n",
              "      --disabled-fill-color: #AAA;\n",
              "      --disabled-bg-color: #DDD;\n",
              "  }\n",
              "\n",
              "  [theme=dark] .colab-df-quickchart {\n",
              "      --bg-color: #3B4455;\n",
              "      --fill-color: #D2E3FC;\n",
              "      --hover-bg-color: #434B5C;\n",
              "      --hover-fill-color: #FFFFFF;\n",
              "      --disabled-bg-color: #3B4455;\n",
              "      --disabled-fill-color: #666;\n",
              "  }\n",
              "\n",
              "  .colab-df-quickchart {\n",
              "    background-color: var(--bg-color);\n",
              "    border: none;\n",
              "    border-radius: 50%;\n",
              "    cursor: pointer;\n",
              "    display: none;\n",
              "    fill: var(--fill-color);\n",
              "    height: 32px;\n",
              "    padding: 0;\n",
              "    width: 32px;\n",
              "  }\n",
              "\n",
              "  .colab-df-quickchart:hover {\n",
              "    background-color: var(--hover-bg-color);\n",
              "    box-shadow: 0 1px 2px rgba(60, 64, 67, 0.3), 0 1px 3px 1px rgba(60, 64, 67, 0.15);\n",
              "    fill: var(--button-hover-fill-color);\n",
              "  }\n",
              "\n",
              "  .colab-df-quickchart-complete:disabled,\n",
              "  .colab-df-quickchart-complete:disabled:hover {\n",
              "    background-color: var(--disabled-bg-color);\n",
              "    fill: var(--disabled-fill-color);\n",
              "    box-shadow: none;\n",
              "  }\n",
              "\n",
              "  .colab-df-spinner {\n",
              "    border: 2px solid var(--fill-color);\n",
              "    border-color: transparent;\n",
              "    border-bottom-color: var(--fill-color);\n",
              "    animation:\n",
              "      spin 1s steps(1) infinite;\n",
              "  }\n",
              "\n",
              "  @keyframes spin {\n",
              "    0% {\n",
              "      border-color: transparent;\n",
              "      border-bottom-color: var(--fill-color);\n",
              "      border-left-color: var(--fill-color);\n",
              "    }\n",
              "    20% {\n",
              "      border-color: transparent;\n",
              "      border-left-color: var(--fill-color);\n",
              "      border-top-color: var(--fill-color);\n",
              "    }\n",
              "    30% {\n",
              "      border-color: transparent;\n",
              "      border-left-color: var(--fill-color);\n",
              "      border-top-color: var(--fill-color);\n",
              "      border-right-color: var(--fill-color);\n",
              "    }\n",
              "    40% {\n",
              "      border-color: transparent;\n",
              "      border-right-color: var(--fill-color);\n",
              "      border-top-color: var(--fill-color);\n",
              "    }\n",
              "    60% {\n",
              "      border-color: transparent;\n",
              "      border-right-color: var(--fill-color);\n",
              "    }\n",
              "    80% {\n",
              "      border-color: transparent;\n",
              "      border-right-color: var(--fill-color);\n",
              "      border-bottom-color: var(--fill-color);\n",
              "    }\n",
              "    90% {\n",
              "      border-color: transparent;\n",
              "      border-bottom-color: var(--fill-color);\n",
              "    }\n",
              "  }\n",
              "</style>\n",
              "\n",
              "  <script>\n",
              "    async function quickchart(key) {\n",
              "      const quickchartButtonEl =\n",
              "        document.querySelector('#' + key + ' button');\n",
              "      quickchartButtonEl.disabled = true;  // To prevent multiple clicks.\n",
              "      quickchartButtonEl.classList.add('colab-df-spinner');\n",
              "      try {\n",
              "        const charts = await google.colab.kernel.invokeFunction(\n",
              "            'suggestCharts', [key], {});\n",
              "      } catch (error) {\n",
              "        console.error('Error during call to suggestCharts:', error);\n",
              "      }\n",
              "      quickchartButtonEl.classList.remove('colab-df-spinner');\n",
              "      quickchartButtonEl.classList.add('colab-df-quickchart-complete');\n",
              "    }\n",
              "    (() => {\n",
              "      let quickchartButtonEl =\n",
              "        document.querySelector('#df-7f56cc8f-f610-4901-b57c-6b58edd5f8a7 button');\n",
              "      quickchartButtonEl.style.display =\n",
              "        google.colab.kernel.accessAllowed ? 'block' : 'none';\n",
              "    })();\n",
              "  </script>\n",
              "</div>\n",
              "\n",
              "  <div id=\"id_fce6eff6-3525-406b-94b4-53c5cbaf9f13\">\n",
              "    <style>\n",
              "      .colab-df-generate {\n",
              "        background-color: #E8F0FE;\n",
              "        border: none;\n",
              "        border-radius: 50%;\n",
              "        cursor: pointer;\n",
              "        display: none;\n",
              "        fill: #1967D2;\n",
              "        height: 32px;\n",
              "        padding: 0 0 0 0;\n",
              "        width: 32px;\n",
              "      }\n",
              "\n",
              "      .colab-df-generate:hover {\n",
              "        background-color: #E2EBFA;\n",
              "        box-shadow: 0px 1px 2px rgba(60, 64, 67, 0.3), 0px 1px 3px 1px rgba(60, 64, 67, 0.15);\n",
              "        fill: #174EA6;\n",
              "      }\n",
              "\n",
              "      [theme=dark] .colab-df-generate {\n",
              "        background-color: #3B4455;\n",
              "        fill: #D2E3FC;\n",
              "      }\n",
              "\n",
              "      [theme=dark] .colab-df-generate:hover {\n",
              "        background-color: #434B5C;\n",
              "        box-shadow: 0px 1px 3px 1px rgba(0, 0, 0, 0.15);\n",
              "        filter: drop-shadow(0px 1px 2px rgba(0, 0, 0, 0.3));\n",
              "        fill: #FFFFFF;\n",
              "      }\n",
              "    </style>\n",
              "    <button class=\"colab-df-generate\" onclick=\"generateWithVariable('all_results')\"\n",
              "            title=\"Generate code using this dataframe.\"\n",
              "            style=\"display:none;\">\n",
              "\n",
              "  <svg xmlns=\"http://www.w3.org/2000/svg\" height=\"24px\"viewBox=\"0 0 24 24\"\n",
              "       width=\"24px\">\n",
              "    <path d=\"M7,19H8.4L18.45,9,17,7.55,7,17.6ZM5,21V16.75L18.45,3.32a2,2,0,0,1,2.83,0l1.4,1.43a1.91,1.91,0,0,1,.58,1.4,1.91,1.91,0,0,1-.58,1.4L9.25,21ZM18.45,9,17,7.55Zm-12,3A5.31,5.31,0,0,0,4.9,8.1,5.31,5.31,0,0,0,1,6.5,5.31,5.31,0,0,0,4.9,4.9,5.31,5.31,0,0,0,6.5,1,5.31,5.31,0,0,0,8.1,4.9,5.31,5.31,0,0,0,12,6.5,5.46,5.46,0,0,0,6.5,12Z\"/>\n",
              "  </svg>\n",
              "    </button>\n",
              "    <script>\n",
              "      (() => {\n",
              "      const buttonEl =\n",
              "        document.querySelector('#id_fce6eff6-3525-406b-94b4-53c5cbaf9f13 button.colab-df-generate');\n",
              "      buttonEl.style.display =\n",
              "        google.colab.kernel.accessAllowed ? 'block' : 'none';\n",
              "\n",
              "      buttonEl.onclick = () => {\n",
              "        google.colab.notebook.generateWithVariable('all_results');\n",
              "      }\n",
              "      })();\n",
              "    </script>\n",
              "  </div>\n",
              "\n",
              "    </div>\n",
              "  </div>\n"
            ],
            "application/vnd.google.colaboratory.intrinsic+json": {
              "type": "dataframe",
              "variable_name": "all_results",
              "summary": "{\n  \"name\": \"all_results\",\n  \"rows\": 3,\n  \"fields\": [\n    {\n      \"column\": \"model\",\n      \"properties\": {\n        \"dtype\": \"string\",\n        \"num_unique_values\": 3,\n        \"samples\": [\n          \"model_1\",\n          \"model_2\",\n          \"model_3\"\n        ],\n        \"semantic_type\": \"\",\n        \"description\": \"\"\n      }\n    },\n    {\n      \"column\": \"mae\",\n      \"properties\": {\n        \"dtype\": \"float32\",\n        \"num_unique_values\": 3,\n        \"samples\": [\n          21.25677490234375,\n          13.269375801086426,\n          67.79786682128906\n        ],\n        \"semantic_type\": \"\",\n        \"description\": \"\"\n      }\n    },\n    {\n      \"column\": \"mse\",\n      \"properties\": {\n        \"dtype\": \"float32\",\n        \"num_unique_values\": 3,\n        \"samples\": [\n          455.27886962890625,\n          186.21731567382812,\n          4680.875\n        ],\n        \"semantic_type\": \"\",\n        \"description\": \"\"\n      }\n    }\n  ]\n}"
            }
          },
          "metadata": {},
          "execution_count": 174
        }
      ],
      "source": [
        "# Let's compare out model's results using the pandas DataFrame\n",
        "\n",
        "import pandas as pd\n",
        "\n",
        "model_results = [[\"model_1\", mae_1, mse_1],\n",
        "                 [\"model_2\", mae_2, mse_2],\n",
        "                 [\"model_3\", mae_3, mse_3]]\n",
        "\n",
        "all_results = pd.DataFrame(model_results, columns=[\"model\", \"mae\", \"mse\"])\n",
        "all_results"
      ]
    },
    {
      "cell_type": "markdown",
      "metadata": {
        "id": "7RKU4QvHduhC"
      },
      "source": [
        " ## Saving our models\n",
        "\n",
        " There are two main formats we can save our models:\n",
        "\n",
        " 1. The SavedModel format\n",
        " 2. The HDF5 format"
      ]
    },
    {
      "cell_type": "code",
      "execution_count": 175,
      "metadata": {
        "id": "LLOkZGLYfLMF"
      },
      "outputs": [],
      "source": [
        "model_1.save(\"best_model_saved_model_format\")"
      ]
    },
    {
      "cell_type": "code",
      "execution_count": 176,
      "metadata": {
        "colab": {
          "base_uri": "https://localhost:8080/"
        },
        "id": "PA_ZVSG6f27r",
        "outputId": "b9cc5d6c-687f-4b87-f3cf-f0ca73f5a83a"
      },
      "outputs": [
        {
          "output_type": "stream",
          "name": "stderr",
          "text": [
            "/usr/local/lib/python3.10/dist-packages/keras/src/engine/training.py:3103: UserWarning: You are saving your model as an HDF5 file via `model.save()`. This file format is considered legacy. We recommend using instead the native Keras format, e.g. `model.save('my_model.keras')`.\n",
            "  saving_api.save_model(\n"
          ]
        }
      ],
      "source": [
        "# Save model using thHDF5 format\n",
        "\n",
        "model_1.save(\"best_model_HDF5_format.h5\")"
      ]
    },
    {
      "cell_type": "markdown",
      "metadata": {
        "id": "-Rm0sQzGK68Z"
      },
      "source": [
        "### Loading in the saved model"
      ]
    },
    {
      "cell_type": "code",
      "execution_count": 177,
      "metadata": {
        "colab": {
          "base_uri": "https://localhost:8080/"
        },
        "id": "fdBkHOJDOSOs",
        "outputId": "f3a32849-67b3-4492-d23c-c0acf6989cde"
      },
      "outputs": [
        {
          "output_type": "stream",
          "name": "stdout",
          "text": [
            "Model: \"sequential_20\"\n",
            "_________________________________________________________________\n",
            " Layer (type)                Output Shape              Param #   \n",
            "=================================================================\n",
            " dense_29 (Dense)            (None, 1)                 2         \n",
            "                                                                 \n",
            "=================================================================\n",
            "Total params: 2 (8.00 Byte)\n",
            "Trainable params: 2 (8.00 Byte)\n",
            "Non-trainable params: 0 (0.00 Byte)\n",
            "_________________________________________________________________\n"
          ]
        }
      ],
      "source": [
        "# Load the model\n",
        "\n",
        "loaded_saved_model = tf.keras.models.load_model(\"best_model_saved_model_format\")\n",
        "loaded_saved_model.summary()"
      ]
    },
    {
      "cell_type": "code",
      "execution_count": 178,
      "metadata": {
        "colab": {
          "base_uri": "https://localhost:8080/"
        },
        "id": "mt41EjwuLPLv",
        "outputId": "d1f6a0b9-08fc-4ca3-a183-21176f45aa65"
      },
      "outputs": [
        {
          "output_type": "stream",
          "name": "stdout",
          "text": [
            "Model: \"sequential_20\"\n",
            "_________________________________________________________________\n",
            " Layer (type)                Output Shape              Param #   \n",
            "=================================================================\n",
            " dense_29 (Dense)            (None, 1)                 2         \n",
            "                                                                 \n",
            "=================================================================\n",
            "Total params: 2 (8.00 Byte)\n",
            "Trainable params: 2 (8.00 Byte)\n",
            "Non-trainable params: 0 (0.00 Byte)\n",
            "_________________________________________________________________\n"
          ]
        }
      ],
      "source": [
        "model_1.summary()"
      ]
    },
    {
      "cell_type": "markdown",
      "metadata": {
        "id": "L0eNdKjVLXTz"
      },
      "source": [
        "### Compare model_2 predictions with SavedModel format model predictions"
      ]
    },
    {
      "cell_type": "code",
      "execution_count": 179,
      "metadata": {
        "colab": {
          "base_uri": "https://localhost:8080/"
        },
        "id": "rZsC9dtXLjpW",
        "outputId": "124af503-6b4b-4c8c-cfda-6090169e564c"
      },
      "outputs": [
        {
          "output_type": "stream",
          "name": "stdout",
          "text": [
            "1/1 [==============================] - 0s 26ms/step\n",
            "1/1 [==============================] - 0s 43ms/step\n"
          ]
        },
        {
          "output_type": "execute_result",
          "data": {
            "text/plain": [
              "array([[ True],\n",
              "       [ True],\n",
              "       [ True],\n",
              "       [ True],\n",
              "       [ True],\n",
              "       [ True],\n",
              "       [ True],\n",
              "       [ True],\n",
              "       [ True],\n",
              "       [ True]])"
            ]
          },
          "metadata": {},
          "execution_count": 179
        }
      ],
      "source": [
        "model_1_preds = model_1.predict(X_test)\n",
        "loaded_saved_model_preds = loaded_saved_model.predict(X_test)\n",
        "model_1_preds == loaded_saved_model_preds"
      ]
    },
    {
      "cell_type": "code",
      "execution_count": 180,
      "metadata": {
        "colab": {
          "base_uri": "https://localhost:8080/"
        },
        "id": "BHyAc5SbLuao",
        "outputId": "563b0d61-5f49-4a15-cf25-fd746f91feaf"
      },
      "outputs": [
        {
          "output_type": "execute_result",
          "data": {
            "text/plain": [
              "(array([[51.644115],\n",
              "        [54.999474],\n",
              "        [58.35483 ],\n",
              "        [61.71019 ],\n",
              "        [65.065544],\n",
              "        [68.420906],\n",
              "        [71.77626 ],\n",
              "        [75.13162 ],\n",
              "        [78.48698 ],\n",
              "        [81.84233 ]], dtype=float32),\n",
              " array([[51.644115],\n",
              "        [54.999474],\n",
              "        [58.35483 ],\n",
              "        [61.71019 ],\n",
              "        [65.065544],\n",
              "        [68.420906],\n",
              "        [71.77626 ],\n",
              "        [75.13162 ],\n",
              "        [78.48698 ],\n",
              "        [81.84233 ]], dtype=float32))"
            ]
          },
          "metadata": {},
          "execution_count": 180
        }
      ],
      "source": [
        "model_1_preds, loaded_saved_model_preds"
      ]
    },
    {
      "cell_type": "code",
      "execution_count": 181,
      "metadata": {
        "colab": {
          "base_uri": "https://localhost:8080/"
        },
        "id": "eEXIwO_gL0CO",
        "outputId": "b144695c-e8f0-4f9e-d170-b0e26042178e"
      },
      "outputs": [
        {
          "output_type": "execute_result",
          "data": {
            "text/plain": [
              "<tf.Tensor: shape=(), dtype=bool, numpy=True>"
            ]
          },
          "metadata": {},
          "execution_count": 181
        }
      ],
      "source": [
        "mae(y_true=y_test, y_pred=model_1_preds) == mae(y_true=y_test, y_pred=loaded_saved_model_preds)"
      ]
    },
    {
      "cell_type": "code",
      "execution_count": 182,
      "metadata": {
        "colab": {
          "base_uri": "https://localhost:8080/"
        },
        "id": "j9L9Kt8LMC3i",
        "outputId": "233a261b-1886-4b84-8102-e52a3b0eb6af"
      },
      "outputs": [
        {
          "output_type": "execute_result",
          "data": {
            "text/plain": [
              "array([51.644115, 54.999474, 58.35483 , 61.71019 , 65.065544, 68.420906,\n",
              "       71.77626 , 75.13162 , 78.48698 , 81.84233 ], dtype=float32)"
            ]
          },
          "metadata": {},
          "execution_count": 182
        }
      ],
      "source": [
        "model_1_preds.squeeze()"
      ]
    },
    {
      "cell_type": "code",
      "execution_count": 183,
      "metadata": {
        "colab": {
          "base_uri": "https://localhost:8080/"
        },
        "id": "HITIiqCGMHLF",
        "outputId": "afd7f015-58f6-4f04-b507-c1ee98c3c220"
      },
      "outputs": [
        {
          "output_type": "execute_result",
          "data": {
            "text/plain": [
              "array([51.644115, 54.999474, 58.35483 , 61.71019 , 65.065544, 68.420906,\n",
              "       71.77626 , 75.13162 , 78.48698 , 81.84233 ], dtype=float32)"
            ]
          },
          "metadata": {},
          "execution_count": 183
        }
      ],
      "source": [
        "loaded_saved_model_preds.squeeze()"
      ]
    },
    {
      "cell_type": "code",
      "execution_count": 184,
      "metadata": {
        "colab": {
          "base_uri": "https://localhost:8080/"
        },
        "id": "ETAzfGoOPVd3",
        "outputId": "0a970956-aa77-4b0d-e18c-470f4621db9d"
      },
      "outputs": [
        {
          "output_type": "stream",
          "name": "stdout",
          "text": [
            "Model: \"sequential_20\"\n",
            "_________________________________________________________________\n",
            " Layer (type)                Output Shape              Param #   \n",
            "=================================================================\n",
            " dense_29 (Dense)            (None, 1)                 2         \n",
            "                                                                 \n",
            "=================================================================\n",
            "Total params: 2 (8.00 Byte)\n",
            "Trainable params: 2 (8.00 Byte)\n",
            "Non-trainable params: 0 (0.00 Byte)\n",
            "_________________________________________________________________\n"
          ]
        }
      ],
      "source": [
        "# Load the HDF5 model format\n",
        "\n",
        "loaded_h5_model = tf.keras.models.load_model(\"best_model_HDF5_format.h5\")\n",
        "loaded_h5_model.summary()"
      ]
    },
    {
      "cell_type": "code",
      "execution_count": 185,
      "metadata": {
        "colab": {
          "base_uri": "https://localhost:8080/"
        },
        "id": "JCpiSzSiLTjt",
        "outputId": "6258c0ac-3234-4d5b-adbe-2bbfd5e4d366"
      },
      "outputs": [
        {
          "output_type": "stream",
          "name": "stdout",
          "text": [
            "Model: \"sequential_20\"\n",
            "_________________________________________________________________\n",
            " Layer (type)                Output Shape              Param #   \n",
            "=================================================================\n",
            " dense_29 (Dense)            (None, 1)                 2         \n",
            "                                                                 \n",
            "=================================================================\n",
            "Total params: 2 (8.00 Byte)\n",
            "Trainable params: 2 (8.00 Byte)\n",
            "Non-trainable params: 0 (0.00 Byte)\n",
            "_________________________________________________________________\n"
          ]
        }
      ],
      "source": [
        "model_1.summary()"
      ]
    },
    {
      "cell_type": "code",
      "execution_count": 186,
      "metadata": {
        "colab": {
          "base_uri": "https://localhost:8080/"
        },
        "id": "yuq49ibjPpbs",
        "outputId": "de103691-f197-4cff-9ac2-b7b999d7ab48"
      },
      "outputs": [
        {
          "output_type": "stream",
          "name": "stdout",
          "text": [
            "1/1 [==============================] - 0s 19ms/step\n",
            "1/1 [==============================] - 0s 53ms/step\n"
          ]
        },
        {
          "output_type": "execute_result",
          "data": {
            "text/plain": [
              "array([[ True],\n",
              "       [ True],\n",
              "       [ True],\n",
              "       [ True],\n",
              "       [ True],\n",
              "       [ True],\n",
              "       [ True],\n",
              "       [ True],\n",
              "       [ True],\n",
              "       [ True]])"
            ]
          },
          "metadata": {},
          "execution_count": 186
        }
      ],
      "source": [
        "# Check to see if loaded HDF5 model predictions are same\n",
        "\n",
        "model_1_preds = model_1.predict(X_test)\n",
        "loaded_h5_model_preds = loaded_h5_model.predict(X_test)\n",
        "model_1_preds == loaded_h5_model_preds"
      ]
    },
    {
      "cell_type": "markdown",
      "metadata": {
        "id": "61H6x53iRD_T"
      },
      "source": [
        "# A larger example"
      ]
    },
    {
      "cell_type": "code",
      "execution_count": 187,
      "metadata": {
        "colab": {
          "base_uri": "https://localhost:8080/",
          "height": 423
        },
        "id": "5J2KtBeYRF1M",
        "outputId": "051f6b67-ef08-4442-c6e1-6d5ce1719f3c"
      },
      "outputs": [
        {
          "output_type": "execute_result",
          "data": {
            "text/plain": [
              "      age     sex     bmi  children smoker     region      charges\n",
              "0      19  female  27.900         0    yes  southwest  16884.92400\n",
              "1      18    male  33.770         1     no  southeast   1725.55230\n",
              "2      28    male  33.000         3     no  southeast   4449.46200\n",
              "3      33    male  22.705         0     no  northwest  21984.47061\n",
              "4      32    male  28.880         0     no  northwest   3866.85520\n",
              "...   ...     ...     ...       ...    ...        ...          ...\n",
              "1333   50    male  30.970         3     no  northwest  10600.54830\n",
              "1334   18  female  31.920         0     no  northeast   2205.98080\n",
              "1335   18  female  36.850         0     no  southeast   1629.83350\n",
              "1336   21  female  25.800         0     no  southwest   2007.94500\n",
              "1337   61  female  29.070         0    yes  northwest  29141.36030\n",
              "\n",
              "[1338 rows x 7 columns]"
            ],
            "text/html": [
              "\n",
              "  <div id=\"df-67437108-4f02-4968-90e0-f3b5c0bcc0a8\" class=\"colab-df-container\">\n",
              "    <div>\n",
              "<style scoped>\n",
              "    .dataframe tbody tr th:only-of-type {\n",
              "        vertical-align: middle;\n",
              "    }\n",
              "\n",
              "    .dataframe tbody tr th {\n",
              "        vertical-align: top;\n",
              "    }\n",
              "\n",
              "    .dataframe thead th {\n",
              "        text-align: right;\n",
              "    }\n",
              "</style>\n",
              "<table border=\"1\" class=\"dataframe\">\n",
              "  <thead>\n",
              "    <tr style=\"text-align: right;\">\n",
              "      <th></th>\n",
              "      <th>age</th>\n",
              "      <th>sex</th>\n",
              "      <th>bmi</th>\n",
              "      <th>children</th>\n",
              "      <th>smoker</th>\n",
              "      <th>region</th>\n",
              "      <th>charges</th>\n",
              "    </tr>\n",
              "  </thead>\n",
              "  <tbody>\n",
              "    <tr>\n",
              "      <th>0</th>\n",
              "      <td>19</td>\n",
              "      <td>female</td>\n",
              "      <td>27.900</td>\n",
              "      <td>0</td>\n",
              "      <td>yes</td>\n",
              "      <td>southwest</td>\n",
              "      <td>16884.92400</td>\n",
              "    </tr>\n",
              "    <tr>\n",
              "      <th>1</th>\n",
              "      <td>18</td>\n",
              "      <td>male</td>\n",
              "      <td>33.770</td>\n",
              "      <td>1</td>\n",
              "      <td>no</td>\n",
              "      <td>southeast</td>\n",
              "      <td>1725.55230</td>\n",
              "    </tr>\n",
              "    <tr>\n",
              "      <th>2</th>\n",
              "      <td>28</td>\n",
              "      <td>male</td>\n",
              "      <td>33.000</td>\n",
              "      <td>3</td>\n",
              "      <td>no</td>\n",
              "      <td>southeast</td>\n",
              "      <td>4449.46200</td>\n",
              "    </tr>\n",
              "    <tr>\n",
              "      <th>3</th>\n",
              "      <td>33</td>\n",
              "      <td>male</td>\n",
              "      <td>22.705</td>\n",
              "      <td>0</td>\n",
              "      <td>no</td>\n",
              "      <td>northwest</td>\n",
              "      <td>21984.47061</td>\n",
              "    </tr>\n",
              "    <tr>\n",
              "      <th>4</th>\n",
              "      <td>32</td>\n",
              "      <td>male</td>\n",
              "      <td>28.880</td>\n",
              "      <td>0</td>\n",
              "      <td>no</td>\n",
              "      <td>northwest</td>\n",
              "      <td>3866.85520</td>\n",
              "    </tr>\n",
              "    <tr>\n",
              "      <th>...</th>\n",
              "      <td>...</td>\n",
              "      <td>...</td>\n",
              "      <td>...</td>\n",
              "      <td>...</td>\n",
              "      <td>...</td>\n",
              "      <td>...</td>\n",
              "      <td>...</td>\n",
              "    </tr>\n",
              "    <tr>\n",
              "      <th>1333</th>\n",
              "      <td>50</td>\n",
              "      <td>male</td>\n",
              "      <td>30.970</td>\n",
              "      <td>3</td>\n",
              "      <td>no</td>\n",
              "      <td>northwest</td>\n",
              "      <td>10600.54830</td>\n",
              "    </tr>\n",
              "    <tr>\n",
              "      <th>1334</th>\n",
              "      <td>18</td>\n",
              "      <td>female</td>\n",
              "      <td>31.920</td>\n",
              "      <td>0</td>\n",
              "      <td>no</td>\n",
              "      <td>northeast</td>\n",
              "      <td>2205.98080</td>\n",
              "    </tr>\n",
              "    <tr>\n",
              "      <th>1335</th>\n",
              "      <td>18</td>\n",
              "      <td>female</td>\n",
              "      <td>36.850</td>\n",
              "      <td>0</td>\n",
              "      <td>no</td>\n",
              "      <td>southeast</td>\n",
              "      <td>1629.83350</td>\n",
              "    </tr>\n",
              "    <tr>\n",
              "      <th>1336</th>\n",
              "      <td>21</td>\n",
              "      <td>female</td>\n",
              "      <td>25.800</td>\n",
              "      <td>0</td>\n",
              "      <td>no</td>\n",
              "      <td>southwest</td>\n",
              "      <td>2007.94500</td>\n",
              "    </tr>\n",
              "    <tr>\n",
              "      <th>1337</th>\n",
              "      <td>61</td>\n",
              "      <td>female</td>\n",
              "      <td>29.070</td>\n",
              "      <td>0</td>\n",
              "      <td>yes</td>\n",
              "      <td>northwest</td>\n",
              "      <td>29141.36030</td>\n",
              "    </tr>\n",
              "  </tbody>\n",
              "</table>\n",
              "<p>1338 rows × 7 columns</p>\n",
              "</div>\n",
              "    <div class=\"colab-df-buttons\">\n",
              "\n",
              "  <div class=\"colab-df-container\">\n",
              "    <button class=\"colab-df-convert\" onclick=\"convertToInteractive('df-67437108-4f02-4968-90e0-f3b5c0bcc0a8')\"\n",
              "            title=\"Convert this dataframe to an interactive table.\"\n",
              "            style=\"display:none;\">\n",
              "\n",
              "  <svg xmlns=\"http://www.w3.org/2000/svg\" height=\"24px\" viewBox=\"0 -960 960 960\">\n",
              "    <path d=\"M120-120v-720h720v720H120Zm60-500h600v-160H180v160Zm220 220h160v-160H400v160Zm0 220h160v-160H400v160ZM180-400h160v-160H180v160Zm440 0h160v-160H620v160ZM180-180h160v-160H180v160Zm440 0h160v-160H620v160Z\"/>\n",
              "  </svg>\n",
              "    </button>\n",
              "\n",
              "  <style>\n",
              "    .colab-df-container {\n",
              "      display:flex;\n",
              "      gap: 12px;\n",
              "    }\n",
              "\n",
              "    .colab-df-convert {\n",
              "      background-color: #E8F0FE;\n",
              "      border: none;\n",
              "      border-radius: 50%;\n",
              "      cursor: pointer;\n",
              "      display: none;\n",
              "      fill: #1967D2;\n",
              "      height: 32px;\n",
              "      padding: 0 0 0 0;\n",
              "      width: 32px;\n",
              "    }\n",
              "\n",
              "    .colab-df-convert:hover {\n",
              "      background-color: #E2EBFA;\n",
              "      box-shadow: 0px 1px 2px rgba(60, 64, 67, 0.3), 0px 1px 3px 1px rgba(60, 64, 67, 0.15);\n",
              "      fill: #174EA6;\n",
              "    }\n",
              "\n",
              "    .colab-df-buttons div {\n",
              "      margin-bottom: 4px;\n",
              "    }\n",
              "\n",
              "    [theme=dark] .colab-df-convert {\n",
              "      background-color: #3B4455;\n",
              "      fill: #D2E3FC;\n",
              "    }\n",
              "\n",
              "    [theme=dark] .colab-df-convert:hover {\n",
              "      background-color: #434B5C;\n",
              "      box-shadow: 0px 1px 3px 1px rgba(0, 0, 0, 0.15);\n",
              "      filter: drop-shadow(0px 1px 2px rgba(0, 0, 0, 0.3));\n",
              "      fill: #FFFFFF;\n",
              "    }\n",
              "  </style>\n",
              "\n",
              "    <script>\n",
              "      const buttonEl =\n",
              "        document.querySelector('#df-67437108-4f02-4968-90e0-f3b5c0bcc0a8 button.colab-df-convert');\n",
              "      buttonEl.style.display =\n",
              "        google.colab.kernel.accessAllowed ? 'block' : 'none';\n",
              "\n",
              "      async function convertToInteractive(key) {\n",
              "        const element = document.querySelector('#df-67437108-4f02-4968-90e0-f3b5c0bcc0a8');\n",
              "        const dataTable =\n",
              "          await google.colab.kernel.invokeFunction('convertToInteractive',\n",
              "                                                    [key], {});\n",
              "        if (!dataTable) return;\n",
              "\n",
              "        const docLinkHtml = 'Like what you see? Visit the ' +\n",
              "          '<a target=\"_blank\" href=https://colab.research.google.com/notebooks/data_table.ipynb>data table notebook</a>'\n",
              "          + ' to learn more about interactive tables.';\n",
              "        element.innerHTML = '';\n",
              "        dataTable['output_type'] = 'display_data';\n",
              "        await google.colab.output.renderOutput(dataTable, element);\n",
              "        const docLink = document.createElement('div');\n",
              "        docLink.innerHTML = docLinkHtml;\n",
              "        element.appendChild(docLink);\n",
              "      }\n",
              "    </script>\n",
              "  </div>\n",
              "\n",
              "\n",
              "<div id=\"df-c077c3f8-9bab-41cb-b7ed-9e2b0d58080e\">\n",
              "  <button class=\"colab-df-quickchart\" onclick=\"quickchart('df-c077c3f8-9bab-41cb-b7ed-9e2b0d58080e')\"\n",
              "            title=\"Suggest charts\"\n",
              "            style=\"display:none;\">\n",
              "\n",
              "<svg xmlns=\"http://www.w3.org/2000/svg\" height=\"24px\"viewBox=\"0 0 24 24\"\n",
              "     width=\"24px\">\n",
              "    <g>\n",
              "        <path d=\"M19 3H5c-1.1 0-2 .9-2 2v14c0 1.1.9 2 2 2h14c1.1 0 2-.9 2-2V5c0-1.1-.9-2-2-2zM9 17H7v-7h2v7zm4 0h-2V7h2v10zm4 0h-2v-4h2v4z\"/>\n",
              "    </g>\n",
              "</svg>\n",
              "  </button>\n",
              "\n",
              "<style>\n",
              "  .colab-df-quickchart {\n",
              "      --bg-color: #E8F0FE;\n",
              "      --fill-color: #1967D2;\n",
              "      --hover-bg-color: #E2EBFA;\n",
              "      --hover-fill-color: #174EA6;\n",
              "      --disabled-fill-color: #AAA;\n",
              "      --disabled-bg-color: #DDD;\n",
              "  }\n",
              "\n",
              "  [theme=dark] .colab-df-quickchart {\n",
              "      --bg-color: #3B4455;\n",
              "      --fill-color: #D2E3FC;\n",
              "      --hover-bg-color: #434B5C;\n",
              "      --hover-fill-color: #FFFFFF;\n",
              "      --disabled-bg-color: #3B4455;\n",
              "      --disabled-fill-color: #666;\n",
              "  }\n",
              "\n",
              "  .colab-df-quickchart {\n",
              "    background-color: var(--bg-color);\n",
              "    border: none;\n",
              "    border-radius: 50%;\n",
              "    cursor: pointer;\n",
              "    display: none;\n",
              "    fill: var(--fill-color);\n",
              "    height: 32px;\n",
              "    padding: 0;\n",
              "    width: 32px;\n",
              "  }\n",
              "\n",
              "  .colab-df-quickchart:hover {\n",
              "    background-color: var(--hover-bg-color);\n",
              "    box-shadow: 0 1px 2px rgba(60, 64, 67, 0.3), 0 1px 3px 1px rgba(60, 64, 67, 0.15);\n",
              "    fill: var(--button-hover-fill-color);\n",
              "  }\n",
              "\n",
              "  .colab-df-quickchart-complete:disabled,\n",
              "  .colab-df-quickchart-complete:disabled:hover {\n",
              "    background-color: var(--disabled-bg-color);\n",
              "    fill: var(--disabled-fill-color);\n",
              "    box-shadow: none;\n",
              "  }\n",
              "\n",
              "  .colab-df-spinner {\n",
              "    border: 2px solid var(--fill-color);\n",
              "    border-color: transparent;\n",
              "    border-bottom-color: var(--fill-color);\n",
              "    animation:\n",
              "      spin 1s steps(1) infinite;\n",
              "  }\n",
              "\n",
              "  @keyframes spin {\n",
              "    0% {\n",
              "      border-color: transparent;\n",
              "      border-bottom-color: var(--fill-color);\n",
              "      border-left-color: var(--fill-color);\n",
              "    }\n",
              "    20% {\n",
              "      border-color: transparent;\n",
              "      border-left-color: var(--fill-color);\n",
              "      border-top-color: var(--fill-color);\n",
              "    }\n",
              "    30% {\n",
              "      border-color: transparent;\n",
              "      border-left-color: var(--fill-color);\n",
              "      border-top-color: var(--fill-color);\n",
              "      border-right-color: var(--fill-color);\n",
              "    }\n",
              "    40% {\n",
              "      border-color: transparent;\n",
              "      border-right-color: var(--fill-color);\n",
              "      border-top-color: var(--fill-color);\n",
              "    }\n",
              "    60% {\n",
              "      border-color: transparent;\n",
              "      border-right-color: var(--fill-color);\n",
              "    }\n",
              "    80% {\n",
              "      border-color: transparent;\n",
              "      border-right-color: var(--fill-color);\n",
              "      border-bottom-color: var(--fill-color);\n",
              "    }\n",
              "    90% {\n",
              "      border-color: transparent;\n",
              "      border-bottom-color: var(--fill-color);\n",
              "    }\n",
              "  }\n",
              "</style>\n",
              "\n",
              "  <script>\n",
              "    async function quickchart(key) {\n",
              "      const quickchartButtonEl =\n",
              "        document.querySelector('#' + key + ' button');\n",
              "      quickchartButtonEl.disabled = true;  // To prevent multiple clicks.\n",
              "      quickchartButtonEl.classList.add('colab-df-spinner');\n",
              "      try {\n",
              "        const charts = await google.colab.kernel.invokeFunction(\n",
              "            'suggestCharts', [key], {});\n",
              "      } catch (error) {\n",
              "        console.error('Error during call to suggestCharts:', error);\n",
              "      }\n",
              "      quickchartButtonEl.classList.remove('colab-df-spinner');\n",
              "      quickchartButtonEl.classList.add('colab-df-quickchart-complete');\n",
              "    }\n",
              "    (() => {\n",
              "      let quickchartButtonEl =\n",
              "        document.querySelector('#df-c077c3f8-9bab-41cb-b7ed-9e2b0d58080e button');\n",
              "      quickchartButtonEl.style.display =\n",
              "        google.colab.kernel.accessAllowed ? 'block' : 'none';\n",
              "    })();\n",
              "  </script>\n",
              "</div>\n",
              "\n",
              "  <div id=\"id_eaabf66d-1367-4854-bcac-12c6d315147d\">\n",
              "    <style>\n",
              "      .colab-df-generate {\n",
              "        background-color: #E8F0FE;\n",
              "        border: none;\n",
              "        border-radius: 50%;\n",
              "        cursor: pointer;\n",
              "        display: none;\n",
              "        fill: #1967D2;\n",
              "        height: 32px;\n",
              "        padding: 0 0 0 0;\n",
              "        width: 32px;\n",
              "      }\n",
              "\n",
              "      .colab-df-generate:hover {\n",
              "        background-color: #E2EBFA;\n",
              "        box-shadow: 0px 1px 2px rgba(60, 64, 67, 0.3), 0px 1px 3px 1px rgba(60, 64, 67, 0.15);\n",
              "        fill: #174EA6;\n",
              "      }\n",
              "\n",
              "      [theme=dark] .colab-df-generate {\n",
              "        background-color: #3B4455;\n",
              "        fill: #D2E3FC;\n",
              "      }\n",
              "\n",
              "      [theme=dark] .colab-df-generate:hover {\n",
              "        background-color: #434B5C;\n",
              "        box-shadow: 0px 1px 3px 1px rgba(0, 0, 0, 0.15);\n",
              "        filter: drop-shadow(0px 1px 2px rgba(0, 0, 0, 0.3));\n",
              "        fill: #FFFFFF;\n",
              "      }\n",
              "    </style>\n",
              "    <button class=\"colab-df-generate\" onclick=\"generateWithVariable('dataset')\"\n",
              "            title=\"Generate code using this dataframe.\"\n",
              "            style=\"display:none;\">\n",
              "\n",
              "  <svg xmlns=\"http://www.w3.org/2000/svg\" height=\"24px\"viewBox=\"0 0 24 24\"\n",
              "       width=\"24px\">\n",
              "    <path d=\"M7,19H8.4L18.45,9,17,7.55,7,17.6ZM5,21V16.75L18.45,3.32a2,2,0,0,1,2.83,0l1.4,1.43a1.91,1.91,0,0,1,.58,1.4,1.91,1.91,0,0,1-.58,1.4L9.25,21ZM18.45,9,17,7.55Zm-12,3A5.31,5.31,0,0,0,4.9,8.1,5.31,5.31,0,0,0,1,6.5,5.31,5.31,0,0,0,4.9,4.9,5.31,5.31,0,0,0,6.5,1,5.31,5.31,0,0,0,8.1,4.9,5.31,5.31,0,0,0,12,6.5,5.46,5.46,0,0,0,6.5,12Z\"/>\n",
              "  </svg>\n",
              "    </button>\n",
              "    <script>\n",
              "      (() => {\n",
              "      const buttonEl =\n",
              "        document.querySelector('#id_eaabf66d-1367-4854-bcac-12c6d315147d button.colab-df-generate');\n",
              "      buttonEl.style.display =\n",
              "        google.colab.kernel.accessAllowed ? 'block' : 'none';\n",
              "\n",
              "      buttonEl.onclick = () => {\n",
              "        google.colab.notebook.generateWithVariable('dataset');\n",
              "      }\n",
              "      })();\n",
              "    </script>\n",
              "  </div>\n",
              "\n",
              "    </div>\n",
              "  </div>\n"
            ],
            "application/vnd.google.colaboratory.intrinsic+json": {
              "type": "dataframe",
              "variable_name": "dataset",
              "summary": "{\n  \"name\": \"dataset\",\n  \"rows\": 1338,\n  \"fields\": [\n    {\n      \"column\": \"age\",\n      \"properties\": {\n        \"dtype\": \"number\",\n        \"std\": 14,\n        \"min\": 18,\n        \"max\": 64,\n        \"num_unique_values\": 47,\n        \"samples\": [\n          21,\n          45,\n          36\n        ],\n        \"semantic_type\": \"\",\n        \"description\": \"\"\n      }\n    },\n    {\n      \"column\": \"sex\",\n      \"properties\": {\n        \"dtype\": \"category\",\n        \"num_unique_values\": 2,\n        \"samples\": [\n          \"male\",\n          \"female\"\n        ],\n        \"semantic_type\": \"\",\n        \"description\": \"\"\n      }\n    },\n    {\n      \"column\": \"bmi\",\n      \"properties\": {\n        \"dtype\": \"number\",\n        \"std\": 6.098186911679014,\n        \"min\": 15.96,\n        \"max\": 53.13,\n        \"num_unique_values\": 548,\n        \"samples\": [\n          23.18,\n          26.885\n        ],\n        \"semantic_type\": \"\",\n        \"description\": \"\"\n      }\n    },\n    {\n      \"column\": \"children\",\n      \"properties\": {\n        \"dtype\": \"number\",\n        \"std\": 1,\n        \"min\": 0,\n        \"max\": 5,\n        \"num_unique_values\": 6,\n        \"samples\": [\n          0,\n          1\n        ],\n        \"semantic_type\": \"\",\n        \"description\": \"\"\n      }\n    },\n    {\n      \"column\": \"smoker\",\n      \"properties\": {\n        \"dtype\": \"category\",\n        \"num_unique_values\": 2,\n        \"samples\": [\n          \"no\",\n          \"yes\"\n        ],\n        \"semantic_type\": \"\",\n        \"description\": \"\"\n      }\n    },\n    {\n      \"column\": \"region\",\n      \"properties\": {\n        \"dtype\": \"category\",\n        \"num_unique_values\": 4,\n        \"samples\": [\n          \"southeast\",\n          \"northeast\"\n        ],\n        \"semantic_type\": \"\",\n        \"description\": \"\"\n      }\n    },\n    {\n      \"column\": \"charges\",\n      \"properties\": {\n        \"dtype\": \"number\",\n        \"std\": 12110.011236694001,\n        \"min\": 1121.8739,\n        \"max\": 63770.42801,\n        \"num_unique_values\": 1337,\n        \"samples\": [\n          8688.85885,\n          5708.867\n        ],\n        \"semantic_type\": \"\",\n        \"description\": \"\"\n      }\n    }\n  ]\n}"
            }
          },
          "metadata": {},
          "execution_count": 187
        }
      ],
      "source": [
        "# Load the dataset\n",
        "\n",
        "import pandas as pd\n",
        "import matplotlib.pyplot as plt\n",
        "import tensorflow as tf\n",
        "\n",
        "dataset = pd.read_csv(\"https://raw.githubusercontent.com/stedy/Machine-Learning-with-R-datasets/master/insurance.csv\")\n",
        "dataset"
      ]
    },
    {
      "cell_type": "code",
      "execution_count": 188,
      "metadata": {
        "colab": {
          "base_uri": "https://localhost:8080/"
        },
        "id": "suXcWqvFTR18",
        "outputId": "fffbda08-991a-4b4d-a4ef-fc14c0c6896d"
      },
      "outputs": [
        {
          "output_type": "execute_result",
          "data": {
            "text/plain": [
              "(0       female\n",
              " 1         male\n",
              " 2         male\n",
              " 3         male\n",
              " 4         male\n",
              "          ...  \n",
              " 1333      male\n",
              " 1334    female\n",
              " 1335    female\n",
              " 1336    female\n",
              " 1337    female\n",
              " Name: sex, Length: 1338, dtype: object,\n",
              " 0       yes\n",
              " 1        no\n",
              " 2        no\n",
              " 3        no\n",
              " 4        no\n",
              "        ... \n",
              " 1333     no\n",
              " 1334     no\n",
              " 1335     no\n",
              " 1336     no\n",
              " 1337    yes\n",
              " Name: smoker, Length: 1338, dtype: object,\n",
              " 0       27.900\n",
              " 1       33.770\n",
              " 2       33.000\n",
              " 3       22.705\n",
              " 4       28.880\n",
              "          ...  \n",
              " 1333    30.970\n",
              " 1334    31.920\n",
              " 1335    36.850\n",
              " 1336    25.800\n",
              " 1337    29.070\n",
              " Name: bmi, Length: 1338, dtype: float64)"
            ]
          },
          "metadata": {},
          "execution_count": 188
        }
      ],
      "source": [
        "dataset[\"sex\"], dataset[\"smoker\"], dataset[\"bmi\"]"
      ]
    },
    {
      "cell_type": "code",
      "execution_count": 189,
      "metadata": {
        "id": "WeeoQ58nTyYS"
      },
      "outputs": [],
      "source": [
        "dataset = pd.get_dummies(dataset)"
      ]
    },
    {
      "cell_type": "code",
      "execution_count": 190,
      "metadata": {
        "colab": {
          "base_uri": "https://localhost:8080/",
          "height": 423
        },
        "id": "2y6sh6NxUWPg",
        "outputId": "7a4f8a26-be26-481d-da5b-0953d7fb4d28"
      },
      "outputs": [
        {
          "output_type": "execute_result",
          "data": {
            "text/plain": [
              "      age     bmi  children      charges  sex_female  sex_male  smoker_no  \\\n",
              "0      19  27.900         0  16884.92400           1         0          0   \n",
              "1      18  33.770         1   1725.55230           0         1          1   \n",
              "2      28  33.000         3   4449.46200           0         1          1   \n",
              "3      33  22.705         0  21984.47061           0         1          1   \n",
              "4      32  28.880         0   3866.85520           0         1          1   \n",
              "...   ...     ...       ...          ...         ...       ...        ...   \n",
              "1333   50  30.970         3  10600.54830           0         1          1   \n",
              "1334   18  31.920         0   2205.98080           1         0          1   \n",
              "1335   18  36.850         0   1629.83350           1         0          1   \n",
              "1336   21  25.800         0   2007.94500           1         0          1   \n",
              "1337   61  29.070         0  29141.36030           1         0          0   \n",
              "\n",
              "      smoker_yes  region_northeast  region_northwest  region_southeast  \\\n",
              "0              1                 0                 0                 0   \n",
              "1              0                 0                 0                 1   \n",
              "2              0                 0                 0                 1   \n",
              "3              0                 0                 1                 0   \n",
              "4              0                 0                 1                 0   \n",
              "...          ...               ...               ...               ...   \n",
              "1333           0                 0                 1                 0   \n",
              "1334           0                 1                 0                 0   \n",
              "1335           0                 0                 0                 1   \n",
              "1336           0                 0                 0                 0   \n",
              "1337           1                 0                 1                 0   \n",
              "\n",
              "      region_southwest  \n",
              "0                    1  \n",
              "1                    0  \n",
              "2                    0  \n",
              "3                    0  \n",
              "4                    0  \n",
              "...                ...  \n",
              "1333                 0  \n",
              "1334                 0  \n",
              "1335                 0  \n",
              "1336                 1  \n",
              "1337                 0  \n",
              "\n",
              "[1338 rows x 12 columns]"
            ],
            "text/html": [
              "\n",
              "  <div id=\"df-43094a48-94c6-4709-b08a-da11e1a675e6\" class=\"colab-df-container\">\n",
              "    <div>\n",
              "<style scoped>\n",
              "    .dataframe tbody tr th:only-of-type {\n",
              "        vertical-align: middle;\n",
              "    }\n",
              "\n",
              "    .dataframe tbody tr th {\n",
              "        vertical-align: top;\n",
              "    }\n",
              "\n",
              "    .dataframe thead th {\n",
              "        text-align: right;\n",
              "    }\n",
              "</style>\n",
              "<table border=\"1\" class=\"dataframe\">\n",
              "  <thead>\n",
              "    <tr style=\"text-align: right;\">\n",
              "      <th></th>\n",
              "      <th>age</th>\n",
              "      <th>bmi</th>\n",
              "      <th>children</th>\n",
              "      <th>charges</th>\n",
              "      <th>sex_female</th>\n",
              "      <th>sex_male</th>\n",
              "      <th>smoker_no</th>\n",
              "      <th>smoker_yes</th>\n",
              "      <th>region_northeast</th>\n",
              "      <th>region_northwest</th>\n",
              "      <th>region_southeast</th>\n",
              "      <th>region_southwest</th>\n",
              "    </tr>\n",
              "  </thead>\n",
              "  <tbody>\n",
              "    <tr>\n",
              "      <th>0</th>\n",
              "      <td>19</td>\n",
              "      <td>27.900</td>\n",
              "      <td>0</td>\n",
              "      <td>16884.92400</td>\n",
              "      <td>1</td>\n",
              "      <td>0</td>\n",
              "      <td>0</td>\n",
              "      <td>1</td>\n",
              "      <td>0</td>\n",
              "      <td>0</td>\n",
              "      <td>0</td>\n",
              "      <td>1</td>\n",
              "    </tr>\n",
              "    <tr>\n",
              "      <th>1</th>\n",
              "      <td>18</td>\n",
              "      <td>33.770</td>\n",
              "      <td>1</td>\n",
              "      <td>1725.55230</td>\n",
              "      <td>0</td>\n",
              "      <td>1</td>\n",
              "      <td>1</td>\n",
              "      <td>0</td>\n",
              "      <td>0</td>\n",
              "      <td>0</td>\n",
              "      <td>1</td>\n",
              "      <td>0</td>\n",
              "    </tr>\n",
              "    <tr>\n",
              "      <th>2</th>\n",
              "      <td>28</td>\n",
              "      <td>33.000</td>\n",
              "      <td>3</td>\n",
              "      <td>4449.46200</td>\n",
              "      <td>0</td>\n",
              "      <td>1</td>\n",
              "      <td>1</td>\n",
              "      <td>0</td>\n",
              "      <td>0</td>\n",
              "      <td>0</td>\n",
              "      <td>1</td>\n",
              "      <td>0</td>\n",
              "    </tr>\n",
              "    <tr>\n",
              "      <th>3</th>\n",
              "      <td>33</td>\n",
              "      <td>22.705</td>\n",
              "      <td>0</td>\n",
              "      <td>21984.47061</td>\n",
              "      <td>0</td>\n",
              "      <td>1</td>\n",
              "      <td>1</td>\n",
              "      <td>0</td>\n",
              "      <td>0</td>\n",
              "      <td>1</td>\n",
              "      <td>0</td>\n",
              "      <td>0</td>\n",
              "    </tr>\n",
              "    <tr>\n",
              "      <th>4</th>\n",
              "      <td>32</td>\n",
              "      <td>28.880</td>\n",
              "      <td>0</td>\n",
              "      <td>3866.85520</td>\n",
              "      <td>0</td>\n",
              "      <td>1</td>\n",
              "      <td>1</td>\n",
              "      <td>0</td>\n",
              "      <td>0</td>\n",
              "      <td>1</td>\n",
              "      <td>0</td>\n",
              "      <td>0</td>\n",
              "    </tr>\n",
              "    <tr>\n",
              "      <th>...</th>\n",
              "      <td>...</td>\n",
              "      <td>...</td>\n",
              "      <td>...</td>\n",
              "      <td>...</td>\n",
              "      <td>...</td>\n",
              "      <td>...</td>\n",
              "      <td>...</td>\n",
              "      <td>...</td>\n",
              "      <td>...</td>\n",
              "      <td>...</td>\n",
              "      <td>...</td>\n",
              "      <td>...</td>\n",
              "    </tr>\n",
              "    <tr>\n",
              "      <th>1333</th>\n",
              "      <td>50</td>\n",
              "      <td>30.970</td>\n",
              "      <td>3</td>\n",
              "      <td>10600.54830</td>\n",
              "      <td>0</td>\n",
              "      <td>1</td>\n",
              "      <td>1</td>\n",
              "      <td>0</td>\n",
              "      <td>0</td>\n",
              "      <td>1</td>\n",
              "      <td>0</td>\n",
              "      <td>0</td>\n",
              "    </tr>\n",
              "    <tr>\n",
              "      <th>1334</th>\n",
              "      <td>18</td>\n",
              "      <td>31.920</td>\n",
              "      <td>0</td>\n",
              "      <td>2205.98080</td>\n",
              "      <td>1</td>\n",
              "      <td>0</td>\n",
              "      <td>1</td>\n",
              "      <td>0</td>\n",
              "      <td>1</td>\n",
              "      <td>0</td>\n",
              "      <td>0</td>\n",
              "      <td>0</td>\n",
              "    </tr>\n",
              "    <tr>\n",
              "      <th>1335</th>\n",
              "      <td>18</td>\n",
              "      <td>36.850</td>\n",
              "      <td>0</td>\n",
              "      <td>1629.83350</td>\n",
              "      <td>1</td>\n",
              "      <td>0</td>\n",
              "      <td>1</td>\n",
              "      <td>0</td>\n",
              "      <td>0</td>\n",
              "      <td>0</td>\n",
              "      <td>1</td>\n",
              "      <td>0</td>\n",
              "    </tr>\n",
              "    <tr>\n",
              "      <th>1336</th>\n",
              "      <td>21</td>\n",
              "      <td>25.800</td>\n",
              "      <td>0</td>\n",
              "      <td>2007.94500</td>\n",
              "      <td>1</td>\n",
              "      <td>0</td>\n",
              "      <td>1</td>\n",
              "      <td>0</td>\n",
              "      <td>0</td>\n",
              "      <td>0</td>\n",
              "      <td>0</td>\n",
              "      <td>1</td>\n",
              "    </tr>\n",
              "    <tr>\n",
              "      <th>1337</th>\n",
              "      <td>61</td>\n",
              "      <td>29.070</td>\n",
              "      <td>0</td>\n",
              "      <td>29141.36030</td>\n",
              "      <td>1</td>\n",
              "      <td>0</td>\n",
              "      <td>0</td>\n",
              "      <td>1</td>\n",
              "      <td>0</td>\n",
              "      <td>1</td>\n",
              "      <td>0</td>\n",
              "      <td>0</td>\n",
              "    </tr>\n",
              "  </tbody>\n",
              "</table>\n",
              "<p>1338 rows × 12 columns</p>\n",
              "</div>\n",
              "    <div class=\"colab-df-buttons\">\n",
              "\n",
              "  <div class=\"colab-df-container\">\n",
              "    <button class=\"colab-df-convert\" onclick=\"convertToInteractive('df-43094a48-94c6-4709-b08a-da11e1a675e6')\"\n",
              "            title=\"Convert this dataframe to an interactive table.\"\n",
              "            style=\"display:none;\">\n",
              "\n",
              "  <svg xmlns=\"http://www.w3.org/2000/svg\" height=\"24px\" viewBox=\"0 -960 960 960\">\n",
              "    <path d=\"M120-120v-720h720v720H120Zm60-500h600v-160H180v160Zm220 220h160v-160H400v160Zm0 220h160v-160H400v160ZM180-400h160v-160H180v160Zm440 0h160v-160H620v160ZM180-180h160v-160H180v160Zm440 0h160v-160H620v160Z\"/>\n",
              "  </svg>\n",
              "    </button>\n",
              "\n",
              "  <style>\n",
              "    .colab-df-container {\n",
              "      display:flex;\n",
              "      gap: 12px;\n",
              "    }\n",
              "\n",
              "    .colab-df-convert {\n",
              "      background-color: #E8F0FE;\n",
              "      border: none;\n",
              "      border-radius: 50%;\n",
              "      cursor: pointer;\n",
              "      display: none;\n",
              "      fill: #1967D2;\n",
              "      height: 32px;\n",
              "      padding: 0 0 0 0;\n",
              "      width: 32px;\n",
              "    }\n",
              "\n",
              "    .colab-df-convert:hover {\n",
              "      background-color: #E2EBFA;\n",
              "      box-shadow: 0px 1px 2px rgba(60, 64, 67, 0.3), 0px 1px 3px 1px rgba(60, 64, 67, 0.15);\n",
              "      fill: #174EA6;\n",
              "    }\n",
              "\n",
              "    .colab-df-buttons div {\n",
              "      margin-bottom: 4px;\n",
              "    }\n",
              "\n",
              "    [theme=dark] .colab-df-convert {\n",
              "      background-color: #3B4455;\n",
              "      fill: #D2E3FC;\n",
              "    }\n",
              "\n",
              "    [theme=dark] .colab-df-convert:hover {\n",
              "      background-color: #434B5C;\n",
              "      box-shadow: 0px 1px 3px 1px rgba(0, 0, 0, 0.15);\n",
              "      filter: drop-shadow(0px 1px 2px rgba(0, 0, 0, 0.3));\n",
              "      fill: #FFFFFF;\n",
              "    }\n",
              "  </style>\n",
              "\n",
              "    <script>\n",
              "      const buttonEl =\n",
              "        document.querySelector('#df-43094a48-94c6-4709-b08a-da11e1a675e6 button.colab-df-convert');\n",
              "      buttonEl.style.display =\n",
              "        google.colab.kernel.accessAllowed ? 'block' : 'none';\n",
              "\n",
              "      async function convertToInteractive(key) {\n",
              "        const element = document.querySelector('#df-43094a48-94c6-4709-b08a-da11e1a675e6');\n",
              "        const dataTable =\n",
              "          await google.colab.kernel.invokeFunction('convertToInteractive',\n",
              "                                                    [key], {});\n",
              "        if (!dataTable) return;\n",
              "\n",
              "        const docLinkHtml = 'Like what you see? Visit the ' +\n",
              "          '<a target=\"_blank\" href=https://colab.research.google.com/notebooks/data_table.ipynb>data table notebook</a>'\n",
              "          + ' to learn more about interactive tables.';\n",
              "        element.innerHTML = '';\n",
              "        dataTable['output_type'] = 'display_data';\n",
              "        await google.colab.output.renderOutput(dataTable, element);\n",
              "        const docLink = document.createElement('div');\n",
              "        docLink.innerHTML = docLinkHtml;\n",
              "        element.appendChild(docLink);\n",
              "      }\n",
              "    </script>\n",
              "  </div>\n",
              "\n",
              "\n",
              "<div id=\"df-b8b98dfa-a3cd-4a5d-9766-c16acc59c70b\">\n",
              "  <button class=\"colab-df-quickchart\" onclick=\"quickchart('df-b8b98dfa-a3cd-4a5d-9766-c16acc59c70b')\"\n",
              "            title=\"Suggest charts\"\n",
              "            style=\"display:none;\">\n",
              "\n",
              "<svg xmlns=\"http://www.w3.org/2000/svg\" height=\"24px\"viewBox=\"0 0 24 24\"\n",
              "     width=\"24px\">\n",
              "    <g>\n",
              "        <path d=\"M19 3H5c-1.1 0-2 .9-2 2v14c0 1.1.9 2 2 2h14c1.1 0 2-.9 2-2V5c0-1.1-.9-2-2-2zM9 17H7v-7h2v7zm4 0h-2V7h2v10zm4 0h-2v-4h2v4z\"/>\n",
              "    </g>\n",
              "</svg>\n",
              "  </button>\n",
              "\n",
              "<style>\n",
              "  .colab-df-quickchart {\n",
              "      --bg-color: #E8F0FE;\n",
              "      --fill-color: #1967D2;\n",
              "      --hover-bg-color: #E2EBFA;\n",
              "      --hover-fill-color: #174EA6;\n",
              "      --disabled-fill-color: #AAA;\n",
              "      --disabled-bg-color: #DDD;\n",
              "  }\n",
              "\n",
              "  [theme=dark] .colab-df-quickchart {\n",
              "      --bg-color: #3B4455;\n",
              "      --fill-color: #D2E3FC;\n",
              "      --hover-bg-color: #434B5C;\n",
              "      --hover-fill-color: #FFFFFF;\n",
              "      --disabled-bg-color: #3B4455;\n",
              "      --disabled-fill-color: #666;\n",
              "  }\n",
              "\n",
              "  .colab-df-quickchart {\n",
              "    background-color: var(--bg-color);\n",
              "    border: none;\n",
              "    border-radius: 50%;\n",
              "    cursor: pointer;\n",
              "    display: none;\n",
              "    fill: var(--fill-color);\n",
              "    height: 32px;\n",
              "    padding: 0;\n",
              "    width: 32px;\n",
              "  }\n",
              "\n",
              "  .colab-df-quickchart:hover {\n",
              "    background-color: var(--hover-bg-color);\n",
              "    box-shadow: 0 1px 2px rgba(60, 64, 67, 0.3), 0 1px 3px 1px rgba(60, 64, 67, 0.15);\n",
              "    fill: var(--button-hover-fill-color);\n",
              "  }\n",
              "\n",
              "  .colab-df-quickchart-complete:disabled,\n",
              "  .colab-df-quickchart-complete:disabled:hover {\n",
              "    background-color: var(--disabled-bg-color);\n",
              "    fill: var(--disabled-fill-color);\n",
              "    box-shadow: none;\n",
              "  }\n",
              "\n",
              "  .colab-df-spinner {\n",
              "    border: 2px solid var(--fill-color);\n",
              "    border-color: transparent;\n",
              "    border-bottom-color: var(--fill-color);\n",
              "    animation:\n",
              "      spin 1s steps(1) infinite;\n",
              "  }\n",
              "\n",
              "  @keyframes spin {\n",
              "    0% {\n",
              "      border-color: transparent;\n",
              "      border-bottom-color: var(--fill-color);\n",
              "      border-left-color: var(--fill-color);\n",
              "    }\n",
              "    20% {\n",
              "      border-color: transparent;\n",
              "      border-left-color: var(--fill-color);\n",
              "      border-top-color: var(--fill-color);\n",
              "    }\n",
              "    30% {\n",
              "      border-color: transparent;\n",
              "      border-left-color: var(--fill-color);\n",
              "      border-top-color: var(--fill-color);\n",
              "      border-right-color: var(--fill-color);\n",
              "    }\n",
              "    40% {\n",
              "      border-color: transparent;\n",
              "      border-right-color: var(--fill-color);\n",
              "      border-top-color: var(--fill-color);\n",
              "    }\n",
              "    60% {\n",
              "      border-color: transparent;\n",
              "      border-right-color: var(--fill-color);\n",
              "    }\n",
              "    80% {\n",
              "      border-color: transparent;\n",
              "      border-right-color: var(--fill-color);\n",
              "      border-bottom-color: var(--fill-color);\n",
              "    }\n",
              "    90% {\n",
              "      border-color: transparent;\n",
              "      border-bottom-color: var(--fill-color);\n",
              "    }\n",
              "  }\n",
              "</style>\n",
              "\n",
              "  <script>\n",
              "    async function quickchart(key) {\n",
              "      const quickchartButtonEl =\n",
              "        document.querySelector('#' + key + ' button');\n",
              "      quickchartButtonEl.disabled = true;  // To prevent multiple clicks.\n",
              "      quickchartButtonEl.classList.add('colab-df-spinner');\n",
              "      try {\n",
              "        const charts = await google.colab.kernel.invokeFunction(\n",
              "            'suggestCharts', [key], {});\n",
              "      } catch (error) {\n",
              "        console.error('Error during call to suggestCharts:', error);\n",
              "      }\n",
              "      quickchartButtonEl.classList.remove('colab-df-spinner');\n",
              "      quickchartButtonEl.classList.add('colab-df-quickchart-complete');\n",
              "    }\n",
              "    (() => {\n",
              "      let quickchartButtonEl =\n",
              "        document.querySelector('#df-b8b98dfa-a3cd-4a5d-9766-c16acc59c70b button');\n",
              "      quickchartButtonEl.style.display =\n",
              "        google.colab.kernel.accessAllowed ? 'block' : 'none';\n",
              "    })();\n",
              "  </script>\n",
              "</div>\n",
              "\n",
              "  <div id=\"id_2718506f-562a-4a64-9e82-361ee56c07c4\">\n",
              "    <style>\n",
              "      .colab-df-generate {\n",
              "        background-color: #E8F0FE;\n",
              "        border: none;\n",
              "        border-radius: 50%;\n",
              "        cursor: pointer;\n",
              "        display: none;\n",
              "        fill: #1967D2;\n",
              "        height: 32px;\n",
              "        padding: 0 0 0 0;\n",
              "        width: 32px;\n",
              "      }\n",
              "\n",
              "      .colab-df-generate:hover {\n",
              "        background-color: #E2EBFA;\n",
              "        box-shadow: 0px 1px 2px rgba(60, 64, 67, 0.3), 0px 1px 3px 1px rgba(60, 64, 67, 0.15);\n",
              "        fill: #174EA6;\n",
              "      }\n",
              "\n",
              "      [theme=dark] .colab-df-generate {\n",
              "        background-color: #3B4455;\n",
              "        fill: #D2E3FC;\n",
              "      }\n",
              "\n",
              "      [theme=dark] .colab-df-generate:hover {\n",
              "        background-color: #434B5C;\n",
              "        box-shadow: 0px 1px 3px 1px rgba(0, 0, 0, 0.15);\n",
              "        filter: drop-shadow(0px 1px 2px rgba(0, 0, 0, 0.3));\n",
              "        fill: #FFFFFF;\n",
              "      }\n",
              "    </style>\n",
              "    <button class=\"colab-df-generate\" onclick=\"generateWithVariable('dataset')\"\n",
              "            title=\"Generate code using this dataframe.\"\n",
              "            style=\"display:none;\">\n",
              "\n",
              "  <svg xmlns=\"http://www.w3.org/2000/svg\" height=\"24px\"viewBox=\"0 0 24 24\"\n",
              "       width=\"24px\">\n",
              "    <path d=\"M7,19H8.4L18.45,9,17,7.55,7,17.6ZM5,21V16.75L18.45,3.32a2,2,0,0,1,2.83,0l1.4,1.43a1.91,1.91,0,0,1,.58,1.4,1.91,1.91,0,0,1-.58,1.4L9.25,21ZM18.45,9,17,7.55Zm-12,3A5.31,5.31,0,0,0,4.9,8.1,5.31,5.31,0,0,0,1,6.5,5.31,5.31,0,0,0,4.9,4.9,5.31,5.31,0,0,0,6.5,1,5.31,5.31,0,0,0,8.1,4.9,5.31,5.31,0,0,0,12,6.5,5.46,5.46,0,0,0,6.5,12Z\"/>\n",
              "  </svg>\n",
              "    </button>\n",
              "    <script>\n",
              "      (() => {\n",
              "      const buttonEl =\n",
              "        document.querySelector('#id_2718506f-562a-4a64-9e82-361ee56c07c4 button.colab-df-generate');\n",
              "      buttonEl.style.display =\n",
              "        google.colab.kernel.accessAllowed ? 'block' : 'none';\n",
              "\n",
              "      buttonEl.onclick = () => {\n",
              "        google.colab.notebook.generateWithVariable('dataset');\n",
              "      }\n",
              "      })();\n",
              "    </script>\n",
              "  </div>\n",
              "\n",
              "    </div>\n",
              "  </div>\n"
            ],
            "application/vnd.google.colaboratory.intrinsic+json": {
              "type": "dataframe",
              "variable_name": "dataset",
              "summary": "{\n  \"name\": \"dataset\",\n  \"rows\": 1338,\n  \"fields\": [\n    {\n      \"column\": \"age\",\n      \"properties\": {\n        \"dtype\": \"number\",\n        \"std\": 14,\n        \"min\": 18,\n        \"max\": 64,\n        \"num_unique_values\": 47,\n        \"samples\": [\n          21,\n          45,\n          36\n        ],\n        \"semantic_type\": \"\",\n        \"description\": \"\"\n      }\n    },\n    {\n      \"column\": \"bmi\",\n      \"properties\": {\n        \"dtype\": \"number\",\n        \"std\": 6.098186911679014,\n        \"min\": 15.96,\n        \"max\": 53.13,\n        \"num_unique_values\": 548,\n        \"samples\": [\n          23.18,\n          26.885,\n          29.26\n        ],\n        \"semantic_type\": \"\",\n        \"description\": \"\"\n      }\n    },\n    {\n      \"column\": \"children\",\n      \"properties\": {\n        \"dtype\": \"number\",\n        \"std\": 1,\n        \"min\": 0,\n        \"max\": 5,\n        \"num_unique_values\": 6,\n        \"samples\": [\n          0,\n          1,\n          4\n        ],\n        \"semantic_type\": \"\",\n        \"description\": \"\"\n      }\n    },\n    {\n      \"column\": \"charges\",\n      \"properties\": {\n        \"dtype\": \"number\",\n        \"std\": 12110.011236694001,\n        \"min\": 1121.8739,\n        \"max\": 63770.42801,\n        \"num_unique_values\": 1337,\n        \"samples\": [\n          8688.85885,\n          5708.867,\n          11436.73815\n        ],\n        \"semantic_type\": \"\",\n        \"description\": \"\"\n      }\n    },\n    {\n      \"column\": \"sex_female\",\n      \"properties\": {\n        \"dtype\": \"number\",\n        \"std\": 0,\n        \"min\": 0,\n        \"max\": 1,\n        \"num_unique_values\": 2,\n        \"samples\": [\n          0,\n          1\n        ],\n        \"semantic_type\": \"\",\n        \"description\": \"\"\n      }\n    },\n    {\n      \"column\": \"sex_male\",\n      \"properties\": {\n        \"dtype\": \"number\",\n        \"std\": 0,\n        \"min\": 0,\n        \"max\": 1,\n        \"num_unique_values\": 2,\n        \"samples\": [\n          1,\n          0\n        ],\n        \"semantic_type\": \"\",\n        \"description\": \"\"\n      }\n    },\n    {\n      \"column\": \"smoker_no\",\n      \"properties\": {\n        \"dtype\": \"number\",\n        \"std\": 0,\n        \"min\": 0,\n        \"max\": 1,\n        \"num_unique_values\": 2,\n        \"samples\": [\n          1,\n          0\n        ],\n        \"semantic_type\": \"\",\n        \"description\": \"\"\n      }\n    },\n    {\n      \"column\": \"smoker_yes\",\n      \"properties\": {\n        \"dtype\": \"number\",\n        \"std\": 0,\n        \"min\": 0,\n        \"max\": 1,\n        \"num_unique_values\": 2,\n        \"samples\": [\n          0,\n          1\n        ],\n        \"semantic_type\": \"\",\n        \"description\": \"\"\n      }\n    },\n    {\n      \"column\": \"region_northeast\",\n      \"properties\": {\n        \"dtype\": \"number\",\n        \"std\": 0,\n        \"min\": 0,\n        \"max\": 1,\n        \"num_unique_values\": 2,\n        \"samples\": [\n          1,\n          0\n        ],\n        \"semantic_type\": \"\",\n        \"description\": \"\"\n      }\n    },\n    {\n      \"column\": \"region_northwest\",\n      \"properties\": {\n        \"dtype\": \"number\",\n        \"std\": 0,\n        \"min\": 0,\n        \"max\": 1,\n        \"num_unique_values\": 2,\n        \"samples\": [\n          1,\n          0\n        ],\n        \"semantic_type\": \"\",\n        \"description\": \"\"\n      }\n    },\n    {\n      \"column\": \"region_southeast\",\n      \"properties\": {\n        \"dtype\": \"number\",\n        \"std\": 0,\n        \"min\": 0,\n        \"max\": 1,\n        \"num_unique_values\": 2,\n        \"samples\": [\n          1,\n          0\n        ],\n        \"semantic_type\": \"\",\n        \"description\": \"\"\n      }\n    },\n    {\n      \"column\": \"region_southwest\",\n      \"properties\": {\n        \"dtype\": \"number\",\n        \"std\": 0,\n        \"min\": 0,\n        \"max\": 1,\n        \"num_unique_values\": 2,\n        \"samples\": [\n          0,\n          1\n        ],\n        \"semantic_type\": \"\",\n        \"description\": \"\"\n      }\n    }\n  ]\n}"
            }
          },
          "metadata": {},
          "execution_count": 190
        }
      ],
      "source": [
        "dataset[\"sex_female\"] = dataset[\"sex_female\"].astype(int)\n",
        "dataset[\"smoker_yes\"] = dataset[\"smoker_yes\"].astype(int)\n",
        "dataset[\"sex_male\"] = dataset[\"sex_male\"].astype(int)\n",
        "dataset[\"smoker_no\"] = dataset[\"smoker_no\"].astype(int)\n",
        "dataset[\"region_northwest\"] = dataset[\"region_northwest\"].astype(int)\n",
        "dataset[\"region_southeast\"] = dataset[\"region_southeast\"].astype(int)\n",
        "dataset[\"region_southwest\"] = dataset[\"region_southwest\"].astype(int)\n",
        "dataset[\"region_northeast\"] = dataset[\"region_northeast\"].astype(int)\n",
        "dataset"
      ]
    },
    {
      "cell_type": "code",
      "execution_count": 191,
      "metadata": {
        "colab": {
          "base_uri": "https://localhost:8080/",
          "height": 206
        },
        "id": "t-MJjAB9UiCh",
        "outputId": "91fd5c54-0aa9-44e6-83ee-675faee23706"
      },
      "outputs": [
        {
          "output_type": "execute_result",
          "data": {
            "text/plain": [
              "   age     bmi  children      charges  sex_female  sex_male  smoker_no  \\\n",
              "0   19  27.900         0  16884.92400           1         0          0   \n",
              "1   18  33.770         1   1725.55230           0         1          1   \n",
              "2   28  33.000         3   4449.46200           0         1          1   \n",
              "3   33  22.705         0  21984.47061           0         1          1   \n",
              "4   32  28.880         0   3866.85520           0         1          1   \n",
              "\n",
              "   smoker_yes  region_northeast  region_northwest  region_southeast  \\\n",
              "0           1                 0                 0                 0   \n",
              "1           0                 0                 0                 1   \n",
              "2           0                 0                 0                 1   \n",
              "3           0                 0                 1                 0   \n",
              "4           0                 0                 1                 0   \n",
              "\n",
              "   region_southwest  \n",
              "0                 1  \n",
              "1                 0  \n",
              "2                 0  \n",
              "3                 0  \n",
              "4                 0  "
            ],
            "text/html": [
              "\n",
              "  <div id=\"df-33898085-586b-4b09-b69f-79ba483b782b\" class=\"colab-df-container\">\n",
              "    <div>\n",
              "<style scoped>\n",
              "    .dataframe tbody tr th:only-of-type {\n",
              "        vertical-align: middle;\n",
              "    }\n",
              "\n",
              "    .dataframe tbody tr th {\n",
              "        vertical-align: top;\n",
              "    }\n",
              "\n",
              "    .dataframe thead th {\n",
              "        text-align: right;\n",
              "    }\n",
              "</style>\n",
              "<table border=\"1\" class=\"dataframe\">\n",
              "  <thead>\n",
              "    <tr style=\"text-align: right;\">\n",
              "      <th></th>\n",
              "      <th>age</th>\n",
              "      <th>bmi</th>\n",
              "      <th>children</th>\n",
              "      <th>charges</th>\n",
              "      <th>sex_female</th>\n",
              "      <th>sex_male</th>\n",
              "      <th>smoker_no</th>\n",
              "      <th>smoker_yes</th>\n",
              "      <th>region_northeast</th>\n",
              "      <th>region_northwest</th>\n",
              "      <th>region_southeast</th>\n",
              "      <th>region_southwest</th>\n",
              "    </tr>\n",
              "  </thead>\n",
              "  <tbody>\n",
              "    <tr>\n",
              "      <th>0</th>\n",
              "      <td>19</td>\n",
              "      <td>27.900</td>\n",
              "      <td>0</td>\n",
              "      <td>16884.92400</td>\n",
              "      <td>1</td>\n",
              "      <td>0</td>\n",
              "      <td>0</td>\n",
              "      <td>1</td>\n",
              "      <td>0</td>\n",
              "      <td>0</td>\n",
              "      <td>0</td>\n",
              "      <td>1</td>\n",
              "    </tr>\n",
              "    <tr>\n",
              "      <th>1</th>\n",
              "      <td>18</td>\n",
              "      <td>33.770</td>\n",
              "      <td>1</td>\n",
              "      <td>1725.55230</td>\n",
              "      <td>0</td>\n",
              "      <td>1</td>\n",
              "      <td>1</td>\n",
              "      <td>0</td>\n",
              "      <td>0</td>\n",
              "      <td>0</td>\n",
              "      <td>1</td>\n",
              "      <td>0</td>\n",
              "    </tr>\n",
              "    <tr>\n",
              "      <th>2</th>\n",
              "      <td>28</td>\n",
              "      <td>33.000</td>\n",
              "      <td>3</td>\n",
              "      <td>4449.46200</td>\n",
              "      <td>0</td>\n",
              "      <td>1</td>\n",
              "      <td>1</td>\n",
              "      <td>0</td>\n",
              "      <td>0</td>\n",
              "      <td>0</td>\n",
              "      <td>1</td>\n",
              "      <td>0</td>\n",
              "    </tr>\n",
              "    <tr>\n",
              "      <th>3</th>\n",
              "      <td>33</td>\n",
              "      <td>22.705</td>\n",
              "      <td>0</td>\n",
              "      <td>21984.47061</td>\n",
              "      <td>0</td>\n",
              "      <td>1</td>\n",
              "      <td>1</td>\n",
              "      <td>0</td>\n",
              "      <td>0</td>\n",
              "      <td>1</td>\n",
              "      <td>0</td>\n",
              "      <td>0</td>\n",
              "    </tr>\n",
              "    <tr>\n",
              "      <th>4</th>\n",
              "      <td>32</td>\n",
              "      <td>28.880</td>\n",
              "      <td>0</td>\n",
              "      <td>3866.85520</td>\n",
              "      <td>0</td>\n",
              "      <td>1</td>\n",
              "      <td>1</td>\n",
              "      <td>0</td>\n",
              "      <td>0</td>\n",
              "      <td>1</td>\n",
              "      <td>0</td>\n",
              "      <td>0</td>\n",
              "    </tr>\n",
              "  </tbody>\n",
              "</table>\n",
              "</div>\n",
              "    <div class=\"colab-df-buttons\">\n",
              "\n",
              "  <div class=\"colab-df-container\">\n",
              "    <button class=\"colab-df-convert\" onclick=\"convertToInteractive('df-33898085-586b-4b09-b69f-79ba483b782b')\"\n",
              "            title=\"Convert this dataframe to an interactive table.\"\n",
              "            style=\"display:none;\">\n",
              "\n",
              "  <svg xmlns=\"http://www.w3.org/2000/svg\" height=\"24px\" viewBox=\"0 -960 960 960\">\n",
              "    <path d=\"M120-120v-720h720v720H120Zm60-500h600v-160H180v160Zm220 220h160v-160H400v160Zm0 220h160v-160H400v160ZM180-400h160v-160H180v160Zm440 0h160v-160H620v160ZM180-180h160v-160H180v160Zm440 0h160v-160H620v160Z\"/>\n",
              "  </svg>\n",
              "    </button>\n",
              "\n",
              "  <style>\n",
              "    .colab-df-container {\n",
              "      display:flex;\n",
              "      gap: 12px;\n",
              "    }\n",
              "\n",
              "    .colab-df-convert {\n",
              "      background-color: #E8F0FE;\n",
              "      border: none;\n",
              "      border-radius: 50%;\n",
              "      cursor: pointer;\n",
              "      display: none;\n",
              "      fill: #1967D2;\n",
              "      height: 32px;\n",
              "      padding: 0 0 0 0;\n",
              "      width: 32px;\n",
              "    }\n",
              "\n",
              "    .colab-df-convert:hover {\n",
              "      background-color: #E2EBFA;\n",
              "      box-shadow: 0px 1px 2px rgba(60, 64, 67, 0.3), 0px 1px 3px 1px rgba(60, 64, 67, 0.15);\n",
              "      fill: #174EA6;\n",
              "    }\n",
              "\n",
              "    .colab-df-buttons div {\n",
              "      margin-bottom: 4px;\n",
              "    }\n",
              "\n",
              "    [theme=dark] .colab-df-convert {\n",
              "      background-color: #3B4455;\n",
              "      fill: #D2E3FC;\n",
              "    }\n",
              "\n",
              "    [theme=dark] .colab-df-convert:hover {\n",
              "      background-color: #434B5C;\n",
              "      box-shadow: 0px 1px 3px 1px rgba(0, 0, 0, 0.15);\n",
              "      filter: drop-shadow(0px 1px 2px rgba(0, 0, 0, 0.3));\n",
              "      fill: #FFFFFF;\n",
              "    }\n",
              "  </style>\n",
              "\n",
              "    <script>\n",
              "      const buttonEl =\n",
              "        document.querySelector('#df-33898085-586b-4b09-b69f-79ba483b782b button.colab-df-convert');\n",
              "      buttonEl.style.display =\n",
              "        google.colab.kernel.accessAllowed ? 'block' : 'none';\n",
              "\n",
              "      async function convertToInteractive(key) {\n",
              "        const element = document.querySelector('#df-33898085-586b-4b09-b69f-79ba483b782b');\n",
              "        const dataTable =\n",
              "          await google.colab.kernel.invokeFunction('convertToInteractive',\n",
              "                                                    [key], {});\n",
              "        if (!dataTable) return;\n",
              "\n",
              "        const docLinkHtml = 'Like what you see? Visit the ' +\n",
              "          '<a target=\"_blank\" href=https://colab.research.google.com/notebooks/data_table.ipynb>data table notebook</a>'\n",
              "          + ' to learn more about interactive tables.';\n",
              "        element.innerHTML = '';\n",
              "        dataTable['output_type'] = 'display_data';\n",
              "        await google.colab.output.renderOutput(dataTable, element);\n",
              "        const docLink = document.createElement('div');\n",
              "        docLink.innerHTML = docLinkHtml;\n",
              "        element.appendChild(docLink);\n",
              "      }\n",
              "    </script>\n",
              "  </div>\n",
              "\n",
              "\n",
              "<div id=\"df-8d317323-38e3-4eac-8db4-4c0385ca33ed\">\n",
              "  <button class=\"colab-df-quickchart\" onclick=\"quickchart('df-8d317323-38e3-4eac-8db4-4c0385ca33ed')\"\n",
              "            title=\"Suggest charts\"\n",
              "            style=\"display:none;\">\n",
              "\n",
              "<svg xmlns=\"http://www.w3.org/2000/svg\" height=\"24px\"viewBox=\"0 0 24 24\"\n",
              "     width=\"24px\">\n",
              "    <g>\n",
              "        <path d=\"M19 3H5c-1.1 0-2 .9-2 2v14c0 1.1.9 2 2 2h14c1.1 0 2-.9 2-2V5c0-1.1-.9-2-2-2zM9 17H7v-7h2v7zm4 0h-2V7h2v10zm4 0h-2v-4h2v4z\"/>\n",
              "    </g>\n",
              "</svg>\n",
              "  </button>\n",
              "\n",
              "<style>\n",
              "  .colab-df-quickchart {\n",
              "      --bg-color: #E8F0FE;\n",
              "      --fill-color: #1967D2;\n",
              "      --hover-bg-color: #E2EBFA;\n",
              "      --hover-fill-color: #174EA6;\n",
              "      --disabled-fill-color: #AAA;\n",
              "      --disabled-bg-color: #DDD;\n",
              "  }\n",
              "\n",
              "  [theme=dark] .colab-df-quickchart {\n",
              "      --bg-color: #3B4455;\n",
              "      --fill-color: #D2E3FC;\n",
              "      --hover-bg-color: #434B5C;\n",
              "      --hover-fill-color: #FFFFFF;\n",
              "      --disabled-bg-color: #3B4455;\n",
              "      --disabled-fill-color: #666;\n",
              "  }\n",
              "\n",
              "  .colab-df-quickchart {\n",
              "    background-color: var(--bg-color);\n",
              "    border: none;\n",
              "    border-radius: 50%;\n",
              "    cursor: pointer;\n",
              "    display: none;\n",
              "    fill: var(--fill-color);\n",
              "    height: 32px;\n",
              "    padding: 0;\n",
              "    width: 32px;\n",
              "  }\n",
              "\n",
              "  .colab-df-quickchart:hover {\n",
              "    background-color: var(--hover-bg-color);\n",
              "    box-shadow: 0 1px 2px rgba(60, 64, 67, 0.3), 0 1px 3px 1px rgba(60, 64, 67, 0.15);\n",
              "    fill: var(--button-hover-fill-color);\n",
              "  }\n",
              "\n",
              "  .colab-df-quickchart-complete:disabled,\n",
              "  .colab-df-quickchart-complete:disabled:hover {\n",
              "    background-color: var(--disabled-bg-color);\n",
              "    fill: var(--disabled-fill-color);\n",
              "    box-shadow: none;\n",
              "  }\n",
              "\n",
              "  .colab-df-spinner {\n",
              "    border: 2px solid var(--fill-color);\n",
              "    border-color: transparent;\n",
              "    border-bottom-color: var(--fill-color);\n",
              "    animation:\n",
              "      spin 1s steps(1) infinite;\n",
              "  }\n",
              "\n",
              "  @keyframes spin {\n",
              "    0% {\n",
              "      border-color: transparent;\n",
              "      border-bottom-color: var(--fill-color);\n",
              "      border-left-color: var(--fill-color);\n",
              "    }\n",
              "    20% {\n",
              "      border-color: transparent;\n",
              "      border-left-color: var(--fill-color);\n",
              "      border-top-color: var(--fill-color);\n",
              "    }\n",
              "    30% {\n",
              "      border-color: transparent;\n",
              "      border-left-color: var(--fill-color);\n",
              "      border-top-color: var(--fill-color);\n",
              "      border-right-color: var(--fill-color);\n",
              "    }\n",
              "    40% {\n",
              "      border-color: transparent;\n",
              "      border-right-color: var(--fill-color);\n",
              "      border-top-color: var(--fill-color);\n",
              "    }\n",
              "    60% {\n",
              "      border-color: transparent;\n",
              "      border-right-color: var(--fill-color);\n",
              "    }\n",
              "    80% {\n",
              "      border-color: transparent;\n",
              "      border-right-color: var(--fill-color);\n",
              "      border-bottom-color: var(--fill-color);\n",
              "    }\n",
              "    90% {\n",
              "      border-color: transparent;\n",
              "      border-bottom-color: var(--fill-color);\n",
              "    }\n",
              "  }\n",
              "</style>\n",
              "\n",
              "  <script>\n",
              "    async function quickchart(key) {\n",
              "      const quickchartButtonEl =\n",
              "        document.querySelector('#' + key + ' button');\n",
              "      quickchartButtonEl.disabled = true;  // To prevent multiple clicks.\n",
              "      quickchartButtonEl.classList.add('colab-df-spinner');\n",
              "      try {\n",
              "        const charts = await google.colab.kernel.invokeFunction(\n",
              "            'suggestCharts', [key], {});\n",
              "      } catch (error) {\n",
              "        console.error('Error during call to suggestCharts:', error);\n",
              "      }\n",
              "      quickchartButtonEl.classList.remove('colab-df-spinner');\n",
              "      quickchartButtonEl.classList.add('colab-df-quickchart-complete');\n",
              "    }\n",
              "    (() => {\n",
              "      let quickchartButtonEl =\n",
              "        document.querySelector('#df-8d317323-38e3-4eac-8db4-4c0385ca33ed button');\n",
              "      quickchartButtonEl.style.display =\n",
              "        google.colab.kernel.accessAllowed ? 'block' : 'none';\n",
              "    })();\n",
              "  </script>\n",
              "</div>\n",
              "\n",
              "    </div>\n",
              "  </div>\n"
            ],
            "application/vnd.google.colaboratory.intrinsic+json": {
              "type": "dataframe",
              "variable_name": "dataset",
              "summary": "{\n  \"name\": \"dataset\",\n  \"rows\": 1338,\n  \"fields\": [\n    {\n      \"column\": \"age\",\n      \"properties\": {\n        \"dtype\": \"number\",\n        \"std\": 14,\n        \"min\": 18,\n        \"max\": 64,\n        \"num_unique_values\": 47,\n        \"samples\": [\n          21,\n          45,\n          36\n        ],\n        \"semantic_type\": \"\",\n        \"description\": \"\"\n      }\n    },\n    {\n      \"column\": \"bmi\",\n      \"properties\": {\n        \"dtype\": \"number\",\n        \"std\": 6.098186911679014,\n        \"min\": 15.96,\n        \"max\": 53.13,\n        \"num_unique_values\": 548,\n        \"samples\": [\n          23.18,\n          26.885,\n          29.26\n        ],\n        \"semantic_type\": \"\",\n        \"description\": \"\"\n      }\n    },\n    {\n      \"column\": \"children\",\n      \"properties\": {\n        \"dtype\": \"number\",\n        \"std\": 1,\n        \"min\": 0,\n        \"max\": 5,\n        \"num_unique_values\": 6,\n        \"samples\": [\n          0,\n          1,\n          4\n        ],\n        \"semantic_type\": \"\",\n        \"description\": \"\"\n      }\n    },\n    {\n      \"column\": \"charges\",\n      \"properties\": {\n        \"dtype\": \"number\",\n        \"std\": 12110.011236694001,\n        \"min\": 1121.8739,\n        \"max\": 63770.42801,\n        \"num_unique_values\": 1337,\n        \"samples\": [\n          8688.85885,\n          5708.867,\n          11436.73815\n        ],\n        \"semantic_type\": \"\",\n        \"description\": \"\"\n      }\n    },\n    {\n      \"column\": \"sex_female\",\n      \"properties\": {\n        \"dtype\": \"number\",\n        \"std\": 0,\n        \"min\": 0,\n        \"max\": 1,\n        \"num_unique_values\": 2,\n        \"samples\": [\n          0,\n          1\n        ],\n        \"semantic_type\": \"\",\n        \"description\": \"\"\n      }\n    },\n    {\n      \"column\": \"sex_male\",\n      \"properties\": {\n        \"dtype\": \"number\",\n        \"std\": 0,\n        \"min\": 0,\n        \"max\": 1,\n        \"num_unique_values\": 2,\n        \"samples\": [\n          1,\n          0\n        ],\n        \"semantic_type\": \"\",\n        \"description\": \"\"\n      }\n    },\n    {\n      \"column\": \"smoker_no\",\n      \"properties\": {\n        \"dtype\": \"number\",\n        \"std\": 0,\n        \"min\": 0,\n        \"max\": 1,\n        \"num_unique_values\": 2,\n        \"samples\": [\n          1,\n          0\n        ],\n        \"semantic_type\": \"\",\n        \"description\": \"\"\n      }\n    },\n    {\n      \"column\": \"smoker_yes\",\n      \"properties\": {\n        \"dtype\": \"number\",\n        \"std\": 0,\n        \"min\": 0,\n        \"max\": 1,\n        \"num_unique_values\": 2,\n        \"samples\": [\n          0,\n          1\n        ],\n        \"semantic_type\": \"\",\n        \"description\": \"\"\n      }\n    },\n    {\n      \"column\": \"region_northeast\",\n      \"properties\": {\n        \"dtype\": \"number\",\n        \"std\": 0,\n        \"min\": 0,\n        \"max\": 1,\n        \"num_unique_values\": 2,\n        \"samples\": [\n          1,\n          0\n        ],\n        \"semantic_type\": \"\",\n        \"description\": \"\"\n      }\n    },\n    {\n      \"column\": \"region_northwest\",\n      \"properties\": {\n        \"dtype\": \"number\",\n        \"std\": 0,\n        \"min\": 0,\n        \"max\": 1,\n        \"num_unique_values\": 2,\n        \"samples\": [\n          1,\n          0\n        ],\n        \"semantic_type\": \"\",\n        \"description\": \"\"\n      }\n    },\n    {\n      \"column\": \"region_southeast\",\n      \"properties\": {\n        \"dtype\": \"number\",\n        \"std\": 0,\n        \"min\": 0,\n        \"max\": 1,\n        \"num_unique_values\": 2,\n        \"samples\": [\n          1,\n          0\n        ],\n        \"semantic_type\": \"\",\n        \"description\": \"\"\n      }\n    },\n    {\n      \"column\": \"region_southwest\",\n      \"properties\": {\n        \"dtype\": \"number\",\n        \"std\": 0,\n        \"min\": 0,\n        \"max\": 1,\n        \"num_unique_values\": 2,\n        \"samples\": [\n          0,\n          1\n        ],\n        \"semantic_type\": \"\",\n        \"description\": \"\"\n      }\n    }\n  ]\n}"
            }
          },
          "metadata": {},
          "execution_count": 191
        }
      ],
      "source": [
        "dataset.head()"
      ]
    },
    {
      "cell_type": "code",
      "execution_count": 192,
      "metadata": {
        "colab": {
          "base_uri": "https://localhost:8080/",
          "height": 206
        },
        "id": "VkoIcEjx44ls",
        "outputId": "3cd4b115-53b1-450c-a5bd-2f0a3dcfc9a0"
      },
      "outputs": [
        {
          "output_type": "execute_result",
          "data": {
            "text/plain": [
              "   age     bmi  children  sex_female  sex_male  smoker_no  smoker_yes  \\\n",
              "0   19  27.900         0           1         0          0           1   \n",
              "1   18  33.770         1           0         1          1           0   \n",
              "2   28  33.000         3           0         1          1           0   \n",
              "3   33  22.705         0           0         1          1           0   \n",
              "4   32  28.880         0           0         1          1           0   \n",
              "\n",
              "   region_northeast  region_northwest  region_southeast  region_southwest  \n",
              "0                 0                 0                 0                 1  \n",
              "1                 0                 0                 1                 0  \n",
              "2                 0                 0                 1                 0  \n",
              "3                 0                 1                 0                 0  \n",
              "4                 0                 1                 0                 0  "
            ],
            "text/html": [
              "\n",
              "  <div id=\"df-11f3ce2d-bc07-45bc-8a37-78ce9222b559\" class=\"colab-df-container\">\n",
              "    <div>\n",
              "<style scoped>\n",
              "    .dataframe tbody tr th:only-of-type {\n",
              "        vertical-align: middle;\n",
              "    }\n",
              "\n",
              "    .dataframe tbody tr th {\n",
              "        vertical-align: top;\n",
              "    }\n",
              "\n",
              "    .dataframe thead th {\n",
              "        text-align: right;\n",
              "    }\n",
              "</style>\n",
              "<table border=\"1\" class=\"dataframe\">\n",
              "  <thead>\n",
              "    <tr style=\"text-align: right;\">\n",
              "      <th></th>\n",
              "      <th>age</th>\n",
              "      <th>bmi</th>\n",
              "      <th>children</th>\n",
              "      <th>sex_female</th>\n",
              "      <th>sex_male</th>\n",
              "      <th>smoker_no</th>\n",
              "      <th>smoker_yes</th>\n",
              "      <th>region_northeast</th>\n",
              "      <th>region_northwest</th>\n",
              "      <th>region_southeast</th>\n",
              "      <th>region_southwest</th>\n",
              "    </tr>\n",
              "  </thead>\n",
              "  <tbody>\n",
              "    <tr>\n",
              "      <th>0</th>\n",
              "      <td>19</td>\n",
              "      <td>27.900</td>\n",
              "      <td>0</td>\n",
              "      <td>1</td>\n",
              "      <td>0</td>\n",
              "      <td>0</td>\n",
              "      <td>1</td>\n",
              "      <td>0</td>\n",
              "      <td>0</td>\n",
              "      <td>0</td>\n",
              "      <td>1</td>\n",
              "    </tr>\n",
              "    <tr>\n",
              "      <th>1</th>\n",
              "      <td>18</td>\n",
              "      <td>33.770</td>\n",
              "      <td>1</td>\n",
              "      <td>0</td>\n",
              "      <td>1</td>\n",
              "      <td>1</td>\n",
              "      <td>0</td>\n",
              "      <td>0</td>\n",
              "      <td>0</td>\n",
              "      <td>1</td>\n",
              "      <td>0</td>\n",
              "    </tr>\n",
              "    <tr>\n",
              "      <th>2</th>\n",
              "      <td>28</td>\n",
              "      <td>33.000</td>\n",
              "      <td>3</td>\n",
              "      <td>0</td>\n",
              "      <td>1</td>\n",
              "      <td>1</td>\n",
              "      <td>0</td>\n",
              "      <td>0</td>\n",
              "      <td>0</td>\n",
              "      <td>1</td>\n",
              "      <td>0</td>\n",
              "    </tr>\n",
              "    <tr>\n",
              "      <th>3</th>\n",
              "      <td>33</td>\n",
              "      <td>22.705</td>\n",
              "      <td>0</td>\n",
              "      <td>0</td>\n",
              "      <td>1</td>\n",
              "      <td>1</td>\n",
              "      <td>0</td>\n",
              "      <td>0</td>\n",
              "      <td>1</td>\n",
              "      <td>0</td>\n",
              "      <td>0</td>\n",
              "    </tr>\n",
              "    <tr>\n",
              "      <th>4</th>\n",
              "      <td>32</td>\n",
              "      <td>28.880</td>\n",
              "      <td>0</td>\n",
              "      <td>0</td>\n",
              "      <td>1</td>\n",
              "      <td>1</td>\n",
              "      <td>0</td>\n",
              "      <td>0</td>\n",
              "      <td>1</td>\n",
              "      <td>0</td>\n",
              "      <td>0</td>\n",
              "    </tr>\n",
              "  </tbody>\n",
              "</table>\n",
              "</div>\n",
              "    <div class=\"colab-df-buttons\">\n",
              "\n",
              "  <div class=\"colab-df-container\">\n",
              "    <button class=\"colab-df-convert\" onclick=\"convertToInteractive('df-11f3ce2d-bc07-45bc-8a37-78ce9222b559')\"\n",
              "            title=\"Convert this dataframe to an interactive table.\"\n",
              "            style=\"display:none;\">\n",
              "\n",
              "  <svg xmlns=\"http://www.w3.org/2000/svg\" height=\"24px\" viewBox=\"0 -960 960 960\">\n",
              "    <path d=\"M120-120v-720h720v720H120Zm60-500h600v-160H180v160Zm220 220h160v-160H400v160Zm0 220h160v-160H400v160ZM180-400h160v-160H180v160Zm440 0h160v-160H620v160ZM180-180h160v-160H180v160Zm440 0h160v-160H620v160Z\"/>\n",
              "  </svg>\n",
              "    </button>\n",
              "\n",
              "  <style>\n",
              "    .colab-df-container {\n",
              "      display:flex;\n",
              "      gap: 12px;\n",
              "    }\n",
              "\n",
              "    .colab-df-convert {\n",
              "      background-color: #E8F0FE;\n",
              "      border: none;\n",
              "      border-radius: 50%;\n",
              "      cursor: pointer;\n",
              "      display: none;\n",
              "      fill: #1967D2;\n",
              "      height: 32px;\n",
              "      padding: 0 0 0 0;\n",
              "      width: 32px;\n",
              "    }\n",
              "\n",
              "    .colab-df-convert:hover {\n",
              "      background-color: #E2EBFA;\n",
              "      box-shadow: 0px 1px 2px rgba(60, 64, 67, 0.3), 0px 1px 3px 1px rgba(60, 64, 67, 0.15);\n",
              "      fill: #174EA6;\n",
              "    }\n",
              "\n",
              "    .colab-df-buttons div {\n",
              "      margin-bottom: 4px;\n",
              "    }\n",
              "\n",
              "    [theme=dark] .colab-df-convert {\n",
              "      background-color: #3B4455;\n",
              "      fill: #D2E3FC;\n",
              "    }\n",
              "\n",
              "    [theme=dark] .colab-df-convert:hover {\n",
              "      background-color: #434B5C;\n",
              "      box-shadow: 0px 1px 3px 1px rgba(0, 0, 0, 0.15);\n",
              "      filter: drop-shadow(0px 1px 2px rgba(0, 0, 0, 0.3));\n",
              "      fill: #FFFFFF;\n",
              "    }\n",
              "  </style>\n",
              "\n",
              "    <script>\n",
              "      const buttonEl =\n",
              "        document.querySelector('#df-11f3ce2d-bc07-45bc-8a37-78ce9222b559 button.colab-df-convert');\n",
              "      buttonEl.style.display =\n",
              "        google.colab.kernel.accessAllowed ? 'block' : 'none';\n",
              "\n",
              "      async function convertToInteractive(key) {\n",
              "        const element = document.querySelector('#df-11f3ce2d-bc07-45bc-8a37-78ce9222b559');\n",
              "        const dataTable =\n",
              "          await google.colab.kernel.invokeFunction('convertToInteractive',\n",
              "                                                    [key], {});\n",
              "        if (!dataTable) return;\n",
              "\n",
              "        const docLinkHtml = 'Like what you see? Visit the ' +\n",
              "          '<a target=\"_blank\" href=https://colab.research.google.com/notebooks/data_table.ipynb>data table notebook</a>'\n",
              "          + ' to learn more about interactive tables.';\n",
              "        element.innerHTML = '';\n",
              "        dataTable['output_type'] = 'display_data';\n",
              "        await google.colab.output.renderOutput(dataTable, element);\n",
              "        const docLink = document.createElement('div');\n",
              "        docLink.innerHTML = docLinkHtml;\n",
              "        element.appendChild(docLink);\n",
              "      }\n",
              "    </script>\n",
              "  </div>\n",
              "\n",
              "\n",
              "<div id=\"df-3cba62cc-35c7-4efa-9632-7c173008a56a\">\n",
              "  <button class=\"colab-df-quickchart\" onclick=\"quickchart('df-3cba62cc-35c7-4efa-9632-7c173008a56a')\"\n",
              "            title=\"Suggest charts\"\n",
              "            style=\"display:none;\">\n",
              "\n",
              "<svg xmlns=\"http://www.w3.org/2000/svg\" height=\"24px\"viewBox=\"0 0 24 24\"\n",
              "     width=\"24px\">\n",
              "    <g>\n",
              "        <path d=\"M19 3H5c-1.1 0-2 .9-2 2v14c0 1.1.9 2 2 2h14c1.1 0 2-.9 2-2V5c0-1.1-.9-2-2-2zM9 17H7v-7h2v7zm4 0h-2V7h2v10zm4 0h-2v-4h2v4z\"/>\n",
              "    </g>\n",
              "</svg>\n",
              "  </button>\n",
              "\n",
              "<style>\n",
              "  .colab-df-quickchart {\n",
              "      --bg-color: #E8F0FE;\n",
              "      --fill-color: #1967D2;\n",
              "      --hover-bg-color: #E2EBFA;\n",
              "      --hover-fill-color: #174EA6;\n",
              "      --disabled-fill-color: #AAA;\n",
              "      --disabled-bg-color: #DDD;\n",
              "  }\n",
              "\n",
              "  [theme=dark] .colab-df-quickchart {\n",
              "      --bg-color: #3B4455;\n",
              "      --fill-color: #D2E3FC;\n",
              "      --hover-bg-color: #434B5C;\n",
              "      --hover-fill-color: #FFFFFF;\n",
              "      --disabled-bg-color: #3B4455;\n",
              "      --disabled-fill-color: #666;\n",
              "  }\n",
              "\n",
              "  .colab-df-quickchart {\n",
              "    background-color: var(--bg-color);\n",
              "    border: none;\n",
              "    border-radius: 50%;\n",
              "    cursor: pointer;\n",
              "    display: none;\n",
              "    fill: var(--fill-color);\n",
              "    height: 32px;\n",
              "    padding: 0;\n",
              "    width: 32px;\n",
              "  }\n",
              "\n",
              "  .colab-df-quickchart:hover {\n",
              "    background-color: var(--hover-bg-color);\n",
              "    box-shadow: 0 1px 2px rgba(60, 64, 67, 0.3), 0 1px 3px 1px rgba(60, 64, 67, 0.15);\n",
              "    fill: var(--button-hover-fill-color);\n",
              "  }\n",
              "\n",
              "  .colab-df-quickchart-complete:disabled,\n",
              "  .colab-df-quickchart-complete:disabled:hover {\n",
              "    background-color: var(--disabled-bg-color);\n",
              "    fill: var(--disabled-fill-color);\n",
              "    box-shadow: none;\n",
              "  }\n",
              "\n",
              "  .colab-df-spinner {\n",
              "    border: 2px solid var(--fill-color);\n",
              "    border-color: transparent;\n",
              "    border-bottom-color: var(--fill-color);\n",
              "    animation:\n",
              "      spin 1s steps(1) infinite;\n",
              "  }\n",
              "\n",
              "  @keyframes spin {\n",
              "    0% {\n",
              "      border-color: transparent;\n",
              "      border-bottom-color: var(--fill-color);\n",
              "      border-left-color: var(--fill-color);\n",
              "    }\n",
              "    20% {\n",
              "      border-color: transparent;\n",
              "      border-left-color: var(--fill-color);\n",
              "      border-top-color: var(--fill-color);\n",
              "    }\n",
              "    30% {\n",
              "      border-color: transparent;\n",
              "      border-left-color: var(--fill-color);\n",
              "      border-top-color: var(--fill-color);\n",
              "      border-right-color: var(--fill-color);\n",
              "    }\n",
              "    40% {\n",
              "      border-color: transparent;\n",
              "      border-right-color: var(--fill-color);\n",
              "      border-top-color: var(--fill-color);\n",
              "    }\n",
              "    60% {\n",
              "      border-color: transparent;\n",
              "      border-right-color: var(--fill-color);\n",
              "    }\n",
              "    80% {\n",
              "      border-color: transparent;\n",
              "      border-right-color: var(--fill-color);\n",
              "      border-bottom-color: var(--fill-color);\n",
              "    }\n",
              "    90% {\n",
              "      border-color: transparent;\n",
              "      border-bottom-color: var(--fill-color);\n",
              "    }\n",
              "  }\n",
              "</style>\n",
              "\n",
              "  <script>\n",
              "    async function quickchart(key) {\n",
              "      const quickchartButtonEl =\n",
              "        document.querySelector('#' + key + ' button');\n",
              "      quickchartButtonEl.disabled = true;  // To prevent multiple clicks.\n",
              "      quickchartButtonEl.classList.add('colab-df-spinner');\n",
              "      try {\n",
              "        const charts = await google.colab.kernel.invokeFunction(\n",
              "            'suggestCharts', [key], {});\n",
              "      } catch (error) {\n",
              "        console.error('Error during call to suggestCharts:', error);\n",
              "      }\n",
              "      quickchartButtonEl.classList.remove('colab-df-spinner');\n",
              "      quickchartButtonEl.classList.add('colab-df-quickchart-complete');\n",
              "    }\n",
              "    (() => {\n",
              "      let quickchartButtonEl =\n",
              "        document.querySelector('#df-3cba62cc-35c7-4efa-9632-7c173008a56a button');\n",
              "      quickchartButtonEl.style.display =\n",
              "        google.colab.kernel.accessAllowed ? 'block' : 'none';\n",
              "    })();\n",
              "  </script>\n",
              "</div>\n",
              "\n",
              "    </div>\n",
              "  </div>\n"
            ],
            "application/vnd.google.colaboratory.intrinsic+json": {
              "type": "dataframe",
              "variable_name": "X",
              "summary": "{\n  \"name\": \"X\",\n  \"rows\": 1338,\n  \"fields\": [\n    {\n      \"column\": \"age\",\n      \"properties\": {\n        \"dtype\": \"number\",\n        \"std\": 14,\n        \"min\": 18,\n        \"max\": 64,\n        \"num_unique_values\": 47,\n        \"samples\": [\n          21,\n          45,\n          36\n        ],\n        \"semantic_type\": \"\",\n        \"description\": \"\"\n      }\n    },\n    {\n      \"column\": \"bmi\",\n      \"properties\": {\n        \"dtype\": \"number\",\n        \"std\": 6.098186911679014,\n        \"min\": 15.96,\n        \"max\": 53.13,\n        \"num_unique_values\": 548,\n        \"samples\": [\n          23.18,\n          26.885,\n          29.26\n        ],\n        \"semantic_type\": \"\",\n        \"description\": \"\"\n      }\n    },\n    {\n      \"column\": \"children\",\n      \"properties\": {\n        \"dtype\": \"number\",\n        \"std\": 1,\n        \"min\": 0,\n        \"max\": 5,\n        \"num_unique_values\": 6,\n        \"samples\": [\n          0,\n          1,\n          4\n        ],\n        \"semantic_type\": \"\",\n        \"description\": \"\"\n      }\n    },\n    {\n      \"column\": \"sex_female\",\n      \"properties\": {\n        \"dtype\": \"number\",\n        \"std\": 0,\n        \"min\": 0,\n        \"max\": 1,\n        \"num_unique_values\": 2,\n        \"samples\": [\n          0,\n          1\n        ],\n        \"semantic_type\": \"\",\n        \"description\": \"\"\n      }\n    },\n    {\n      \"column\": \"sex_male\",\n      \"properties\": {\n        \"dtype\": \"number\",\n        \"std\": 0,\n        \"min\": 0,\n        \"max\": 1,\n        \"num_unique_values\": 2,\n        \"samples\": [\n          1,\n          0\n        ],\n        \"semantic_type\": \"\",\n        \"description\": \"\"\n      }\n    },\n    {\n      \"column\": \"smoker_no\",\n      \"properties\": {\n        \"dtype\": \"number\",\n        \"std\": 0,\n        \"min\": 0,\n        \"max\": 1,\n        \"num_unique_values\": 2,\n        \"samples\": [\n          1,\n          0\n        ],\n        \"semantic_type\": \"\",\n        \"description\": \"\"\n      }\n    },\n    {\n      \"column\": \"smoker_yes\",\n      \"properties\": {\n        \"dtype\": \"number\",\n        \"std\": 0,\n        \"min\": 0,\n        \"max\": 1,\n        \"num_unique_values\": 2,\n        \"samples\": [\n          0,\n          1\n        ],\n        \"semantic_type\": \"\",\n        \"description\": \"\"\n      }\n    },\n    {\n      \"column\": \"region_northeast\",\n      \"properties\": {\n        \"dtype\": \"number\",\n        \"std\": 0,\n        \"min\": 0,\n        \"max\": 1,\n        \"num_unique_values\": 2,\n        \"samples\": [\n          1,\n          0\n        ],\n        \"semantic_type\": \"\",\n        \"description\": \"\"\n      }\n    },\n    {\n      \"column\": \"region_northwest\",\n      \"properties\": {\n        \"dtype\": \"number\",\n        \"std\": 0,\n        \"min\": 0,\n        \"max\": 1,\n        \"num_unique_values\": 2,\n        \"samples\": [\n          1,\n          0\n        ],\n        \"semantic_type\": \"\",\n        \"description\": \"\"\n      }\n    },\n    {\n      \"column\": \"region_southeast\",\n      \"properties\": {\n        \"dtype\": \"number\",\n        \"std\": 0,\n        \"min\": 0,\n        \"max\": 1,\n        \"num_unique_values\": 2,\n        \"samples\": [\n          1,\n          0\n        ],\n        \"semantic_type\": \"\",\n        \"description\": \"\"\n      }\n    },\n    {\n      \"column\": \"region_southwest\",\n      \"properties\": {\n        \"dtype\": \"number\",\n        \"std\": 0,\n        \"min\": 0,\n        \"max\": 1,\n        \"num_unique_values\": 2,\n        \"samples\": [\n          0,\n          1\n        ],\n        \"semantic_type\": \"\",\n        \"description\": \"\"\n      }\n    }\n  ]\n}"
            }
          },
          "metadata": {},
          "execution_count": 192
        }
      ],
      "source": [
        "# Create X and y values (features and labels)\n",
        "\n",
        "X = dataset.drop(\"charges\", axis=1)\n",
        "y = dataset[\"charges\"]\n",
        "\n",
        "X.head()"
      ]
    },
    {
      "cell_type": "code",
      "execution_count": 193,
      "metadata": {
        "colab": {
          "base_uri": "https://localhost:8080/"
        },
        "id": "_f9dwq8X5Oft",
        "outputId": "6e7bcea7-9948-4d98-d667-32b68016b146"
      },
      "outputs": [
        {
          "output_type": "execute_result",
          "data": {
            "text/plain": [
              "0    16884.92400\n",
              "1     1725.55230\n",
              "2     4449.46200\n",
              "3    21984.47061\n",
              "4     3866.85520\n",
              "Name: charges, dtype: float64"
            ]
          },
          "metadata": {},
          "execution_count": 193
        }
      ],
      "source": [
        "y.head()"
      ]
    },
    {
      "cell_type": "code",
      "execution_count": 194,
      "metadata": {
        "colab": {
          "base_uri": "https://localhost:8080/"
        },
        "id": "INDu5MmQ5VGT",
        "outputId": "78c87b61-f7ea-43a7-cee4-772c6e336e66"
      },
      "outputs": [
        {
          "output_type": "execute_result",
          "data": {
            "text/plain": [
              "(1338, 1070, 268)"
            ]
          },
          "metadata": {},
          "execution_count": 194
        }
      ],
      "source": [
        "# Create training and test sets\n",
        "from sklearn.model_selection import train_test_split\n",
        "\n",
        "X_train, X_test, y_train, y_test = train_test_split(X, y, test_size=0.2, random_state=42)\n",
        "\n",
        "len(X), len(X_train), len(X_test)"
      ]
    },
    {
      "cell_type": "code",
      "execution_count": 195,
      "metadata": {
        "colab": {
          "base_uri": "https://localhost:8080/",
          "height": 423
        },
        "id": "oNl7pvmfU9_c",
        "outputId": "27ae69bc-9c74-4f97-e2be-2c27858a3f92"
      },
      "outputs": [
        {
          "output_type": "execute_result",
          "data": {
            "text/plain": [
              "      age     bmi  children  sex_female  sex_male  smoker_no  smoker_yes  \\\n",
              "560    46  19.950         2           1         0          1           0   \n",
              "1285   47  24.320         0           1         0          1           0   \n",
              "1142   52  24.860         0           1         0          1           0   \n",
              "969    39  34.320         5           1         0          1           0   \n",
              "486    54  21.470         3           1         0          1           0   \n",
              "...   ...     ...       ...         ...       ...        ...         ...   \n",
              "1095   18  31.350         4           1         0          1           0   \n",
              "1130   39  23.870         5           1         0          1           0   \n",
              "1294   58  25.175         0           0         1          1           0   \n",
              "860    37  47.600         2           1         0          0           1   \n",
              "1126   55  29.900         0           0         1          1           0   \n",
              "\n",
              "      region_northeast  region_northwest  region_southeast  region_southwest  \n",
              "560                  0                 1                 0                 0  \n",
              "1285                 1                 0                 0                 0  \n",
              "1142                 0                 0                 1                 0  \n",
              "969                  0                 0                 1                 0  \n",
              "486                  0                 1                 0                 0  \n",
              "...                ...               ...               ...               ...  \n",
              "1095                 1                 0                 0                 0  \n",
              "1130                 0                 0                 1                 0  \n",
              "1294                 1                 0                 0                 0  \n",
              "860                  0                 0                 0                 1  \n",
              "1126                 0                 0                 0                 1  \n",
              "\n",
              "[1070 rows x 11 columns]"
            ],
            "text/html": [
              "\n",
              "  <div id=\"df-fcf6f239-242c-46ae-8cdf-37c1ad5f9d1b\" class=\"colab-df-container\">\n",
              "    <div>\n",
              "<style scoped>\n",
              "    .dataframe tbody tr th:only-of-type {\n",
              "        vertical-align: middle;\n",
              "    }\n",
              "\n",
              "    .dataframe tbody tr th {\n",
              "        vertical-align: top;\n",
              "    }\n",
              "\n",
              "    .dataframe thead th {\n",
              "        text-align: right;\n",
              "    }\n",
              "</style>\n",
              "<table border=\"1\" class=\"dataframe\">\n",
              "  <thead>\n",
              "    <tr style=\"text-align: right;\">\n",
              "      <th></th>\n",
              "      <th>age</th>\n",
              "      <th>bmi</th>\n",
              "      <th>children</th>\n",
              "      <th>sex_female</th>\n",
              "      <th>sex_male</th>\n",
              "      <th>smoker_no</th>\n",
              "      <th>smoker_yes</th>\n",
              "      <th>region_northeast</th>\n",
              "      <th>region_northwest</th>\n",
              "      <th>region_southeast</th>\n",
              "      <th>region_southwest</th>\n",
              "    </tr>\n",
              "  </thead>\n",
              "  <tbody>\n",
              "    <tr>\n",
              "      <th>560</th>\n",
              "      <td>46</td>\n",
              "      <td>19.950</td>\n",
              "      <td>2</td>\n",
              "      <td>1</td>\n",
              "      <td>0</td>\n",
              "      <td>1</td>\n",
              "      <td>0</td>\n",
              "      <td>0</td>\n",
              "      <td>1</td>\n",
              "      <td>0</td>\n",
              "      <td>0</td>\n",
              "    </tr>\n",
              "    <tr>\n",
              "      <th>1285</th>\n",
              "      <td>47</td>\n",
              "      <td>24.320</td>\n",
              "      <td>0</td>\n",
              "      <td>1</td>\n",
              "      <td>0</td>\n",
              "      <td>1</td>\n",
              "      <td>0</td>\n",
              "      <td>1</td>\n",
              "      <td>0</td>\n",
              "      <td>0</td>\n",
              "      <td>0</td>\n",
              "    </tr>\n",
              "    <tr>\n",
              "      <th>1142</th>\n",
              "      <td>52</td>\n",
              "      <td>24.860</td>\n",
              "      <td>0</td>\n",
              "      <td>1</td>\n",
              "      <td>0</td>\n",
              "      <td>1</td>\n",
              "      <td>0</td>\n",
              "      <td>0</td>\n",
              "      <td>0</td>\n",
              "      <td>1</td>\n",
              "      <td>0</td>\n",
              "    </tr>\n",
              "    <tr>\n",
              "      <th>969</th>\n",
              "      <td>39</td>\n",
              "      <td>34.320</td>\n",
              "      <td>5</td>\n",
              "      <td>1</td>\n",
              "      <td>0</td>\n",
              "      <td>1</td>\n",
              "      <td>0</td>\n",
              "      <td>0</td>\n",
              "      <td>0</td>\n",
              "      <td>1</td>\n",
              "      <td>0</td>\n",
              "    </tr>\n",
              "    <tr>\n",
              "      <th>486</th>\n",
              "      <td>54</td>\n",
              "      <td>21.470</td>\n",
              "      <td>3</td>\n",
              "      <td>1</td>\n",
              "      <td>0</td>\n",
              "      <td>1</td>\n",
              "      <td>0</td>\n",
              "      <td>0</td>\n",
              "      <td>1</td>\n",
              "      <td>0</td>\n",
              "      <td>0</td>\n",
              "    </tr>\n",
              "    <tr>\n",
              "      <th>...</th>\n",
              "      <td>...</td>\n",
              "      <td>...</td>\n",
              "      <td>...</td>\n",
              "      <td>...</td>\n",
              "      <td>...</td>\n",
              "      <td>...</td>\n",
              "      <td>...</td>\n",
              "      <td>...</td>\n",
              "      <td>...</td>\n",
              "      <td>...</td>\n",
              "      <td>...</td>\n",
              "    </tr>\n",
              "    <tr>\n",
              "      <th>1095</th>\n",
              "      <td>18</td>\n",
              "      <td>31.350</td>\n",
              "      <td>4</td>\n",
              "      <td>1</td>\n",
              "      <td>0</td>\n",
              "      <td>1</td>\n",
              "      <td>0</td>\n",
              "      <td>1</td>\n",
              "      <td>0</td>\n",
              "      <td>0</td>\n",
              "      <td>0</td>\n",
              "    </tr>\n",
              "    <tr>\n",
              "      <th>1130</th>\n",
              "      <td>39</td>\n",
              "      <td>23.870</td>\n",
              "      <td>5</td>\n",
              "      <td>1</td>\n",
              "      <td>0</td>\n",
              "      <td>1</td>\n",
              "      <td>0</td>\n",
              "      <td>0</td>\n",
              "      <td>0</td>\n",
              "      <td>1</td>\n",
              "      <td>0</td>\n",
              "    </tr>\n",
              "    <tr>\n",
              "      <th>1294</th>\n",
              "      <td>58</td>\n",
              "      <td>25.175</td>\n",
              "      <td>0</td>\n",
              "      <td>0</td>\n",
              "      <td>1</td>\n",
              "      <td>1</td>\n",
              "      <td>0</td>\n",
              "      <td>1</td>\n",
              "      <td>0</td>\n",
              "      <td>0</td>\n",
              "      <td>0</td>\n",
              "    </tr>\n",
              "    <tr>\n",
              "      <th>860</th>\n",
              "      <td>37</td>\n",
              "      <td>47.600</td>\n",
              "      <td>2</td>\n",
              "      <td>1</td>\n",
              "      <td>0</td>\n",
              "      <td>0</td>\n",
              "      <td>1</td>\n",
              "      <td>0</td>\n",
              "      <td>0</td>\n",
              "      <td>0</td>\n",
              "      <td>1</td>\n",
              "    </tr>\n",
              "    <tr>\n",
              "      <th>1126</th>\n",
              "      <td>55</td>\n",
              "      <td>29.900</td>\n",
              "      <td>0</td>\n",
              "      <td>0</td>\n",
              "      <td>1</td>\n",
              "      <td>1</td>\n",
              "      <td>0</td>\n",
              "      <td>0</td>\n",
              "      <td>0</td>\n",
              "      <td>0</td>\n",
              "      <td>1</td>\n",
              "    </tr>\n",
              "  </tbody>\n",
              "</table>\n",
              "<p>1070 rows × 11 columns</p>\n",
              "</div>\n",
              "    <div class=\"colab-df-buttons\">\n",
              "\n",
              "  <div class=\"colab-df-container\">\n",
              "    <button class=\"colab-df-convert\" onclick=\"convertToInteractive('df-fcf6f239-242c-46ae-8cdf-37c1ad5f9d1b')\"\n",
              "            title=\"Convert this dataframe to an interactive table.\"\n",
              "            style=\"display:none;\">\n",
              "\n",
              "  <svg xmlns=\"http://www.w3.org/2000/svg\" height=\"24px\" viewBox=\"0 -960 960 960\">\n",
              "    <path d=\"M120-120v-720h720v720H120Zm60-500h600v-160H180v160Zm220 220h160v-160H400v160Zm0 220h160v-160H400v160ZM180-400h160v-160H180v160Zm440 0h160v-160H620v160ZM180-180h160v-160H180v160Zm440 0h160v-160H620v160Z\"/>\n",
              "  </svg>\n",
              "    </button>\n",
              "\n",
              "  <style>\n",
              "    .colab-df-container {\n",
              "      display:flex;\n",
              "      gap: 12px;\n",
              "    }\n",
              "\n",
              "    .colab-df-convert {\n",
              "      background-color: #E8F0FE;\n",
              "      border: none;\n",
              "      border-radius: 50%;\n",
              "      cursor: pointer;\n",
              "      display: none;\n",
              "      fill: #1967D2;\n",
              "      height: 32px;\n",
              "      padding: 0 0 0 0;\n",
              "      width: 32px;\n",
              "    }\n",
              "\n",
              "    .colab-df-convert:hover {\n",
              "      background-color: #E2EBFA;\n",
              "      box-shadow: 0px 1px 2px rgba(60, 64, 67, 0.3), 0px 1px 3px 1px rgba(60, 64, 67, 0.15);\n",
              "      fill: #174EA6;\n",
              "    }\n",
              "\n",
              "    .colab-df-buttons div {\n",
              "      margin-bottom: 4px;\n",
              "    }\n",
              "\n",
              "    [theme=dark] .colab-df-convert {\n",
              "      background-color: #3B4455;\n",
              "      fill: #D2E3FC;\n",
              "    }\n",
              "\n",
              "    [theme=dark] .colab-df-convert:hover {\n",
              "      background-color: #434B5C;\n",
              "      box-shadow: 0px 1px 3px 1px rgba(0, 0, 0, 0.15);\n",
              "      filter: drop-shadow(0px 1px 2px rgba(0, 0, 0, 0.3));\n",
              "      fill: #FFFFFF;\n",
              "    }\n",
              "  </style>\n",
              "\n",
              "    <script>\n",
              "      const buttonEl =\n",
              "        document.querySelector('#df-fcf6f239-242c-46ae-8cdf-37c1ad5f9d1b button.colab-df-convert');\n",
              "      buttonEl.style.display =\n",
              "        google.colab.kernel.accessAllowed ? 'block' : 'none';\n",
              "\n",
              "      async function convertToInteractive(key) {\n",
              "        const element = document.querySelector('#df-fcf6f239-242c-46ae-8cdf-37c1ad5f9d1b');\n",
              "        const dataTable =\n",
              "          await google.colab.kernel.invokeFunction('convertToInteractive',\n",
              "                                                    [key], {});\n",
              "        if (!dataTable) return;\n",
              "\n",
              "        const docLinkHtml = 'Like what you see? Visit the ' +\n",
              "          '<a target=\"_blank\" href=https://colab.research.google.com/notebooks/data_table.ipynb>data table notebook</a>'\n",
              "          + ' to learn more about interactive tables.';\n",
              "        element.innerHTML = '';\n",
              "        dataTable['output_type'] = 'display_data';\n",
              "        await google.colab.output.renderOutput(dataTable, element);\n",
              "        const docLink = document.createElement('div');\n",
              "        docLink.innerHTML = docLinkHtml;\n",
              "        element.appendChild(docLink);\n",
              "      }\n",
              "    </script>\n",
              "  </div>\n",
              "\n",
              "\n",
              "<div id=\"df-4c7148d3-12f8-4717-95cc-7fa917196253\">\n",
              "  <button class=\"colab-df-quickchart\" onclick=\"quickchart('df-4c7148d3-12f8-4717-95cc-7fa917196253')\"\n",
              "            title=\"Suggest charts\"\n",
              "            style=\"display:none;\">\n",
              "\n",
              "<svg xmlns=\"http://www.w3.org/2000/svg\" height=\"24px\"viewBox=\"0 0 24 24\"\n",
              "     width=\"24px\">\n",
              "    <g>\n",
              "        <path d=\"M19 3H5c-1.1 0-2 .9-2 2v14c0 1.1.9 2 2 2h14c1.1 0 2-.9 2-2V5c0-1.1-.9-2-2-2zM9 17H7v-7h2v7zm4 0h-2V7h2v10zm4 0h-2v-4h2v4z\"/>\n",
              "    </g>\n",
              "</svg>\n",
              "  </button>\n",
              "\n",
              "<style>\n",
              "  .colab-df-quickchart {\n",
              "      --bg-color: #E8F0FE;\n",
              "      --fill-color: #1967D2;\n",
              "      --hover-bg-color: #E2EBFA;\n",
              "      --hover-fill-color: #174EA6;\n",
              "      --disabled-fill-color: #AAA;\n",
              "      --disabled-bg-color: #DDD;\n",
              "  }\n",
              "\n",
              "  [theme=dark] .colab-df-quickchart {\n",
              "      --bg-color: #3B4455;\n",
              "      --fill-color: #D2E3FC;\n",
              "      --hover-bg-color: #434B5C;\n",
              "      --hover-fill-color: #FFFFFF;\n",
              "      --disabled-bg-color: #3B4455;\n",
              "      --disabled-fill-color: #666;\n",
              "  }\n",
              "\n",
              "  .colab-df-quickchart {\n",
              "    background-color: var(--bg-color);\n",
              "    border: none;\n",
              "    border-radius: 50%;\n",
              "    cursor: pointer;\n",
              "    display: none;\n",
              "    fill: var(--fill-color);\n",
              "    height: 32px;\n",
              "    padding: 0;\n",
              "    width: 32px;\n",
              "  }\n",
              "\n",
              "  .colab-df-quickchart:hover {\n",
              "    background-color: var(--hover-bg-color);\n",
              "    box-shadow: 0 1px 2px rgba(60, 64, 67, 0.3), 0 1px 3px 1px rgba(60, 64, 67, 0.15);\n",
              "    fill: var(--button-hover-fill-color);\n",
              "  }\n",
              "\n",
              "  .colab-df-quickchart-complete:disabled,\n",
              "  .colab-df-quickchart-complete:disabled:hover {\n",
              "    background-color: var(--disabled-bg-color);\n",
              "    fill: var(--disabled-fill-color);\n",
              "    box-shadow: none;\n",
              "  }\n",
              "\n",
              "  .colab-df-spinner {\n",
              "    border: 2px solid var(--fill-color);\n",
              "    border-color: transparent;\n",
              "    border-bottom-color: var(--fill-color);\n",
              "    animation:\n",
              "      spin 1s steps(1) infinite;\n",
              "  }\n",
              "\n",
              "  @keyframes spin {\n",
              "    0% {\n",
              "      border-color: transparent;\n",
              "      border-bottom-color: var(--fill-color);\n",
              "      border-left-color: var(--fill-color);\n",
              "    }\n",
              "    20% {\n",
              "      border-color: transparent;\n",
              "      border-left-color: var(--fill-color);\n",
              "      border-top-color: var(--fill-color);\n",
              "    }\n",
              "    30% {\n",
              "      border-color: transparent;\n",
              "      border-left-color: var(--fill-color);\n",
              "      border-top-color: var(--fill-color);\n",
              "      border-right-color: var(--fill-color);\n",
              "    }\n",
              "    40% {\n",
              "      border-color: transparent;\n",
              "      border-right-color: var(--fill-color);\n",
              "      border-top-color: var(--fill-color);\n",
              "    }\n",
              "    60% {\n",
              "      border-color: transparent;\n",
              "      border-right-color: var(--fill-color);\n",
              "    }\n",
              "    80% {\n",
              "      border-color: transparent;\n",
              "      border-right-color: var(--fill-color);\n",
              "      border-bottom-color: var(--fill-color);\n",
              "    }\n",
              "    90% {\n",
              "      border-color: transparent;\n",
              "      border-bottom-color: var(--fill-color);\n",
              "    }\n",
              "  }\n",
              "</style>\n",
              "\n",
              "  <script>\n",
              "    async function quickchart(key) {\n",
              "      const quickchartButtonEl =\n",
              "        document.querySelector('#' + key + ' button');\n",
              "      quickchartButtonEl.disabled = true;  // To prevent multiple clicks.\n",
              "      quickchartButtonEl.classList.add('colab-df-spinner');\n",
              "      try {\n",
              "        const charts = await google.colab.kernel.invokeFunction(\n",
              "            'suggestCharts', [key], {});\n",
              "      } catch (error) {\n",
              "        console.error('Error during call to suggestCharts:', error);\n",
              "      }\n",
              "      quickchartButtonEl.classList.remove('colab-df-spinner');\n",
              "      quickchartButtonEl.classList.add('colab-df-quickchart-complete');\n",
              "    }\n",
              "    (() => {\n",
              "      let quickchartButtonEl =\n",
              "        document.querySelector('#df-4c7148d3-12f8-4717-95cc-7fa917196253 button');\n",
              "      quickchartButtonEl.style.display =\n",
              "        google.colab.kernel.accessAllowed ? 'block' : 'none';\n",
              "    })();\n",
              "  </script>\n",
              "</div>\n",
              "\n",
              "  <div id=\"id_09694ede-08ca-4778-9dd5-54b02d1e67eb\">\n",
              "    <style>\n",
              "      .colab-df-generate {\n",
              "        background-color: #E8F0FE;\n",
              "        border: none;\n",
              "        border-radius: 50%;\n",
              "        cursor: pointer;\n",
              "        display: none;\n",
              "        fill: #1967D2;\n",
              "        height: 32px;\n",
              "        padding: 0 0 0 0;\n",
              "        width: 32px;\n",
              "      }\n",
              "\n",
              "      .colab-df-generate:hover {\n",
              "        background-color: #E2EBFA;\n",
              "        box-shadow: 0px 1px 2px rgba(60, 64, 67, 0.3), 0px 1px 3px 1px rgba(60, 64, 67, 0.15);\n",
              "        fill: #174EA6;\n",
              "      }\n",
              "\n",
              "      [theme=dark] .colab-df-generate {\n",
              "        background-color: #3B4455;\n",
              "        fill: #D2E3FC;\n",
              "      }\n",
              "\n",
              "      [theme=dark] .colab-df-generate:hover {\n",
              "        background-color: #434B5C;\n",
              "        box-shadow: 0px 1px 3px 1px rgba(0, 0, 0, 0.15);\n",
              "        filter: drop-shadow(0px 1px 2px rgba(0, 0, 0, 0.3));\n",
              "        fill: #FFFFFF;\n",
              "      }\n",
              "    </style>\n",
              "    <button class=\"colab-df-generate\" onclick=\"generateWithVariable('X_train')\"\n",
              "            title=\"Generate code using this dataframe.\"\n",
              "            style=\"display:none;\">\n",
              "\n",
              "  <svg xmlns=\"http://www.w3.org/2000/svg\" height=\"24px\"viewBox=\"0 0 24 24\"\n",
              "       width=\"24px\">\n",
              "    <path d=\"M7,19H8.4L18.45,9,17,7.55,7,17.6ZM5,21V16.75L18.45,3.32a2,2,0,0,1,2.83,0l1.4,1.43a1.91,1.91,0,0,1,.58,1.4,1.91,1.91,0,0,1-.58,1.4L9.25,21ZM18.45,9,17,7.55Zm-12,3A5.31,5.31,0,0,0,4.9,8.1,5.31,5.31,0,0,0,1,6.5,5.31,5.31,0,0,0,4.9,4.9,5.31,5.31,0,0,0,6.5,1,5.31,5.31,0,0,0,8.1,4.9,5.31,5.31,0,0,0,12,6.5,5.46,5.46,0,0,0,6.5,12Z\"/>\n",
              "  </svg>\n",
              "    </button>\n",
              "    <script>\n",
              "      (() => {\n",
              "      const buttonEl =\n",
              "        document.querySelector('#id_09694ede-08ca-4778-9dd5-54b02d1e67eb button.colab-df-generate');\n",
              "      buttonEl.style.display =\n",
              "        google.colab.kernel.accessAllowed ? 'block' : 'none';\n",
              "\n",
              "      buttonEl.onclick = () => {\n",
              "        google.colab.notebook.generateWithVariable('X_train');\n",
              "      }\n",
              "      })();\n",
              "    </script>\n",
              "  </div>\n",
              "\n",
              "    </div>\n",
              "  </div>\n"
            ],
            "application/vnd.google.colaboratory.intrinsic+json": {
              "type": "dataframe",
              "variable_name": "X_train",
              "summary": "{\n  \"name\": \"X_train\",\n  \"rows\": 1070,\n  \"fields\": [\n    {\n      \"column\": \"age\",\n      \"properties\": {\n        \"dtype\": \"number\",\n        \"std\": 14,\n        \"min\": 18,\n        \"max\": 64,\n        \"num_unique_values\": 47,\n        \"samples\": [\n          35,\n          33,\n          20\n        ],\n        \"semantic_type\": \"\",\n        \"description\": \"\"\n      }\n    },\n    {\n      \"column\": \"bmi\",\n      \"properties\": {\n        \"dtype\": \"number\",\n        \"std\": 6.043385672727495,\n        \"min\": 15.96,\n        \"max\": 53.13,\n        \"num_unique_values\": 494,\n        \"samples\": [\n          27.3,\n          31.35,\n          21.66\n        ],\n        \"semantic_type\": \"\",\n        \"description\": \"\"\n      }\n    },\n    {\n      \"column\": \"children\",\n      \"properties\": {\n        \"dtype\": \"number\",\n        \"std\": 1,\n        \"min\": 0,\n        \"max\": 5,\n        \"num_unique_values\": 6,\n        \"samples\": [\n          2,\n          0,\n          4\n        ],\n        \"semantic_type\": \"\",\n        \"description\": \"\"\n      }\n    },\n    {\n      \"column\": \"sex_female\",\n      \"properties\": {\n        \"dtype\": \"number\",\n        \"std\": 0,\n        \"min\": 0,\n        \"max\": 1,\n        \"num_unique_values\": 2,\n        \"samples\": [\n          0,\n          1\n        ],\n        \"semantic_type\": \"\",\n        \"description\": \"\"\n      }\n    },\n    {\n      \"column\": \"sex_male\",\n      \"properties\": {\n        \"dtype\": \"number\",\n        \"std\": 0,\n        \"min\": 0,\n        \"max\": 1,\n        \"num_unique_values\": 2,\n        \"samples\": [\n          1,\n          0\n        ],\n        \"semantic_type\": \"\",\n        \"description\": \"\"\n      }\n    },\n    {\n      \"column\": \"smoker_no\",\n      \"properties\": {\n        \"dtype\": \"number\",\n        \"std\": 0,\n        \"min\": 0,\n        \"max\": 1,\n        \"num_unique_values\": 2,\n        \"samples\": [\n          0,\n          1\n        ],\n        \"semantic_type\": \"\",\n        \"description\": \"\"\n      }\n    },\n    {\n      \"column\": \"smoker_yes\",\n      \"properties\": {\n        \"dtype\": \"number\",\n        \"std\": 0,\n        \"min\": 0,\n        \"max\": 1,\n        \"num_unique_values\": 2,\n        \"samples\": [\n          1,\n          0\n        ],\n        \"semantic_type\": \"\",\n        \"description\": \"\"\n      }\n    },\n    {\n      \"column\": \"region_northeast\",\n      \"properties\": {\n        \"dtype\": \"number\",\n        \"std\": 0,\n        \"min\": 0,\n        \"max\": 1,\n        \"num_unique_values\": 2,\n        \"samples\": [\n          1,\n          0\n        ],\n        \"semantic_type\": \"\",\n        \"description\": \"\"\n      }\n    },\n    {\n      \"column\": \"region_northwest\",\n      \"properties\": {\n        \"dtype\": \"number\",\n        \"std\": 0,\n        \"min\": 0,\n        \"max\": 1,\n        \"num_unique_values\": 2,\n        \"samples\": [\n          0,\n          1\n        ],\n        \"semantic_type\": \"\",\n        \"description\": \"\"\n      }\n    },\n    {\n      \"column\": \"region_southeast\",\n      \"properties\": {\n        \"dtype\": \"number\",\n        \"std\": 0,\n        \"min\": 0,\n        \"max\": 1,\n        \"num_unique_values\": 2,\n        \"samples\": [\n          1,\n          0\n        ],\n        \"semantic_type\": \"\",\n        \"description\": \"\"\n      }\n    },\n    {\n      \"column\": \"region_southwest\",\n      \"properties\": {\n        \"dtype\": \"number\",\n        \"std\": 0,\n        \"min\": 0,\n        \"max\": 1,\n        \"num_unique_values\": 2,\n        \"samples\": [\n          1,\n          0\n        ],\n        \"semantic_type\": \"\",\n        \"description\": \"\"\n      }\n    }\n  ]\n}"
            }
          },
          "metadata": {},
          "execution_count": 195
        }
      ],
      "source": [
        "X_train"
      ]
    },
    {
      "cell_type": "code",
      "execution_count": 196,
      "metadata": {
        "colab": {
          "base_uri": "https://localhost:8080/"
        },
        "id": "Zb4qeQQCU-6y",
        "outputId": "fbd5131d-1905-456d-81ae-d38604e69282"
      },
      "outputs": [
        {
          "output_type": "execute_result",
          "data": {
            "text/plain": [
              "<keras.src.callbacks.History at 0x7dd0622eb6d0>"
            ]
          },
          "metadata": {},
          "execution_count": 196
        }
      ],
      "source": [
        "# Build the neural network\n",
        "\n",
        "tf.random.set_seed(42)\n",
        "\n",
        "model = tf.keras.Sequential(\n",
        "    [\n",
        "        tf.keras.layers.Dense(10),\n",
        "        tf.keras.layers.Dense(1)\n",
        "    ]\n",
        ")\n",
        "\n",
        "model.compile(loss=tf.keras.losses.mae,\n",
        "              optimizer=tf.keras.optimizers.SGD(),\n",
        "              metrics=[\"mae\"])\n",
        "\n",
        "\n",
        "model.fit(X_train, y_train, epochs=5000, verbose=0)"
      ]
    },
    {
      "cell_type": "code",
      "execution_count": 197,
      "metadata": {
        "colab": {
          "base_uri": "https://localhost:8080/"
        },
        "id": "5R0FMEVoVaU8",
        "outputId": "658e1a37-ce16-4c2d-9135-164f43962db7"
      },
      "outputs": [
        {
          "output_type": "stream",
          "name": "stdout",
          "text": [
            "Model: \"sequential_23\"\n",
            "_________________________________________________________________\n",
            " Layer (type)                Output Shape              Param #   \n",
            "=================================================================\n",
            " dense_34 (Dense)            (None, 10)                120       \n",
            "                                                                 \n",
            " dense_35 (Dense)            (None, 1)                 11        \n",
            "                                                                 \n",
            "=================================================================\n",
            "Total params: 131 (524.00 Byte)\n",
            "Trainable params: 131 (524.00 Byte)\n",
            "Non-trainable params: 0 (0.00 Byte)\n",
            "_________________________________________________________________\n"
          ]
        }
      ],
      "source": [
        "model.summary()"
      ]
    },
    {
      "cell_type": "code",
      "execution_count": 198,
      "metadata": {
        "colab": {
          "base_uri": "https://localhost:8080/"
        },
        "id": "YUIivAcVV6l3",
        "outputId": "5e99a308-e7a1-48ba-bfe2-b20fb8082726"
      },
      "outputs": [
        {
          "output_type": "stream",
          "name": "stdout",
          "text": [
            "9/9 [==============================] - 0s 2ms/step - loss: 3819.7434 - mae: 3819.7434\n"
          ]
        },
        {
          "output_type": "execute_result",
          "data": {
            "text/plain": [
              "[3819.743408203125, 3819.743408203125]"
            ]
          },
          "metadata": {},
          "execution_count": 198
        }
      ],
      "source": [
        "model.evaluate(X_test, y_test)"
      ]
    },
    {
      "cell_type": "code",
      "execution_count": 199,
      "metadata": {
        "id": "rxTMkyQvV-Iu"
      },
      "outputs": [],
      "source": [
        "# Train on a new model\n",
        "\n",
        "model_2 = tf.keras.Sequential([\n",
        "    tf.keras.layers.Dense(100),\n",
        "    tf.keras.layers.Dense(10),\n",
        "    tf.keras.layers.Dense(1)\n",
        "])\n",
        "\n",
        "model_2.compile(loss=tf.keras.losses.mae,\n",
        "                optimizer=tf.keras.optimizers.Adam(),\n",
        "                metrics=[\"mae\"])\n",
        "\n",
        "history = model_2.fit(X_train, y_train, epochs=500, verbose=0)"
      ]
    },
    {
      "cell_type": "code",
      "execution_count": 200,
      "metadata": {
        "colab": {
          "base_uri": "https://localhost:8080/"
        },
        "id": "5XPSd7sMdF8e",
        "outputId": "d7ad3846-5aff-491b-a974-80c42f0b2ca3"
      },
      "outputs": [
        {
          "output_type": "stream",
          "name": "stdout",
          "text": [
            "9/9 [==============================] - 0s 2ms/step - loss: 3171.3567 - mae: 3171.3567\n"
          ]
        },
        {
          "output_type": "execute_result",
          "data": {
            "text/plain": [
              "[3171.356689453125, 3171.356689453125]"
            ]
          },
          "metadata": {},
          "execution_count": 200
        }
      ],
      "source": [
        "model_2.evaluate(X_test, y_test)"
      ]
    },
    {
      "cell_type": "code",
      "execution_count": 201,
      "metadata": {
        "colab": {
          "base_uri": "https://localhost:8080/",
          "height": 467
        },
        "id": "vMRiklKse2PU",
        "outputId": "cfb0bce4-4ef2-4903-c299-be731543e8e3"
      },
      "outputs": [
        {
          "output_type": "execute_result",
          "data": {
            "text/plain": [
              "Text(0.5, 0, 'epochs')"
            ]
          },
          "metadata": {},
          "execution_count": 201
        },
        {
          "output_type": "display_data",
          "data": {
            "text/plain": [
              "<Figure size 640x480 with 1 Axes>"
            ],
            "image/png": "[encoded data removed]"
          },
          "metadata": {}
        }
      ],
      "source": [
        "import pandas as pd\n",
        "import matplotlib.pyplot as plt\n",
        "\n",
        "pd.DataFrame(history.history).plot()\n",
        "plt.ylabel(\"loss\")\n",
        "plt.xlabel(\"epochs\")"
      ]
    },
    {
      "cell_type": "markdown",
      "metadata": {
        "id": "K3FXAACIfaLR"
      },
      "source": [
        "# Preprocessing Data (Normalization and Standardization)"
      ]
    },
    {
      "cell_type": "code",
      "execution_count": 202,
      "metadata": {
        "colab": {
          "base_uri": "https://localhost:8080/",
          "height": 423
        },
        "id": "43EguNeBoIpp",
        "outputId": "eb528f10-962e-45f0-c4a1-8c3a6a9e9a0e"
      },
      "outputs": [
        {
          "output_type": "execute_result",
          "data": {
            "text/plain": [
              "      age     bmi  children  sex_female  sex_male  smoker_no  smoker_yes  \\\n",
              "0      19  27.900         0           1         0          0           1   \n",
              "1      18  33.770         1           0         1          1           0   \n",
              "2      28  33.000         3           0         1          1           0   \n",
              "3      33  22.705         0           0         1          1           0   \n",
              "4      32  28.880         0           0         1          1           0   \n",
              "...   ...     ...       ...         ...       ...        ...         ...   \n",
              "1333   50  30.970         3           0         1          1           0   \n",
              "1334   18  31.920         0           1         0          1           0   \n",
              "1335   18  36.850         0           1         0          1           0   \n",
              "1336   21  25.800         0           1         0          1           0   \n",
              "1337   61  29.070         0           1         0          0           1   \n",
              "\n",
              "      region_northeast  region_northwest  region_southeast  region_southwest  \n",
              "0                    0                 0                 0                 1  \n",
              "1                    0                 0                 1                 0  \n",
              "2                    0                 0                 1                 0  \n",
              "3                    0                 1                 0                 0  \n",
              "4                    0                 1                 0                 0  \n",
              "...                ...               ...               ...               ...  \n",
              "1333                 0                 1                 0                 0  \n",
              "1334                 1                 0                 0                 0  \n",
              "1335                 0                 0                 1                 0  \n",
              "1336                 0                 0                 0                 1  \n",
              "1337                 0                 1                 0                 0  \n",
              "\n",
              "[1338 rows x 11 columns]"
            ],
            "text/html": [
              "\n",
              "  <div id=\"df-06cdaa7e-cc2d-4d81-a39a-18469b86b7b7\" class=\"colab-df-container\">\n",
              "    <div>\n",
              "<style scoped>\n",
              "    .dataframe tbody tr th:only-of-type {\n",
              "        vertical-align: middle;\n",
              "    }\n",
              "\n",
              "    .dataframe tbody tr th {\n",
              "        vertical-align: top;\n",
              "    }\n",
              "\n",
              "    .dataframe thead th {\n",
              "        text-align: right;\n",
              "    }\n",
              "</style>\n",
              "<table border=\"1\" class=\"dataframe\">\n",
              "  <thead>\n",
              "    <tr style=\"text-align: right;\">\n",
              "      <th></th>\n",
              "      <th>age</th>\n",
              "      <th>bmi</th>\n",
              "      <th>children</th>\n",
              "      <th>sex_female</th>\n",
              "      <th>sex_male</th>\n",
              "      <th>smoker_no</th>\n",
              "      <th>smoker_yes</th>\n",
              "      <th>region_northeast</th>\n",
              "      <th>region_northwest</th>\n",
              "      <th>region_southeast</th>\n",
              "      <th>region_southwest</th>\n",
              "    </tr>\n",
              "  </thead>\n",
              "  <tbody>\n",
              "    <tr>\n",
              "      <th>0</th>\n",
              "      <td>19</td>\n",
              "      <td>27.900</td>\n",
              "      <td>0</td>\n",
              "      <td>1</td>\n",
              "      <td>0</td>\n",
              "      <td>0</td>\n",
              "      <td>1</td>\n",
              "      <td>0</td>\n",
              "      <td>0</td>\n",
              "      <td>0</td>\n",
              "      <td>1</td>\n",
              "    </tr>\n",
              "    <tr>\n",
              "      <th>1</th>\n",
              "      <td>18</td>\n",
              "      <td>33.770</td>\n",
              "      <td>1</td>\n",
              "      <td>0</td>\n",
              "      <td>1</td>\n",
              "      <td>1</td>\n",
              "      <td>0</td>\n",
              "      <td>0</td>\n",
              "      <td>0</td>\n",
              "      <td>1</td>\n",
              "      <td>0</td>\n",
              "    </tr>\n",
              "    <tr>\n",
              "      <th>2</th>\n",
              "      <td>28</td>\n",
              "      <td>33.000</td>\n",
              "      <td>3</td>\n",
              "      <td>0</td>\n",
              "      <td>1</td>\n",
              "      <td>1</td>\n",
              "      <td>0</td>\n",
              "      <td>0</td>\n",
              "      <td>0</td>\n",
              "      <td>1</td>\n",
              "      <td>0</td>\n",
              "    </tr>\n",
              "    <tr>\n",
              "      <th>3</th>\n",
              "      <td>33</td>\n",
              "      <td>22.705</td>\n",
              "      <td>0</td>\n",
              "      <td>0</td>\n",
              "      <td>1</td>\n",
              "      <td>1</td>\n",
              "      <td>0</td>\n",
              "      <td>0</td>\n",
              "      <td>1</td>\n",
              "      <td>0</td>\n",
              "      <td>0</td>\n",
              "    </tr>\n",
              "    <tr>\n",
              "      <th>4</th>\n",
              "      <td>32</td>\n",
              "      <td>28.880</td>\n",
              "      <td>0</td>\n",
              "      <td>0</td>\n",
              "      <td>1</td>\n",
              "      <td>1</td>\n",
              "      <td>0</td>\n",
              "      <td>0</td>\n",
              "      <td>1</td>\n",
              "      <td>0</td>\n",
              "      <td>0</td>\n",
              "    </tr>\n",
              "    <tr>\n",
              "      <th>...</th>\n",
              "      <td>...</td>\n",
              "      <td>...</td>\n",
              "      <td>...</td>\n",
              "      <td>...</td>\n",
              "      <td>...</td>\n",
              "      <td>...</td>\n",
              "      <td>...</td>\n",
              "      <td>...</td>\n",
              "      <td>...</td>\n",
              "      <td>...</td>\n",
              "      <td>...</td>\n",
              "    </tr>\n",
              "    <tr>\n",
              "      <th>1333</th>\n",
              "      <td>50</td>\n",
              "      <td>30.970</td>\n",
              "      <td>3</td>\n",
              "      <td>0</td>\n",
              "      <td>1</td>\n",
              "      <td>1</td>\n",
              "      <td>0</td>\n",
              "      <td>0</td>\n",
              "      <td>1</td>\n",
              "      <td>0</td>\n",
              "      <td>0</td>\n",
              "    </tr>\n",
              "    <tr>\n",
              "      <th>1334</th>\n",
              "      <td>18</td>\n",
              "      <td>31.920</td>\n",
              "      <td>0</td>\n",
              "      <td>1</td>\n",
              "      <td>0</td>\n",
              "      <td>1</td>\n",
              "      <td>0</td>\n",
              "      <td>1</td>\n",
              "      <td>0</td>\n",
              "      <td>0</td>\n",
              "      <td>0</td>\n",
              "    </tr>\n",
              "    <tr>\n",
              "      <th>1335</th>\n",
              "      <td>18</td>\n",
              "      <td>36.850</td>\n",
              "      <td>0</td>\n",
              "      <td>1</td>\n",
              "      <td>0</td>\n",
              "      <td>1</td>\n",
              "      <td>0</td>\n",
              "      <td>0</td>\n",
              "      <td>0</td>\n",
              "      <td>1</td>\n",
              "      <td>0</td>\n",
              "    </tr>\n",
              "    <tr>\n",
              "      <th>1336</th>\n",
              "      <td>21</td>\n",
              "      <td>25.800</td>\n",
              "      <td>0</td>\n",
              "      <td>1</td>\n",
              "      <td>0</td>\n",
              "      <td>1</td>\n",
              "      <td>0</td>\n",
              "      <td>0</td>\n",
              "      <td>0</td>\n",
              "      <td>0</td>\n",
              "      <td>1</td>\n",
              "    </tr>\n",
              "    <tr>\n",
              "      <th>1337</th>\n",
              "      <td>61</td>\n",
              "      <td>29.070</td>\n",
              "      <td>0</td>\n",
              "      <td>1</td>\n",
              "      <td>0</td>\n",
              "      <td>0</td>\n",
              "      <td>1</td>\n",
              "      <td>0</td>\n",
              "      <td>1</td>\n",
              "      <td>0</td>\n",
              "      <td>0</td>\n",
              "    </tr>\n",
              "  </tbody>\n",
              "</table>\n",
              "<p>1338 rows × 11 columns</p>\n",
              "</div>\n",
              "    <div class=\"colab-df-buttons\">\n",
              "\n",
              "  <div class=\"colab-df-container\">\n",
              "    <button class=\"colab-df-convert\" onclick=\"convertToInteractive('df-06cdaa7e-cc2d-4d81-a39a-18469b86b7b7')\"\n",
              "            title=\"Convert this dataframe to an interactive table.\"\n",
              "            style=\"display:none;\">\n",
              "\n",
              "  <svg xmlns=\"http://www.w3.org/2000/svg\" height=\"24px\" viewBox=\"0 -960 960 960\">\n",
              "    <path d=\"M120-120v-720h720v720H120Zm60-500h600v-160H180v160Zm220 220h160v-160H400v160Zm0 220h160v-160H400v160ZM180-400h160v-160H180v160Zm440 0h160v-160H620v160ZM180-180h160v-160H180v160Zm440 0h160v-160H620v160Z\"/>\n",
              "  </svg>\n",
              "    </button>\n",
              "\n",
              "  <style>\n",
              "    .colab-df-container {\n",
              "      display:flex;\n",
              "      gap: 12px;\n",
              "    }\n",
              "\n",
              "    .colab-df-convert {\n",
              "      background-color: #E8F0FE;\n",
              "      border: none;\n",
              "      border-radius: 50%;\n",
              "      cursor: pointer;\n",
              "      display: none;\n",
              "      fill: #1967D2;\n",
              "      height: 32px;\n",
              "      padding: 0 0 0 0;\n",
              "      width: 32px;\n",
              "    }\n",
              "\n",
              "    .colab-df-convert:hover {\n",
              "      background-color: #E2EBFA;\n",
              "      box-shadow: 0px 1px 2px rgba(60, 64, 67, 0.3), 0px 1px 3px 1px rgba(60, 64, 67, 0.15);\n",
              "      fill: #174EA6;\n",
              "    }\n",
              "\n",
              "    .colab-df-buttons div {\n",
              "      margin-bottom: 4px;\n",
              "    }\n",
              "\n",
              "    [theme=dark] .colab-df-convert {\n",
              "      background-color: #3B4455;\n",
              "      fill: #D2E3FC;\n",
              "    }\n",
              "\n",
              "    [theme=dark] .colab-df-convert:hover {\n",
              "      background-color: #434B5C;\n",
              "      box-shadow: 0px 1px 3px 1px rgba(0, 0, 0, 0.15);\n",
              "      filter: drop-shadow(0px 1px 2px rgba(0, 0, 0, 0.3));\n",
              "      fill: #FFFFFF;\n",
              "    }\n",
              "  </style>\n",
              "\n",
              "    <script>\n",
              "      const buttonEl =\n",
              "        document.querySelector('#df-06cdaa7e-cc2d-4d81-a39a-18469b86b7b7 button.colab-df-convert');\n",
              "      buttonEl.style.display =\n",
              "        google.colab.kernel.accessAllowed ? 'block' : 'none';\n",
              "\n",
              "      async function convertToInteractive(key) {\n",
              "        const element = document.querySelector('#df-06cdaa7e-cc2d-4d81-a39a-18469b86b7b7');\n",
              "        const dataTable =\n",
              "          await google.colab.kernel.invokeFunction('convertToInteractive',\n",
              "                                                    [key], {});\n",
              "        if (!dataTable) return;\n",
              "\n",
              "        const docLinkHtml = 'Like what you see? Visit the ' +\n",
              "          '<a target=\"_blank\" href=https://colab.research.google.com/notebooks/data_table.ipynb>data table notebook</a>'\n",
              "          + ' to learn more about interactive tables.';\n",
              "        element.innerHTML = '';\n",
              "        dataTable['output_type'] = 'display_data';\n",
              "        await google.colab.output.renderOutput(dataTable, element);\n",
              "        const docLink = document.createElement('div');\n",
              "        docLink.innerHTML = docLinkHtml;\n",
              "        element.appendChild(docLink);\n",
              "      }\n",
              "    </script>\n",
              "  </div>\n",
              "\n",
              "\n",
              "<div id=\"df-97512677-1fec-4828-b0ff-530808be559d\">\n",
              "  <button class=\"colab-df-quickchart\" onclick=\"quickchart('df-97512677-1fec-4828-b0ff-530808be559d')\"\n",
              "            title=\"Suggest charts\"\n",
              "            style=\"display:none;\">\n",
              "\n",
              "<svg xmlns=\"http://www.w3.org/2000/svg\" height=\"24px\"viewBox=\"0 0 24 24\"\n",
              "     width=\"24px\">\n",
              "    <g>\n",
              "        <path d=\"M19 3H5c-1.1 0-2 .9-2 2v14c0 1.1.9 2 2 2h14c1.1 0 2-.9 2-2V5c0-1.1-.9-2-2-2zM9 17H7v-7h2v7zm4 0h-2V7h2v10zm4 0h-2v-4h2v4z\"/>\n",
              "    </g>\n",
              "</svg>\n",
              "  </button>\n",
              "\n",
              "<style>\n",
              "  .colab-df-quickchart {\n",
              "      --bg-color: #E8F0FE;\n",
              "      --fill-color: #1967D2;\n",
              "      --hover-bg-color: #E2EBFA;\n",
              "      --hover-fill-color: #174EA6;\n",
              "      --disabled-fill-color: #AAA;\n",
              "      --disabled-bg-color: #DDD;\n",
              "  }\n",
              "\n",
              "  [theme=dark] .colab-df-quickchart {\n",
              "      --bg-color: #3B4455;\n",
              "      --fill-color: #D2E3FC;\n",
              "      --hover-bg-color: #434B5C;\n",
              "      --hover-fill-color: #FFFFFF;\n",
              "      --disabled-bg-color: #3B4455;\n",
              "      --disabled-fill-color: #666;\n",
              "  }\n",
              "\n",
              "  .colab-df-quickchart {\n",
              "    background-color: var(--bg-color);\n",
              "    border: none;\n",
              "    border-radius: 50%;\n",
              "    cursor: pointer;\n",
              "    display: none;\n",
              "    fill: var(--fill-color);\n",
              "    height: 32px;\n",
              "    padding: 0;\n",
              "    width: 32px;\n",
              "  }\n",
              "\n",
              "  .colab-df-quickchart:hover {\n",
              "    background-color: var(--hover-bg-color);\n",
              "    box-shadow: 0 1px 2px rgba(60, 64, 67, 0.3), 0 1px 3px 1px rgba(60, 64, 67, 0.15);\n",
              "    fill: var(--button-hover-fill-color);\n",
              "  }\n",
              "\n",
              "  .colab-df-quickchart-complete:disabled,\n",
              "  .colab-df-quickchart-complete:disabled:hover {\n",
              "    background-color: var(--disabled-bg-color);\n",
              "    fill: var(--disabled-fill-color);\n",
              "    box-shadow: none;\n",
              "  }\n",
              "\n",
              "  .colab-df-spinner {\n",
              "    border: 2px solid var(--fill-color);\n",
              "    border-color: transparent;\n",
              "    border-bottom-color: var(--fill-color);\n",
              "    animation:\n",
              "      spin 1s steps(1) infinite;\n",
              "  }\n",
              "\n",
              "  @keyframes spin {\n",
              "    0% {\n",
              "      border-color: transparent;\n",
              "      border-bottom-color: var(--fill-color);\n",
              "      border-left-color: var(--fill-color);\n",
              "    }\n",
              "    20% {\n",
              "      border-color: transparent;\n",
              "      border-left-color: var(--fill-color);\n",
              "      border-top-color: var(--fill-color);\n",
              "    }\n",
              "    30% {\n",
              "      border-color: transparent;\n",
              "      border-left-color: var(--fill-color);\n",
              "      border-top-color: var(--fill-color);\n",
              "      border-right-color: var(--fill-color);\n",
              "    }\n",
              "    40% {\n",
              "      border-color: transparent;\n",
              "      border-right-color: var(--fill-color);\n",
              "      border-top-color: var(--fill-color);\n",
              "    }\n",
              "    60% {\n",
              "      border-color: transparent;\n",
              "      border-right-color: var(--fill-color);\n",
              "    }\n",
              "    80% {\n",
              "      border-color: transparent;\n",
              "      border-right-color: var(--fill-color);\n",
              "      border-bottom-color: var(--fill-color);\n",
              "    }\n",
              "    90% {\n",
              "      border-color: transparent;\n",
              "      border-bottom-color: var(--fill-color);\n",
              "    }\n",
              "  }\n",
              "</style>\n",
              "\n",
              "  <script>\n",
              "    async function quickchart(key) {\n",
              "      const quickchartButtonEl =\n",
              "        document.querySelector('#' + key + ' button');\n",
              "      quickchartButtonEl.disabled = true;  // To prevent multiple clicks.\n",
              "      quickchartButtonEl.classList.add('colab-df-spinner');\n",
              "      try {\n",
              "        const charts = await google.colab.kernel.invokeFunction(\n",
              "            'suggestCharts', [key], {});\n",
              "      } catch (error) {\n",
              "        console.error('Error during call to suggestCharts:', error);\n",
              "      }\n",
              "      quickchartButtonEl.classList.remove('colab-df-spinner');\n",
              "      quickchartButtonEl.classList.add('colab-df-quickchart-complete');\n",
              "    }\n",
              "    (() => {\n",
              "      let quickchartButtonEl =\n",
              "        document.querySelector('#df-97512677-1fec-4828-b0ff-530808be559d button');\n",
              "      quickchartButtonEl.style.display =\n",
              "        google.colab.kernel.accessAllowed ? 'block' : 'none';\n",
              "    })();\n",
              "  </script>\n",
              "</div>\n",
              "\n",
              "  <div id=\"id_9ee32cde-030b-4d2d-ba81-79c00a559b93\">\n",
              "    <style>\n",
              "      .colab-df-generate {\n",
              "        background-color: #E8F0FE;\n",
              "        border: none;\n",
              "        border-radius: 50%;\n",
              "        cursor: pointer;\n",
              "        display: none;\n",
              "        fill: #1967D2;\n",
              "        height: 32px;\n",
              "        padding: 0 0 0 0;\n",
              "        width: 32px;\n",
              "      }\n",
              "\n",
              "      .colab-df-generate:hover {\n",
              "        background-color: #E2EBFA;\n",
              "        box-shadow: 0px 1px 2px rgba(60, 64, 67, 0.3), 0px 1px 3px 1px rgba(60, 64, 67, 0.15);\n",
              "        fill: #174EA6;\n",
              "      }\n",
              "\n",
              "      [theme=dark] .colab-df-generate {\n",
              "        background-color: #3B4455;\n",
              "        fill: #D2E3FC;\n",
              "      }\n",
              "\n",
              "      [theme=dark] .colab-df-generate:hover {\n",
              "        background-color: #434B5C;\n",
              "        box-shadow: 0px 1px 3px 1px rgba(0, 0, 0, 0.15);\n",
              "        filter: drop-shadow(0px 1px 2px rgba(0, 0, 0, 0.3));\n",
              "        fill: #FFFFFF;\n",
              "      }\n",
              "    </style>\n",
              "    <button class=\"colab-df-generate\" onclick=\"generateWithVariable('X')\"\n",
              "            title=\"Generate code using this dataframe.\"\n",
              "            style=\"display:none;\">\n",
              "\n",
              "  <svg xmlns=\"http://www.w3.org/2000/svg\" height=\"24px\"viewBox=\"0 0 24 24\"\n",
              "       width=\"24px\">\n",
              "    <path d=\"M7,19H8.4L18.45,9,17,7.55,7,17.6ZM5,21V16.75L18.45,3.32a2,2,0,0,1,2.83,0l1.4,1.43a1.91,1.91,0,0,1,.58,1.4,1.91,1.91,0,0,1-.58,1.4L9.25,21ZM18.45,9,17,7.55Zm-12,3A5.31,5.31,0,0,0,4.9,8.1,5.31,5.31,0,0,0,1,6.5,5.31,5.31,0,0,0,4.9,4.9,5.31,5.31,0,0,0,6.5,1,5.31,5.31,0,0,0,8.1,4.9,5.31,5.31,0,0,0,12,6.5,5.46,5.46,0,0,0,6.5,12Z\"/>\n",
              "  </svg>\n",
              "    </button>\n",
              "    <script>\n",
              "      (() => {\n",
              "      const buttonEl =\n",
              "        document.querySelector('#id_9ee32cde-030b-4d2d-ba81-79c00a559b93 button.colab-df-generate');\n",
              "      buttonEl.style.display =\n",
              "        google.colab.kernel.accessAllowed ? 'block' : 'none';\n",
              "\n",
              "      buttonEl.onclick = () => {\n",
              "        google.colab.notebook.generateWithVariable('X');\n",
              "      }\n",
              "      })();\n",
              "    </script>\n",
              "  </div>\n",
              "\n",
              "    </div>\n",
              "  </div>\n"
            ],
            "application/vnd.google.colaboratory.intrinsic+json": {
              "type": "dataframe",
              "variable_name": "X",
              "summary": "{\n  \"name\": \"X\",\n  \"rows\": 1338,\n  \"fields\": [\n    {\n      \"column\": \"age\",\n      \"properties\": {\n        \"dtype\": \"number\",\n        \"std\": 14,\n        \"min\": 18,\n        \"max\": 64,\n        \"num_unique_values\": 47,\n        \"samples\": [\n          21,\n          45,\n          36\n        ],\n        \"semantic_type\": \"\",\n        \"description\": \"\"\n      }\n    },\n    {\n      \"column\": \"bmi\",\n      \"properties\": {\n        \"dtype\": \"number\",\n        \"std\": 6.098186911679014,\n        \"min\": 15.96,\n        \"max\": 53.13,\n        \"num_unique_values\": 548,\n        \"samples\": [\n          23.18,\n          26.885,\n          29.26\n        ],\n        \"semantic_type\": \"\",\n        \"description\": \"\"\n      }\n    },\n    {\n      \"column\": \"children\",\n      \"properties\": {\n        \"dtype\": \"number\",\n        \"std\": 1,\n        \"min\": 0,\n        \"max\": 5,\n        \"num_unique_values\": 6,\n        \"samples\": [\n          0,\n          1,\n          4\n        ],\n        \"semantic_type\": \"\",\n        \"description\": \"\"\n      }\n    },\n    {\n      \"column\": \"sex_female\",\n      \"properties\": {\n        \"dtype\": \"number\",\n        \"std\": 0,\n        \"min\": 0,\n        \"max\": 1,\n        \"num_unique_values\": 2,\n        \"samples\": [\n          0,\n          1\n        ],\n        \"semantic_type\": \"\",\n        \"description\": \"\"\n      }\n    },\n    {\n      \"column\": \"sex_male\",\n      \"properties\": {\n        \"dtype\": \"number\",\n        \"std\": 0,\n        \"min\": 0,\n        \"max\": 1,\n        \"num_unique_values\": 2,\n        \"samples\": [\n          1,\n          0\n        ],\n        \"semantic_type\": \"\",\n        \"description\": \"\"\n      }\n    },\n    {\n      \"column\": \"smoker_no\",\n      \"properties\": {\n        \"dtype\": \"number\",\n        \"std\": 0,\n        \"min\": 0,\n        \"max\": 1,\n        \"num_unique_values\": 2,\n        \"samples\": [\n          1,\n          0\n        ],\n        \"semantic_type\": \"\",\n        \"description\": \"\"\n      }\n    },\n    {\n      \"column\": \"smoker_yes\",\n      \"properties\": {\n        \"dtype\": \"number\",\n        \"std\": 0,\n        \"min\": 0,\n        \"max\": 1,\n        \"num_unique_values\": 2,\n        \"samples\": [\n          0,\n          1\n        ],\n        \"semantic_type\": \"\",\n        \"description\": \"\"\n      }\n    },\n    {\n      \"column\": \"region_northeast\",\n      \"properties\": {\n        \"dtype\": \"number\",\n        \"std\": 0,\n        \"min\": 0,\n        \"max\": 1,\n        \"num_unique_values\": 2,\n        \"samples\": [\n          1,\n          0\n        ],\n        \"semantic_type\": \"\",\n        \"description\": \"\"\n      }\n    },\n    {\n      \"column\": \"region_northwest\",\n      \"properties\": {\n        \"dtype\": \"number\",\n        \"std\": 0,\n        \"min\": 0,\n        \"max\": 1,\n        \"num_unique_values\": 2,\n        \"samples\": [\n          1,\n          0\n        ],\n        \"semantic_type\": \"\",\n        \"description\": \"\"\n      }\n    },\n    {\n      \"column\": \"region_southeast\",\n      \"properties\": {\n        \"dtype\": \"number\",\n        \"std\": 0,\n        \"min\": 0,\n        \"max\": 1,\n        \"num_unique_values\": 2,\n        \"samples\": [\n          1,\n          0\n        ],\n        \"semantic_type\": \"\",\n        \"description\": \"\"\n      }\n    },\n    {\n      \"column\": \"region_southwest\",\n      \"properties\": {\n        \"dtype\": \"number\",\n        \"std\": 0,\n        \"min\": 0,\n        \"max\": 1,\n        \"num_unique_values\": 2,\n        \"samples\": [\n          0,\n          1\n        ],\n        \"semantic_type\": \"\",\n        \"description\": \"\"\n      }\n    }\n  ]\n}"
            }
          },
          "metadata": {},
          "execution_count": 202
        }
      ],
      "source": [
        "X"
      ]
    },
    {
      "cell_type": "code",
      "execution_count": 203,
      "metadata": {
        "colab": {
          "base_uri": "https://localhost:8080/",
          "height": 448
        },
        "id": "XFcAJulcoJOj",
        "outputId": "bd5bff1d-2c1a-4bc4-dda1-0575c4c62aaf"
      },
      "outputs": [
        {
          "output_type": "execute_result",
          "data": {
            "text/plain": [
              "<Axes: >"
            ]
          },
          "metadata": {},
          "execution_count": 203
        },
        {
          "output_type": "display_data",
          "data": {
            "text/plain": [
              "<Figure size 640x480 with 1 Axes>"
            ],
            "image/png": "[encoded data removed]"
          },
          "metadata": {}
        }
      ],
      "source": [
        "X[\"age\"].plot()"
      ]
    },
    {
      "cell_type": "code",
      "execution_count": 204,
      "metadata": {
        "colab": {
          "base_uri": "https://localhost:8080/",
          "height": 448
        },
        "id": "QUDztX14oNoG",
        "outputId": "87ed291e-536d-44fa-abc5-7a8aa57829b0"
      },
      "outputs": [
        {
          "output_type": "execute_result",
          "data": {
            "text/plain": [
              "<Axes: ylabel='Frequency'>"
            ]
          },
          "metadata": {},
          "execution_count": 204
        },
        {
          "output_type": "display_data",
          "data": {
            "text/plain": [
              "<Figure size 640x480 with 1 Axes>"
            ],
            "image/png": "[encoded data removed]"
          },
          "metadata": {}
        }
      ],
      "source": [
        "X[\"age\"].plot(kind=\"hist\")"
      ]
    },
    {
      "cell_type": "code",
      "execution_count": 205,
      "metadata": {
        "colab": {
          "base_uri": "https://localhost:8080/",
          "height": 448
        },
        "id": "wAwVC8bHoYy7",
        "outputId": "b081ce13-3d1f-4828-a224-e0aa8593ce9c"
      },
      "outputs": [
        {
          "output_type": "execute_result",
          "data": {
            "text/plain": [
              "<Axes: >"
            ]
          },
          "metadata": {},
          "execution_count": 205
        },
        {
          "output_type": "display_data",
          "data": {
            "text/plain": [
              "<Figure size 640x480 with 1 Axes>"
            ],
            "image/png": "[encoded data removed]"
          },
          "metadata": {}
        }
      ],
      "source": [
        "X[\"bmi\"].plot()"
      ]
    },
    {
      "cell_type": "code",
      "execution_count": 206,
      "metadata": {
        "colab": {
          "base_uri": "https://localhost:8080/",
          "height": 448
        },
        "id": "0dK07afMoTMy",
        "outputId": "5acd1aa4-f04f-4a49-80c0-3af01580f5d6"
      },
      "outputs": [
        {
          "output_type": "execute_result",
          "data": {
            "text/plain": [
              "<Axes: ylabel='Frequency'>"
            ]
          },
          "metadata": {},
          "execution_count": 206
        },
        {
          "output_type": "display_data",
          "data": {
            "text/plain": [
              "<Figure size 640x480 with 1 Axes>"
            ],
            "image/png": "[encoded data removed]"
          },
          "metadata": {}
        }
      ],
      "source": [
        "X[\"bmi\"].plot(kind=\"hist\")"
      ]
    },
    {
      "cell_type": "code",
      "execution_count": 207,
      "metadata": {
        "colab": {
          "base_uri": "https://localhost:8080/",
          "height": 423
        },
        "id": "2uPi5X2qoj3x",
        "outputId": "d9c2b7da-07c4-4a8e-8207-f3871c88e924"
      },
      "outputs": [
        {
          "output_type": "execute_result",
          "data": {
            "text/plain": [
              "      age     sex     bmi  children smoker     region      charges\n",
              "0      19  female  27.900         0    yes  southwest  16884.92400\n",
              "1      18    male  33.770         1     no  southeast   1725.55230\n",
              "2      28    male  33.000         3     no  southeast   4449.46200\n",
              "3      33    male  22.705         0     no  northwest  21984.47061\n",
              "4      32    male  28.880         0     no  northwest   3866.85520\n",
              "...   ...     ...     ...       ...    ...        ...          ...\n",
              "1333   50    male  30.970         3     no  northwest  10600.54830\n",
              "1334   18  female  31.920         0     no  northeast   2205.98080\n",
              "1335   18  female  36.850         0     no  southeast   1629.83350\n",
              "1336   21  female  25.800         0     no  southwest   2007.94500\n",
              "1337   61  female  29.070         0    yes  northwest  29141.36030\n",
              "\n",
              "[1338 rows x 7 columns]"
            ],
            "text/html": [
              "\n",
              "  <div id=\"df-c712545a-40a1-436a-8882-24be49827019\" class=\"colab-df-container\">\n",
              "    <div>\n",
              "<style scoped>\n",
              "    .dataframe tbody tr th:only-of-type {\n",
              "        vertical-align: middle;\n",
              "    }\n",
              "\n",
              "    .dataframe tbody tr th {\n",
              "        vertical-align: top;\n",
              "    }\n",
              "\n",
              "    .dataframe thead th {\n",
              "        text-align: right;\n",
              "    }\n",
              "</style>\n",
              "<table border=\"1\" class=\"dataframe\">\n",
              "  <thead>\n",
              "    <tr style=\"text-align: right;\">\n",
              "      <th></th>\n",
              "      <th>age</th>\n",
              "      <th>sex</th>\n",
              "      <th>bmi</th>\n",
              "      <th>children</th>\n",
              "      <th>smoker</th>\n",
              "      <th>region</th>\n",
              "      <th>charges</th>\n",
              "    </tr>\n",
              "  </thead>\n",
              "  <tbody>\n",
              "    <tr>\n",
              "      <th>0</th>\n",
              "      <td>19</td>\n",
              "      <td>female</td>\n",
              "      <td>27.900</td>\n",
              "      <td>0</td>\n",
              "      <td>yes</td>\n",
              "      <td>southwest</td>\n",
              "      <td>16884.92400</td>\n",
              "    </tr>\n",
              "    <tr>\n",
              "      <th>1</th>\n",
              "      <td>18</td>\n",
              "      <td>male</td>\n",
              "      <td>33.770</td>\n",
              "      <td>1</td>\n",
              "      <td>no</td>\n",
              "      <td>southeast</td>\n",
              "      <td>1725.55230</td>\n",
              "    </tr>\n",
              "    <tr>\n",
              "      <th>2</th>\n",
              "      <td>28</td>\n",
              "      <td>male</td>\n",
              "      <td>33.000</td>\n",
              "      <td>3</td>\n",
              "      <td>no</td>\n",
              "      <td>southeast</td>\n",
              "      <td>4449.46200</td>\n",
              "    </tr>\n",
              "    <tr>\n",
              "      <th>3</th>\n",
              "      <td>33</td>\n",
              "      <td>male</td>\n",
              "      <td>22.705</td>\n",
              "      <td>0</td>\n",
              "      <td>no</td>\n",
              "      <td>northwest</td>\n",
              "      <td>21984.47061</td>\n",
              "    </tr>\n",
              "    <tr>\n",
              "      <th>4</th>\n",
              "      <td>32</td>\n",
              "      <td>male</td>\n",
              "      <td>28.880</td>\n",
              "      <td>0</td>\n",
              "      <td>no</td>\n",
              "      <td>northwest</td>\n",
              "      <td>3866.85520</td>\n",
              "    </tr>\n",
              "    <tr>\n",
              "      <th>...</th>\n",
              "      <td>...</td>\n",
              "      <td>...</td>\n",
              "      <td>...</td>\n",
              "      <td>...</td>\n",
              "      <td>...</td>\n",
              "      <td>...</td>\n",
              "      <td>...</td>\n",
              "    </tr>\n",
              "    <tr>\n",
              "      <th>1333</th>\n",
              "      <td>50</td>\n",
              "      <td>male</td>\n",
              "      <td>30.970</td>\n",
              "      <td>3</td>\n",
              "      <td>no</td>\n",
              "      <td>northwest</td>\n",
              "      <td>10600.54830</td>\n",
              "    </tr>\n",
              "    <tr>\n",
              "      <th>1334</th>\n",
              "      <td>18</td>\n",
              "      <td>female</td>\n",
              "      <td>31.920</td>\n",
              "      <td>0</td>\n",
              "      <td>no</td>\n",
              "      <td>northeast</td>\n",
              "      <td>2205.98080</td>\n",
              "    </tr>\n",
              "    <tr>\n",
              "      <th>1335</th>\n",
              "      <td>18</td>\n",
              "      <td>female</td>\n",
              "      <td>36.850</td>\n",
              "      <td>0</td>\n",
              "      <td>no</td>\n",
              "      <td>southeast</td>\n",
              "      <td>1629.83350</td>\n",
              "    </tr>\n",
              "    <tr>\n",
              "      <th>1336</th>\n",
              "      <td>21</td>\n",
              "      <td>female</td>\n",
              "      <td>25.800</td>\n",
              "      <td>0</td>\n",
              "      <td>no</td>\n",
              "      <td>southwest</td>\n",
              "      <td>2007.94500</td>\n",
              "    </tr>\n",
              "    <tr>\n",
              "      <th>1337</th>\n",
              "      <td>61</td>\n",
              "      <td>female</td>\n",
              "      <td>29.070</td>\n",
              "      <td>0</td>\n",
              "      <td>yes</td>\n",
              "      <td>northwest</td>\n",
              "      <td>29141.36030</td>\n",
              "    </tr>\n",
              "  </tbody>\n",
              "</table>\n",
              "<p>1338 rows × 7 columns</p>\n",
              "</div>\n",
              "    <div class=\"colab-df-buttons\">\n",
              "\n",
              "  <div class=\"colab-df-container\">\n",
              "    <button class=\"colab-df-convert\" onclick=\"convertToInteractive('df-c712545a-40a1-436a-8882-24be49827019')\"\n",
              "            title=\"Convert this dataframe to an interactive table.\"\n",
              "            style=\"display:none;\">\n",
              "\n",
              "  <svg xmlns=\"http://www.w3.org/2000/svg\" height=\"24px\" viewBox=\"0 -960 960 960\">\n",
              "    <path d=\"M120-120v-720h720v720H120Zm60-500h600v-160H180v160Zm220 220h160v-160H400v160Zm0 220h160v-160H400v160ZM180-400h160v-160H180v160Zm440 0h160v-160H620v160ZM180-180h160v-160H180v160Zm440 0h160v-160H620v160Z\"/>\n",
              "  </svg>\n",
              "    </button>\n",
              "\n",
              "  <style>\n",
              "    .colab-df-container {\n",
              "      display:flex;\n",
              "      gap: 12px;\n",
              "    }\n",
              "\n",
              "    .colab-df-convert {\n",
              "      background-color: #E8F0FE;\n",
              "      border: none;\n",
              "      border-radius: 50%;\n",
              "      cursor: pointer;\n",
              "      display: none;\n",
              "      fill: #1967D2;\n",
              "      height: 32px;\n",
              "      padding: 0 0 0 0;\n",
              "      width: 32px;\n",
              "    }\n",
              "\n",
              "    .colab-df-convert:hover {\n",
              "      background-color: #E2EBFA;\n",
              "      box-shadow: 0px 1px 2px rgba(60, 64, 67, 0.3), 0px 1px 3px 1px rgba(60, 64, 67, 0.15);\n",
              "      fill: #174EA6;\n",
              "    }\n",
              "\n",
              "    .colab-df-buttons div {\n",
              "      margin-bottom: 4px;\n",
              "    }\n",
              "\n",
              "    [theme=dark] .colab-df-convert {\n",
              "      background-color: #3B4455;\n",
              "      fill: #D2E3FC;\n",
              "    }\n",
              "\n",
              "    [theme=dark] .colab-df-convert:hover {\n",
              "      background-color: #434B5C;\n",
              "      box-shadow: 0px 1px 3px 1px rgba(0, 0, 0, 0.15);\n",
              "      filter: drop-shadow(0px 1px 2px rgba(0, 0, 0, 0.3));\n",
              "      fill: #FFFFFF;\n",
              "    }\n",
              "  </style>\n",
              "\n",
              "    <script>\n",
              "      const buttonEl =\n",
              "        document.querySelector('#df-c712545a-40a1-436a-8882-24be49827019 button.colab-df-convert');\n",
              "      buttonEl.style.display =\n",
              "        google.colab.kernel.accessAllowed ? 'block' : 'none';\n",
              "\n",
              "      async function convertToInteractive(key) {\n",
              "        const element = document.querySelector('#df-c712545a-40a1-436a-8882-24be49827019');\n",
              "        const dataTable =\n",
              "          await google.colab.kernel.invokeFunction('convertToInteractive',\n",
              "                                                    [key], {});\n",
              "        if (!dataTable) return;\n",
              "\n",
              "        const docLinkHtml = 'Like what you see? Visit the ' +\n",
              "          '<a target=\"_blank\" href=https://colab.research.google.com/notebooks/data_table.ipynb>data table notebook</a>'\n",
              "          + ' to learn more about interactive tables.';\n",
              "        element.innerHTML = '';\n",
              "        dataTable['output_type'] = 'display_data';\n",
              "        await google.colab.output.renderOutput(dataTable, element);\n",
              "        const docLink = document.createElement('div');\n",
              "        docLink.innerHTML = docLinkHtml;\n",
              "        element.appendChild(docLink);\n",
              "      }\n",
              "    </script>\n",
              "  </div>\n",
              "\n",
              "\n",
              "<div id=\"df-2ae9a283-a124-4f2d-930d-001d92a317c9\">\n",
              "  <button class=\"colab-df-quickchart\" onclick=\"quickchart('df-2ae9a283-a124-4f2d-930d-001d92a317c9')\"\n",
              "            title=\"Suggest charts\"\n",
              "            style=\"display:none;\">\n",
              "\n",
              "<svg xmlns=\"http://www.w3.org/2000/svg\" height=\"24px\"viewBox=\"0 0 24 24\"\n",
              "     width=\"24px\">\n",
              "    <g>\n",
              "        <path d=\"M19 3H5c-1.1 0-2 .9-2 2v14c0 1.1.9 2 2 2h14c1.1 0 2-.9 2-2V5c0-1.1-.9-2-2-2zM9 17H7v-7h2v7zm4 0h-2V7h2v10zm4 0h-2v-4h2v4z\"/>\n",
              "    </g>\n",
              "</svg>\n",
              "  </button>\n",
              "\n",
              "<style>\n",
              "  .colab-df-quickchart {\n",
              "      --bg-color: #E8F0FE;\n",
              "      --fill-color: #1967D2;\n",
              "      --hover-bg-color: #E2EBFA;\n",
              "      --hover-fill-color: #174EA6;\n",
              "      --disabled-fill-color: #AAA;\n",
              "      --disabled-bg-color: #DDD;\n",
              "  }\n",
              "\n",
              "  [theme=dark] .colab-df-quickchart {\n",
              "      --bg-color: #3B4455;\n",
              "      --fill-color: #D2E3FC;\n",
              "      --hover-bg-color: #434B5C;\n",
              "      --hover-fill-color: #FFFFFF;\n",
              "      --disabled-bg-color: #3B4455;\n",
              "      --disabled-fill-color: #666;\n",
              "  }\n",
              "\n",
              "  .colab-df-quickchart {\n",
              "    background-color: var(--bg-color);\n",
              "    border: none;\n",
              "    border-radius: 50%;\n",
              "    cursor: pointer;\n",
              "    display: none;\n",
              "    fill: var(--fill-color);\n",
              "    height: 32px;\n",
              "    padding: 0;\n",
              "    width: 32px;\n",
              "  }\n",
              "\n",
              "  .colab-df-quickchart:hover {\n",
              "    background-color: var(--hover-bg-color);\n",
              "    box-shadow: 0 1px 2px rgba(60, 64, 67, 0.3), 0 1px 3px 1px rgba(60, 64, 67, 0.15);\n",
              "    fill: var(--button-hover-fill-color);\n",
              "  }\n",
              "\n",
              "  .colab-df-quickchart-complete:disabled,\n",
              "  .colab-df-quickchart-complete:disabled:hover {\n",
              "    background-color: var(--disabled-bg-color);\n",
              "    fill: var(--disabled-fill-color);\n",
              "    box-shadow: none;\n",
              "  }\n",
              "\n",
              "  .colab-df-spinner {\n",
              "    border: 2px solid var(--fill-color);\n",
              "    border-color: transparent;\n",
              "    border-bottom-color: var(--fill-color);\n",
              "    animation:\n",
              "      spin 1s steps(1) infinite;\n",
              "  }\n",
              "\n",
              "  @keyframes spin {\n",
              "    0% {\n",
              "      border-color: transparent;\n",
              "      border-bottom-color: var(--fill-color);\n",
              "      border-left-color: var(--fill-color);\n",
              "    }\n",
              "    20% {\n",
              "      border-color: transparent;\n",
              "      border-left-color: var(--fill-color);\n",
              "      border-top-color: var(--fill-color);\n",
              "    }\n",
              "    30% {\n",
              "      border-color: transparent;\n",
              "      border-left-color: var(--fill-color);\n",
              "      border-top-color: var(--fill-color);\n",
              "      border-right-color: var(--fill-color);\n",
              "    }\n",
              "    40% {\n",
              "      border-color: transparent;\n",
              "      border-right-color: var(--fill-color);\n",
              "      border-top-color: var(--fill-color);\n",
              "    }\n",
              "    60% {\n",
              "      border-color: transparent;\n",
              "      border-right-color: var(--fill-color);\n",
              "    }\n",
              "    80% {\n",
              "      border-color: transparent;\n",
              "      border-right-color: var(--fill-color);\n",
              "      border-bottom-color: var(--fill-color);\n",
              "    }\n",
              "    90% {\n",
              "      border-color: transparent;\n",
              "      border-bottom-color: var(--fill-color);\n",
              "    }\n",
              "  }\n",
              "</style>\n",
              "\n",
              "  <script>\n",
              "    async function quickchart(key) {\n",
              "      const quickchartButtonEl =\n",
              "        document.querySelector('#' + key + ' button');\n",
              "      quickchartButtonEl.disabled = true;  // To prevent multiple clicks.\n",
              "      quickchartButtonEl.classList.add('colab-df-spinner');\n",
              "      try {\n",
              "        const charts = await google.colab.kernel.invokeFunction(\n",
              "            'suggestCharts', [key], {});\n",
              "      } catch (error) {\n",
              "        console.error('Error during call to suggestCharts:', error);\n",
              "      }\n",
              "      quickchartButtonEl.classList.remove('colab-df-spinner');\n",
              "      quickchartButtonEl.classList.add('colab-df-quickchart-complete');\n",
              "    }\n",
              "    (() => {\n",
              "      let quickchartButtonEl =\n",
              "        document.querySelector('#df-2ae9a283-a124-4f2d-930d-001d92a317c9 button');\n",
              "      quickchartButtonEl.style.display =\n",
              "        google.colab.kernel.accessAllowed ? 'block' : 'none';\n",
              "    })();\n",
              "  </script>\n",
              "</div>\n",
              "\n",
              "  <div id=\"id_ee22d8a1-fbca-4803-a9ab-4362ffb682ad\">\n",
              "    <style>\n",
              "      .colab-df-generate {\n",
              "        background-color: #E8F0FE;\n",
              "        border: none;\n",
              "        border-radius: 50%;\n",
              "        cursor: pointer;\n",
              "        display: none;\n",
              "        fill: #1967D2;\n",
              "        height: 32px;\n",
              "        padding: 0 0 0 0;\n",
              "        width: 32px;\n",
              "      }\n",
              "\n",
              "      .colab-df-generate:hover {\n",
              "        background-color: #E2EBFA;\n",
              "        box-shadow: 0px 1px 2px rgba(60, 64, 67, 0.3), 0px 1px 3px 1px rgba(60, 64, 67, 0.15);\n",
              "        fill: #174EA6;\n",
              "      }\n",
              "\n",
              "      [theme=dark] .colab-df-generate {\n",
              "        background-color: #3B4455;\n",
              "        fill: #D2E3FC;\n",
              "      }\n",
              "\n",
              "      [theme=dark] .colab-df-generate:hover {\n",
              "        background-color: #434B5C;\n",
              "        box-shadow: 0px 1px 3px 1px rgba(0, 0, 0, 0.15);\n",
              "        filter: drop-shadow(0px 1px 2px rgba(0, 0, 0, 0.3));\n",
              "        fill: #FFFFFF;\n",
              "      }\n",
              "    </style>\n",
              "    <button class=\"colab-df-generate\" onclick=\"generateWithVariable('insurance')\"\n",
              "            title=\"Generate code using this dataframe.\"\n",
              "            style=\"display:none;\">\n",
              "\n",
              "  <svg xmlns=\"http://www.w3.org/2000/svg\" height=\"24px\"viewBox=\"0 0 24 24\"\n",
              "       width=\"24px\">\n",
              "    <path d=\"M7,19H8.4L18.45,9,17,7.55,7,17.6ZM5,21V16.75L18.45,3.32a2,2,0,0,1,2.83,0l1.4,1.43a1.91,1.91,0,0,1,.58,1.4,1.91,1.91,0,0,1-.58,1.4L9.25,21ZM18.45,9,17,7.55Zm-12,3A5.31,5.31,0,0,0,4.9,8.1,5.31,5.31,0,0,0,1,6.5,5.31,5.31,0,0,0,4.9,4.9,5.31,5.31,0,0,0,6.5,1,5.31,5.31,0,0,0,8.1,4.9,5.31,5.31,0,0,0,12,6.5,5.46,5.46,0,0,0,6.5,12Z\"/>\n",
              "  </svg>\n",
              "    </button>\n",
              "    <script>\n",
              "      (() => {\n",
              "      const buttonEl =\n",
              "        document.querySelector('#id_ee22d8a1-fbca-4803-a9ab-4362ffb682ad button.colab-df-generate');\n",
              "      buttonEl.style.display =\n",
              "        google.colab.kernel.accessAllowed ? 'block' : 'none';\n",
              "\n",
              "      buttonEl.onclick = () => {\n",
              "        google.colab.notebook.generateWithVariable('insurance');\n",
              "      }\n",
              "      })();\n",
              "    </script>\n",
              "  </div>\n",
              "\n",
              "    </div>\n",
              "  </div>\n"
            ],
            "application/vnd.google.colaboratory.intrinsic+json": {
              "type": "dataframe",
              "variable_name": "insurance",
              "summary": "{\n  \"name\": \"insurance\",\n  \"rows\": 1338,\n  \"fields\": [\n    {\n      \"column\": \"age\",\n      \"properties\": {\n        \"dtype\": \"number\",\n        \"std\": 14,\n        \"min\": 18,\n        \"max\": 64,\n        \"num_unique_values\": 47,\n        \"samples\": [\n          21,\n          45,\n          36\n        ],\n        \"semantic_type\": \"\",\n        \"description\": \"\"\n      }\n    },\n    {\n      \"column\": \"sex\",\n      \"properties\": {\n        \"dtype\": \"category\",\n        \"num_unique_values\": 2,\n        \"samples\": [\n          \"male\",\n          \"female\"\n        ],\n        \"semantic_type\": \"\",\n        \"description\": \"\"\n      }\n    },\n    {\n      \"column\": \"bmi\",\n      \"properties\": {\n        \"dtype\": \"number\",\n        \"std\": 6.098186911679014,\n        \"min\": 15.96,\n        \"max\": 53.13,\n        \"num_unique_values\": 548,\n        \"samples\": [\n          23.18,\n          26.885\n        ],\n        \"semantic_type\": \"\",\n        \"description\": \"\"\n      }\n    },\n    {\n      \"column\": \"children\",\n      \"properties\": {\n        \"dtype\": \"number\",\n        \"std\": 1,\n        \"min\": 0,\n        \"max\": 5,\n        \"num_unique_values\": 6,\n        \"samples\": [\n          0,\n          1\n        ],\n        \"semantic_type\": \"\",\n        \"description\": \"\"\n      }\n    },\n    {\n      \"column\": \"smoker\",\n      \"properties\": {\n        \"dtype\": \"category\",\n        \"num_unique_values\": 2,\n        \"samples\": [\n          \"no\",\n          \"yes\"\n        ],\n        \"semantic_type\": \"\",\n        \"description\": \"\"\n      }\n    },\n    {\n      \"column\": \"region\",\n      \"properties\": {\n        \"dtype\": \"category\",\n        \"num_unique_values\": 4,\n        \"samples\": [\n          \"southeast\",\n          \"northeast\"\n        ],\n        \"semantic_type\": \"\",\n        \"description\": \"\"\n      }\n    },\n    {\n      \"column\": \"charges\",\n      \"properties\": {\n        \"dtype\": \"number\",\n        \"std\": 12110.011236694001,\n        \"min\": 1121.8739,\n        \"max\": 63770.42801,\n        \"num_unique_values\": 1337,\n        \"samples\": [\n          8688.85885,\n          5708.867\n        ],\n        \"semantic_type\": \"\",\n        \"description\": \"\"\n      }\n    }\n  ]\n}"
            }
          },
          "metadata": {},
          "execution_count": 207
        }
      ],
      "source": [
        "# Use MinMaxScaler from Scikit-Learn\n",
        "\n",
        "# Load the dataset\n",
        "import pandas as pd\n",
        "import matplotlib.pyplot as plt\n",
        "import tensorflow as tf\n",
        "\n",
        "insurance = pd.read_csv(\"https://raw.githubusercontent.com/stedy/Machine-Learning-with-R-datasets/master/insurance.csv\")\n",
        "insurance"
      ]
    },
    {
      "cell_type": "code",
      "execution_count": 208,
      "metadata": {
        "colab": {
          "base_uri": "https://localhost:8080/"
        },
        "id": "_duivnLQpp0M",
        "outputId": "94bd8436-3436-4d2d-9938-14d3834c6165"
      },
      "outputs": [
        {
          "output_type": "execute_result",
          "data": {
            "text/plain": [
              "array([[0.60869565, 0.10734463, 0.4       , ..., 1.        , 0.        ,\n",
              "        0.        ],\n",
              "       [0.63043478, 0.22491256, 0.        , ..., 0.        , 0.        ,\n",
              "        0.        ],\n",
              "       [0.73913043, 0.23944041, 0.        , ..., 0.        , 1.        ,\n",
              "        0.        ],\n",
              "       ...,\n",
              "       [0.86956522, 0.24791499, 0.        , ..., 0.        , 0.        ,\n",
              "        0.        ],\n",
              "       [0.41304348, 0.85122411, 0.4       , ..., 0.        , 0.        ,\n",
              "        1.        ],\n",
              "       [0.80434783, 0.37503363, 0.        , ..., 0.        , 0.        ,\n",
              "        1.        ]])"
            ]
          },
          "metadata": {},
          "execution_count": 208
        }
      ],
      "source": [
        "from sklearn.compose import make_column_transformer\n",
        "from sklearn.preprocessing import MinMaxScaler, OneHotEncoder\n",
        "from sklearn.model_selection import train_test_split\n",
        "\n",
        "# Create a column transformer\n",
        "ct = make_column_transformer(\n",
        "    (MinMaxScaler(), [\"age\", \"bmi\", \"children\"]),\n",
        "    (OneHotEncoder(handle_unknown=\"ignore\"), [\"sex\", \"smoker\", \"region\"])\n",
        ")\n",
        "\n",
        "# Create X and y values\n",
        "X = insurance.drop(\"charges\", axis=1)\n",
        "y = insurance[\"charges\"]\n",
        "\n",
        "# Split the data\n",
        "X_train, X_test, y_train, y_test = train_test_split(X, y, test_size=0.2, random_state=42)\n",
        "\n",
        "# Fit the column transformer\n",
        "ct.fit(X_train)\n",
        "\n",
        "# Transform the training and test data with normalization (MinMaxScaler) and one-hot encoding (OneHotEncoder)\n",
        "X_train_normal = ct.transform(X_train)\n",
        "X_test_normal = ct.transform(X_test)\n",
        "\n",
        "X_train_normal"
      ]
    },
    {
      "cell_type": "code",
      "execution_count": 209,
      "metadata": {
        "colab": {
          "base_uri": "https://localhost:8080/"
        },
        "id": "Uw2vBepeq_zB",
        "outputId": "008ed5ba-24c2-4871-909b-ec16e3bd6913"
      },
      "outputs": [
        {
          "output_type": "execute_result",
          "data": {
            "text/plain": [
              "((1070, 6), (1070, 11))"
            ]
          },
          "metadata": {},
          "execution_count": 209
        }
      ],
      "source": [
        "X_train.shape, X_train_normal.shape"
      ]
    },
    {
      "cell_type": "code",
      "execution_count": 210,
      "metadata": {
        "id": "4VtTzZqzsGZi",
        "colab": {
          "base_uri": "https://localhost:8080/"
        },
        "outputId": "f77bba6d-da0e-4554-c034-72a9704f9d6d"
      },
      "outputs": [
        {
          "output_type": "stream",
          "name": "stdout",
          "text": [
            "Epoch 1/500\n",
            "34/34 [==============================] - 1s 2ms/step - loss: 13343.9512 - mae: 13343.9512\n",
            "Epoch 2/500\n",
            "34/34 [==============================] - 0s 2ms/step - loss: 13336.4023 - mae: 13336.4023\n",
            "Epoch 3/500\n",
            "34/34 [==============================] - 0s 2ms/step - loss: 13317.8887 - mae: 13317.8887\n",
            "Epoch 4/500\n",
            "34/34 [==============================] - 0s 2ms/step - loss: 13278.5830 - mae: 13278.5830\n",
            "Epoch 5/500\n",
            "34/34 [==============================] - 0s 2ms/step - loss: 13207.4482 - mae: 13207.4482\n",
            "Epoch 6/500\n",
            "34/34 [==============================] - 0s 2ms/step - loss: 13092.8955 - mae: 13092.8955\n",
            "Epoch 7/500\n",
            "34/34 [==============================] - 0s 2ms/step - loss: 12924.1191 - mae: 12924.1191\n",
            "Epoch 8/500\n",
            "34/34 [==============================] - 0s 2ms/step - loss: 12690.8184 - mae: 12690.8184\n",
            "Epoch 9/500\n",
            "34/34 [==============================] - 0s 2ms/step - loss: 12382.6924 - mae: 12382.6924\n",
            "Epoch 10/500\n",
            "34/34 [==============================] - 0s 2ms/step - loss: 11993.7549 - mae: 11993.7549\n",
            "Epoch 11/500\n",
            "34/34 [==============================] - 0s 2ms/step - loss: 11530.9717 - mae: 11530.9717\n",
            "Epoch 12/500\n",
            "34/34 [==============================] - 0s 2ms/step - loss: 11025.6582 - mae: 11025.6582\n",
            "Epoch 13/500\n",
            "34/34 [==============================] - 0s 2ms/step - loss: 10522.9912 - mae: 10522.9912\n",
            "Epoch 14/500\n",
            "34/34 [==============================] - 0s 2ms/step - loss: 10023.0039 - mae: 10023.0039\n",
            "Epoch 15/500\n",
            "34/34 [==============================] - 0s 2ms/step - loss: 9550.2783 - mae: 9550.2783\n",
            "Epoch 16/500\n",
            "34/34 [==============================] - 0s 1ms/step - loss: 9127.3125 - mae: 9127.3125\n",
            "Epoch 17/500\n",
            "34/34 [==============================] - 0s 1ms/step - loss: 8771.3857 - mae: 8771.3857\n",
            "Epoch 18/500\n",
            "34/34 [==============================] - 0s 2ms/step - loss: 8485.0371 - mae: 8485.0371\n",
            "Epoch 19/500\n",
            "34/34 [==============================] - 0s 2ms/step - loss: 8262.1777 - mae: 8262.1777\n",
            "Epoch 20/500\n",
            "34/34 [==============================] - 0s 2ms/step - loss: 8109.3159 - mae: 8109.3159\n",
            "Epoch 21/500\n",
            "34/34 [==============================] - 0s 2ms/step - loss: 7995.5820 - mae: 7995.5820\n",
            "Epoch 22/500\n",
            "34/34 [==============================] - 0s 2ms/step - loss: 7918.5972 - mae: 7918.5972\n",
            "Epoch 23/500\n",
            "34/34 [==============================] - 0s 2ms/step - loss: 7858.5347 - mae: 7858.5347\n",
            "Epoch 24/500\n",
            "34/34 [==============================] - 0s 2ms/step - loss: 7805.6235 - mae: 7805.6235\n",
            "Epoch 25/500\n",
            "34/34 [==============================] - 0s 2ms/step - loss: 7767.4077 - mae: 7767.4077\n",
            "Epoch 26/500\n",
            "34/34 [==============================] - 0s 3ms/step - loss: 7715.8179 - mae: 7715.8179\n",
            "Epoch 27/500\n",
            "34/34 [==============================] - 0s 3ms/step - loss: 7674.1372 - mae: 7674.1372\n",
            "Epoch 28/500\n",
            "34/34 [==============================] - 0s 2ms/step - loss: 7632.2129 - mae: 7632.2129\n",
            "Epoch 29/500\n",
            "34/34 [==============================] - 0s 2ms/step - loss: 7590.1626 - mae: 7590.1626\n",
            "Epoch 30/500\n",
            "34/34 [==============================] - 0s 2ms/step - loss: 7547.4214 - mae: 7547.4214\n",
            "Epoch 31/500\n",
            "34/34 [==============================] - 0s 2ms/step - loss: 7504.3315 - mae: 7504.3315\n",
            "Epoch 32/500\n",
            "34/34 [==============================] - 0s 2ms/step - loss: 7461.0312 - mae: 7461.0312\n",
            "Epoch 33/500\n",
            "34/34 [==============================] - 0s 2ms/step - loss: 7417.6680 - mae: 7417.6680\n",
            "Epoch 34/500\n",
            "34/34 [==============================] - 0s 3ms/step - loss: 7370.3770 - mae: 7370.3770\n",
            "Epoch 35/500\n",
            "34/34 [==============================] - 0s 3ms/step - loss: 7324.5996 - mae: 7324.5996\n",
            "Epoch 36/500\n",
            "34/34 [==============================] - 0s 3ms/step - loss: 7275.5347 - mae: 7275.5347\n",
            "Epoch 37/500\n",
            "34/34 [==============================] - 0s 2ms/step - loss: 7226.4106 - mae: 7226.4106\n",
            "Epoch 38/500\n",
            "34/34 [==============================] - 0s 2ms/step - loss: 7176.6182 - mae: 7176.6182\n",
            "Epoch 39/500\n",
            "34/34 [==============================] - 0s 2ms/step - loss: 7123.2065 - mae: 7123.2065\n",
            "Epoch 40/500\n",
            "34/34 [==============================] - 0s 2ms/step - loss: 7069.2627 - mae: 7069.2627\n",
            "Epoch 41/500\n",
            "34/34 [==============================] - 0s 2ms/step - loss: 7014.4492 - mae: 7014.4492\n",
            "Epoch 42/500\n",
            "34/34 [==============================] - 0s 2ms/step - loss: 6957.0396 - mae: 6957.0396\n",
            "Epoch 43/500\n",
            "34/34 [==============================] - 0s 2ms/step - loss: 6896.1738 - mae: 6896.1738\n",
            "Epoch 44/500\n",
            "34/34 [==============================] - 0s 2ms/step - loss: 6831.9370 - mae: 6831.9370\n",
            "Epoch 45/500\n",
            "34/34 [==============================] - 0s 2ms/step - loss: 6766.9009 - mae: 6766.9009\n",
            "Epoch 46/500\n",
            "34/34 [==============================] - 0s 2ms/step - loss: 6700.2275 - mae: 6700.2275\n",
            "Epoch 47/500\n",
            "34/34 [==============================] - 0s 2ms/step - loss: 6631.2949 - mae: 6631.2949\n",
            "Epoch 48/500\n",
            "34/34 [==============================] - 0s 3ms/step - loss: 6555.0635 - mae: 6555.0635\n",
            "Epoch 49/500\n",
            "34/34 [==============================] - 0s 2ms/step - loss: 6478.7656 - mae: 6478.7656\n",
            "Epoch 50/500\n",
            "34/34 [==============================] - 0s 2ms/step - loss: 6395.6685 - mae: 6395.6685\n",
            "Epoch 51/500\n",
            "34/34 [==============================] - 0s 2ms/step - loss: 6314.4575 - mae: 6314.4575\n",
            "Epoch 52/500\n",
            "34/34 [==============================] - 0s 2ms/step - loss: 6224.0776 - mae: 6224.0776\n",
            "Epoch 53/500\n",
            "34/34 [==============================] - 0s 2ms/step - loss: 6131.7412 - mae: 6131.7412\n",
            "Epoch 54/500\n",
            "34/34 [==============================] - 0s 2ms/step - loss: 6036.7178 - mae: 6036.7178\n",
            "Epoch 55/500\n",
            "34/34 [==============================] - 0s 2ms/step - loss: 5932.9194 - mae: 5932.9194\n",
            "Epoch 56/500\n",
            "34/34 [==============================] - 0s 2ms/step - loss: 5828.3149 - mae: 5828.3149\n",
            "Epoch 57/500\n",
            "34/34 [==============================] - 0s 2ms/step - loss: 5716.3843 - mae: 5716.3843\n",
            "Epoch 58/500\n",
            "34/34 [==============================] - 0s 2ms/step - loss: 5599.7119 - mae: 5599.7119\n",
            "Epoch 59/500\n",
            "34/34 [==============================] - 0s 2ms/step - loss: 5484.3110 - mae: 5484.3110\n",
            "Epoch 60/500\n",
            "34/34 [==============================] - 0s 2ms/step - loss: 5365.5664 - mae: 5365.5664\n",
            "Epoch 61/500\n",
            "34/34 [==============================] - 0s 2ms/step - loss: 5239.9839 - mae: 5239.9839\n",
            "Epoch 62/500\n",
            "34/34 [==============================] - 0s 2ms/step - loss: 5113.4673 - mae: 5113.4673\n",
            "Epoch 63/500\n",
            "34/34 [==============================] - 0s 3ms/step - loss: 4986.4941 - mae: 4986.4941\n",
            "Epoch 64/500\n",
            "34/34 [==============================] - 0s 3ms/step - loss: 4856.0913 - mae: 4856.0913\n",
            "Epoch 65/500\n",
            "34/34 [==============================] - 0s 2ms/step - loss: 4728.4604 - mae: 4728.4604\n",
            "Epoch 66/500\n",
            "34/34 [==============================] - 0s 3ms/step - loss: 4598.2871 - mae: 4598.2871\n",
            "Epoch 67/500\n",
            "34/34 [==============================] - 0s 2ms/step - loss: 4481.1104 - mae: 4481.1104\n",
            "Epoch 68/500\n",
            "34/34 [==============================] - 0s 2ms/step - loss: 4369.9932 - mae: 4369.9932\n",
            "Epoch 69/500\n",
            "34/34 [==============================] - 0s 2ms/step - loss: 4265.0347 - mae: 4265.0347\n",
            "Epoch 70/500\n",
            "34/34 [==============================] - 0s 2ms/step - loss: 4167.0503 - mae: 4167.0503\n",
            "Epoch 71/500\n",
            "34/34 [==============================] - 0s 2ms/step - loss: 4075.3052 - mae: 4075.3052\n",
            "Epoch 72/500\n",
            "34/34 [==============================] - 0s 2ms/step - loss: 3992.6492 - mae: 3992.6492\n",
            "Epoch 73/500\n",
            "34/34 [==============================] - 0s 2ms/step - loss: 3919.8643 - mae: 3919.8643\n",
            "Epoch 74/500\n",
            "34/34 [==============================] - 0s 2ms/step - loss: 3859.2419 - mae: 3859.2419\n",
            "Epoch 75/500\n",
            "34/34 [==============================] - 0s 2ms/step - loss: 3811.3040 - mae: 3811.3040\n",
            "Epoch 76/500\n",
            "34/34 [==============================] - 0s 2ms/step - loss: 3772.9609 - mae: 3772.9609\n",
            "Epoch 77/500\n",
            "34/34 [==============================] - 0s 2ms/step - loss: 3742.7021 - mae: 3742.7021\n",
            "Epoch 78/500\n",
            "34/34 [==============================] - 0s 2ms/step - loss: 3720.6233 - mae: 3720.6233\n",
            "Epoch 79/500\n",
            "34/34 [==============================] - 0s 2ms/step - loss: 3703.2268 - mae: 3703.2268\n",
            "Epoch 80/500\n",
            "34/34 [==============================] - 0s 2ms/step - loss: 3691.7437 - mae: 3691.7437\n",
            "Epoch 81/500\n",
            "34/34 [==============================] - 0s 2ms/step - loss: 3683.4382 - mae: 3683.4382\n",
            "Epoch 82/500\n",
            "34/34 [==============================] - 0s 2ms/step - loss: 3678.4973 - mae: 3678.4973\n",
            "Epoch 83/500\n",
            "34/34 [==============================] - 0s 2ms/step - loss: 3671.4700 - mae: 3671.4700\n",
            "Epoch 84/500\n",
            "34/34 [==============================] - 0s 2ms/step - loss: 3667.6060 - mae: 3667.6060\n",
            "Epoch 85/500\n",
            "34/34 [==============================] - 0s 2ms/step - loss: 3664.8628 - mae: 3664.8628\n",
            "Epoch 86/500\n",
            "34/34 [==============================] - 0s 2ms/step - loss: 3662.5889 - mae: 3662.5889\n",
            "Epoch 87/500\n",
            "34/34 [==============================] - 0s 2ms/step - loss: 3659.6287 - mae: 3659.6287\n",
            "Epoch 88/500\n",
            "34/34 [==============================] - 0s 2ms/step - loss: 3657.0098 - mae: 3657.0098\n",
            "Epoch 89/500\n",
            "34/34 [==============================] - 0s 2ms/step - loss: 3655.0793 - mae: 3655.0793\n",
            "Epoch 90/500\n",
            "34/34 [==============================] - 0s 2ms/step - loss: 3653.6353 - mae: 3653.6353\n",
            "Epoch 91/500\n",
            "34/34 [==============================] - 0s 2ms/step - loss: 3650.5212 - mae: 3650.5212\n",
            "Epoch 92/500\n",
            "34/34 [==============================] - 0s 2ms/step - loss: 3649.8652 - mae: 3649.8652\n",
            "Epoch 93/500\n",
            "34/34 [==============================] - 0s 2ms/step - loss: 3647.6343 - mae: 3647.6343\n",
            "Epoch 94/500\n",
            "34/34 [==============================] - 0s 2ms/step - loss: 3645.9136 - mae: 3645.9136\n",
            "Epoch 95/500\n",
            "34/34 [==============================] - 0s 2ms/step - loss: 3646.9966 - mae: 3646.9966\n",
            "Epoch 96/500\n",
            "34/34 [==============================] - 0s 2ms/step - loss: 3643.9375 - mae: 3643.9375\n",
            "Epoch 97/500\n",
            "34/34 [==============================] - 0s 2ms/step - loss: 3641.5889 - mae: 3641.5889\n",
            "Epoch 98/500\n",
            "34/34 [==============================] - 0s 2ms/step - loss: 3639.3887 - mae: 3639.3887\n",
            "Epoch 99/500\n",
            "34/34 [==============================] - 0s 2ms/step - loss: 3639.0171 - mae: 3639.0171\n",
            "Epoch 100/500\n",
            "34/34 [==============================] - 0s 2ms/step - loss: 3637.2014 - mae: 3637.2014\n",
            "Epoch 101/500\n",
            "34/34 [==============================] - 0s 2ms/step - loss: 3634.3726 - mae: 3634.3726\n",
            "Epoch 102/500\n",
            "34/34 [==============================] - 0s 2ms/step - loss: 3631.9663 - mae: 3631.9663\n",
            "Epoch 103/500\n",
            "34/34 [==============================] - 0s 2ms/step - loss: 3630.8491 - mae: 3630.8491\n",
            "Epoch 104/500\n",
            "34/34 [==============================] - 0s 2ms/step - loss: 3628.5020 - mae: 3628.5020\n",
            "Epoch 105/500\n",
            "34/34 [==============================] - 0s 2ms/step - loss: 3626.9102 - mae: 3626.9102\n",
            "Epoch 106/500\n",
            "34/34 [==============================] - 0s 2ms/step - loss: 3625.6494 - mae: 3625.6494\n",
            "Epoch 107/500\n",
            "34/34 [==============================] - 0s 2ms/step - loss: 3625.1997 - mae: 3625.1997\n",
            "Epoch 108/500\n",
            "34/34 [==============================] - 0s 2ms/step - loss: 3622.6443 - mae: 3622.6443\n",
            "Epoch 109/500\n",
            "34/34 [==============================] - 0s 2ms/step - loss: 3622.9937 - mae: 3622.9937\n",
            "Epoch 110/500\n",
            "34/34 [==============================] - 0s 2ms/step - loss: 3619.2690 - mae: 3619.2690\n",
            "Epoch 111/500\n",
            "34/34 [==============================] - 0s 2ms/step - loss: 3616.9224 - mae: 3616.9224\n",
            "Epoch 112/500\n",
            "34/34 [==============================] - 0s 2ms/step - loss: 3614.8564 - mae: 3614.8564\n",
            "Epoch 113/500\n",
            "34/34 [==============================] - 0s 2ms/step - loss: 3613.3838 - mae: 3613.3838\n",
            "Epoch 114/500\n",
            "34/34 [==============================] - 0s 2ms/step - loss: 3612.5562 - mae: 3612.5562\n",
            "Epoch 115/500\n",
            "34/34 [==============================] - 0s 2ms/step - loss: 3610.8542 - mae: 3610.8542\n",
            "Epoch 116/500\n",
            "34/34 [==============================] - 0s 2ms/step - loss: 3609.4216 - mae: 3609.4216\n",
            "Epoch 117/500\n",
            "34/34 [==============================] - 0s 2ms/step - loss: 3606.4089 - mae: 3606.4089\n",
            "Epoch 118/500\n",
            "34/34 [==============================] - 0s 2ms/step - loss: 3602.8689 - mae: 3602.8689\n",
            "Epoch 119/500\n",
            "34/34 [==============================] - 0s 2ms/step - loss: 3605.2297 - mae: 3605.2297\n",
            "Epoch 120/500\n",
            "34/34 [==============================] - 0s 2ms/step - loss: 3601.9329 - mae: 3601.9329\n",
            "Epoch 121/500\n",
            "34/34 [==============================] - 0s 2ms/step - loss: 3597.0012 - mae: 3597.0012\n",
            "Epoch 122/500\n",
            "34/34 [==============================] - 0s 2ms/step - loss: 3596.4080 - mae: 3596.4080\n",
            "Epoch 123/500\n",
            "34/34 [==============================] - 0s 2ms/step - loss: 3594.3025 - mae: 3594.3025\n",
            "Epoch 124/500\n",
            "34/34 [==============================] - 0s 2ms/step - loss: 3592.0703 - mae: 3592.0703\n",
            "Epoch 125/500\n",
            "34/34 [==============================] - 0s 2ms/step - loss: 3590.1875 - mae: 3590.1875\n",
            "Epoch 126/500\n",
            "34/34 [==============================] - 0s 2ms/step - loss: 3589.3647 - mae: 3589.3647\n",
            "Epoch 127/500\n",
            "34/34 [==============================] - 0s 2ms/step - loss: 3589.9539 - mae: 3589.9539\n",
            "Epoch 128/500\n",
            "34/34 [==============================] - 0s 2ms/step - loss: 3585.9775 - mae: 3585.9775\n",
            "Epoch 129/500\n",
            "34/34 [==============================] - 0s 2ms/step - loss: 3584.6714 - mae: 3584.6714\n",
            "Epoch 130/500\n",
            "34/34 [==============================] - 0s 2ms/step - loss: 3581.0127 - mae: 3581.0127\n",
            "Epoch 131/500\n",
            "34/34 [==============================] - 0s 2ms/step - loss: 3579.7710 - mae: 3579.7710\n",
            "Epoch 132/500\n",
            "34/34 [==============================] - 0s 2ms/step - loss: 3576.7764 - mae: 3576.7764\n",
            "Epoch 133/500\n",
            "34/34 [==============================] - 0s 2ms/step - loss: 3575.5125 - mae: 3575.5125\n",
            "Epoch 134/500\n",
            "34/34 [==============================] - 0s 2ms/step - loss: 3573.2297 - mae: 3573.2297\n",
            "Epoch 135/500\n",
            "34/34 [==============================] - 0s 2ms/step - loss: 3571.3499 - mae: 3571.3499\n",
            "Epoch 136/500\n",
            "34/34 [==============================] - 0s 2ms/step - loss: 3570.0005 - mae: 3570.0005\n",
            "Epoch 137/500\n",
            "34/34 [==============================] - 0s 2ms/step - loss: 3567.9126 - mae: 3567.9126\n",
            "Epoch 138/500\n",
            "34/34 [==============================] - 0s 2ms/step - loss: 3565.9055 - mae: 3565.9055\n",
            "Epoch 139/500\n",
            "34/34 [==============================] - 0s 2ms/step - loss: 3564.9839 - mae: 3564.9839\n",
            "Epoch 140/500\n",
            "34/34 [==============================] - 0s 2ms/step - loss: 3562.8713 - mae: 3562.8713\n",
            "Epoch 141/500\n",
            "34/34 [==============================] - 0s 2ms/step - loss: 3562.8657 - mae: 3562.8657\n",
            "Epoch 142/500\n",
            "34/34 [==============================] - 0s 2ms/step - loss: 3559.8115 - mae: 3559.8115\n",
            "Epoch 143/500\n",
            "34/34 [==============================] - 0s 2ms/step - loss: 3559.5374 - mae: 3559.5374\n",
            "Epoch 144/500\n",
            "34/34 [==============================] - 0s 2ms/step - loss: 3556.6672 - mae: 3556.6672\n",
            "Epoch 145/500\n",
            "34/34 [==============================] - 0s 2ms/step - loss: 3554.6428 - mae: 3554.6428\n",
            "Epoch 146/500\n",
            "34/34 [==============================] - 0s 2ms/step - loss: 3554.9243 - mae: 3554.9243\n",
            "Epoch 147/500\n",
            "34/34 [==============================] - 0s 2ms/step - loss: 3552.7344 - mae: 3552.7344\n",
            "Epoch 148/500\n",
            "34/34 [==============================] - 0s 2ms/step - loss: 3551.2542 - mae: 3551.2542\n",
            "Epoch 149/500\n",
            "34/34 [==============================] - 0s 2ms/step - loss: 3548.4382 - mae: 3548.4382\n",
            "Epoch 150/500\n",
            "34/34 [==============================] - 0s 2ms/step - loss: 3548.2327 - mae: 3548.2327\n",
            "Epoch 151/500\n",
            "34/34 [==============================] - 0s 2ms/step - loss: 3546.6333 - mae: 3546.6333\n",
            "Epoch 152/500\n",
            "34/34 [==============================] - 0s 2ms/step - loss: 3544.8611 - mae: 3544.8611\n",
            "Epoch 153/500\n",
            "34/34 [==============================] - 0s 2ms/step - loss: 3543.5505 - mae: 3543.5505\n",
            "Epoch 154/500\n",
            "34/34 [==============================] - 0s 2ms/step - loss: 3544.6313 - mae: 3544.6313\n",
            "Epoch 155/500\n",
            "34/34 [==============================] - 0s 2ms/step - loss: 3542.3257 - mae: 3542.3257\n",
            "Epoch 156/500\n",
            "34/34 [==============================] - 0s 2ms/step - loss: 3540.6189 - mae: 3540.6189\n",
            "Epoch 157/500\n",
            "34/34 [==============================] - 0s 2ms/step - loss: 3538.9675 - mae: 3538.9675\n",
            "Epoch 158/500\n",
            "34/34 [==============================] - 0s 2ms/step - loss: 3536.2271 - mae: 3536.2271\n",
            "Epoch 159/500\n",
            "34/34 [==============================] - 0s 2ms/step - loss: 3534.6763 - mae: 3534.6763\n",
            "Epoch 160/500\n",
            "34/34 [==============================] - 0s 2ms/step - loss: 3534.3982 - mae: 3534.3982\n",
            "Epoch 161/500\n",
            "34/34 [==============================] - 0s 2ms/step - loss: 3531.5264 - mae: 3531.5264\n",
            "Epoch 162/500\n",
            "34/34 [==============================] - 0s 2ms/step - loss: 3530.7905 - mae: 3530.7905\n",
            "Epoch 163/500\n",
            "34/34 [==============================] - 0s 2ms/step - loss: 3529.2144 - mae: 3529.2144\n",
            "Epoch 164/500\n",
            "34/34 [==============================] - 0s 2ms/step - loss: 3528.0554 - mae: 3528.0554\n",
            "Epoch 165/500\n",
            "34/34 [==============================] - 0s 2ms/step - loss: 3525.7922 - mae: 3525.7922\n",
            "Epoch 166/500\n",
            "34/34 [==============================] - 0s 2ms/step - loss: 3524.2937 - mae: 3524.2937\n",
            "Epoch 167/500\n",
            "34/34 [==============================] - 0s 2ms/step - loss: 3523.2971 - mae: 3523.2971\n",
            "Epoch 168/500\n",
            "34/34 [==============================] - 0s 2ms/step - loss: 3522.2219 - mae: 3522.2219\n",
            "Epoch 169/500\n",
            "34/34 [==============================] - 0s 2ms/step - loss: 3521.0334 - mae: 3521.0334\n",
            "Epoch 170/500\n",
            "34/34 [==============================] - 0s 2ms/step - loss: 3519.5181 - mae: 3519.5181\n",
            "Epoch 171/500\n",
            "34/34 [==============================] - 0s 2ms/step - loss: 3519.0403 - mae: 3519.0403\n",
            "Epoch 172/500\n",
            "34/34 [==============================] - 0s 2ms/step - loss: 3517.5830 - mae: 3517.5830\n",
            "Epoch 173/500\n",
            "34/34 [==============================] - 0s 2ms/step - loss: 3516.2410 - mae: 3516.2410\n",
            "Epoch 174/500\n",
            "34/34 [==============================] - 0s 2ms/step - loss: 3515.1980 - mae: 3515.1980\n",
            "Epoch 175/500\n",
            "34/34 [==============================] - 0s 2ms/step - loss: 3513.7588 - mae: 3513.7588\n",
            "Epoch 176/500\n",
            "34/34 [==============================] - 0s 2ms/step - loss: 3513.7690 - mae: 3513.7690\n",
            "Epoch 177/500\n",
            "34/34 [==============================] - 0s 2ms/step - loss: 3514.1599 - mae: 3514.1599\n",
            "Epoch 178/500\n",
            "34/34 [==============================] - 0s 2ms/step - loss: 3511.8213 - mae: 3511.8213\n",
            "Epoch 179/500\n",
            "34/34 [==============================] - 0s 2ms/step - loss: 3513.5354 - mae: 3513.5354\n",
            "Epoch 180/500\n",
            "34/34 [==============================] - 0s 2ms/step - loss: 3508.6875 - mae: 3508.6875\n",
            "Epoch 181/500\n",
            "34/34 [==============================] - 0s 2ms/step - loss: 3506.6155 - mae: 3506.6155\n",
            "Epoch 182/500\n",
            "34/34 [==============================] - 0s 2ms/step - loss: 3506.0007 - mae: 3506.0007\n",
            "Epoch 183/500\n",
            "34/34 [==============================] - 0s 2ms/step - loss: 3504.0759 - mae: 3504.0759\n",
            "Epoch 184/500\n",
            "34/34 [==============================] - 0s 2ms/step - loss: 3503.4810 - mae: 3503.4810\n",
            "Epoch 185/500\n",
            "34/34 [==============================] - 0s 2ms/step - loss: 3503.0269 - mae: 3503.0269\n",
            "Epoch 186/500\n",
            "34/34 [==============================] - 0s 2ms/step - loss: 3500.7168 - mae: 3500.7168\n",
            "Epoch 187/500\n",
            "34/34 [==============================] - 0s 2ms/step - loss: 3501.1396 - mae: 3501.1396\n",
            "Epoch 188/500\n",
            "34/34 [==============================] - 0s 2ms/step - loss: 3498.0896 - mae: 3498.0896\n",
            "Epoch 189/500\n",
            "34/34 [==============================] - 0s 2ms/step - loss: 3496.5015 - mae: 3496.5015\n",
            "Epoch 190/500\n",
            "34/34 [==============================] - 0s 2ms/step - loss: 3498.3235 - mae: 3498.3235\n",
            "Epoch 191/500\n",
            "34/34 [==============================] - 0s 2ms/step - loss: 3503.8347 - mae: 3503.8347\n",
            "Epoch 192/500\n",
            "34/34 [==============================] - 0s 2ms/step - loss: 3493.6611 - mae: 3493.6611\n",
            "Epoch 193/500\n",
            "34/34 [==============================] - 0s 2ms/step - loss: 3493.6355 - mae: 3493.6355\n",
            "Epoch 194/500\n",
            "34/34 [==============================] - 0s 2ms/step - loss: 3490.5430 - mae: 3490.5430\n",
            "Epoch 195/500\n",
            "34/34 [==============================] - 0s 2ms/step - loss: 3489.8215 - mae: 3489.8215\n",
            "Epoch 196/500\n",
            "34/34 [==============================] - 0s 2ms/step - loss: 3491.0957 - mae: 3491.0957\n",
            "Epoch 197/500\n",
            "34/34 [==============================] - 0s 2ms/step - loss: 3487.5740 - mae: 3487.5740\n",
            "Epoch 198/500\n",
            "34/34 [==============================] - 0s 2ms/step - loss: 3486.5642 - mae: 3486.5642\n",
            "Epoch 199/500\n",
            "34/34 [==============================] - 0s 2ms/step - loss: 3485.2615 - mae: 3485.2615\n",
            "Epoch 200/500\n",
            "34/34 [==============================] - 0s 2ms/step - loss: 3485.9089 - mae: 3485.9089\n",
            "Epoch 201/500\n",
            "34/34 [==============================] - 0s 2ms/step - loss: 3481.9973 - mae: 3481.9973\n",
            "Epoch 202/500\n",
            "34/34 [==============================] - 0s 2ms/step - loss: 3481.8499 - mae: 3481.8499\n",
            "Epoch 203/500\n",
            "34/34 [==============================] - 0s 2ms/step - loss: 3479.1453 - mae: 3479.1453\n",
            "Epoch 204/500\n",
            "34/34 [==============================] - 0s 2ms/step - loss: 3480.1716 - mae: 3480.1716\n",
            "Epoch 205/500\n",
            "34/34 [==============================] - 0s 2ms/step - loss: 3476.8281 - mae: 3476.8281\n",
            "Epoch 206/500\n",
            "34/34 [==============================] - 0s 2ms/step - loss: 3476.1404 - mae: 3476.1404\n",
            "Epoch 207/500\n",
            "34/34 [==============================] - 0s 2ms/step - loss: 3475.9326 - mae: 3475.9326\n",
            "Epoch 208/500\n",
            "34/34 [==============================] - 0s 2ms/step - loss: 3474.9192 - mae: 3474.9192\n",
            "Epoch 209/500\n",
            "34/34 [==============================] - 0s 2ms/step - loss: 3474.3833 - mae: 3474.3833\n",
            "Epoch 210/500\n",
            "34/34 [==============================] - 0s 2ms/step - loss: 3474.0906 - mae: 3474.0906\n",
            "Epoch 211/500\n",
            "34/34 [==============================] - 0s 2ms/step - loss: 3473.2952 - mae: 3473.2952\n",
            "Epoch 212/500\n",
            "34/34 [==============================] - 0s 2ms/step - loss: 3473.3079 - mae: 3473.3079\n",
            "Epoch 213/500\n",
            "34/34 [==============================] - 0s 2ms/step - loss: 3472.6509 - mae: 3472.6509\n",
            "Epoch 214/500\n",
            "34/34 [==============================] - 0s 2ms/step - loss: 3474.4902 - mae: 3474.4902\n",
            "Epoch 215/500\n",
            "34/34 [==============================] - 0s 2ms/step - loss: 3474.3574 - mae: 3474.3574\n",
            "Epoch 216/500\n",
            "34/34 [==============================] - 0s 2ms/step - loss: 3473.1562 - mae: 3473.1562\n",
            "Epoch 217/500\n",
            "34/34 [==============================] - 0s 2ms/step - loss: 3474.8118 - mae: 3474.8118\n",
            "Epoch 218/500\n",
            "34/34 [==============================] - 0s 3ms/step - loss: 3472.3950 - mae: 3472.3950\n",
            "Epoch 219/500\n",
            "34/34 [==============================] - 0s 3ms/step - loss: 3472.7153 - mae: 3472.7153\n",
            "Epoch 220/500\n",
            "34/34 [==============================] - 0s 3ms/step - loss: 3471.7905 - mae: 3471.7905\n",
            "Epoch 221/500\n",
            "34/34 [==============================] - 0s 3ms/step - loss: 3474.4592 - mae: 3474.4592\n",
            "Epoch 222/500\n",
            "34/34 [==============================] - 0s 2ms/step - loss: 3473.6714 - mae: 3473.6714\n",
            "Epoch 223/500\n",
            "34/34 [==============================] - 0s 2ms/step - loss: 3473.1147 - mae: 3473.1147\n",
            "Epoch 224/500\n",
            "34/34 [==============================] - 0s 2ms/step - loss: 3473.1707 - mae: 3473.1707\n",
            "Epoch 225/500\n",
            "34/34 [==============================] - 0s 2ms/step - loss: 3473.1206 - mae: 3473.1206\n",
            "Epoch 226/500\n",
            "34/34 [==============================] - 0s 2ms/step - loss: 3471.8025 - mae: 3471.8025\n",
            "Epoch 227/500\n",
            "34/34 [==============================] - 0s 2ms/step - loss: 3471.1047 - mae: 3471.1047\n",
            "Epoch 228/500\n",
            "34/34 [==============================] - 0s 3ms/step - loss: 3473.3259 - mae: 3473.3259\n",
            "Epoch 229/500\n",
            "34/34 [==============================] - 0s 2ms/step - loss: 3472.1370 - mae: 3472.1370\n",
            "Epoch 230/500\n",
            "34/34 [==============================] - 0s 2ms/step - loss: 3474.1685 - mae: 3474.1685\n",
            "Epoch 231/500\n",
            "34/34 [==============================] - 0s 2ms/step - loss: 3471.7939 - mae: 3471.7939\n",
            "Epoch 232/500\n",
            "34/34 [==============================] - 0s 2ms/step - loss: 3472.6667 - mae: 3472.6667\n",
            "Epoch 233/500\n",
            "34/34 [==============================] - 0s 3ms/step - loss: 3472.2092 - mae: 3472.2092\n",
            "Epoch 234/500\n",
            "34/34 [==============================] - 0s 2ms/step - loss: 3472.4526 - mae: 3472.4526\n",
            "Epoch 235/500\n",
            "34/34 [==============================] - 0s 3ms/step - loss: 3474.1270 - mae: 3474.1270\n",
            "Epoch 236/500\n",
            "34/34 [==============================] - 0s 2ms/step - loss: 3473.2202 - mae: 3473.2202\n",
            "Epoch 237/500\n",
            "34/34 [==============================] - 0s 3ms/step - loss: 3472.8669 - mae: 3472.8669\n",
            "Epoch 238/500\n",
            "34/34 [==============================] - 0s 2ms/step - loss: 3473.4202 - mae: 3473.4202\n",
            "Epoch 239/500\n",
            "34/34 [==============================] - 0s 2ms/step - loss: 3474.6118 - mae: 3474.6118\n",
            "Epoch 240/500\n",
            "34/34 [==============================] - 0s 3ms/step - loss: 3472.5427 - mae: 3472.5427\n",
            "Epoch 241/500\n",
            "34/34 [==============================] - 0s 2ms/step - loss: 3471.6570 - mae: 3471.6570\n",
            "Epoch 242/500\n",
            "34/34 [==============================] - 0s 3ms/step - loss: 3473.9541 - mae: 3473.9541\n",
            "Epoch 243/500\n",
            "34/34 [==============================] - 0s 3ms/step - loss: 3472.3770 - mae: 3472.3770\n",
            "Epoch 244/500\n",
            "34/34 [==============================] - 0s 3ms/step - loss: 3473.7568 - mae: 3473.7568\n",
            "Epoch 245/500\n",
            "34/34 [==============================] - 0s 3ms/step - loss: 3471.7239 - mae: 3471.7239\n",
            "Epoch 246/500\n",
            "34/34 [==============================] - 0s 3ms/step - loss: 3473.6445 - mae: 3473.6445\n",
            "Epoch 247/500\n",
            "34/34 [==============================] - 0s 3ms/step - loss: 3472.3342 - mae: 3472.3342\n",
            "Epoch 248/500\n",
            "34/34 [==============================] - 0s 3ms/step - loss: 3474.0620 - mae: 3474.0620\n",
            "Epoch 249/500\n",
            "34/34 [==============================] - 0s 2ms/step - loss: 3474.3889 - mae: 3474.3889\n",
            "Epoch 250/500\n",
            "34/34 [==============================] - 0s 3ms/step - loss: 3472.3870 - mae: 3472.3870\n",
            "Epoch 251/500\n",
            "34/34 [==============================] - 0s 3ms/step - loss: 3471.3281 - mae: 3471.3281\n",
            "Epoch 252/500\n",
            "34/34 [==============================] - 0s 3ms/step - loss: 3473.3755 - mae: 3473.3755\n",
            "Epoch 253/500\n",
            "34/34 [==============================] - 0s 3ms/step - loss: 3472.8938 - mae: 3472.8938\n",
            "Epoch 254/500\n",
            "34/34 [==============================] - 0s 3ms/step - loss: 3471.7126 - mae: 3471.7126\n",
            "Epoch 255/500\n",
            "34/34 [==============================] - 0s 2ms/step - loss: 3472.9885 - mae: 3472.9885\n",
            "Epoch 256/500\n",
            "34/34 [==============================] - 0s 3ms/step - loss: 3474.9778 - mae: 3474.9778\n",
            "Epoch 257/500\n",
            "34/34 [==============================] - 0s 3ms/step - loss: 3475.6208 - mae: 3475.6208\n",
            "Epoch 258/500\n",
            "34/34 [==============================] - 0s 3ms/step - loss: 3472.3206 - mae: 3472.3206\n",
            "Epoch 259/500\n",
            "34/34 [==============================] - 0s 3ms/step - loss: 3474.0532 - mae: 3474.0532\n",
            "Epoch 260/500\n",
            "34/34 [==============================] - 0s 3ms/step - loss: 3471.9895 - mae: 3471.9895\n",
            "Epoch 261/500\n",
            "34/34 [==============================] - 0s 3ms/step - loss: 3472.9495 - mae: 3472.9495\n",
            "Epoch 262/500\n",
            "34/34 [==============================] - 0s 3ms/step - loss: 3472.7515 - mae: 3472.7515\n",
            "Epoch 263/500\n",
            "34/34 [==============================] - 0s 2ms/step - loss: 3472.2908 - mae: 3472.2908\n",
            "Epoch 264/500\n",
            "34/34 [==============================] - 0s 2ms/step - loss: 3472.6663 - mae: 3472.6663\n",
            "Epoch 265/500\n",
            "34/34 [==============================] - 0s 2ms/step - loss: 3472.8074 - mae: 3472.8074\n",
            "Epoch 266/500\n",
            "34/34 [==============================] - 0s 2ms/step - loss: 3472.3252 - mae: 3472.3252\n",
            "Epoch 267/500\n",
            "34/34 [==============================] - 0s 2ms/step - loss: 3473.9756 - mae: 3473.9756\n",
            "Epoch 268/500\n",
            "34/34 [==============================] - 0s 2ms/step - loss: 3471.9412 - mae: 3471.9412\n",
            "Epoch 269/500\n",
            "34/34 [==============================] - 0s 2ms/step - loss: 3471.8005 - mae: 3471.8005\n",
            "Epoch 270/500\n",
            "34/34 [==============================] - 0s 2ms/step - loss: 3471.9619 - mae: 3471.9619\n",
            "Epoch 271/500\n",
            "34/34 [==============================] - 0s 2ms/step - loss: 3472.3113 - mae: 3472.3113\n",
            "Epoch 272/500\n",
            "34/34 [==============================] - 0s 2ms/step - loss: 3471.9612 - mae: 3471.9612\n",
            "Epoch 273/500\n",
            "34/34 [==============================] - 0s 2ms/step - loss: 3472.5232 - mae: 3472.5232\n",
            "Epoch 274/500\n",
            "34/34 [==============================] - 0s 2ms/step - loss: 3472.6121 - mae: 3472.6121\n",
            "Epoch 275/500\n",
            "34/34 [==============================] - 0s 2ms/step - loss: 3473.8223 - mae: 3473.8223\n",
            "Epoch 276/500\n",
            "34/34 [==============================] - 0s 4ms/step - loss: 3473.1982 - mae: 3473.1982\n",
            "Epoch 277/500\n",
            "34/34 [==============================] - 0s 7ms/step - loss: 3471.8088 - mae: 3471.8088\n",
            "Epoch 278/500\n",
            "34/34 [==============================] - 0s 8ms/step - loss: 3472.1985 - mae: 3472.1985\n",
            "Epoch 279/500\n",
            "34/34 [==============================] - 0s 4ms/step - loss: 3475.8625 - mae: 3475.8625\n",
            "Epoch 280/500\n",
            "34/34 [==============================] - 0s 2ms/step - loss: 3472.0544 - mae: 3472.0544\n",
            "Epoch 281/500\n",
            "34/34 [==============================] - 0s 2ms/step - loss: 3472.1780 - mae: 3472.1780\n",
            "Epoch 282/500\n",
            "34/34 [==============================] - 0s 2ms/step - loss: 3472.0076 - mae: 3472.0076\n",
            "Epoch 283/500\n",
            "34/34 [==============================] - 0s 2ms/step - loss: 3472.9966 - mae: 3472.9966\n",
            "Epoch 284/500\n",
            "34/34 [==============================] - 0s 2ms/step - loss: 3472.3533 - mae: 3472.3533\n",
            "Epoch 285/500\n",
            "34/34 [==============================] - 0s 2ms/step - loss: 3471.8828 - mae: 3471.8828\n",
            "Epoch 286/500\n",
            "34/34 [==============================] - 0s 2ms/step - loss: 3472.2893 - mae: 3472.2893\n",
            "Epoch 287/500\n",
            "34/34 [==============================] - 0s 2ms/step - loss: 3472.7803 - mae: 3472.7803\n",
            "Epoch 288/500\n",
            "34/34 [==============================] - 0s 2ms/step - loss: 3472.2346 - mae: 3472.2346\n",
            "Epoch 289/500\n",
            "34/34 [==============================] - 0s 2ms/step - loss: 3473.8147 - mae: 3473.8147\n",
            "Epoch 290/500\n",
            "34/34 [==============================] - 0s 2ms/step - loss: 3473.0183 - mae: 3473.0183\n",
            "Epoch 291/500\n",
            "34/34 [==============================] - 0s 2ms/step - loss: 3471.2996 - mae: 3471.2996\n",
            "Epoch 292/500\n",
            "34/34 [==============================] - 0s 2ms/step - loss: 3473.7544 - mae: 3473.7544\n",
            "Epoch 293/500\n",
            "34/34 [==============================] - 0s 2ms/step - loss: 3471.8730 - mae: 3471.8730\n",
            "Epoch 294/500\n",
            "34/34 [==============================] - 0s 2ms/step - loss: 3473.2632 - mae: 3473.2632\n",
            "Epoch 295/500\n",
            "34/34 [==============================] - 0s 2ms/step - loss: 3473.1135 - mae: 3473.1135\n",
            "Epoch 296/500\n",
            "34/34 [==============================] - 0s 2ms/step - loss: 3474.0549 - mae: 3474.0549\n",
            "Epoch 297/500\n",
            "34/34 [==============================] - 0s 2ms/step - loss: 3475.8367 - mae: 3475.8367\n",
            "Epoch 298/500\n",
            "34/34 [==============================] - 0s 2ms/step - loss: 3474.9204 - mae: 3474.9204\n",
            "Epoch 299/500\n",
            "34/34 [==============================] - 0s 2ms/step - loss: 3471.7959 - mae: 3471.7959\n",
            "Epoch 300/500\n",
            "34/34 [==============================] - 0s 2ms/step - loss: 3472.7830 - mae: 3472.7830\n",
            "Epoch 301/500\n",
            "34/34 [==============================] - 0s 2ms/step - loss: 3472.2324 - mae: 3472.2324\n",
            "Epoch 302/500\n",
            "34/34 [==============================] - 0s 2ms/step - loss: 3473.8650 - mae: 3473.8650\n",
            "Epoch 303/500\n",
            "34/34 [==============================] - 0s 2ms/step - loss: 3472.8625 - mae: 3472.8625\n",
            "Epoch 304/500\n",
            "34/34 [==============================] - 0s 2ms/step - loss: 3472.1045 - mae: 3472.1045\n",
            "Epoch 305/500\n",
            "34/34 [==============================] - 0s 2ms/step - loss: 3473.2852 - mae: 3473.2852\n",
            "Epoch 306/500\n",
            "34/34 [==============================] - 0s 2ms/step - loss: 3472.3196 - mae: 3472.3196\n",
            "Epoch 307/500\n",
            "34/34 [==============================] - 0s 2ms/step - loss: 3473.2329 - mae: 3473.2329\n",
            "Epoch 308/500\n",
            "34/34 [==============================] - 0s 2ms/step - loss: 3473.0227 - mae: 3473.0227\n",
            "Epoch 309/500\n",
            "34/34 [==============================] - 0s 2ms/step - loss: 3474.6772 - mae: 3474.6772\n",
            "Epoch 310/500\n",
            "34/34 [==============================] - 0s 2ms/step - loss: 3473.2039 - mae: 3473.2039\n",
            "Epoch 311/500\n",
            "34/34 [==============================] - 0s 2ms/step - loss: 3472.4263 - mae: 3472.4263\n",
            "Epoch 312/500\n",
            "34/34 [==============================] - 0s 2ms/step - loss: 3472.5156 - mae: 3472.5156\n",
            "Epoch 313/500\n",
            "34/34 [==============================] - 0s 2ms/step - loss: 3472.2859 - mae: 3472.2859\n",
            "Epoch 314/500\n",
            "34/34 [==============================] - 0s 2ms/step - loss: 3471.7444 - mae: 3471.7444\n",
            "Epoch 315/500\n",
            "34/34 [==============================] - 0s 2ms/step - loss: 3473.1008 - mae: 3473.1008\n",
            "Epoch 316/500\n",
            "34/34 [==============================] - 0s 2ms/step - loss: 3472.1860 - mae: 3472.1860\n",
            "Epoch 317/500\n",
            "34/34 [==============================] - 0s 2ms/step - loss: 3473.4299 - mae: 3473.4299\n",
            "Epoch 318/500\n",
            "34/34 [==============================] - 0s 2ms/step - loss: 3473.2769 - mae: 3473.2769\n",
            "Epoch 319/500\n",
            "34/34 [==============================] - 0s 2ms/step - loss: 3472.9321 - mae: 3472.9321\n",
            "Epoch 320/500\n",
            "34/34 [==============================] - 0s 2ms/step - loss: 3471.6250 - mae: 3471.6250\n",
            "Epoch 321/500\n",
            "34/34 [==============================] - 0s 2ms/step - loss: 3472.5796 - mae: 3472.5796\n",
            "Epoch 322/500\n",
            "34/34 [==============================] - 0s 2ms/step - loss: 3473.4998 - mae: 3473.4998\n",
            "Epoch 323/500\n",
            "34/34 [==============================] - 0s 2ms/step - loss: 3471.8242 - mae: 3471.8242\n",
            "Epoch 324/500\n",
            "34/34 [==============================] - 0s 2ms/step - loss: 3472.1135 - mae: 3472.1135\n",
            "Epoch 325/500\n",
            "34/34 [==============================] - 0s 2ms/step - loss: 3472.5762 - mae: 3472.5762\n",
            "Epoch 326/500\n",
            "34/34 [==============================] - 0s 2ms/step - loss: 3472.7124 - mae: 3472.7124\n",
            "Epoch 327/500\n",
            "34/34 [==============================] - 0s 2ms/step - loss: 3474.9697 - mae: 3474.9697\n",
            "Epoch 328/500\n",
            "34/34 [==============================] - 0s 2ms/step - loss: 3472.8486 - mae: 3472.8486\n",
            "Epoch 329/500\n",
            "34/34 [==============================] - 0s 2ms/step - loss: 3472.7339 - mae: 3472.7339\n",
            "Epoch 330/500\n",
            "34/34 [==============================] - 0s 2ms/step - loss: 3473.3145 - mae: 3473.3145\n",
            "Epoch 331/500\n",
            "34/34 [==============================] - 0s 2ms/step - loss: 3471.1211 - mae: 3471.1211\n",
            "Epoch 332/500\n",
            "34/34 [==============================] - 0s 2ms/step - loss: 3472.8135 - mae: 3472.8135\n",
            "Epoch 333/500\n",
            "34/34 [==============================] - 0s 2ms/step - loss: 3473.1440 - mae: 3473.1440\n",
            "Epoch 334/500\n",
            "34/34 [==============================] - 0s 2ms/step - loss: 3471.9873 - mae: 3471.9873\n",
            "Epoch 335/500\n",
            "34/34 [==============================] - 0s 2ms/step - loss: 3474.3000 - mae: 3474.3000\n",
            "Epoch 336/500\n",
            "34/34 [==============================] - 0s 2ms/step - loss: 3472.5852 - mae: 3472.5852\n",
            "Epoch 337/500\n",
            "34/34 [==============================] - 0s 2ms/step - loss: 3470.9458 - mae: 3470.9458\n",
            "Epoch 338/500\n",
            "34/34 [==============================] - 0s 2ms/step - loss: 3472.9170 - mae: 3472.9170\n",
            "Epoch 339/500\n",
            "34/34 [==============================] - 0s 2ms/step - loss: 3472.2935 - mae: 3472.2935\n",
            "Epoch 340/500\n",
            "34/34 [==============================] - 0s 2ms/step - loss: 3472.8972 - mae: 3472.8972\n",
            "Epoch 341/500\n",
            "34/34 [==============================] - 0s 2ms/step - loss: 3472.4646 - mae: 3472.4646\n",
            "Epoch 342/500\n",
            "34/34 [==============================] - 0s 2ms/step - loss: 3472.1760 - mae: 3472.1760\n",
            "Epoch 343/500\n",
            "34/34 [==============================] - 0s 2ms/step - loss: 3471.6672 - mae: 3471.6672\n",
            "Epoch 344/500\n",
            "34/34 [==============================] - 0s 2ms/step - loss: 3472.8931 - mae: 3472.8931\n",
            "Epoch 345/500\n",
            "34/34 [==============================] - 0s 2ms/step - loss: 3472.3123 - mae: 3472.3123\n",
            "Epoch 346/500\n",
            "34/34 [==============================] - 0s 2ms/step - loss: 3475.7598 - mae: 3475.7598\n",
            "Epoch 347/500\n",
            "34/34 [==============================] - 0s 2ms/step - loss: 3472.4834 - mae: 3472.4834\n",
            "Epoch 348/500\n",
            "34/34 [==============================] - 0s 2ms/step - loss: 3472.4294 - mae: 3472.4294\n",
            "Epoch 349/500\n",
            "34/34 [==============================] - 0s 2ms/step - loss: 3472.8352 - mae: 3472.8352\n",
            "Epoch 350/500\n",
            "34/34 [==============================] - 0s 2ms/step - loss: 3475.1462 - mae: 3475.1462\n",
            "Epoch 351/500\n",
            "34/34 [==============================] - 0s 2ms/step - loss: 3473.2961 - mae: 3473.2961\n",
            "Epoch 352/500\n",
            "34/34 [==============================] - 0s 2ms/step - loss: 3472.0337 - mae: 3472.0337\n",
            "Epoch 353/500\n",
            "34/34 [==============================] - 0s 2ms/step - loss: 3472.3887 - mae: 3472.3887\n",
            "Epoch 354/500\n",
            "34/34 [==============================] - 0s 2ms/step - loss: 3472.5630 - mae: 3472.5630\n",
            "Epoch 355/500\n",
            "34/34 [==============================] - 0s 2ms/step - loss: 3472.3713 - mae: 3472.3713\n",
            "Epoch 356/500\n",
            "34/34 [==============================] - 0s 2ms/step - loss: 3473.0549 - mae: 3473.0549\n",
            "Epoch 357/500\n",
            "34/34 [==============================] - 0s 2ms/step - loss: 3472.7305 - mae: 3472.7305\n",
            "Epoch 358/500\n",
            "34/34 [==============================] - 0s 2ms/step - loss: 3477.9297 - mae: 3477.9297\n",
            "Epoch 359/500\n",
            "34/34 [==============================] - 0s 2ms/step - loss: 3473.0095 - mae: 3473.0095\n",
            "Epoch 360/500\n",
            "34/34 [==============================] - 0s 2ms/step - loss: 3472.0405 - mae: 3472.0405\n",
            "Epoch 361/500\n",
            "34/34 [==============================] - 0s 2ms/step - loss: 3473.2229 - mae: 3473.2229\n",
            "Epoch 362/500\n",
            "34/34 [==============================] - 0s 2ms/step - loss: 3472.6494 - mae: 3472.6494\n",
            "Epoch 363/500\n",
            "34/34 [==============================] - 0s 2ms/step - loss: 3472.6013 - mae: 3472.6013\n",
            "Epoch 364/500\n",
            "34/34 [==============================] - 0s 2ms/step - loss: 3471.8396 - mae: 3471.8396\n",
            "Epoch 365/500\n",
            "34/34 [==============================] - 0s 2ms/step - loss: 3472.1006 - mae: 3472.1006\n",
            "Epoch 366/500\n",
            "34/34 [==============================] - 0s 2ms/step - loss: 3472.9053 - mae: 3472.9053\n",
            "Epoch 367/500\n",
            "34/34 [==============================] - 0s 2ms/step - loss: 3471.5913 - mae: 3471.5913\n",
            "Epoch 368/500\n",
            "34/34 [==============================] - 0s 2ms/step - loss: 3474.8604 - mae: 3474.8604\n",
            "Epoch 369/500\n",
            "34/34 [==============================] - 0s 2ms/step - loss: 3473.4570 - mae: 3473.4570\n",
            "Epoch 370/500\n",
            "34/34 [==============================] - 0s 2ms/step - loss: 3471.9749 - mae: 3471.9749\n",
            "Epoch 371/500\n",
            "34/34 [==============================] - 0s 2ms/step - loss: 3472.4673 - mae: 3472.4673\n",
            "Epoch 372/500\n",
            "34/34 [==============================] - 0s 2ms/step - loss: 3472.3167 - mae: 3472.3167\n",
            "Epoch 373/500\n",
            "34/34 [==============================] - 0s 2ms/step - loss: 3476.8938 - mae: 3476.8938\n",
            "Epoch 374/500\n",
            "34/34 [==============================] - 0s 2ms/step - loss: 3473.6077 - mae: 3473.6077\n",
            "Epoch 375/500\n",
            "34/34 [==============================] - 0s 2ms/step - loss: 3472.2485 - mae: 3472.2485\n",
            "Epoch 376/500\n",
            "34/34 [==============================] - 0s 2ms/step - loss: 3472.7805 - mae: 3472.7805\n",
            "Epoch 377/500\n",
            "34/34 [==============================] - 0s 2ms/step - loss: 3472.2534 - mae: 3472.2534\n",
            "Epoch 378/500\n",
            "34/34 [==============================] - 0s 2ms/step - loss: 3471.9150 - mae: 3471.9150\n",
            "Epoch 379/500\n",
            "34/34 [==============================] - 0s 2ms/step - loss: 3474.5630 - mae: 3474.5630\n",
            "Epoch 380/500\n",
            "34/34 [==============================] - 0s 2ms/step - loss: 3472.5793 - mae: 3472.5793\n",
            "Epoch 381/500\n",
            "34/34 [==============================] - 0s 2ms/step - loss: 3473.1204 - mae: 3473.1204\n",
            "Epoch 382/500\n",
            "34/34 [==============================] - 0s 2ms/step - loss: 3472.0061 - mae: 3472.0061\n",
            "Epoch 383/500\n",
            "34/34 [==============================] - 0s 2ms/step - loss: 3472.7556 - mae: 3472.7556\n",
            "Epoch 384/500\n",
            "34/34 [==============================] - 0s 2ms/step - loss: 3472.8428 - mae: 3472.8428\n",
            "Epoch 385/500\n",
            "34/34 [==============================] - 0s 2ms/step - loss: 3474.6440 - mae: 3474.6440\n",
            "Epoch 386/500\n",
            "34/34 [==============================] - 0s 2ms/step - loss: 3472.5928 - mae: 3472.5928\n",
            "Epoch 387/500\n",
            "34/34 [==============================] - 0s 2ms/step - loss: 3471.9866 - mae: 3471.9866\n",
            "Epoch 388/500\n",
            "34/34 [==============================] - 0s 2ms/step - loss: 3473.3423 - mae: 3473.3423\n",
            "Epoch 389/500\n",
            "34/34 [==============================] - 0s 2ms/step - loss: 3473.0122 - mae: 3473.0122\n",
            "Epoch 390/500\n",
            "34/34 [==============================] - 0s 2ms/step - loss: 3474.0037 - mae: 3474.0037\n",
            "Epoch 391/500\n",
            "34/34 [==============================] - 0s 2ms/step - loss: 3473.3379 - mae: 3473.3379\n",
            "Epoch 392/500\n",
            "34/34 [==============================] - 0s 2ms/step - loss: 3475.1042 - mae: 3475.1042\n",
            "Epoch 393/500\n",
            "34/34 [==============================] - 0s 2ms/step - loss: 3473.9690 - mae: 3473.9690\n",
            "Epoch 394/500\n",
            "34/34 [==============================] - 0s 2ms/step - loss: 3471.8494 - mae: 3471.8494\n",
            "Epoch 395/500\n",
            "34/34 [==============================] - 0s 3ms/step - loss: 3473.7986 - mae: 3473.7986\n",
            "Epoch 396/500\n",
            "34/34 [==============================] - 0s 3ms/step - loss: 3473.2195 - mae: 3473.2195\n",
            "Epoch 397/500\n",
            "34/34 [==============================] - 0s 3ms/step - loss: 3472.8650 - mae: 3472.8650\n",
            "Epoch 398/500\n",
            "34/34 [==============================] - 0s 2ms/step - loss: 3471.6504 - mae: 3471.6504\n",
            "Epoch 399/500\n",
            "34/34 [==============================] - 0s 3ms/step - loss: 3474.2205 - mae: 3474.2205\n",
            "Epoch 400/500\n",
            "34/34 [==============================] - 0s 3ms/step - loss: 3473.4805 - mae: 3473.4805\n",
            "Epoch 401/500\n",
            "34/34 [==============================] - 0s 2ms/step - loss: 3471.9170 - mae: 3471.9170\n",
            "Epoch 402/500\n",
            "34/34 [==============================] - 0s 3ms/step - loss: 3472.8555 - mae: 3472.8555\n",
            "Epoch 403/500\n",
            "34/34 [==============================] - 0s 3ms/step - loss: 3472.7019 - mae: 3472.7019\n",
            "Epoch 404/500\n",
            "34/34 [==============================] - 0s 3ms/step - loss: 3471.4370 - mae: 3471.4370\n",
            "Epoch 405/500\n",
            "34/34 [==============================] - 0s 3ms/step - loss: 3472.5615 - mae: 3472.5615\n",
            "Epoch 406/500\n",
            "34/34 [==============================] - 0s 3ms/step - loss: 3472.6924 - mae: 3472.6924\n",
            "Epoch 407/500\n",
            "34/34 [==============================] - 0s 3ms/step - loss: 3471.7424 - mae: 3471.7424\n",
            "Epoch 408/500\n",
            "34/34 [==============================] - 0s 3ms/step - loss: 3472.1626 - mae: 3472.1626\n",
            "Epoch 409/500\n",
            "34/34 [==============================] - 0s 2ms/step - loss: 3473.2468 - mae: 3473.2468\n",
            "Epoch 410/500\n",
            "34/34 [==============================] - 0s 2ms/step - loss: 3473.4958 - mae: 3473.4958\n",
            "Epoch 411/500\n",
            "34/34 [==============================] - 0s 2ms/step - loss: 3473.6538 - mae: 3473.6538\n",
            "Epoch 412/500\n",
            "34/34 [==============================] - 0s 3ms/step - loss: 3473.6787 - mae: 3473.6787\n",
            "Epoch 413/500\n",
            "34/34 [==============================] - 0s 2ms/step - loss: 3472.2810 - mae: 3472.2810\n",
            "Epoch 414/500\n",
            "34/34 [==============================] - 0s 2ms/step - loss: 3473.9927 - mae: 3473.9927\n",
            "Epoch 415/500\n",
            "34/34 [==============================] - 0s 3ms/step - loss: 3471.8130 - mae: 3471.8130\n",
            "Epoch 416/500\n",
            "34/34 [==============================] - 0s 2ms/step - loss: 3471.6182 - mae: 3471.6182\n",
            "Epoch 417/500\n",
            "34/34 [==============================] - 0s 2ms/step - loss: 3471.8350 - mae: 3471.8350\n",
            "Epoch 418/500\n",
            "34/34 [==============================] - 0s 2ms/step - loss: 3473.1548 - mae: 3473.1548\n",
            "Epoch 419/500\n",
            "34/34 [==============================] - 0s 3ms/step - loss: 3471.8887 - mae: 3471.8887\n",
            "Epoch 420/500\n",
            "34/34 [==============================] - 0s 3ms/step - loss: 3472.6384 - mae: 3472.6384\n",
            "Epoch 421/500\n",
            "34/34 [==============================] - 0s 3ms/step - loss: 3475.0908 - mae: 3475.0908\n",
            "Epoch 422/500\n",
            "34/34 [==============================] - 0s 3ms/step - loss: 3471.8879 - mae: 3471.8879\n",
            "Epoch 423/500\n",
            "34/34 [==============================] - 0s 3ms/step - loss: 3473.8086 - mae: 3473.8086\n",
            "Epoch 424/500\n",
            "34/34 [==============================] - 0s 3ms/step - loss: 3472.3667 - mae: 3472.3667\n",
            "Epoch 425/500\n",
            "34/34 [==============================] - 0s 3ms/step - loss: 3472.0486 - mae: 3472.0486\n",
            "Epoch 426/500\n",
            "34/34 [==============================] - 0s 3ms/step - loss: 3474.5518 - mae: 3474.5518\n",
            "Epoch 427/500\n",
            "34/34 [==============================] - 0s 3ms/step - loss: 3472.6707 - mae: 3472.6707\n",
            "Epoch 428/500\n",
            "34/34 [==============================] - 0s 3ms/step - loss: 3472.1694 - mae: 3472.1694\n",
            "Epoch 429/500\n",
            "34/34 [==============================] - 0s 3ms/step - loss: 3472.9688 - mae: 3472.9688\n",
            "Epoch 430/500\n",
            "34/34 [==============================] - 0s 3ms/step - loss: 3472.3909 - mae: 3472.3909\n",
            "Epoch 431/500\n",
            "34/34 [==============================] - 0s 2ms/step - loss: 3471.7664 - mae: 3471.7664\n",
            "Epoch 432/500\n",
            "34/34 [==============================] - 0s 3ms/step - loss: 3472.3784 - mae: 3472.3784\n",
            "Epoch 433/500\n",
            "34/34 [==============================] - 0s 3ms/step - loss: 3475.0747 - mae: 3475.0747\n",
            "Epoch 434/500\n",
            "34/34 [==============================] - 0s 3ms/step - loss: 3472.9944 - mae: 3472.9944\n",
            "Epoch 435/500\n",
            "34/34 [==============================] - 0s 2ms/step - loss: 3474.0298 - mae: 3474.0298\n",
            "Epoch 436/500\n",
            "34/34 [==============================] - 0s 2ms/step - loss: 3472.4980 - mae: 3472.4980\n",
            "Epoch 437/500\n",
            "34/34 [==============================] - 0s 2ms/step - loss: 3473.9473 - mae: 3473.9473\n",
            "Epoch 438/500\n",
            "34/34 [==============================] - 0s 3ms/step - loss: 3474.1843 - mae: 3474.1843\n",
            "Epoch 439/500\n",
            "34/34 [==============================] - 0s 3ms/step - loss: 3471.6802 - mae: 3471.6802\n",
            "Epoch 440/500\n",
            "34/34 [==============================] - 0s 3ms/step - loss: 3472.9944 - mae: 3472.9944\n",
            "Epoch 441/500\n",
            "34/34 [==============================] - 0s 3ms/step - loss: 3472.1260 - mae: 3472.1260\n",
            "Epoch 442/500\n",
            "34/34 [==============================] - 0s 2ms/step - loss: 3471.6943 - mae: 3471.6943\n",
            "Epoch 443/500\n",
            "34/34 [==============================] - 0s 3ms/step - loss: 3473.7600 - mae: 3473.7600\n",
            "Epoch 444/500\n",
            "34/34 [==============================] - 0s 2ms/step - loss: 3473.9993 - mae: 3473.9993\n",
            "Epoch 445/500\n",
            "34/34 [==============================] - 0s 3ms/step - loss: 3470.5950 - mae: 3470.5950\n",
            "Epoch 446/500\n",
            "34/34 [==============================] - 0s 3ms/step - loss: 3474.1494 - mae: 3474.1494\n",
            "Epoch 447/500\n",
            "34/34 [==============================] - 0s 3ms/step - loss: 3471.7471 - mae: 3471.7471\n",
            "Epoch 448/500\n",
            "34/34 [==============================] - 0s 4ms/step - loss: 3473.1184 - mae: 3473.1184\n",
            "Epoch 449/500\n",
            "34/34 [==============================] - 0s 3ms/step - loss: 3474.4487 - mae: 3474.4487\n",
            "Epoch 450/500\n",
            "34/34 [==============================] - 0s 3ms/step - loss: 3472.8418 - mae: 3472.8418\n",
            "Epoch 451/500\n",
            "34/34 [==============================] - 0s 2ms/step - loss: 3473.3508 - mae: 3473.3508\n",
            "Epoch 452/500\n",
            "34/34 [==============================] - 0s 2ms/step - loss: 3472.3027 - mae: 3472.3027\n",
            "Epoch 453/500\n",
            "34/34 [==============================] - 0s 2ms/step - loss: 3472.3652 - mae: 3472.3652\n",
            "Epoch 454/500\n",
            "34/34 [==============================] - 0s 2ms/step - loss: 3472.6216 - mae: 3472.6216\n",
            "Epoch 455/500\n",
            "34/34 [==============================] - 0s 2ms/step - loss: 3472.4136 - mae: 3472.4136\n",
            "Epoch 456/500\n",
            "34/34 [==============================] - 0s 2ms/step - loss: 3473.5625 - mae: 3473.5625\n",
            "Epoch 457/500\n",
            "34/34 [==============================] - 0s 2ms/step - loss: 3473.5305 - mae: 3473.5305\n",
            "Epoch 458/500\n",
            "34/34 [==============================] - 0s 2ms/step - loss: 3472.0286 - mae: 3472.0286\n",
            "Epoch 459/500\n",
            "34/34 [==============================] - 0s 2ms/step - loss: 3472.4055 - mae: 3472.4055\n",
            "Epoch 460/500\n",
            "34/34 [==============================] - 0s 2ms/step - loss: 3473.0349 - mae: 3473.0349\n",
            "Epoch 461/500\n",
            "34/34 [==============================] - 0s 2ms/step - loss: 3471.1873 - mae: 3471.1873\n",
            "Epoch 462/500\n",
            "34/34 [==============================] - 0s 2ms/step - loss: 3473.3940 - mae: 3473.3940\n",
            "Epoch 463/500\n",
            "34/34 [==============================] - 0s 2ms/step - loss: 3472.0193 - mae: 3472.0193\n",
            "Epoch 464/500\n",
            "34/34 [==============================] - 0s 2ms/step - loss: 3471.8948 - mae: 3471.8948\n",
            "Epoch 465/500\n",
            "34/34 [==============================] - 0s 2ms/step - loss: 3473.2576 - mae: 3473.2576\n",
            "Epoch 466/500\n",
            "34/34 [==============================] - 0s 2ms/step - loss: 3471.6533 - mae: 3471.6533\n",
            "Epoch 467/500\n",
            "34/34 [==============================] - 0s 2ms/step - loss: 3472.8130 - mae: 3472.8130\n",
            "Epoch 468/500\n",
            "34/34 [==============================] - 0s 2ms/step - loss: 3472.0977 - mae: 3472.0977\n",
            "Epoch 469/500\n",
            "34/34 [==============================] - 0s 2ms/step - loss: 3472.0896 - mae: 3472.0896\n",
            "Epoch 470/500\n",
            "34/34 [==============================] - 0s 2ms/step - loss: 3472.7720 - mae: 3472.7720\n",
            "Epoch 471/500\n",
            "34/34 [==============================] - 0s 2ms/step - loss: 3475.0322 - mae: 3475.0322\n",
            "Epoch 472/500\n",
            "34/34 [==============================] - 0s 2ms/step - loss: 3472.2688 - mae: 3472.2688\n",
            "Epoch 473/500\n",
            "34/34 [==============================] - 0s 2ms/step - loss: 3472.8855 - mae: 3472.8855\n",
            "Epoch 474/500\n",
            "34/34 [==============================] - 0s 2ms/step - loss: 3471.9563 - mae: 3471.9563\n",
            "Epoch 475/500\n",
            "34/34 [==============================] - 0s 2ms/step - loss: 3473.4841 - mae: 3473.4841\n",
            "Epoch 476/500\n",
            "34/34 [==============================] - 0s 2ms/step - loss: 3472.1711 - mae: 3472.1711\n",
            "Epoch 477/500\n",
            "34/34 [==============================] - 0s 2ms/step - loss: 3474.0991 - mae: 3474.0991\n",
            "Epoch 478/500\n",
            "34/34 [==============================] - 0s 2ms/step - loss: 3472.0081 - mae: 3472.0081\n",
            "Epoch 479/500\n",
            "34/34 [==============================] - 0s 2ms/step - loss: 3473.4226 - mae: 3473.4226\n",
            "Epoch 480/500\n",
            "34/34 [==============================] - 0s 2ms/step - loss: 3472.4380 - mae: 3472.4380\n",
            "Epoch 481/500\n",
            "34/34 [==============================] - 0s 2ms/step - loss: 3472.4832 - mae: 3472.4832\n",
            "Epoch 482/500\n",
            "34/34 [==============================] - 0s 2ms/step - loss: 3473.3486 - mae: 3473.3486\n",
            "Epoch 483/500\n",
            "34/34 [==============================] - 0s 2ms/step - loss: 3473.1309 - mae: 3473.1309\n",
            "Epoch 484/500\n",
            "34/34 [==============================] - 0s 2ms/step - loss: 3472.4163 - mae: 3472.4163\n",
            "Epoch 485/500\n",
            "34/34 [==============================] - 0s 2ms/step - loss: 3472.7898 - mae: 3472.7898\n",
            "Epoch 486/500\n",
            "34/34 [==============================] - 0s 2ms/step - loss: 3476.2532 - mae: 3476.2532\n",
            "Epoch 487/500\n",
            "34/34 [==============================] - 0s 2ms/step - loss: 3473.5171 - mae: 3473.5171\n",
            "Epoch 488/500\n",
            "34/34 [==============================] - 0s 2ms/step - loss: 3471.2454 - mae: 3471.2454\n",
            "Epoch 489/500\n",
            "34/34 [==============================] - 0s 2ms/step - loss: 3472.2131 - mae: 3472.2131\n",
            "Epoch 490/500\n",
            "34/34 [==============================] - 0s 2ms/step - loss: 3473.3972 - mae: 3473.3972\n",
            "Epoch 491/500\n",
            "34/34 [==============================] - 0s 2ms/step - loss: 3473.2668 - mae: 3473.2668\n",
            "Epoch 492/500\n",
            "34/34 [==============================] - 0s 2ms/step - loss: 3472.0515 - mae: 3472.0515\n",
            "Epoch 493/500\n",
            "34/34 [==============================] - 0s 2ms/step - loss: 3471.9810 - mae: 3471.9810\n",
            "Epoch 494/500\n",
            "34/34 [==============================] - 0s 2ms/step - loss: 3472.6650 - mae: 3472.6650\n",
            "Epoch 495/500\n",
            "34/34 [==============================] - 0s 2ms/step - loss: 3473.4749 - mae: 3473.4749\n",
            "Epoch 496/500\n",
            "34/34 [==============================] - 0s 2ms/step - loss: 3472.0376 - mae: 3472.0376\n",
            "Epoch 497/500\n",
            "34/34 [==============================] - 0s 2ms/step - loss: 3473.0137 - mae: 3473.0137\n",
            "Epoch 498/500\n",
            "34/34 [==============================] - 0s 2ms/step - loss: 3473.6548 - mae: 3473.6548\n",
            "Epoch 499/500\n",
            "34/34 [==============================] - 0s 2ms/step - loss: 3474.9084 - mae: 3474.9084\n",
            "Epoch 500/500\n",
            "34/34 [==============================] - 0s 2ms/step - loss: 3477.3289 - mae: 3477.3289\n"
          ]
        },
        {
          "output_type": "execute_result",
          "data": {
            "text/plain": [
              "<keras.src.callbacks.History at 0x7dd05e73e170>"
            ]
          },
          "metadata": {},
          "execution_count": 210
        }
      ],
      "source": [
        "# Build a neural network model\n",
        "\n",
        "# Create\n",
        "model = tf.keras.Sequential([\n",
        "   tf.keras.layers.Dense(100),\n",
        "   tf.keras.layers.Dense(10),\n",
        "   tf.keras.layers.Dense(1)\n",
        "])\n",
        "\n",
        "# Compile\n",
        "model.compile(loss=tf.keras.losses.mae,\n",
        "              optimizer=tf.keras.optimizers.Adam(),\n",
        "              metrics=[\"mae\"])\n",
        "\n",
        "# Fit\n",
        "model.fit(X_train_normal, y_train, epochs=500, verbose=1)"
      ]
    },
    {
      "cell_type": "code",
      "execution_count": 211,
      "metadata": {
        "colab": {
          "base_uri": "https://localhost:8080/"
        },
        "id": "ad5FBfT1snid",
        "outputId": "7f507f72-e12e-4deb-9269-4226a0f58e98"
      },
      "outputs": [
        {
          "output_type": "stream",
          "name": "stdout",
          "text": [
            "9/9 [==============================] - 0s 2ms/step - loss: 3160.9014 - mae: 3160.9014\n"
          ]
        },
        {
          "output_type": "execute_result",
          "data": {
            "text/plain": [
              "[3160.9013671875, 3160.9013671875]"
            ]
          },
          "metadata": {},
          "execution_count": 211
        }
      ],
      "source": [
        "# Evaluate the model\n",
        "\n",
        "model.evaluate(X_test_normal, y_test)"
      ]
    },
    {
      "cell_type": "code",
      "execution_count": 212,
      "metadata": {
        "colab": {
          "base_uri": "https://localhost:8080/"
        },
        "id": "vkmLzHTCs4Ty",
        "outputId": "a2b33409-623c-40d0-a98c-e7816f8135d3"
      },
      "outputs": [
        {
          "output_type": "stream",
          "name": "stdout",
          "text": [
            "Model: \"sequential_25\"\n",
            "_________________________________________________________________\n",
            " Layer (type)                Output Shape              Param #   \n",
            "=================================================================\n",
            " dense_39 (Dense)            (None, 100)               1200      \n",
            "                                                                 \n",
            " dense_40 (Dense)            (None, 10)                1010      \n",
            "                                                                 \n",
            " dense_41 (Dense)            (None, 1)                 11        \n",
            "                                                                 \n",
            "=================================================================\n",
            "Total params: 2221 (8.68 KB)\n",
            "Trainable params: 2221 (8.68 KB)\n",
            "Non-trainable params: 0 (0.00 Byte)\n",
            "_________________________________________________________________\n"
          ]
        }
      ],
      "source": [
        "model.summary()"
      ]
    },
    {
      "cell_type": "code",
      "execution_count": 212,
      "metadata": {
        "id": "7lIu921MtDXG"
      },
      "outputs": [],
      "source": []
    }
  ],
  "metadata": {
    "colab": {
      "provenance": [],
      "authorship_tag": "ABX9TyP68W6UdK35d7+pCcJaQxBr",
      "include_colab_link": true
    },
    "kernelspec": {
      "display_name": "Python 3",
      "name": "python3"
    },
    "language_info": {
      "name": "python"
    }
  },
  "nbformat": 4,
  "nbformat_minor": 0
}